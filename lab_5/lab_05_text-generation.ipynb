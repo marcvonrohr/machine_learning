{
  "cells": [
    {
      "cell_type": "markdown",
      "metadata": {
        "id": "view-in-github",
        "colab_type": "text"
      },
      "source": [
        "<a href=\"https://colab.research.google.com/github/marcvonrohr/machine_learning/blob/main/lab_5/lab_05_text-generation.ipynb\" target=\"_parent\"><img src=\"https://colab.research.google.com/assets/colab-badge.svg\" alt=\"Open In Colab\"/></a>"
      ]
    },
    {
      "cell_type": "markdown",
      "metadata": {
        "id": "1qX_V2GmcR0p"
      },
      "source": [
        "<img align='center' style='max-width: 1000px' src='https://github.com/HSG-AIML-Teaching/ML2025-Lab/blob/main/lab_5/figures/banner.png?raw=1'>"
      ]
    },
    {
      "cell_type": "markdown",
      "metadata": {
        "id": "_8Wra2uJcR0q"
      },
      "source": [
        "<img align='right' style='max-width: 200px; height: auto' src='https://github.com/HSG-AIML-Teaching/ML2025-Lab/blob/main/lab_5/figures/hsg_logo.png?raw=1'>\n",
        "\n",
        "##  Lab 05 - Recurrent Neural Networks - Text Generation\n",
        "\n",
        "Machine Learning, University of St. Gallen, Spring Term 2025"
      ]
    },
    {
      "cell_type": "markdown",
      "metadata": {
        "id": "ptMcZfdncR0r"
      },
      "source": [
        "In this notebook, we will explore the power of recurrent neural networks (RNNs) for generating text. Specifically, we will train a character-level RNN using PyTorch on the Shakespeare's Sonnet dataset. We will implement the RNN from scratch (without using the RNN module from `torch.nn`) and train it in batches to handle variable-length sequences. After training, we will evaluate the model by generating random prompts. Then we will implement an LSTM-based model using the LSTM module from PyTorch to see how it can improve the quality of the output. Below you can see the illustration of the models we aim to implement:"
      ]
    },
    {
      "cell_type": "markdown",
      "metadata": {
        "id": "aYGyFTRIcR0r"
      },
      "source": [
        "<img align='center' style='max-width: 600px' src='https://github.com/HSG-AIML-Teaching/ML2025-Lab/blob/main/lab_5/animations/objective.gif?raw=1'>"
      ]
    },
    {
      "cell_type": "markdown",
      "metadata": {
        "id": "z3Ah_VOpcR0s"
      },
      "source": [
        "Lab Objectives:\n",
        "- Learn how to create a PyTorch dataset for sequence-based training of textual data.\n",
        "- Implement an RNN from scratch using PyTorch that predicts the next character given a context.\n",
        "- Generate random texts by prompting the model.\n",
        "- Improve upon the RNN model and implement an LSTM-based model."
      ]
    },
    {
      "cell_type": "markdown",
      "metadata": {
        "id": "Q7tQ81occR0s"
      },
      "source": [
        "\n",
        "We will see how the model can generate text that resembles Shakespeare's sonnets.\n"
      ]
    },
    {
      "cell_type": "markdown",
      "metadata": {
        "id": "U3_bcdFecR0s"
      },
      "source": [
        "# 1. Dataset"
      ]
    },
    {
      "cell_type": "markdown",
      "metadata": {
        "id": "nwdJsJxicR0s"
      },
      "source": [
        "The dataset we will be using for this notebook is the collection of 154 sonnets by William Shakespeare. The sonnets were published in 1609 and have since become some of the most famous and influential poems in English literature.\n",
        "\n",
        "You can download the dataset from the Project Gutenberg website which a repository of free ebooks that are in the public domain. The sonnets are available for free download and can be used for any purpose without restriction. However, it's worth noting that some adaptations of the sonnets or translations may be protected by copyright, so it's always important to double-check the legal status of any text you plan to use for your project.\n",
        "\n",
        "For more information, please refer to this link: https://www.gutenberg.org/ebooks/1041\n"
      ]
    },
    {
      "cell_type": "markdown",
      "metadata": {
        "id": "PmIsFizqcR0t"
      },
      "source": [
        "The preprocessed version of the dataset can be downloaded from the link below:\n",
        "\n",
        "Download link: https://raw.githubusercontent.com/ccc-frankfurt/Practical_ML_SS21/master/week06/sonnets.txt"
      ]
    },
    {
      "cell_type": "markdown",
      "metadata": {
        "id": "un2p1jiQcR0t"
      },
      "source": [
        "Before everything, let's import some libraries that we will use for data processing, training and evaluation:"
      ]
    },
    {
      "cell_type": "code",
      "execution_count": 1,
      "metadata": {
        "id": "PBZkm4uhcR0t"
      },
      "outputs": [],
      "source": [
        "import torch\n",
        "import torch.nn as nn\n",
        "import torch.optim as optim\n",
        "import tqdm\n",
        "from torch.utils.data import Dataset, DataLoader\n",
        "import matplotlib.pyplot as plt\n",
        "import numpy as np\n"
      ]
    },
    {
      "cell_type": "markdown",
      "metadata": {
        "id": "VRYr9NSvcR0t"
      },
      "source": [
        "### Loading the dataset in PyTorch"
      ]
    },
    {
      "cell_type": "markdown",
      "metadata": {
        "id": "AjhDbkJScR0u"
      },
      "source": [
        "The first step is to understand how the data looks and how to prepare it for training. Since we cannot directly work with characters in neural networks, we need to map each character in the dataset to a unique identifier:"
      ]
    },
    {
      "cell_type": "markdown",
      "metadata": {
        "id": "7k8deCa0cR0u"
      },
      "source": [
        "<img align='center' style='max-width: 800px' src='https://github.com/HSG-AIML-Teaching/ML2025-Lab/blob/main/lab_5/animations/char_mapping.gif?raw=1'>"
      ]
    },
    {
      "cell_type": "markdown",
      "metadata": {
        "id": "gtq1SFgpcR0u"
      },
      "source": [
        "Since we want to train the model to predict the next character based on the seen context, the inputs and outputs for model traing are constructed by randomly selecting sub-strings from the dataset to construct each pair. The input to the model will be the substring itself and the target will the substring shifted to the left by one character:"
      ]
    },
    {
      "cell_type": "markdown",
      "metadata": {
        "id": "jOXp2tQNcR0u"
      },
      "source": [
        "<img align='center' style='max-width: 800px' src='https://github.com/HSG-AIML-Teaching/ML2025-Lab/blob/main/lab_5/figures/batch_example.png?raw=1'>"
      ]
    },
    {
      "cell_type": "markdown",
      "metadata": {
        "id": "oCvub1lLcR0u"
      },
      "source": [
        "To create a PyTorch dataset for our data, we need to define a class that inherits from the class `Dataset` in `torch.utils.data`. In the constructor of the class, we load the text data and prepare the mappings."
      ]
    },
    {
      "cell_type": "code",
      "execution_count": 51,
      "metadata": {
        "id": "LPZKv_CHcR0u"
      },
      "outputs": [],
      "source": [
        "class SonnetDataset(Dataset):\n",
        "    def __init__(self, ds_path, seq_length):\n",
        "        # Read text file\n",
        "        with open(ds_path, 'r') as f:\n",
        "            text = f.read()\n",
        "\n",
        "        # Create set of all possible unique characters. Addtionally add the character `#`\n",
        "        # as an indicator of the end of the sentence.\n",
        "        self.chars = ['#'] + sorted(list(set(text)))\n",
        "\n",
        "        # Char-to-ID and ID-to-Char mappers\n",
        "        char_to_int = {c: i for i, c in enumerate(self.chars)}\n",
        "        int_to_char = {i: c for i, c in enumerate(self.chars)}\n",
        "\n",
        "        self.text = text\n",
        "        self.char_to_int = char_to_int\n",
        "        self.int_to_char = int_to_char\n",
        "        self.seq_length = seq_length\n",
        "\n",
        "    def __len__(self):\n",
        "        # Return the total number of setences that the dataset includes\n",
        "        return len(self.text) - self.seq_length\n",
        "\n",
        "    def __getitem__(self, index):\n",
        "        # Return a random substring with its correponding target.\n",
        "        sequence = self.text[index:index + self.seq_length + 1]\n",
        "        target = self.text[index + 1:index + self.seq_length + 1] + '#'\n",
        "\n",
        "        return (torch.tensor([self.char_to_int[c] for c in sequence], dtype=torch.long), torch.tensor([self.char_to_int[c] for c in target], dtype=torch.long))"
      ]
    },
    {
      "cell_type": "markdown",
      "metadata": {
        "id": "ZcbTgk3tcR0v"
      },
      "source": [
        "Now, we create an instance of the dataset which will be used for training both models."
      ]
    },
    {
      "cell_type": "code",
      "source": [
        "!wget https://raw.githubusercontent.com/ccc-frankfurt/Practical_ML_SS21/master/week06/sonnets.txt\n",
        "dataset = SonnetDataset(ds_path=\"./sonnets.txt\", seq_length=100)"
      ],
      "metadata": {
        "id": "6GIfKvOiePU7",
        "outputId": "a51dbc29-3cc7-4917-e0dc-d98c06c18447",
        "colab": {
          "base_uri": "https://localhost:8080/"
        }
      },
      "execution_count": 52,
      "outputs": [
        {
          "output_type": "stream",
          "name": "stdout",
          "text": [
            "--2025-03-24 14:11:32--  https://raw.githubusercontent.com/ccc-frankfurt/Practical_ML_SS21/master/week06/sonnets.txt\n",
            "Resolving raw.githubusercontent.com (raw.githubusercontent.com)... 185.199.108.133, 185.199.111.133, 185.199.109.133, ...\n",
            "Connecting to raw.githubusercontent.com (raw.githubusercontent.com)|185.199.108.133|:443... connected.\n",
            "HTTP request sent, awaiting response... 200 OK\n",
            "Length: 94081 (92K) [text/plain]\n",
            "Saving to: ‘sonnets.txt.3’\n",
            "\n",
            "\rsonnets.txt.3         0%[                    ]       0  --.-KB/s               \rsonnets.txt.3       100%[===================>]  91.88K  --.-KB/s    in 0.01s   \n",
            "\n",
            "2025-03-24 14:11:32 (6.38 MB/s) - ‘sonnets.txt.3’ saved [94081/94081]\n",
            "\n"
          ]
        }
      ]
    },
    {
      "cell_type": "code",
      "execution_count": 53,
      "metadata": {
        "id": "0yFS16M0cR0v"
      },
      "outputs": [],
      "source": [
        "dataset = SonnetDataset(ds_path=\"/content/sonnets.txt\", seq_length=100)"
      ]
    },
    {
      "cell_type": "code",
      "execution_count": 54,
      "metadata": {
        "id": "w8Cpc_2fcR0v",
        "outputId": "be60cc6b-a2f4-402e-9323-5918858e7d71",
        "colab": {
          "base_uri": "https://localhost:8080/"
        }
      },
      "outputs": [
        {
          "output_type": "execute_result",
          "data": {
            "text/plain": [
              "(tensor([18, 53, 50, 48,  2, 41, 36, 44, 53, 40, 54, 55,  2, 38, 53, 40, 36, 55,\n",
              "         56, 53, 40, 54,  2, 58, 40,  2, 39, 40, 54, 44, 53, 40,  2, 44, 49, 38,\n",
              "         53, 40, 36, 54, 40,  7,  1, 31, 43, 36, 55,  2, 55, 43, 40, 53, 40, 37,\n",
              "         60,  2, 37, 40, 36, 56, 55, 60,  4, 54,  2, 53, 50, 54, 40,  2, 48, 44,\n",
              "         42, 43, 55,  2, 49, 40, 57, 40, 53,  2, 39, 44, 40,  7,  1, 14, 56, 55,\n",
              "          2, 36, 54,  2, 55, 43, 40,  2, 53, 44, 51]),\n",
              " tensor([53, 50, 48,  2, 41, 36, 44, 53, 40, 54, 55,  2, 38, 53, 40, 36, 55, 56,\n",
              "         53, 40, 54,  2, 58, 40,  2, 39, 40, 54, 44, 53, 40,  2, 44, 49, 38, 53,\n",
              "         40, 36, 54, 40,  7,  1, 31, 43, 36, 55,  2, 55, 43, 40, 53, 40, 37, 60,\n",
              "          2, 37, 40, 36, 56, 55, 60,  4, 54,  2, 53, 50, 54, 40,  2, 48, 44, 42,\n",
              "         43, 55,  2, 49, 40, 57, 40, 53,  2, 39, 44, 40,  7,  1, 14, 56, 55,  2,\n",
              "         36, 54,  2, 55, 43, 40,  2, 53, 44, 51,  0]))"
            ]
          },
          "metadata": {},
          "execution_count": 54
        }
      ],
      "source": [
        "dataset[0]"
      ]
    },
    {
      "cell_type": "markdown",
      "metadata": {
        "id": "pwj2pXqhcR0v"
      },
      "source": [
        "# 2. Vanilla RNNs"
      ]
    },
    {
      "cell_type": "markdown",
      "metadata": {
        "id": "zEYFjm9NcR0v"
      },
      "source": [
        "<img align='center' style='max-width: 800px' src='https://github.com/HSG-AIML-Teaching/ML2025-Lab/blob/main/lab_5/animations/rnn_generation.gif?raw=1'>"
      ]
    },
    {
      "cell_type": "markdown",
      "metadata": {
        "id": "5fi1LRgWcR0v"
      },
      "source": [
        "### 2.1 RNN Cell"
      ]
    },
    {
      "cell_type": "markdown",
      "metadata": {
        "id": "lC14c01BcR0v"
      },
      "source": [
        "The core component of an RNN model is an RNN cell that requires two inputs. One input is the current character in the text and other input is the hidden state of the model. The hidden state is also known as the memory of the model that carries useful information along the text which enables prediction based on a given context. In the figure below, we can see that some mathematical operation is performed on the inputs to make prediction for the output at step t and update the hidden vector based on the current input:"
      ]
    },
    {
      "cell_type": "markdown",
      "metadata": {
        "id": "a6ZAGsqHcR0v"
      },
      "source": [
        "<img align='center' style='max-width: 400px' src='https://github.com/HSG-AIML-Teaching/ML2025-Lab/blob/main/lab_5/figures/rnn_cell.png?raw=1'>"
      ]
    },
    {
      "cell_type": "markdown",
      "metadata": {
        "id": "zlOmEo0ccR0w"
      },
      "source": [
        "Let's first define the RNN cell:"
      ]
    },
    {
      "cell_type": "code",
      "execution_count": 55,
      "metadata": {
        "id": "KPs-3fu9cR0w"
      },
      "outputs": [],
      "source": [
        "# Define the RNN Cell\n",
        "class RNNCell(nn.Module):\n",
        "    def __init__(self, input_size, hidden_size):\n",
        "        super(RNNCell, self).__init__()\n",
        "        # Linear transformation for the input\n",
        "        self.input_hidden = nn.Linear(input_size, hidden_size)\n",
        "        # Linea transformation for the hidden state\n",
        "        self.hidden_hidden = nn.Linear(hidden_size, hidden_size)\n",
        "        # Activation and dropout\n",
        "        self.activation = nn.Tanh()\n",
        "        self.dropout = nn.Dropout(p=0.5)\n",
        "\n",
        "    def forward(self, x, hidden):\n",
        "        # Tranform input\n",
        "        x = self.input_hidden(x)\n",
        "        # Transform hidden state\n",
        "        hidden_t = self.hidden_hidden(hidden)\n",
        "        # Add the transformed hidden state to the transformed input to\n",
        "        # form the new hidden state\n",
        "        new_hidden = self.activation(x + hidden_t)\n",
        "        new_hidden = self.dropout(new_hidden)\n",
        "\n",
        "        return new_hidden"
      ]
    },
    {
      "cell_type": "code",
      "execution_count": 56,
      "metadata": {
        "id": "Y5nBzYFmcR0w",
        "outputId": "5fa4b5cd-dc97-46f4-f5f2-1ad3efa352ec",
        "colab": {
          "base_uri": "https://localhost:8080/"
        }
      },
      "outputs": [
        {
          "output_type": "execute_result",
          "data": {
            "text/plain": [
              "torch.Size([5, 128])"
            ]
          },
          "metadata": {},
          "execution_count": 56
        }
      ],
      "source": [
        "rnn_cell = RNNCell(128, 128)\n",
        "\n",
        "x = torch.randn(5, 128)\n",
        "h = torch.randn(5, 128)\n",
        "\n",
        "rnn_cell(x, h).shape"
      ]
    },
    {
      "cell_type": "markdown",
      "metadata": {
        "id": "9kjQ_VaFcR0w"
      },
      "source": [
        "### 2.2 RNN Model"
      ]
    },
    {
      "cell_type": "markdown",
      "metadata": {
        "id": "CMB0_QoBcR0w"
      },
      "source": [
        "One last point for the implementation of the RNN model is the conversion of text character IDs to vectors. We cannot directly feed integers to a neural network, therefore we have to common options for converting integers to vectors.\n",
        "\n",
        "1 - One-hot encoded vectors\n",
        "\n",
        "2 - Using embedding look-up tables\n",
        "\n",
        "For this tutorial, we go for the second option. To do so we use the `nn.Embedding` module from PyTorch that initializes a list of trainable tensors, one per character in our case. Every time we give it a list of character IDs, it selects the correponding tensors from the table and returns them. We finally then use those tensors as inputs to the RNN cell."
      ]
    },
    {
      "cell_type": "code",
      "execution_count": 57,
      "metadata": {
        "id": "VH07c3XbcR0w"
      },
      "outputs": [],
      "source": [
        "# Define the RNN model\n",
        "class SimpleRNN(nn.Module):\n",
        "    def __init__(self, vocab_size, hidden_size):\n",
        "        super(SimpleRNN, self).__init__()\n",
        "        self.hidden_size = hidden_size\n",
        "        # Character embedding\n",
        "        self.embedding = nn.Embedding(num_embeddings=vocab_size, embedding_dim=hidden_size)\n",
        "        # RNN cell\n",
        "        self.rnn_cell = RNNCell(hidden_size, hidden_size)\n",
        "        # Classification layer\n",
        "        self.fc = nn.Linear(hidden_size, vocab_size)\n",
        "\n",
        "    def forward(self, x, hidden):\n",
        "        # Convert input to vector embeddings using a lookup table\n",
        "        x_emb = self.embedding(x)\n",
        "        # Forward the input and hidden state to the RNN cell\n",
        "        new_hidden = self.rnn_cell(x_emb, hidden)\n",
        "        # Make prediction using the new hidden sate\n",
        "        output = self.fc(new_hidden)\n",
        "\n",
        "        return output, new_hidden\n",
        "\n",
        "    def init_hidden(self, batch_size):\n",
        "        return torch.zeros(batch_size, self.hidden_size)\n"
      ]
    },
    {
      "cell_type": "code",
      "execution_count": 58,
      "metadata": {
        "id": "zE1bqhhVcR0w"
      },
      "outputs": [],
      "source": [
        "model = SimpleRNN(vocab_size=len(dataset.chars), hidden_size=128)\n"
      ]
    },
    {
      "cell_type": "markdown",
      "metadata": {
        "id": "L_hWMsY6cR0x"
      },
      "source": [
        "### 2.3 Text Generation"
      ]
    },
    {
      "cell_type": "markdown",
      "metadata": {
        "id": "BvpwyEsRcR0x"
      },
      "source": [
        "Before training the model, we want to test it with text generation to check how the generated texts look. We need to implement a function that takes as input the model, the character <-> char-ID convertors and the prompt."
      ]
    },
    {
      "cell_type": "code",
      "execution_count": 59,
      "metadata": {
        "id": "KExRNN8DcR0x"
      },
      "outputs": [],
      "source": [
        "# Generate random text\n",
        "def generate_text(model, char_to_int, int_to_char, prompt, device):\n",
        "    # Set model to eval mode\n",
        "    model.eval()\n",
        "\n",
        "    # Initialize the hidden state of the RNN cell with batch-size = 1\n",
        "    hidden = model.init_hidden(1)\n",
        "    if type(hidden) == tuple:\n",
        "        hidden = (hidden[0].squeeze(1).to(device), hidden[1].squeeze(0).to(device))\n",
        "    else:\n",
        "        hidden = hidden.to(device)\n",
        "\n",
        "    # Convert the prompt characters to character IDs\n",
        "    input_sequence = torch.tensor([char_to_int[c] for c in prompt], dtype=torch.long).unsqueeze(0).to(device)\n",
        "\n",
        "    # Store the generated text over time as a string\n",
        "    generated_text = prompt\n",
        "\n",
        "    # No gradient mode during inference\n",
        "    with torch.no_grad():\n",
        "        # First feed all prompt characters to the model to the the final output and hidden state\n",
        "        for i in range(len(input_sequence[0])):\n",
        "            output, hidden = model(input_sequence[0][i].unsqueeze(0), hidden)\n",
        "\n",
        "        next_input = torch.argmax(output, dim=1)\n",
        "\n",
        "        # Generate text until the model outputs character #\n",
        "        while True:\n",
        "            # At each step, predict the next character given the current input and\n",
        "            # the hidden state from previous step\n",
        "            output, hidden = model(next_input, hidden)\n",
        "            # Sample from the probability distribution produced by the model at step t\n",
        "            probabilities = nn.functional.softmax(output, dim=1)\n",
        "            predicted_char = torch.multinomial(probabilities[0], 1)\n",
        "\n",
        "            # !!!!! Another option would be greedy character selection\n",
        "            # predicted_char = torch.argmax(probabilities, dim=1)\n",
        "\n",
        "            # Conver the character ID to string and add it to `generated_text`\n",
        "            if int_to_char[predicted_char[0].item()] == \"#\":\n",
        "                break\n",
        "            generated_text += int_to_char[predicted_char[0].item()]\n",
        "            next_input = predicted_char\n",
        "\n",
        "    return generated_text"
      ]
    },
    {
      "cell_type": "code",
      "execution_count": 60,
      "metadata": {
        "id": "l2UgDH_bcR01",
        "outputId": "e64e4fd9-de70-4cdc-a24e-9a7281795969",
        "colab": {
          "base_uri": "https://localhost:8080/",
          "height": 35
        }
      },
      "outputs": [
        {
          "output_type": "execute_result",
          "data": {
            "text/plain": [
              "\"St. Gallen, where the AVe)AD(kJ'IIYzqRf\""
            ],
            "application/vnd.google.colaboratory.intrinsic+json": {
              "type": "string"
            }
          },
          "metadata": {},
          "execution_count": 60
        }
      ],
      "source": [
        "prompt = \"St. Gallen, where the \"\n",
        "generate_text(model, dataset.char_to_int, dataset.int_to_char, prompt, device=torch.device(\"cuda\"))"
      ]
    },
    {
      "cell_type": "markdown",
      "metadata": {
        "id": "PZJI_vXkcR01"
      },
      "source": [
        "### 2.4 Training"
      ]
    },
    {
      "cell_type": "markdown",
      "metadata": {
        "id": "Iw3-Ko3ecR01"
      },
      "source": [
        "We saw that the randomly initialized model generates meaningless random text. Let's train the model on the Shakespeare's sonnets dataset. Since we need to train the model of sequence of inputs, the computational grpah of the model needs to be replicated over all steps of the character sequence generation process. At the end of the sentence, the losses from all steps are summed together and backpropagation is applied to compute the gradients. In this case we are doing `Backpropgation Through Time` (BPTT). In the animation below, we can see how the forward and backward propagation is performed for sequential data generation:"
      ]
    },
    {
      "cell_type": "markdown",
      "metadata": {
        "id": "bQpbkm9kcR04"
      },
      "source": [
        "<img align='center' style='max-width: 900px' src='https://github.com/HSG-AIML-Teaching/ML2025-Lab/blob/main/lab_5/animations/rnn_training.gif?raw=1'>"
      ]
    },
    {
      "cell_type": "markdown",
      "metadata": {
        "id": "aMgpqeDAcR04"
      },
      "source": [
        "Similar to before, we need to define a function that train the model for a number of epochs. The only part that is different is how we feed the data to the model. One way to input sequential data is to iterate through the batch sequences step by step, forward the characters at step t and compute the loss for that step. After going throught eh sequence, we compute the average loss and backpropagate. PyTorch takes cares of the BPTT part :)"
      ]
    },
    {
      "cell_type": "code",
      "execution_count": 61,
      "metadata": {
        "id": "BAQ-IhPocR05"
      },
      "outputs": [],
      "source": [
        "def train(model, dataloader, criterion, optimizer, device):\n",
        "    model.train()\n",
        "    dataloader_progress = tqdm.tqdm(dataloader)\n",
        "    iter_losses = []\n",
        "    # Iterate over all dataset sentences\n",
        "    for i, (inputs, targets) in enumerate(dataloader_progress):\n",
        "        # Size of input and targetsa re B x L x D\n",
        "        # B -> batch size, L -> sequence length, D -> vocabulary size\n",
        "        inputs, targets = inputs.to(device), targets.to(device)\n",
        "        batch_size = inputs.shape[0]\n",
        "        len_sequence = inputs.shape[1]\n",
        "        # Initialize the hidden state with zeros before going through the sequence\n",
        "        hidden = model.init_hidden(batch_size).to(device)\n",
        "        optimizer.zero_grad()\n",
        "        loss = 0\n",
        "        # Make prediction for each character and compute the loss for each step\n",
        "        for t in range(len_sequence):\n",
        "            output, hidden = model(inputs[:, t], hidden)\n",
        "            loss += criterion(output, targets[:, t])\n",
        "        # Compute average loss over all steps\n",
        "        loss = loss / len_sequence\n",
        "        # Backpropagate and optimizer step\n",
        "        loss.backward()\n",
        "        optimizer.step()\n",
        "        dataloader_progress.set_description(f\"Loss: {loss.item():0.5f}\")\n",
        "        # Iteration losss\n",
        "        iter_losses.append(loss.item())\n",
        "\n",
        "    return np.mean(iter_losses)"
      ]
    },
    {
      "cell_type": "code",
      "execution_count": 63,
      "metadata": {
        "id": "HxV1T4rncR05",
        "outputId": "b1441044-de2e-4c3b-8865-9431f6602445",
        "colab": {
          "base_uri": "https://localhost:8080/"
        }
      },
      "outputs": [
        {
          "output_type": "stream",
          "name": "stderr",
          "text": [
            "Loss: 1.94130: 100%|██████████| 1468/1468 [02:17<00:00, 10.65it/s]\n"
          ]
        },
        {
          "output_type": "stream",
          "name": "stdout",
          "text": [
            "Epoch 1/3 completed\n"
          ]
        },
        {
          "output_type": "stream",
          "name": "stderr",
          "text": [
            "Loss: 1.93215: 100%|██████████| 1468/1468 [02:15<00:00, 10.86it/s]\n"
          ]
        },
        {
          "output_type": "stream",
          "name": "stdout",
          "text": [
            "Epoch 2/3 completed\n"
          ]
        },
        {
          "output_type": "stream",
          "name": "stderr",
          "text": [
            "Loss: 1.91147: 100%|██████████| 1468/1468 [02:11<00:00, 11.15it/s]"
          ]
        },
        {
          "output_type": "stream",
          "name": "stdout",
          "text": [
            "Epoch 3/3 completed\n"
          ]
        },
        {
          "output_type": "stream",
          "name": "stderr",
          "text": [
            "\n"
          ]
        }
      ],
      "source": [
        "device = torch.device(\"cuda\")\n",
        "\n",
        "# Hyperparameters\n",
        "hidden_size = 256\n",
        "seq_length = 100\n",
        "batch_size = 64\n",
        "num_epochs = 3\n",
        "learning_rate = 0.001\n",
        "\n",
        "model = SimpleRNN(vocab_size=len(dataset.chars), hidden_size=hidden_size)\n",
        "model.to(device)\n",
        "model.train()\n",
        "\n",
        "# Create dataset and dataloader\n",
        "dataloader = DataLoader(dataset, batch_size=batch_size, shuffle=True, drop_last=True)\n",
        "\n",
        "# Define the loss function and optimizer\n",
        "criterion = nn.CrossEntropyLoss()\n",
        "optimizer = optim.Adam(model.parameters(), lr=learning_rate)\n",
        "\n",
        "# Train the model\n",
        "epoch_losses = []\n",
        "for epoch in range(num_epochs):\n",
        "    epoch_loss = train(model, dataloader, criterion, optimizer, device)\n",
        "    print(f'Epoch {epoch + 1}/{num_epochs} completed')\n",
        "    epoch_losses.append(epoch_loss)"
      ]
    },
    {
      "cell_type": "code",
      "execution_count": 70,
      "metadata": {
        "id": "pjWj1kIEcR05"
      },
      "outputs": [],
      "source": [
        "torch.save(model, \"ckpt_rnn.pt\")"
      ]
    },
    {
      "cell_type": "code",
      "execution_count": 71,
      "metadata": {
        "id": "iOp-7ef1cR05",
        "outputId": "9b68158f-f20f-4fba-819e-d93eda0c6642",
        "colab": {
          "base_uri": "https://localhost:8080/",
          "height": 473
        }
      },
      "outputs": [
        {
          "output_type": "display_data",
          "data": {
            "text/plain": [
              "<Figure size 640x480 with 1 Axes>"
            ],
            "image/png": "[encoded data removed]"
          },
          "metadata": {}
        }
      ],
      "source": [
        "# Prepare plot\n",
        "fig = plt.figure()\n",
        "ax = fig.add_subplot(111)\n",
        "\n",
        "# Add grid\n",
        "ax.grid(linestyle='dotted')\n",
        "\n",
        "# Plot the training epochs vs. the epochs' classification error\n",
        "ax.plot(np.array(range(1, len(epoch_losses)+1)), epoch_losses, label='epoch loss (blue)')\n",
        "\n",
        "# Plot details\n",
        "ax.set_xlabel(\"[training epoch $e_i$]\", fontsize=10)\n",
        "ax.set_ylabel(\"[Classification Error $\\mathcal{L}^{NLL}$]\", fontsize=10)\n",
        "plt.legend(loc=\"upper right\", numpoints=1, fancybox=True)\n",
        "plt.title('RNN Train Loss', fontsize=10);"
      ]
    },
    {
      "cell_type": "markdown",
      "metadata": {
        "id": "hKWCPVFmcR06"
      },
      "source": [
        "### 2.5 Testing"
      ]
    },
    {
      "cell_type": "markdown",
      "metadata": {
        "id": "CRg5L-YYcR06"
      },
      "source": [
        "Finally, it's time for testing the model."
      ]
    },
    {
      "cell_type": "code",
      "execution_count": 72,
      "metadata": {
        "id": "LzTg4GzqcR06",
        "outputId": "3e6ce5ae-a2fa-449f-bc14-d14eee68d0f5",
        "colab": {
          "base_uri": "https://localhost:8080/",
          "height": 70
        }
      },
      "outputs": [
        {
          "output_type": "execute_result",
          "data": {
            "text/plain": [
              "\"St. Gallen, where the harve mary brimed,\\nAnd to perchaised can noth your remy with payed aif the looks\\nFor breaving bagdost if lesvoned the scy to glace heoming;\\nWhere sworth olf thy lied with conthy sinct of thou in thy fast agher,\\nThy seld the lare\\nThoughty?\\nNis why world Tath hyis you then;\\nThat think, purvite, bold make's weng\""
            ],
            "application/vnd.google.colaboratory.intrinsic+json": {
              "type": "string"
            }
          },
          "metadata": {},
          "execution_count": 72
        }
      ],
      "source": [
        "prompt = \"St. Gallen, where the \"\n",
        "model.to(\"cuda\")\n",
        "generate_text(model, dataset.char_to_int, dataset.int_to_char, prompt, device=torch.device(\"cuda\"))"
      ]
    },
    {
      "cell_type": "markdown",
      "metadata": {
        "id": "x4ESGPVBcR06"
      },
      "source": [
        "# 3. LSTMs"
      ]
    },
    {
      "cell_type": "markdown",
      "metadata": {
        "id": "-ImybSPVcR06"
      },
      "source": [
        "We saw that RNNs can suffer from the vanishing gradient problem, which means that the gradients used to update the parameters of the network can become very small over time, leading to slow convergence and poor performance. Now let's see how we can solve that issue.\n"
      ]
    },
    {
      "cell_type": "markdown",
      "metadata": {
        "id": "1IbS5DzgcR07"
      },
      "source": [
        "### 3.1 LSTM Cell"
      ]
    },
    {
      "cell_type": "markdown",
      "metadata": {
        "id": "CAGYjum7cR07"
      },
      "source": [
        "\n",
        "LSTMs are designed to overcome the vanishing gradient problem by using a more sophisticated architecture that incorporates a memory cell and multiple gating mechanisms. The memory cell is responsible for storing information over long periods of time, while the gating mechanisms control the flow of information into and out of the cell. This allows LSTMs to selectively forget or remember information, which makes them more effective in capturing long-term dependencies in sequential data. Below you can see the architecture of an LSTM cell:"
      ]
    },
    {
      "cell_type": "markdown",
      "metadata": {
        "id": "k00bFuHMcR07"
      },
      "source": [
        "<img align='center' style='max-width: 700px' src='https://github.com/HSG-AIML-Teaching/ML2025-Lab/blob/main/lab_5/figures/lstmcell.png?raw=1'>"
      ]
    },
    {
      "cell_type": "markdown",
      "metadata": {
        "id": "-a2UA4zUcR07"
      },
      "source": [
        "Everything remails similar to the RNN implementation, but here we want to use the PyTorch's LSTM module from `nn.LSTM` instead of implementing it from scatch. Let's first create an instance of an LSTM cell and see how we can interact with it."
      ]
    },
    {
      "cell_type": "code",
      "execution_count": 73,
      "metadata": {
        "id": "HLiHnTt-cR07"
      },
      "outputs": [],
      "source": [
        "# Create an instance of nn.LSTM. It's import to set batch_first=True if the data tensor shape is B x L x D\n",
        "lstm = nn.LSTM(10, 30, batch_first=True)\n",
        "# Initialize input, and the first hidden and context vectors\n",
        "inp = torch.randn(5, 3, 10)\n",
        "h0 = torch.randn(1, 5, 30)\n",
        "c0 = torch.randn(1, 5, 30)\n",
        "# Forward\n",
        "output, (hn, cn) = lstm(inp, (h0, c0))"
      ]
    },
    {
      "cell_type": "markdown",
      "metadata": {
        "id": "-Of70NFucR07"
      },
      "source": [
        "### 3.2 LSTM Model"
      ]
    },
    {
      "cell_type": "markdown",
      "metadata": {
        "id": "A8gy8j6wcR08"
      },
      "source": [
        "Now, let's implement the LSTM model. We use an `nn.Embedding` module to conver character IDs to learnable tensors."
      ]
    },
    {
      "cell_type": "code",
      "execution_count": 74,
      "metadata": {
        "id": "PVBr3YkecR08"
      },
      "outputs": [],
      "source": [
        "class LSTMModel(nn.Module):\n",
        "    def __init__(self, vocab_size, hidden_size, dropout=0.5):\n",
        "        super(LSTMModel, self).__init__()\n",
        "        self.hidden_size = hidden_size\n",
        "        # Character embedding module\n",
        "        self.embedding = nn.Embedding(vocab_size, hidden_size)\n",
        "        # PyTorch's LSTM module\n",
        "        self.lstm = nn.LSTM(hidden_size, hidden_size, dropout=dropout, batch_first=True)\n",
        "        # Classification layer\n",
        "        self.fc = nn.Linear(hidden_size, vocab_size)\n",
        "\n",
        "    def forward(self, x, hidden):\n",
        "        x = self.embedding(x)\n",
        "        output, hidden = self.lstm(x, hidden)\n",
        "        output = self.fc(output)\n",
        "        return output, hidden\n",
        "\n",
        "    def init_hidden(self, batch_size):\n",
        "        hidden = (torch.zeros(1, batch_size, self.hidden_size),\n",
        "                  torch.zeros(1, batch_size, self.hidden_size))\n",
        "        return hidden\n"
      ]
    },
    {
      "cell_type": "markdown",
      "metadata": {
        "id": "6iFZRXskcR08"
      },
      "source": [
        "### 3.3 Training"
      ]
    },
    {
      "cell_type": "markdown",
      "metadata": {
        "id": "32DHjZXXcR08"
      },
      "source": [
        "And the final step is to train the LSTM model:"
      ]
    },
    {
      "cell_type": "code",
      "execution_count": 75,
      "metadata": {
        "id": "S__Z2hWIcR08",
        "outputId": "9ed8c532-c875-4b1e-9f62-0b799da219c8",
        "colab": {
          "base_uri": "https://localhost:8080/"
        }
      },
      "outputs": [
        {
          "output_type": "stream",
          "name": "stderr",
          "text": [
            "/usr/local/lib/python3.11/dist-packages/torch/nn/modules/rnn.py:123: UserWarning: dropout option adds dropout after all but last recurrent layer, so non-zero dropout expects num_layers greater than 1, but got dropout=0.5 and num_layers=1\n",
            "  warnings.warn(\n",
            "Loss: 0.68471: 100%|██████████| 734/734 [00:41<00:00, 17.61it/s]\n"
          ]
        },
        {
          "output_type": "stream",
          "name": "stdout",
          "text": [
            "Epoch 1/5 completed\n"
          ]
        },
        {
          "output_type": "stream",
          "name": "stderr",
          "text": [
            "Loss: 0.28451: 100%|██████████| 734/734 [00:43<00:00, 17.01it/s]\n"
          ]
        },
        {
          "output_type": "stream",
          "name": "stdout",
          "text": [
            "Epoch 2/5 completed\n"
          ]
        },
        {
          "output_type": "stream",
          "name": "stderr",
          "text": [
            "Loss: 0.21524: 100%|██████████| 734/734 [00:44<00:00, 16.48it/s]\n"
          ]
        },
        {
          "output_type": "stream",
          "name": "stdout",
          "text": [
            "Epoch 3/5 completed\n"
          ]
        },
        {
          "output_type": "stream",
          "name": "stderr",
          "text": [
            "Loss: 0.19553: 100%|██████████| 734/734 [00:44<00:00, 16.45it/s]\n"
          ]
        },
        {
          "output_type": "stream",
          "name": "stdout",
          "text": [
            "Epoch 4/5 completed\n"
          ]
        },
        {
          "output_type": "stream",
          "name": "stderr",
          "text": [
            "Loss: 0.19124: 100%|██████████| 734/734 [00:44<00:00, 16.45it/s]"
          ]
        },
        {
          "output_type": "stream",
          "name": "stdout",
          "text": [
            "Epoch 5/5 completed\n"
          ]
        },
        {
          "output_type": "stream",
          "name": "stderr",
          "text": [
            "\n"
          ]
        }
      ],
      "source": [
        "device = torch.device(\"cuda\")\n",
        "\n",
        "dataset = SonnetDataset(ds_path=\"/content/sonnets.txt\", seq_length=100)\n",
        "\n",
        "# Hyperparameters\n",
        "hidden_size = 512\n",
        "seq_length = 200\n",
        "batch_size = 128\n",
        "num_epochs = 5\n",
        "learning_rate = 0.001\n",
        "\n",
        "# Create dataset and dataloader\n",
        "dataloader = DataLoader(dataset, batch_size=batch_size, shuffle=True, drop_last=True)\n",
        "\n",
        "# Instantiate the model and the loss function\n",
        "model = LSTMModel(vocab_size=len(dataset.chars), hidden_size=hidden_size,)\n",
        "model.to(device)\n",
        "criterion = nn.CrossEntropyLoss()\n",
        "optimizer = torch.optim.Adam(model.parameters(), lr=learning_rate)\n",
        "\n",
        "# Train the model\n",
        "epoch_losses = []\n",
        "for epoch in range(num_epochs):\n",
        "    model.train()\n",
        "    dataloader_progress = tqdm.tqdm(dataloader)\n",
        "    iter_losses = []\n",
        "    for i, (inputs, targets) in enumerate(dataloader_progress):\n",
        "        inputs, targets = inputs.to(device), targets.to(device)\n",
        "        batch_size = inputs.size(0)\n",
        "\n",
        "        # Initialize the hidden state\n",
        "        hidden = model.init_hidden(batch_size)\n",
        "        hidden = (hidden[0].to(device), hidden[1].to(device))\n",
        "\n",
        "        optimizer.zero_grad()\n",
        "        loss = 0\n",
        "\n",
        "        # Forward pass\n",
        "        output, hidden = model(inputs, hidden)\n",
        "\n",
        "        # To enable a faster computation of the loss at each step, we linearize\n",
        "        # predictions and targets for all steps and compute the loss for all steps together\n",
        "        loss = criterion(output.view(-1, output.shape[2]), targets.view(-1))\n",
        "\n",
        "        # Backpropagation and optimizer step\n",
        "        loss.backward()\n",
        "        optimizer.step()\n",
        "\n",
        "        iter_losses.append(loss.item())\n",
        "        dataloader_progress.set_description(f\"Loss: {loss.item():0.5f}\")\n",
        "    print(f'Epoch {epoch + 1}/{num_epochs} completed')\n",
        "    epoch_losses.append(np.mean(iter_losses))\n",
        ""
      ]
    },
    {
      "cell_type": "code",
      "execution_count": 76,
      "metadata": {
        "id": "RdmqcLgQcR09"
      },
      "outputs": [],
      "source": [
        "torch.save(model, \"ckpt_lstm.pt\")"
      ]
    },
    {
      "cell_type": "code",
      "execution_count": 77,
      "metadata": {
        "id": "OCcMduzHcR09",
        "outputId": "8a5312a6-b643-4fbd-e075-8492d42a03d4",
        "colab": {
          "base_uri": "https://localhost:8080/",
          "height": 473
        }
      },
      "outputs": [
        {
          "output_type": "display_data",
          "data": {
            "text/plain": [
              "<Figure size 640x480 with 1 Axes>"
            ],
            "image/png": "[encoded data removed]"
          },
          "metadata": {}
        }
      ],
      "source": [
        "# Prepare plot\n",
        "fig = plt.figure()\n",
        "ax = fig.add_subplot(111)\n",
        "\n",
        "# Add grid\n",
        "ax.grid(linestyle='dotted')\n",
        "\n",
        "# Plot the training epochs vs. the epochs' classification error\n",
        "ax.plot(np.array(range(1, len(epoch_losses)+1)), epoch_losses, label='epoch loss (blue)')\n",
        "\n",
        "# Plot details\n",
        "ax.set_xlabel(\"[training epoch $e_i$]\", fontsize=10)\n",
        "ax.set_ylabel(\"[Classification Error $\\mathcal{L}^{NLL}$]\", fontsize=10)\n",
        "plt.legend(loc=\"upper right\", numpoints=1, fancybox=True)\n",
        "plt.title('RNN Train Loss', fontsize=10);"
      ]
    },
    {
      "cell_type": "markdown",
      "metadata": {
        "id": "D9IX_rqscR09"
      },
      "source": [
        "### 3.4 Testing"
      ]
    },
    {
      "cell_type": "code",
      "execution_count": 78,
      "metadata": {
        "id": "UQekGl6vcR09",
        "outputId": "4d80b7b1-b7ef-43b5-c375-02a63a766101",
        "colab": {
          "base_uri": "https://localhost:8080/",
          "height": 35
        }
      },
      "outputs": [
        {
          "output_type": "execute_result",
          "data": {
            "text/plain": [
              "'Saint Gallen, where the umb on hught of Sir,\\nThat so my patent all dressing old words bri'"
            ],
            "application/vnd.google.colaboratory.intrinsic+json": {
              "type": "string"
            }
          },
          "metadata": {},
          "execution_count": 78
        }
      ],
      "source": [
        "\n",
        "prompt = \"Saint Gallen, where the \"\n",
        "generate_text(model, dataset.char_to_int, dataset.int_to_char, prompt, device=device)"
      ]
    },
    {
      "cell_type": "code",
      "execution_count": 79,
      "metadata": {
        "id": "aFKHB2FRcR09",
        "outputId": "0d37407b-1f06-4a51-8876-241a131fa6ad",
        "colab": {
          "base_uri": "https://localhost:8080/",
          "height": 35
        }
      },
      "outputs": [
        {
          "output_type": "execute_result",
          "data": {
            "text/plain": [
              "' hee.\\n\\nWhen forty winters shall be a salve war not a perfect best,\\nAnd pater'"
            ],
            "application/vnd.google.colaboratory.intrinsic+json": {
              "type": "string"
            }
          },
          "metadata": {},
          "execution_count": 79
        }
      ],
      "source": [
        "prompt = \" \"\n",
        "generate_text(model, dataset.char_to_int, dataset.int_to_char, prompt, device=device)"
      ]
    },
    {
      "cell_type": "code",
      "execution_count": 79,
      "metadata": {
        "id": "yN5ghGB0cR0-"
      },
      "outputs": [],
      "source": []
    }
  ],
  "metadata": {
    "kernelspec": {
      "display_name": "Python 3",
      "name": "python3"
    },
    "language_info": {
      "codemirror_mode": {
        "name": "ipython",
        "version": 3
      },
      "file_extension": ".py",
      "mimetype": "text/x-python",
      "name": "python",
      "nbconvert_exporter": "python",
      "pygments_lexer": "ipython3",
      "version": "3.9.16"
    },
    "colab": {
      "provenance": [],
      "gpuType": "T4",
      "include_colab_link": true
    },
    "accelerator": "GPU"
  },
  "nbformat": 4,
  "nbformat_minor": 0
}