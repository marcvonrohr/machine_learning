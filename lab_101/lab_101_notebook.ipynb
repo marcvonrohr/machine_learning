{
  "cells": [
    {
      "cell_type": "markdown",
      "metadata": {
        "id": "view-in-github",
        "colab_type": "text"
      },
      "source": [
        "<a href=\"https://colab.research.google.com/github/marcvonrohr/machine_learning/blob/main/lab_101/lab_101_notebook.ipynb\" target=\"_parent\"><img src=\"https://colab.research.google.com/assets/colab-badge.svg\" alt=\"Open In Colab\"/></a>"
      ]
    },
    {
      "cell_type": "markdown",
      "metadata": {
        "id": "URU-jQFhw_b5"
      },
      "source": [
        "<img align=\"center\" style=\"max-width: 900px; height: auto\" src=\"https://github.com/HSG-AIML-Teaching/ML2025-Lab/blob/main/lab_101/banner.png?raw=1\">"
      ]
    },
    {
      "cell_type": "markdown",
      "metadata": {
        "id": "-AacBK3Qw_b6"
      },
      "source": [
        "<img align=\"right\" style=\"max-width: 200px; height: auto\" src=\"https://github.com/HSG-AIML-Teaching/ML2025-Lab/blob/main/lab_101/hsg_logo.png?raw=1\">\n",
        "\n",
        "###  Lab 101 - Introduction to Python and Jupyter\n",
        "\n",
        "8,860,1.00 Machine Learning, Spring Term 2025, University of St.Gallen (HSG)"
      ]
    },
    {
      "cell_type": "markdown",
      "metadata": {
        "id": "7xlgBoRyw_b7"
      },
      "source": [
        "The lab environment of the **8,860,1.00 Machine Learning** course is powered by Jupyter Notebooks (https://jupyter.org), which allows one to perform a great deal of data analysis and statistical validation. In this first lab, we want to touch on the basic concepts and techniques of such notebooks. Furthermore, its capabilities will be demonstrated based on a few simple and introductory examples."
      ]
    },
    {
      "cell_type": "markdown",
      "metadata": {
        "id": "LMvtNbBWw_b7"
      },
      "source": [
        "### Lab Objectives:"
      ]
    },
    {
      "cell_type": "markdown",
      "metadata": {
        "id": "EeCFNNEww_b8"
      },
      "source": [
        "After today's lab, you should be able to:\n",
        "    \n",
        "> 1. Understand the general workflow, structure, and functionality of **Jupyter** notebooks.\n",
        "> 2. Import and apply python data science libraries such as `NumPy` and `Pandas`.\n",
        "> 3. Understand how the **Python** programming language can be utilized to manipulate and analyze financial data.\n",
        "> 4. Download arbitrary stock market and financial data using the `Pandas` `DataReader` API.\n",
        "> 5. Use the `Matplotlib` library to visualize data as well as analytical results."
      ]
    },
    {
      "cell_type": "markdown",
      "metadata": {
        "id": "rsqgZDQyw_b8"
      },
      "source": [
        "Note: The content of this first lab is inspired by the Quantopian lecture series ( https://www.quantopian.com ). If you are interested to learn more about financial data science and/or algorithmic trading their lectures are a great resource to get you started."
      ]
    },
    {
      "cell_type": "markdown",
      "metadata": {
        "id": "wouc_ilkw_b8"
      },
      "source": [
        "### 1. Jupyter Notebook Introduction"
      ]
    },
    {
      "cell_type": "markdown",
      "metadata": {
        "id": "M-NTstSIw_b9"
      },
      "source": [
        "#### Code Cells vs. Text Cells"
      ]
    },
    {
      "cell_type": "markdown",
      "metadata": {
        "id": "G3G3e7-Fw_b9"
      },
      "source": [
        "As you can see, each cell can be either code or text. To select between them, choose from the `Cell Type` dropdown menu on the top left."
      ]
    },
    {
      "cell_type": "markdown",
      "metadata": {
        "id": "OX6UYL-Ww_b9"
      },
      "source": [
        "Hello World!"
      ]
    },
    {
      "cell_type": "code",
      "execution_count": 16,
      "metadata": {
        "id": "Pn52_6Qgw_b-",
        "outputId": "5bafefdf-56f8-42b0-cde1-847e8160e839",
        "colab": {
          "base_uri": "https://localhost:8080/"
        }
      },
      "outputs": [
        {
          "output_type": "execute_result",
          "data": {
            "text/plain": [
              "6"
            ]
          },
          "metadata": {},
          "execution_count": 16
        }
      ],
      "source": [
        "1 + 5"
      ]
    },
    {
      "cell_type": "markdown",
      "metadata": {
        "id": "WKHUNlqUw_b_"
      },
      "source": [
        "#### Executing a Command"
      ]
    },
    {
      "cell_type": "markdown",
      "metadata": {
        "id": "ZP7T3ZNtw_b_"
      },
      "source": [
        "A code cell will be evaluated when you press **'Run'**, or when you press the shortcut, shift-enter. Evaluating a cell evaluates each line of code in sequence, and prints the results of the last line below the cell."
      ]
    },
    {
      "cell_type": "code",
      "execution_count": 17,
      "metadata": {
        "id": "-EfRynPow_b_",
        "outputId": "3e5c9b6a-35af-4f38-b61c-186f70d4c0d4",
        "colab": {
          "base_uri": "https://localhost:8080/"
        }
      },
      "outputs": [
        {
          "output_type": "execute_result",
          "data": {
            "text/plain": [
              "42"
            ]
          },
          "metadata": {},
          "execution_count": 17
        }
      ],
      "source": [
        "40 + 2"
      ]
    },
    {
      "cell_type": "markdown",
      "metadata": {
        "id": "no6IRcVcw_b_"
      },
      "source": [
        "Sometimes there is no result to be printed, as is the case with the following assignment:"
      ]
    },
    {
      "cell_type": "code",
      "execution_count": 18,
      "metadata": {
        "id": "k5ElDHirw_b_"
      },
      "outputs": [],
      "source": [
        "X = 2"
      ]
    },
    {
      "cell_type": "code",
      "execution_count": 19,
      "metadata": {
        "id": "UNwqdns2w_cA",
        "outputId": "c2f5500b-c34c-4749-d186-9465f0ad1a88",
        "colab": {
          "base_uri": "https://localhost:8080/"
        }
      },
      "outputs": [
        {
          "output_type": "execute_result",
          "data": {
            "text/plain": [
              "2"
            ]
          },
          "metadata": {},
          "execution_count": 19
        }
      ],
      "source": [
        "X"
      ]
    },
    {
      "cell_type": "markdown",
      "metadata": {
        "id": "05AsU-Hhw_cA"
      },
      "source": [
        "Remember that only the result from the last line is printed."
      ]
    },
    {
      "cell_type": "code",
      "execution_count": 20,
      "metadata": {
        "id": "o0KpJm1nw_cA",
        "outputId": "2be5d244-7873-4952-f39b-02310a5be161",
        "colab": {
          "base_uri": "https://localhost:8080/"
        }
      },
      "outputs": [
        {
          "output_type": "execute_result",
          "data": {
            "text/plain": [
              "6"
            ]
          },
          "metadata": {},
          "execution_count": 20
        }
      ],
      "source": [
        "2 + 2\n",
        "3 + 3"
      ]
    },
    {
      "cell_type": "markdown",
      "metadata": {
        "id": "B5j0dohWw_cA"
      },
      "source": [
        "However, you can print whichever lines you want using the print statement."
      ]
    },
    {
      "cell_type": "code",
      "execution_count": 21,
      "metadata": {
        "id": "-rJa-HWJw_cA",
        "outputId": "99e19700-a786-4d20-8224-e67d1d3da0fe",
        "colab": {
          "base_uri": "https://localhost:8080/"
        }
      },
      "outputs": [
        {
          "output_type": "stream",
          "name": "stdout",
          "text": [
            "4\n"
          ]
        },
        {
          "output_type": "execute_result",
          "data": {
            "text/plain": [
              "6"
            ]
          },
          "metadata": {},
          "execution_count": 21
        }
      ],
      "source": [
        "print(2 + 2)\n",
        "3 + 3"
      ]
    },
    {
      "cell_type": "markdown",
      "metadata": {
        "id": "irQJmx86w_cA"
      },
      "source": [
        "#### Comments\n",
        "\n",
        "The `#` character has a special meaning in Python. Whenever it appears, all following characters on the same line are considered as comments and are ignored. You can use comments to explain what certain parts of your code do."
      ]
    },
    {
      "cell_type": "code",
      "execution_count": 22,
      "metadata": {
        "id": "yuwnVcRxw_cB"
      },
      "outputs": [],
      "source": [
        "# this is a comment"
      ]
    },
    {
      "cell_type": "code",
      "execution_count": 23,
      "metadata": {
        "id": "hzynv-2rw_cB",
        "outputId": "8337cddb-53f7-475e-90aa-6047ce264a67",
        "colab": {
          "base_uri": "https://localhost:8080/"
        }
      },
      "outputs": [
        {
          "output_type": "stream",
          "name": "stdout",
          "text": [
            "1\n"
          ]
        }
      ],
      "source": [
        "print(1) # comments can be on the same line as code"
      ]
    },
    {
      "cell_type": "markdown",
      "metadata": {
        "id": "wqmuENYew_cB"
      },
      "source": [
        "#### Knowing When a Cell is Running"
      ]
    },
    {
      "cell_type": "markdown",
      "metadata": {
        "id": "8Lx69rTJw_cB"
      },
      "source": [
        "While a cell is running, a **[*]** will be displayed on the left of the respective cell. When a cell has yet to be executed, **[ ]** will be displayed. When it has been run, a number will display indicating the order in which it was run during the execution of the notebook **[5]**. Try on this cell and note what is happening:"
      ]
    },
    {
      "cell_type": "code",
      "execution_count": 24,
      "metadata": {
        "id": "Nm0y_2-gw_cB",
        "outputId": "52e2e20b-5c68-41e3-852d-117776078fa0",
        "colab": {
          "base_uri": "https://localhost:8080/"
        }
      },
      "outputs": [
        {
          "output_type": "execute_result",
          "data": {
            "text/plain": [
              "49999995000000"
            ]
          },
          "metadata": {},
          "execution_count": 24
        }
      ],
      "source": [
        "# take some time to run something\n",
        "c = 0\n",
        "for i in range(10000000):\n",
        "    c = c + i\n",
        "c"
      ]
    },
    {
      "cell_type": "markdown",
      "metadata": {
        "id": "hqCdp6hVw_cC"
      },
      "source": [
        "### 2. Importing Python Libraries"
      ]
    },
    {
      "cell_type": "markdown",
      "metadata": {
        "id": "2spq_2ufw_cC"
      },
      "source": [
        "The vast majority of the time, we will use functions from pre-built libraries, such as:"
      ]
    },
    {
      "cell_type": "code",
      "execution_count": 25,
      "metadata": {
        "id": "_azaxS9Gw_cC"
      },
      "outputs": [],
      "source": [
        "# importing the python sys library\n",
        "import sys"
      ]
    },
    {
      "cell_type": "markdown",
      "metadata": {
        "id": "zeIsLz1Yw_cC"
      },
      "source": [
        "You can check your Python version at the command line by running:"
      ]
    },
    {
      "cell_type": "code",
      "execution_count": 26,
      "metadata": {
        "id": "BNHij02iw_cD",
        "outputId": "1400f1df-8dda-4a4b-a2e2-2217dcbe1aa5",
        "colab": {
          "base_uri": "https://localhost:8080/",
          "height": 35
        }
      },
      "outputs": [
        {
          "output_type": "execute_result",
          "data": {
            "text/plain": [
              "'3.11.11 (main, Dec  4 2024, 08:55:07) [GCC 11.4.0]'"
            ],
            "application/vnd.google.colaboratory.intrinsic+json": {
              "type": "string"
            }
          },
          "metadata": {},
          "execution_count": 26
        }
      ],
      "source": [
        "# determine the python system version\n",
        "sys.version"
      ]
    },
    {
      "cell_type": "markdown",
      "metadata": {
        "id": "UlS4EyK0w_cD"
      },
      "source": [
        "You can't import every library into the lab environment due to security issues. However, you can import most of the common scientific ones. Here we import the libraries `NumPy` (https://www.numpy.org) and `Pandas` (https://pandas.pydata.org), two of the most common and useful libraries in data science. We recommend copying this import statement for every new notebook that you will create."
      ]
    },
    {
      "cell_type": "code",
      "execution_count": 27,
      "metadata": {
        "id": "FUJbSPzFw_cD"
      },
      "outputs": [],
      "source": [
        "# import the number and Pandas data science libraries\n",
        "import numpy\n",
        "import pandas"
      ]
    },
    {
      "cell_type": "markdown",
      "metadata": {
        "id": "yc7Vv7BNw_cD"
      },
      "source": [
        "Let's now use the `NumPy` library to calculate the mean of a list of numbers:"
      ]
    },
    {
      "cell_type": "code",
      "execution_count": 28,
      "metadata": {
        "id": "K7PYuIY3w_cD",
        "outputId": "28984cbe-2a16-467d-f226-782c85b20a63",
        "colab": {
          "base_uri": "https://localhost:8080/"
        }
      },
      "outputs": [
        {
          "output_type": "execute_result",
          "data": {
            "text/plain": [
              "2.5"
            ]
          },
          "metadata": {},
          "execution_count": 28
        }
      ],
      "source": [
        "numpy.mean([1, 2, 3, 4])"
      ]
    },
    {
      "cell_type": "markdown",
      "metadata": {
        "id": "NPOdmviGw_cD"
      },
      "source": [
        "Notice that you can rename libraries to whatever you want after importing. The `as` statement allows this. Here we use `np` and `pd` as aliases for both the pre-built `NumPy` and `Pandas` libraries. This is very common aliasing and will be found in most code snippets around the web. The idea behind this is to allow you to type fewer characters when you are frequently accessing these libraries."
      ]
    },
    {
      "cell_type": "code",
      "execution_count": 29,
      "metadata": {
        "id": "GTjlZta8w_cD"
      },
      "outputs": [],
      "source": [
        "# importing the NumPy and Pandas data science libraries using aliases\n",
        "import numpy as np\n",
        "import pandas as pd"
      ]
    },
    {
      "cell_type": "markdown",
      "metadata": {
        "id": "U1h6xL3Nw_cE"
      },
      "source": [
        "Let's now use the `NumPy` library to calculate the mean of a list of numbers:"
      ]
    },
    {
      "cell_type": "code",
      "execution_count": 30,
      "metadata": {
        "id": "TSWkIUiSw_cM",
        "outputId": "b64dc766-db83-441b-cbfa-91fa62c062d2",
        "colab": {
          "base_uri": "https://localhost:8080/"
        }
      },
      "outputs": [
        {
          "output_type": "execute_result",
          "data": {
            "text/plain": [
              "2.5"
            ]
          },
          "metadata": {},
          "execution_count": 30
        }
      ],
      "source": [
        "np.mean([1, 2, 3, 4])"
      ]
    },
    {
      "cell_type": "markdown",
      "metadata": {
        "id": "Yl7t3envw_cM"
      },
      "source": [
        "### 3. Code Completion and Documentation"
      ]
    },
    {
      "cell_type": "markdown",
      "metadata": {
        "id": "b4lfjBH_w_cM"
      },
      "source": [
        "#### Autocomplete Code"
      ]
    },
    {
      "cell_type": "markdown",
      "metadata": {
        "id": "AmqwICpvw_cM"
      },
      "source": [
        "Pressing tab will give you a list of Jupyter's best guesses for what you might want to type next. This is incredibly valuable and will save you a lot of time. If there is only one possible option for what you could type next, Jupyter will fill that in for you. Try pressing tab very frequently; it will seldom fill in anything you don't want as if there is ambiguity a list will be shown. This is a great way to see what functions are available in a library.\n",
        "\n",
        "Try placing your cursor after the `.` and press the `tab` key on your keyboard (or `shift` + `tab` when it doesn't work)."
      ]
    },
    {
      "cell_type": "code",
      "execution_count": null,
      "metadata": {
        "id": "X8kR-WVPw_cN"
      },
      "outputs": [],
      "source": [
        "np.random.gamma"
      ]
    },
    {
      "cell_type": "markdown",
      "metadata": {
        "id": "enZZh1Odw_cN"
      },
      "source": [
        "#### Documentation Help"
      ]
    },
    {
      "cell_type": "markdown",
      "metadata": {
        "id": "0Bg27_Zrw_cN"
      },
      "source": [
        "Placing a question mark after a function and executing that line of code will give you the documentation Jupyter has for that function. It's often best to do this in a new cell, as you avoid re-executing other code and running into bugs."
      ]
    },
    {
      "cell_type": "code",
      "execution_count": null,
      "metadata": {
        "id": "EO2Iltp4w_cN"
      },
      "outputs": [],
      "source": [
        "np.random.normal?"
      ]
    },
    {
      "cell_type": "markdown",
      "metadata": {
        "id": "DZH7US0Xw_cN"
      },
      "source": [
        "### 4. Plotting Data"
      ]
    },
    {
      "cell_type": "markdown",
      "metadata": {
        "id": "yihQS0Fkw_cN"
      },
      "source": [
        "#### Random Data Sampling"
      ]
    },
    {
      "cell_type": "markdown",
      "metadata": {
        "id": "Yr4rkBMuw_cN"
      },
      "source": [
        "Let's' sample some random data using a function from `NumPy`."
      ]
    },
    {
      "cell_type": "code",
      "execution_count": null,
      "metadata": {
        "id": "x7617Hsmw_cN"
      },
      "outputs": [],
      "source": [
        "# sample 100 points with a mean of 0 and an std of 1. This is a standard normal distribution.\n",
        "x = np.random.normal(0, 1, 100)"
      ]
    },
    {
      "cell_type": "code",
      "execution_count": null,
      "metadata": {
        "id": "6PH33GWEw_cO"
      },
      "outputs": [],
      "source": [
        "x"
      ]
    },
    {
      "cell_type": "markdown",
      "metadata": {
        "id": "4LoeCrYFw_cO"
      },
      "source": [
        "#### Data Plotting"
      ]
    },
    {
      "cell_type": "markdown",
      "metadata": {
        "id": "twDKr1BPw_cO"
      },
      "source": [
        "Python's `Matplotlib` library (https://matplotlib.org) is a very flexible library and has a lot of handy, built-in defaults that will help you out tremendously.\n",
        "\n",
        "As such, you don’t need much to get started: you need to make the necessary imports, prepare some data, and you can start plotting with the help of the `plot()` function. Let's have a look."
      ]
    },
    {
      "cell_type": "markdown",
      "metadata": {
        "id": "m0pjmOcfw_cO"
      },
      "source": [
        "Let's import Matplotlib by running the following statements:"
      ]
    },
    {
      "cell_type": "code",
      "execution_count": null,
      "metadata": {
        "id": "Qi3QY_rew_cO"
      },
      "outputs": [],
      "source": [
        "# importing the matplotlib plotting library\n",
        "import matplotlib.pyplot as plt"
      ]
    },
    {
      "cell_type": "markdown",
      "metadata": {
        "id": "for_tcOyw_cO"
      },
      "source": [
        "Note that we imported the `pyplot` module of the `Matplotlib` library under the alias `plt`."
      ]
    },
    {
      "cell_type": "code",
      "execution_count": null,
      "metadata": {
        "id": "K63Kzjdqw_cO"
      },
      "outputs": [],
      "source": [
        "%matplotlib inline"
      ]
    },
    {
      "cell_type": "markdown",
      "metadata": {
        "id": "bMkrDN-Fw_cP"
      },
      "source": [
        "We can now use the plotting functionality provided by Matplotlib as follows:"
      ]
    },
    {
      "cell_type": "code",
      "execution_count": null,
      "metadata": {
        "id": "QRetXT7pw_cP"
      },
      "outputs": [],
      "source": [
        "plt.plot(x)"
      ]
    },
    {
      "cell_type": "markdown",
      "metadata": {
        "id": "zrgWb2-Aw_cP"
      },
      "source": [
        "Let's apply some variations as well as the axis legends to our plot:"
      ]
    },
    {
      "cell_type": "code",
      "execution_count": null,
      "metadata": {
        "scrolled": true,
        "id": "Betc8aVPw_cP"
      },
      "outputs": [],
      "source": [
        "plt.plot(x, linewidth=3, linestyle=\"--\")\n",
        "\n",
        "# set label and title details\n",
        "plt.xlabel('sample', weight='normal', fontsize=8)\n",
        "plt.ylabel('value', weight='normal', fontsize=8)"
      ]
    },
    {
      "cell_type": "markdown",
      "metadata": {
        "id": "mDZHteUew_cP"
      },
      "source": [
        "#### Remove Line Output"
      ]
    },
    {
      "cell_type": "markdown",
      "metadata": {
        "id": "bvUg8Jn5w_cP"
      },
      "source": [
        "You might have noticed a similar annoying line of the form: `[<matplotlib.lines.Line2D at 0x10a4cce90>]` before the created plot. If you wish to get rid of this output, end the plot statement using a semicolon `;`:"
      ]
    },
    {
      "cell_type": "code",
      "execution_count": null,
      "metadata": {
        "id": "OwZkA7C6w_cQ"
      },
      "outputs": [],
      "source": [
        "plt.plot(x);"
      ]
    },
    {
      "cell_type": "markdown",
      "metadata": {
        "id": "pXsoLFJ-w_cQ"
      },
      "source": [
        "#### Adding Axis Labels"
      ]
    },
    {
      "cell_type": "markdown",
      "metadata": {
        "id": "CCOqlAScw_cQ"
      },
      "source": [
        "No self-respecting quantitative analyst leaves a graph without labeled axes. Here are some commands to help with that."
      ]
    },
    {
      "cell_type": "code",
      "execution_count": null,
      "metadata": {
        "id": "BDGhRdIJw_cQ"
      },
      "outputs": [],
      "source": [
        "# sample 100 points twice with a mean of 0 and an std of 1 from a standard normal distribution.\n",
        "x1 = np.random.normal(0, 1, 100)\n",
        "x2 = np.random.normal(0, 1, 100)"
      ]
    },
    {
      "cell_type": "code",
      "execution_count": null,
      "metadata": {
        "id": "iBkCFfsaw_cQ"
      },
      "outputs": [],
      "source": [
        "# plot both sample results\n",
        "plt.plot(x1);\n",
        "plt.plot(x2);\n",
        "\n",
        "# add x-axis and y-axis label\n",
        "plt.xlabel('Time')\n",
        "plt.ylabel('Returns')\n",
        "\n",
        "# add plot legend\n",
        "plt.legend(['X1', 'X2'])\n",
        "\n",
        "# add plot title\n",
        "plt.title('Sample Returns X1 and X2');"
      ]
    },
    {
      "cell_type": "markdown",
      "metadata": {
        "id": "FwVmenjHw_cR"
      },
      "source": [
        "### 5. Generating Statistics"
      ]
    },
    {
      "cell_type": "markdown",
      "metadata": {
        "id": "lg10NlQiw_cR"
      },
      "source": [
        "Let's use `NumPy` to take some simple statistics like the mean of the generated samples:"
      ]
    },
    {
      "cell_type": "code",
      "execution_count": null,
      "metadata": {
        "id": "K7lh5XXAw_cR"
      },
      "outputs": [],
      "source": [
        "np.mean(x1)"
      ]
    },
    {
      "cell_type": "markdown",
      "metadata": {
        "id": "h2xZv0EFw_cR"
      },
      "source": [
        "As well as the corresponding standard deviation of the generated samples:"
      ]
    },
    {
      "cell_type": "code",
      "execution_count": null,
      "metadata": {
        "id": "URvbcYgHw_cR"
      },
      "outputs": [],
      "source": [
        "np.std(x1)"
      ]
    },
    {
      "cell_type": "markdown",
      "metadata": {
        "id": "PMEHtxuOw_cS"
      },
      "source": [
        "### 6. Collect and Plot Real Pricing Data"
      ]
    },
    {
      "cell_type": "markdown",
      "metadata": {
        "id": "jiVL_0SHw_cS"
      },
      "source": [
        "One of the first steps to any data science project is usually to import your data. Randomly sampled data can be great for testing ideas, but let's now import some real financial market data.\n",
        "\n",
        "As part of the `Labs` section of the **Machine Learning** Git repository, you will find a \"Comma Separated Value (CSV)\" file named `sample_google_data_daily.csv`. The file contains the daily stock market data of the **Alphabet (Google) Inc.** stock within the time frame `31-12-2015` till `31-12-2017`. In a next step, we define a variable that stores the URL under which the file is located:"
      ]
    },
    {
      "cell_type": "code",
      "execution_count": null,
      "metadata": {
        "id": "1-LyFOLrw_cS"
      },
      "outputs": [],
      "source": [
        "file_url = 'https://raw.githubusercontent.com/HSG-AIML-Teaching/ML2025-Lab/main/lab_101/sample_google_data_daily.csv'"
      ]
    },
    {
      "cell_type": "markdown",
      "metadata": {
        "id": "PnrklzAhw_cS"
      },
      "source": [
        "Once we have specified the file URL we are able to import the file into Python using the `read_csv()` function of the `Pandas` library by running the following statement:"
      ]
    },
    {
      "cell_type": "code",
      "execution_count": null,
      "metadata": {
        "id": "ajw7HIhmw_cS"
      },
      "outputs": [],
      "source": [
        "alphabet_data = pd.read_csv(file_url, sep=';')"
      ]
    },
    {
      "cell_type": "markdown",
      "metadata": {
        "id": "1akMmHTnw_cS"
      },
      "source": [
        "The retrieved data is a so-called `Pandas` `DataFrame`. You can see the datetime index and the columns with different pricing data. Let's inspect the top 5 rows of the imported data using the `head()` function of the `Pandas` library:"
      ]
    },
    {
      "cell_type": "code",
      "execution_count": null,
      "metadata": {
        "id": "sYjwrFzRw_cT"
      },
      "outputs": [],
      "source": [
        "alphabet_data.head(5)"
      ]
    },
    {
      "cell_type": "markdown",
      "metadata": {
        "id": "aJi0B6h0w_cT"
      },
      "source": [
        "Looks good, right?"
      ]
    },
    {
      "cell_type": "markdown",
      "metadata": {
        "id": "geN4-8fmw_cT"
      },
      "source": [
        "It's great to import data that was already collected and stored accordingly. Unfortunately, in real data science projects, we are often challenged to retrieve the data from a variety of sources, e.g., the web. But where to get financial data of good quality? A great source for retrieving such data can be found in the `Pandas` `Datareader`package.\n",
        "\n",
        "Although the **Google Colab** environment comes with a lot of pre-installed libraries, sometimes a needed library might not be available. Therefore, you may want to install libraries directly within an individual notebook. Please note, libraries installed from the notebook apply only to the current server session. Library installations aren't persistend once the server is shut down."
      ]
    },
    {
      "cell_type": "markdown",
      "metadata": {
        "id": "0wGHhmwRw_cT"
      },
      "source": [
        "In general, libraries in Python can be installed using the shell **pip** command within code cells. Any command that works at the command-line can be used in Jupyter Notebbos by prefixing it with the `!` character. Let's give it a try and install the `pandas_datareader` python library."
      ]
    },
    {
      "cell_type": "code",
      "execution_count": null,
      "metadata": {
        "id": "itJdBMtOw_cT"
      },
      "outputs": [],
      "source": [
        "!pip3 install pandas_datareader --ignore-installed\n",
        "!pip3 install yfinance --ignore-installed"
      ]
    },
    {
      "cell_type": "markdown",
      "metadata": {
        "id": "xwWuC3HQw_cT"
      },
      "source": [
        "Let's import the `DataReader` as well as the `DateTime`library to retreive some financial data:"
      ]
    },
    {
      "cell_type": "code",
      "execution_count": null,
      "metadata": {
        "id": "TSTTUAsMw_cU"
      },
      "outputs": [],
      "source": [
        "import datetime as dt\n",
        "import pandas_datareader as dr\n",
        "import yfinance as yf\n",
        "\n",
        "yf.pdr_override()"
      ]
    },
    {
      "cell_type": "markdown",
      "metadata": {
        "id": "g78Gk03Gw_cU"
      },
      "source": [
        "Specify both the `start` and `end` date of the data download:"
      ]
    },
    {
      "cell_type": "code",
      "execution_count": null,
      "metadata": {
        "id": "DuwpoZGCw_cU"
      },
      "outputs": [],
      "source": [
        "start_date = dt.datetime(2021, 1, 1)\n",
        "end_date = dt.datetime(2021, 12, 31)"
      ]
    },
    {
      "cell_type": "markdown",
      "metadata": {
        "id": "yYHhjS8Hw_cU"
      },
      "source": [
        "Download the daily **Tesla Inc.** (ticker symbol: TSLA) stock data using the `DataReader` object of the `Pandas` data science library:"
      ]
    },
    {
      "cell_type": "code",
      "execution_count": null,
      "metadata": {
        "id": "pT9TG9XUw_cU"
      },
      "outputs": [],
      "source": [
        "# download tesla market data\n",
        "tesla_data = dr.data.get_data_yahoo('TSLA', start=start_date, end=end_date)"
      ]
    },
    {
      "cell_type": "markdown",
      "metadata": {
        "id": "aqf8aLpdw_cV"
      },
      "source": [
        "We again retrieved the data as a `Pandas` `dataframe` but this time using the `DataReader` object that comes with `Pandas`\n",
        ". Let's inspect the top 5 rows of the imported data using the `head()` function of the `Pandas` library:"
      ]
    },
    {
      "cell_type": "code",
      "execution_count": null,
      "metadata": {
        "id": "7O5ISizrw_cV"
      },
      "outputs": [],
      "source": [
        "tesla_data.head(20)"
      ]
    },
    {
      "cell_type": "markdown",
      "metadata": {
        "id": "nZKzk9bfw_cV"
      },
      "source": [
        "To obtain an initial understanding of the date retrieved, let us have a look at some basic data statistics:"
      ]
    },
    {
      "cell_type": "code",
      "execution_count": null,
      "metadata": {
        "id": "JpUfvg36w_cV"
      },
      "outputs": [],
      "source": [
        "tesla_data.describe()"
      ]
    },
    {
      "cell_type": "markdown",
      "metadata": {
        "id": "wn5dTYXqw_cV"
      },
      "source": [
        "Ok, at first glance, the data looks fine. Let's, therefore, save it to your local directory using the `to_excel()` function of the `Pandas` library:"
      ]
    },
    {
      "cell_type": "code",
      "execution_count": null,
      "metadata": {
        "id": "3YpoXKyQw_cV"
      },
      "outputs": [],
      "source": [
        "tesla_data.to_excel('sample_tesla_data_daily.xlsx', sheet_name='TSLA_data', encoding='utf-8')"
      ]
    },
    {
      "cell_type": "markdown",
      "metadata": {
        "id": "uHMryQuvw_cV"
      },
      "source": [
        "To get a specific column of a `Pandas` dataframe, we can column-slice it to get the daily adjusted closing price data like this:"
      ]
    },
    {
      "cell_type": "code",
      "execution_count": null,
      "metadata": {
        "id": "jMzLfGIow_cW"
      },
      "outputs": [],
      "source": [
        "tesla_closing = tesla_data['Adj Close']"
      ]
    },
    {
      "cell_type": "markdown",
      "metadata": {
        "id": "Hd1GHCK-w_cW"
      },
      "source": [
        "Let's inspect the **top 5** rows of the sliced data:"
      ]
    },
    {
      "cell_type": "code",
      "execution_count": null,
      "metadata": {
        "id": "DqrfkmD7w_cW"
      },
      "outputs": [],
      "source": [
        "tesla_closing.head(5)"
      ]
    },
    {
      "cell_type": "markdown",
      "metadata": {
        "id": "r4XZnv15w_cW"
      },
      "source": [
        "Ok great, we got two columns (1) the index 'Date' of the DataFrame as well as (2) the data column 'Adj. Close' price that we asked for."
      ]
    },
    {
      "cell_type": "markdown",
      "metadata": {
        "id": "7MEDOsWaw_cW"
      },
      "source": [
        "Let's now plot the date vs. the adjusted closing prices. But before doing so, we need to be able to disentangle the index from the data. This can be accomplished by the `.index` function that will return the index of a given DataFrame as well as the `.values` function that will return the actual data (excl. the index) of a given DataFrame. We will use both commands to specify the X and Y coordinates of the plot:"
      ]
    },
    {
      "cell_type": "code",
      "execution_count": null,
      "metadata": {
        "id": "NoIaeNxxw_cW"
      },
      "outputs": [],
      "source": [
        "# plot both sample results\n",
        "plt.plot(tesla_closing.index, tesla_closing.values)\n",
        "\n",
        "# tesla_closing.plot()\n",
        "\n",
        "# add x-axis and y-axis label\n",
        "plt.xlabel('Time')\n",
        "plt.ylabel('Closing Price')\n",
        "\n",
        "# add plot title\n",
        "plt.title('Tesla Inc. Daily Adjusted Closing Price');"
      ]
    },
    {
      "cell_type": "code",
      "execution_count": null,
      "metadata": {
        "id": "nZOg96GCw_cX"
      },
      "outputs": [],
      "source": [
        "np.mean(tesla_closing.values)"
      ]
    },
    {
      "cell_type": "code",
      "execution_count": null,
      "metadata": {
        "id": "EZ1PvpMcw_cX"
      },
      "outputs": [],
      "source": [
        "np.std(tesla_closing.values)"
      ]
    },
    {
      "cell_type": "markdown",
      "metadata": {
        "id": "Tzayj6Unw_cX"
      },
      "source": [
        "### 7. Obtaining Returns from Prices"
      ]
    },
    {
      "cell_type": "markdown",
      "metadata": {
        "id": "7ed5clmzw_cX"
      },
      "source": [
        "When analyzing stock market data, we are often also interested in the return $R_t$ of a financial instrument over a certain time frame:"
      ]
    },
    {
      "cell_type": "markdown",
      "metadata": {
        "id": "Hg2nHAknw_cX"
      },
      "source": [
        "$$R_t=\\frac{V_{f}-V_{i}}{V_{i}}$$"
      ]
    },
    {
      "cell_type": "markdown",
      "metadata": {
        "id": "Pd7h1pIxw_cY"
      },
      "source": [
        "where:\n",
        "\n",
        "- $V_{f}$ denotes the financial instruments final value, including dividends and interest\n",
        "- $V_{i}$ denotes the financial instruments initial value\n",
        "\n",
        "The `Pandas` data science library provides us with a variety of functions that come quite \"handy\" when analyzing such data. To determine the daily return $r_t$ we may, for example, utilize Pandas `pct_change` function:"
      ]
    },
    {
      "cell_type": "code",
      "execution_count": null,
      "metadata": {
        "id": "NSD494bBw_cY"
      },
      "outputs": [],
      "source": [
        "tesla_returns = tesla_closing.pct_change()"
      ]
    },
    {
      "cell_type": "markdown",
      "metadata": {
        "id": "ZOQtxtYDw_cY"
      },
      "source": [
        "Let's inspect the calculated returns:"
      ]
    },
    {
      "cell_type": "code",
      "execution_count": null,
      "metadata": {
        "id": "P0eTuXXsw_cY"
      },
      "outputs": [],
      "source": [
        "tesla_returns.head(5)"
      ]
    },
    {
      "cell_type": "markdown",
      "metadata": {
        "id": "e9U93FqMw_cY"
      },
      "source": [
        "Notice, how we drop the first element after doing this, as it will be `NaN`."
      ]
    },
    {
      "cell_type": "code",
      "execution_count": null,
      "metadata": {
        "id": "2Rgl_jLHw_cY"
      },
      "outputs": [],
      "source": [
        "tesla_returns = tesla_returns[1:]"
      ]
    },
    {
      "cell_type": "markdown",
      "metadata": {
        "id": "H9T9IVWvw_cZ"
      },
      "source": [
        "And inspect the returns data again:"
      ]
    },
    {
      "cell_type": "code",
      "execution_count": null,
      "metadata": {
        "id": "O0UwFb8Cw_cZ"
      },
      "outputs": [],
      "source": [
        "tesla_returns.head(5)"
      ]
    },
    {
      "cell_type": "markdown",
      "metadata": {
        "id": "maL0MZwow_cZ"
      },
      "source": [
        "Let's now plot the distribution of daily returns as a histogram:"
      ]
    },
    {
      "cell_type": "code",
      "execution_count": null,
      "metadata": {
        "id": "I5LSWCWCw_cZ"
      },
      "outputs": [],
      "source": [
        "# plot histogram of returns\n",
        "plt.hist(tesla_returns, bins=20)\n",
        "\n",
        "# add x-axis and y-axis label\n",
        "plt.xlabel('Return')\n",
        "plt.ylabel('Frequency')\n",
        "\n",
        "# add plot title\n",
        "plt.title('Tesla Inc. Adjusted Daily Returns');"
      ]
    },
    {
      "cell_type": "markdown",
      "metadata": {
        "id": "A4poonzUw_cZ"
      },
      "source": [
        "Let's again get statistics on the real daily return data:"
      ]
    },
    {
      "cell_type": "code",
      "execution_count": null,
      "metadata": {
        "id": "hAW6_VR9w_ca"
      },
      "outputs": [],
      "source": [
        "np.mean(tesla_returns)"
      ]
    },
    {
      "cell_type": "code",
      "execution_count": null,
      "metadata": {
        "id": "X_Ema84kw_ca"
      },
      "outputs": [],
      "source": [
        "np.std(tesla_returns)"
      ]
    },
    {
      "cell_type": "markdown",
      "metadata": {
        "id": "Y01WASmqw_ca"
      },
      "source": [
        "Let's generate data out of a normal distribution using the statistics we estimated from the daily returns of the Tesla stock. We'll see that we have good reason to suspect the Tesla returns may not be normally distributed, as the resulting normal distribution looks far different."
      ]
    },
    {
      "cell_type": "code",
      "execution_count": null,
      "metadata": {
        "id": "EDtlAF3mw_ca"
      },
      "outputs": [],
      "source": [
        "# plot histogram of randomly sampled returns\n",
        "plt.hist(np.random.normal(np.mean(tesla_returns), np.std(tesla_returns), 10000), bins=20)\n",
        "\n",
        "# add x-axis and y-axis label\n",
        "plt.xlabel('Return')\n",
        "plt.ylabel('Frequency')\n",
        "\n",
        "# add plot title\n",
        "plt.title('Tesla Inc. Adjusted Daily Returns (Normal)');"
      ]
    },
    {
      "cell_type": "markdown",
      "metadata": {
        "id": "HF-fyhjQw_ca"
      },
      "source": [
        "### 8. Generating a Moving Average"
      ]
    },
    {
      "cell_type": "markdown",
      "metadata": {
        "id": "QG6D4Qolw_ca"
      },
      "source": [
        "When analyzing stock market data, we are often also interested in calculating so-called \"rolling statistics\", e.g., a 90- or 200-day moving average. Again the `Pandas` library is offering some great functions that allow us to generate such rolling statistics. Here's an example. Notice how there's no moving average for the first 30 days, as we don't have 90 days before we can determine the first value:"
      ]
    },
    {
      "cell_type": "code",
      "execution_count": null,
      "metadata": {
        "id": "TxHXyDGvw_cb"
      },
      "outputs": [],
      "source": [
        "# determine the rolling average of the last 90 days\n",
        "tesla_moving_average = tesla_closing.rolling(window=90, center=False).mean()"
      ]
    },
    {
      "cell_type": "markdown",
      "metadata": {
        "id": "YrzAoQxZw_cb"
      },
      "source": [
        "Let's plot the obtained moving averages."
      ]
    },
    {
      "cell_type": "code",
      "execution_count": null,
      "metadata": {
        "id": "ZF1twLoiw_cb"
      },
      "outputs": [],
      "source": [
        "# plot quarterly returns\n",
        "plt.plot(tesla_closing.index, tesla_closing.values)\n",
        "\n",
        "# plot moving averages quarterly returns\n",
        "plt.plot(tesla_moving_average.index, tesla_moving_average.values)\n",
        "\n",
        "# add x-axis and y-axis label\n",
        "plt.xlabel('Return')\n",
        "plt.ylabel('Price')\n",
        "\n",
        "# add plot legend\n",
        "plt.legend(['Return', '90-day MAVG']);\n",
        "\n",
        "# add plot title\n",
        "plt.title('Tesla Inc. Returns vs. Moving Average Returns');"
      ]
    },
    {
      "cell_type": "markdown",
      "metadata": {
        "id": "_2OMXJtWw_cb"
      },
      "source": [
        "### Lab Assignments:"
      ]
    },
    {
      "cell_type": "markdown",
      "metadata": {
        "id": "1bFt_oXsw_cb"
      },
      "source": [
        "You may want to try the following exercises after the lab:"
      ]
    },
    {
      "cell_type": "markdown",
      "metadata": {
        "id": "OocmfZKww_cb"
      },
      "source": [
        "**1. Download data using the `Pandas` `DataReader` API, `dr.data.get_data_yahoo('TSLA', ...)`.**\n",
        "\n",
        "> Research the `Pandas` `DataReader` API and download the daily closing prices (instead of the quarterly) of the three following stocks: Netflix, Facebook, and Microsoft. Download the daily stock closing prices starting from 2014-01-01 until today as a `Pandas` DataFrame."
      ]
    },
    {
      "cell_type": "code",
      "execution_count": null,
      "metadata": {
        "id": "d8qGmfAcw_cb"
      },
      "outputs": [],
      "source": [
        "# ***************************************************\n",
        "# INSERT YOUR CODE HERE\n",
        "# ***************************************************"
      ]
    },
    {
      "cell_type": "markdown",
      "metadata": {
        "id": "iXfm04sbw_cc"
      },
      "source": [
        "Throughout the course, we will visualize and analyze plenty of data. The following exercises should provide you a first intuition on how this can be achieved using Python's `Pandas` and `Matplotlib` library:\n",
        "\n",
        "**2. Visualise data using the `Matplotlib` library, `plt.plot(...)` and `plt.hist(...)`.**\n",
        "\n",
        "> Visualize the downloaded data by plotting the daily adjusted closing prices of the three stocks over time (1) into a single plot for each stock as well as (2) into a single plot containing the closing prices of all three stocks combined."
      ]
    },
    {
      "cell_type": "code",
      "execution_count": null,
      "metadata": {
        "id": "dZtMoe_5w_cc"
      },
      "outputs": [],
      "source": [
        "# ***************************************************\n",
        "# INSERT YOUR CODE HERE\n",
        "# ***************************************************"
      ]
    },
    {
      "cell_type": "markdown",
      "metadata": {
        "id": "sqaJXGOOw_cc"
      },
      "source": [
        "**3. Save data using the `Pandas` library.**\n",
        "\n",
        "> Research the `Panda's` data science library on how to save a `Pandas` `DataFrame` to a local directory. Save the raw daily closing prices and corresponding date of all three stocks in a comma-separated value (CSV) format to your local directory. Save the CSV file using the semicolon `';'` separator and encode it as `'utf-8'`."
      ]
    },
    {
      "cell_type": "code",
      "execution_count": null,
      "metadata": {
        "id": "zdun9-Pgw_cc"
      },
      "outputs": [],
      "source": [
        "# ***************************************************\n",
        "# INSERT YOUR CODE HERE\n",
        "# ***************************************************"
      ]
    },
    {
      "cell_type": "markdown",
      "metadata": {
        "id": "fC2IFYiKw_cc"
      },
      "source": [
        "**4. Analyze data using the `Pandas` library, `data.rolling(..., window=...)`.**\n",
        "\n",
        "> For each stock, calculate the rolling moving averages of the daily closing prices using a time window of 30 and 90 days. For each stock, plot the daily closing price as well as the 30 and 90 days moving average into a single plot."
      ]
    },
    {
      "cell_type": "code",
      "execution_count": null,
      "metadata": {
        "id": "a7sS8uWjw_cc"
      },
      "outputs": [],
      "source": [
        "# ***************************************************\n",
        "# INSERT YOUR CODE HERE\n",
        "# ***************************************************"
      ]
    },
    {
      "cell_type": "markdown",
      "metadata": {
        "id": "XLflV8Nbw_cc"
      },
      "source": [
        "### Lab Summary:"
      ]
    },
    {
      "cell_type": "markdown",
      "metadata": {
        "id": "HSuF4wdsw_cc"
      },
      "source": [
        "In this initial lab, a step by step introduction into some basic concepts of analyzing financial data using Jupyter notebooks are presented. The code and exercises presented in this lab may serve you as a starting point for more complex and tailored analytics."
      ]
    },
    {
      "cell_type": "markdown",
      "metadata": {
        "id": "LyI4s7Nbw_cc"
      },
      "source": [
        "You may want to execute the content of your lab outside of the Jupyter notebook environment, e.g., on a compute node or a server. The cell below converts the lab notebook into a standalone and executable python script."
      ]
    },
    {
      "cell_type": "code",
      "execution_count": null,
      "metadata": {
        "id": "1DcA3nymw_cd"
      },
      "outputs": [],
      "source": [
        "!jupyter nbconvert --to script lab_101_notebook.ipynb"
      ]
    }
  ],
  "metadata": {
    "kernelspec": {
      "display_name": "Python 3",
      "language": "python",
      "name": "python3"
    },
    "language_info": {
      "codemirror_mode": {
        "name": "ipython",
        "version": 3
      },
      "file_extension": ".py",
      "mimetype": "text/x-python",
      "name": "python",
      "nbconvert_exporter": "python",
      "pygments_lexer": "ipython3",
      "version": "3.8.5"
    },
    "toc": {
      "base_numbering": 1,
      "nav_menu": {},
      "number_sections": false,
      "sideBar": true,
      "skip_h1_title": false,
      "title_cell": "Table of Contents",
      "title_sidebar": "Contents",
      "toc_cell": false,
      "toc_position": {},
      "toc_section_display": true,
      "toc_window_display": false
    },
    "colab": {
      "provenance": [],
      "include_colab_link": true
    }
  },
  "nbformat": 4,
  "nbformat_minor": 0
}