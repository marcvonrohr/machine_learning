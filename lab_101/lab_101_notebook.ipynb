{
  "cells": [
    {
      "cell_type": "markdown",
      "metadata": {
        "id": "view-in-github",
        "colab_type": "text"
      },
      "source": [
        "<a href=\"https://colab.research.google.com/github/marcvonrohr/machine_learning/blob/main/lab_101/lab_101_notebook.ipynb\" target=\"_parent\"><img src=\"https://colab.research.google.com/assets/colab-badge.svg\" alt=\"Open In Colab\"/></a>"
      ]
    },
    {
      "cell_type": "markdown",
      "metadata": {
        "id": "URU-jQFhw_b5"
      },
      "source": [
        "<img align=\"center\" style=\"max-width: 900px; height: auto\" src=\"https://github.com/HSG-AIML-Teaching/ML2025-Lab/blob/main/lab_101/banner.png?raw=1\">"
      ]
    },
    {
      "cell_type": "markdown",
      "metadata": {
        "id": "-AacBK3Qw_b6"
      },
      "source": [
        "<img align=\"right\" style=\"max-width: 200px; height: auto\" src=\"https://github.com/HSG-AIML-Teaching/ML2025-Lab/blob/main/lab_101/hsg_logo.png?raw=1\">\n",
        "\n",
        "###  Lab 101 - Introduction to Python and Jupyter\n",
        "\n",
        "8,860,1.00 Machine Learning, Spring Term 2025, University of St.Gallen (HSG)"
      ]
    },
    {
      "cell_type": "markdown",
      "metadata": {
        "id": "7xlgBoRyw_b7"
      },
      "source": [
        "The lab environment of the **8,860,1.00 Machine Learning** course is powered by Jupyter Notebooks (https://jupyter.org), which allows one to perform a great deal of data analysis and statistical validation. In this first lab, we want to touch on the basic concepts and techniques of such notebooks. Furthermore, its capabilities will be demonstrated based on a few simple and introductory examples."
      ]
    },
    {
      "cell_type": "markdown",
      "metadata": {
        "id": "LMvtNbBWw_b7"
      },
      "source": [
        "### Lab Objectives:"
      ]
    },
    {
      "cell_type": "markdown",
      "metadata": {
        "id": "EeCFNNEww_b8"
      },
      "source": [
        "After today's lab, you should be able to:\n",
        "    \n",
        "> 1. Understand the general workflow, structure, and functionality of **Jupyter** notebooks.\n",
        "> 2. Import and apply python data science libraries such as `NumPy` and `Pandas`.\n",
        "> 3. Understand how the **Python** programming language can be utilized to manipulate and analyze financial data.\n",
        "> 4. Download arbitrary stock market and financial data using the `Pandas` `DataReader` API.\n",
        "> 5. Use the `Matplotlib` library to visualize data as well as analytical results."
      ]
    },
    {
      "cell_type": "markdown",
      "metadata": {
        "id": "rsqgZDQyw_b8"
      },
      "source": [
        "Note: The content of this first lab is inspired by the Quantopian lecture series ( https://www.quantopian.com ). If you are interested to learn more about financial data science and/or algorithmic trading their lectures are a great resource to get you started."
      ]
    },
    {
      "cell_type": "markdown",
      "metadata": {
        "id": "wouc_ilkw_b8"
      },
      "source": [
        "### 1. Jupyter Notebook Introduction"
      ]
    },
    {
      "cell_type": "markdown",
      "metadata": {
        "id": "M-NTstSIw_b9"
      },
      "source": [
        "#### Code Cells vs. Text Cells"
      ]
    },
    {
      "cell_type": "markdown",
      "metadata": {
        "id": "G3G3e7-Fw_b9"
      },
      "source": [
        "As you can see, each cell can be either code or text. To select between them, choose from the `Cell Type` dropdown menu on the top left."
      ]
    },
    {
      "cell_type": "markdown",
      "metadata": {
        "id": "OX6UYL-Ww_b9"
      },
      "source": [
        "Hello World!"
      ]
    },
    {
      "cell_type": "code",
      "execution_count": 7,
      "metadata": {
        "id": "Pn52_6Qgw_b-",
        "outputId": "f17441c6-a950-4961-be2b-4ea9b47febf7",
        "colab": {
          "base_uri": "https://localhost:8080/"
        }
      },
      "outputs": [
        {
          "output_type": "execute_result",
          "data": {
            "text/plain": [
              "6"
            ]
          },
          "metadata": {},
          "execution_count": 7
        }
      ],
      "source": [
        "1 + 5"
      ]
    },
    {
      "cell_type": "markdown",
      "metadata": {
        "id": "WKHUNlqUw_b_"
      },
      "source": [
        "#### Executing a Command"
      ]
    },
    {
      "cell_type": "markdown",
      "metadata": {
        "id": "ZP7T3ZNtw_b_"
      },
      "source": [
        "A code cell will be evaluated when you press **'Run'**, or when you press the shortcut, shift-enter. Evaluating a cell evaluates each line of code in sequence, and prints the results of the last line below the cell."
      ]
    },
    {
      "cell_type": "code",
      "execution_count": 8,
      "metadata": {
        "id": "-EfRynPow_b_",
        "outputId": "894bd494-83f3-451c-e799-3129dadcacbb",
        "colab": {
          "base_uri": "https://localhost:8080/"
        }
      },
      "outputs": [
        {
          "output_type": "execute_result",
          "data": {
            "text/plain": [
              "42"
            ]
          },
          "metadata": {},
          "execution_count": 8
        }
      ],
      "source": [
        "40 + 2"
      ]
    },
    {
      "cell_type": "markdown",
      "metadata": {
        "id": "no6IRcVcw_b_"
      },
      "source": [
        "Sometimes there is no result to be printed, as is the case with the following assignment:"
      ]
    },
    {
      "cell_type": "code",
      "execution_count": 9,
      "metadata": {
        "id": "k5ElDHirw_b_"
      },
      "outputs": [],
      "source": [
        "X = 2"
      ]
    },
    {
      "cell_type": "code",
      "execution_count": 10,
      "metadata": {
        "id": "UNwqdns2w_cA",
        "outputId": "8ccca57b-4c58-4625-92bb-f856fd3e7c5b",
        "colab": {
          "base_uri": "https://localhost:8080/"
        }
      },
      "outputs": [
        {
          "output_type": "execute_result",
          "data": {
            "text/plain": [
              "2"
            ]
          },
          "metadata": {},
          "execution_count": 10
        }
      ],
      "source": [
        "X"
      ]
    },
    {
      "cell_type": "markdown",
      "metadata": {
        "id": "05AsU-Hhw_cA"
      },
      "source": [
        "Remember that only the result from the last line is printed."
      ]
    },
    {
      "cell_type": "code",
      "execution_count": 11,
      "metadata": {
        "id": "o0KpJm1nw_cA",
        "outputId": "6ad22055-1775-4411-9ffd-d2ff75b6592a",
        "colab": {
          "base_uri": "https://localhost:8080/"
        }
      },
      "outputs": [
        {
          "output_type": "execute_result",
          "data": {
            "text/plain": [
              "6"
            ]
          },
          "metadata": {},
          "execution_count": 11
        }
      ],
      "source": [
        "2 + 2\n",
        "3 + 3"
      ]
    },
    {
      "cell_type": "markdown",
      "metadata": {
        "id": "B5j0dohWw_cA"
      },
      "source": [
        "However, you can print whichever lines you want using the print statement."
      ]
    },
    {
      "cell_type": "code",
      "execution_count": 12,
      "metadata": {
        "id": "-rJa-HWJw_cA",
        "outputId": "5b99634d-37d9-4cad-a33e-39665cfc4c77",
        "colab": {
          "base_uri": "https://localhost:8080/"
        }
      },
      "outputs": [
        {
          "output_type": "stream",
          "name": "stdout",
          "text": [
            "4\n"
          ]
        },
        {
          "output_type": "execute_result",
          "data": {
            "text/plain": [
              "6"
            ]
          },
          "metadata": {},
          "execution_count": 12
        }
      ],
      "source": [
        "print(2 + 2)\n",
        "3 + 3"
      ]
    },
    {
      "cell_type": "markdown",
      "metadata": {
        "id": "irQJmx86w_cA"
      },
      "source": [
        "#### Comments\n",
        "\n",
        "The `#` character has a special meaning in Python. Whenever it appears, all following characters on the same line are considered as comments and are ignored. You can use comments to explain what certain parts of your code do."
      ]
    },
    {
      "cell_type": "code",
      "execution_count": 13,
      "metadata": {
        "id": "yuwnVcRxw_cB"
      },
      "outputs": [],
      "source": [
        "# this is a comment"
      ]
    },
    {
      "cell_type": "code",
      "execution_count": 14,
      "metadata": {
        "id": "hzynv-2rw_cB",
        "outputId": "426d7440-a376-4db1-eb2d-a6f243254640",
        "colab": {
          "base_uri": "https://localhost:8080/"
        }
      },
      "outputs": [
        {
          "output_type": "stream",
          "name": "stdout",
          "text": [
            "1\n"
          ]
        }
      ],
      "source": [
        "print(1) # comments can be on the same line as code"
      ]
    },
    {
      "cell_type": "markdown",
      "metadata": {
        "id": "wqmuENYew_cB"
      },
      "source": [
        "#### Knowing When a Cell is Running"
      ]
    },
    {
      "cell_type": "markdown",
      "metadata": {
        "id": "8Lx69rTJw_cB"
      },
      "source": [
        "While a cell is running, a **[*]** will be displayed on the left of the respective cell. When a cell has yet to be executed, **[ ]** will be displayed. When it has been run, a number will display indicating the order in which it was run during the execution of the notebook **[5]**. Try on this cell and note what is happening:"
      ]
    },
    {
      "cell_type": "code",
      "execution_count": 15,
      "metadata": {
        "id": "Nm0y_2-gw_cB",
        "outputId": "836907f7-1b26-4a67-efb8-da7c14cdd292",
        "colab": {
          "base_uri": "https://localhost:8080/"
        }
      },
      "outputs": [
        {
          "output_type": "execute_result",
          "data": {
            "text/plain": [
              "49999995000000"
            ]
          },
          "metadata": {},
          "execution_count": 15
        }
      ],
      "source": [
        "# take some time to run something\n",
        "c = 0\n",
        "for i in range(10000000):\n",
        "    c = c + i\n",
        "c"
      ]
    },
    {
      "cell_type": "markdown",
      "metadata": {
        "id": "hqCdp6hVw_cC"
      },
      "source": [
        "### 2. Importing Python Libraries"
      ]
    },
    {
      "cell_type": "markdown",
      "metadata": {
        "id": "2spq_2ufw_cC"
      },
      "source": [
        "The vast majority of the time, we will use functions from pre-built libraries, such as:"
      ]
    },
    {
      "cell_type": "code",
      "execution_count": 16,
      "metadata": {
        "id": "_azaxS9Gw_cC"
      },
      "outputs": [],
      "source": [
        "# importing the python sys library\n",
        "import sys"
      ]
    },
    {
      "cell_type": "markdown",
      "metadata": {
        "id": "zeIsLz1Yw_cC"
      },
      "source": [
        "You can check your Python version at the command line by running:"
      ]
    },
    {
      "cell_type": "code",
      "execution_count": 17,
      "metadata": {
        "id": "BNHij02iw_cD",
        "outputId": "1555bb79-2c8a-40c2-ee43-039fa204d039",
        "colab": {
          "base_uri": "https://localhost:8080/",
          "height": 35
        }
      },
      "outputs": [
        {
          "output_type": "execute_result",
          "data": {
            "text/plain": [
              "'3.11.11 (main, Dec  4 2024, 08:55:07) [GCC 11.4.0]'"
            ],
            "application/vnd.google.colaboratory.intrinsic+json": {
              "type": "string"
            }
          },
          "metadata": {},
          "execution_count": 17
        }
      ],
      "source": [
        "# determine the python system version\n",
        "sys.version"
      ]
    },
    {
      "cell_type": "markdown",
      "metadata": {
        "id": "UlS4EyK0w_cD"
      },
      "source": [
        "You can't import every library into the lab environment due to security issues. However, you can import most of the common scientific ones. Here we import the libraries `NumPy` (https://www.numpy.org) and `Pandas` (https://pandas.pydata.org), two of the most common and useful libraries in data science. We recommend copying this import statement for every new notebook that you will create."
      ]
    },
    {
      "cell_type": "code",
      "execution_count": 18,
      "metadata": {
        "id": "FUJbSPzFw_cD"
      },
      "outputs": [],
      "source": [
        "# import the number and Pandas data science libraries\n",
        "import numpy\n",
        "import pandas"
      ]
    },
    {
      "cell_type": "markdown",
      "metadata": {
        "id": "yc7Vv7BNw_cD"
      },
      "source": [
        "Let's now use the `NumPy` library to calculate the mean of a list of numbers:"
      ]
    },
    {
      "cell_type": "code",
      "execution_count": 19,
      "metadata": {
        "id": "K7PYuIY3w_cD",
        "outputId": "3789765e-0a53-4e39-b931-d7c767a6a584",
        "colab": {
          "base_uri": "https://localhost:8080/"
        }
      },
      "outputs": [
        {
          "output_type": "execute_result",
          "data": {
            "text/plain": [
              "np.float64(2.5)"
            ]
          },
          "metadata": {},
          "execution_count": 19
        }
      ],
      "source": [
        "numpy.mean([1, 2, 3, 4])"
      ]
    },
    {
      "cell_type": "markdown",
      "metadata": {
        "id": "NPOdmviGw_cD"
      },
      "source": [
        "Notice that you can rename libraries to whatever you want after importing. The `as` statement allows this. Here we use `np` and `pd` as aliases for both the pre-built `NumPy` and `Pandas` libraries. This is very common aliasing and will be found in most code snippets around the web. The idea behind this is to allow you to type fewer characters when you are frequently accessing these libraries."
      ]
    },
    {
      "cell_type": "code",
      "execution_count": 20,
      "metadata": {
        "id": "GTjlZta8w_cD"
      },
      "outputs": [],
      "source": [
        "# importing the NumPy and Pandas data science libraries using aliases\n",
        "import numpy as np\n",
        "import pandas as pd"
      ]
    },
    {
      "cell_type": "markdown",
      "metadata": {
        "id": "U1h6xL3Nw_cE"
      },
      "source": [
        "Let's now use the `NumPy` library to calculate the mean of a list of numbers:"
      ]
    },
    {
      "cell_type": "code",
      "execution_count": 21,
      "metadata": {
        "id": "TSWkIUiSw_cM",
        "outputId": "601987be-a384-47bb-9bc3-dc320ef73189",
        "colab": {
          "base_uri": "https://localhost:8080/"
        }
      },
      "outputs": [
        {
          "output_type": "execute_result",
          "data": {
            "text/plain": [
              "np.float64(2.5)"
            ]
          },
          "metadata": {},
          "execution_count": 21
        }
      ],
      "source": [
        "np.mean([1, 2, 3, 4])"
      ]
    },
    {
      "cell_type": "markdown",
      "metadata": {
        "id": "Yl7t3envw_cM"
      },
      "source": [
        "### 3. Code Completion and Documentation"
      ]
    },
    {
      "cell_type": "markdown",
      "metadata": {
        "id": "b4lfjBH_w_cM"
      },
      "source": [
        "#### Autocomplete Code"
      ]
    },
    {
      "cell_type": "markdown",
      "metadata": {
        "id": "AmqwICpvw_cM"
      },
      "source": [
        "Pressing tab will give you a list of Jupyter's best guesses for what you might want to type next. This is incredibly valuable and will save you a lot of time. If there is only one possible option for what you could type next, Jupyter will fill that in for you. Try pressing tab very frequently; it will seldom fill in anything you don't want as if there is ambiguity a list will be shown. This is a great way to see what functions are available in a library.\n",
        "\n",
        "Try placing your cursor after the `.` and press the `tab` key on your keyboard (or `shift` + `tab` when it doesn't work)."
      ]
    },
    {
      "cell_type": "code",
      "execution_count": 22,
      "metadata": {
        "id": "X8kR-WVPw_cN",
        "outputId": "1daadfc2-faeb-4b78-c1ec-9afb7a62e407",
        "colab": {
          "base_uri": "https://localhost:8080/"
        }
      },
      "outputs": [
        {
          "output_type": "execute_result",
          "data": {
            "text/plain": [
              "<bound method RandomState.gamma of RandomState(MT19937) at 0x7E33B85AE740>"
            ]
          },
          "metadata": {},
          "execution_count": 22
        }
      ],
      "source": [
        "np.random.gamma"
      ]
    },
    {
      "cell_type": "markdown",
      "metadata": {
        "id": "enZZh1Odw_cN"
      },
      "source": [
        "#### Documentation Help"
      ]
    },
    {
      "cell_type": "markdown",
      "metadata": {
        "id": "0Bg27_Zrw_cN"
      },
      "source": [
        "Placing a question mark after a function and executing that line of code will give you the documentation Jupyter has for that function. It's often best to do this in a new cell, as you avoid re-executing other code and running into bugs."
      ]
    },
    {
      "cell_type": "code",
      "execution_count": 23,
      "metadata": {
        "id": "EO2Iltp4w_cN"
      },
      "outputs": [],
      "source": [
        "np.random.normal?"
      ]
    },
    {
      "cell_type": "markdown",
      "metadata": {
        "id": "DZH7US0Xw_cN"
      },
      "source": [
        "### 4. Plotting Data"
      ]
    },
    {
      "cell_type": "markdown",
      "metadata": {
        "id": "yihQS0Fkw_cN"
      },
      "source": [
        "#### Random Data Sampling"
      ]
    },
    {
      "cell_type": "markdown",
      "metadata": {
        "id": "Yr4rkBMuw_cN"
      },
      "source": [
        "Let's' sample some random data using a function from `NumPy`."
      ]
    },
    {
      "cell_type": "code",
      "execution_count": 24,
      "metadata": {
        "id": "x7617Hsmw_cN"
      },
      "outputs": [],
      "source": [
        "# sample 100 points with a mean of 0 and an std of 1. This is a standard normal distribution.\n",
        "x = np.random.normal(0, 1, 100)"
      ]
    },
    {
      "cell_type": "code",
      "execution_count": 25,
      "metadata": {
        "id": "6PH33GWEw_cO",
        "outputId": "7f074d55-a27d-47dc-de59-040d7182c2a0",
        "colab": {
          "base_uri": "https://localhost:8080/"
        }
      },
      "outputs": [
        {
          "output_type": "execute_result",
          "data": {
            "text/plain": [
              "array([-0.44751479,  1.02999386,  0.07922041,  1.10547283, -1.13616795,\n",
              "       -0.05309745,  0.63896941, -0.94172631,  1.26156818,  0.74682536,\n",
              "        2.18245329, -0.73463091, -0.02852852, -0.31466422,  0.31580317,\n",
              "        0.82086632,  0.62374025, -0.65463269, -0.649112  ,  0.39496255,\n",
              "        0.24403509, -0.93411461, -0.56029922, -1.18575711,  0.43892927,\n",
              "        0.82335531,  0.55742313,  0.7943381 , -0.20724373, -0.69096172,\n",
              "        0.70871232,  0.38439023, -0.54278795, -0.01162492,  0.37968981,\n",
              "        1.07366727, -0.38953612, -1.219777  ,  0.31854523, -1.75945328,\n",
              "       -0.37195133, -0.91794367,  0.26493515, -0.36351526, -0.1490182 ,\n",
              "       -0.615123  , -0.81207248, -1.0634813 ,  0.13502002, -1.49414323,\n",
              "        0.05351214, -0.77330144,  1.93500554,  0.09499947, -0.17492923,\n",
              "       -0.56093913,  1.03938288,  0.08580683, -0.35200581, -0.16277327,\n",
              "        0.22431097, -0.87253841, -0.00463686,  1.5408792 ,  0.19025228,\n",
              "        0.47588395,  0.64992269,  1.89774662,  1.86105003, -0.71081239,\n",
              "       -0.49463528,  0.74354452, -0.82957014, -0.36678266,  1.12038985,\n",
              "        1.0674371 , -0.4511899 , -1.16566408, -0.50530469, -0.9834013 ,\n",
              "       -1.14685047, -0.18867086, -0.70615142, -0.71362844, -0.41551714,\n",
              "        0.22665717,  2.70080764, -0.21328517,  1.11490068, -0.08365812,\n",
              "       -0.13569794,  1.10888634, -1.57825643,  0.73257401, -1.60083653,\n",
              "       -0.97900221,  0.13546867,  0.59214882, -1.04681738, -0.80484346])"
            ]
          },
          "metadata": {},
          "execution_count": 25
        }
      ],
      "source": [
        "x"
      ]
    },
    {
      "cell_type": "markdown",
      "metadata": {
        "id": "4LoeCrYFw_cO"
      },
      "source": [
        "#### Data Plotting"
      ]
    },
    {
      "cell_type": "markdown",
      "metadata": {
        "id": "twDKr1BPw_cO"
      },
      "source": [
        "Python's `Matplotlib` library (https://matplotlib.org) is a very flexible library and has a lot of handy, built-in defaults that will help you out tremendously.\n",
        "\n",
        "As such, you don’t need much to get started: you need to make the necessary imports, prepare some data, and you can start plotting with the help of the `plot()` function. Let's have a look."
      ]
    },
    {
      "cell_type": "markdown",
      "metadata": {
        "id": "m0pjmOcfw_cO"
      },
      "source": [
        "Let's import Matplotlib by running the following statements:"
      ]
    },
    {
      "cell_type": "code",
      "execution_count": 26,
      "metadata": {
        "id": "Qi3QY_rew_cO"
      },
      "outputs": [],
      "source": [
        "# importing the matplotlib plotting library\n",
        "import matplotlib.pyplot as plt"
      ]
    },
    {
      "cell_type": "markdown",
      "metadata": {
        "id": "for_tcOyw_cO"
      },
      "source": [
        "Note that we imported the `pyplot` module of the `Matplotlib` library under the alias `plt`."
      ]
    },
    {
      "cell_type": "code",
      "execution_count": 27,
      "metadata": {
        "id": "K63Kzjdqw_cO"
      },
      "outputs": [],
      "source": [
        "%matplotlib inline"
      ]
    },
    {
      "cell_type": "markdown",
      "metadata": {
        "id": "bMkrDN-Fw_cP"
      },
      "source": [
        "We can now use the plotting functionality provided by Matplotlib as follows:"
      ]
    },
    {
      "cell_type": "code",
      "execution_count": 28,
      "metadata": {
        "id": "QRetXT7pw_cP",
        "outputId": "5d6c3ba5-500c-4005-ce59-cc87ae5fabff",
        "colab": {
          "base_uri": "https://localhost:8080/",
          "height": 447
        }
      },
      "outputs": [
        {
          "output_type": "execute_result",
          "data": {
            "text/plain": [
              "[<matplotlib.lines.Line2D at 0x7e337fcb0810>]"
            ]
          },
          "metadata": {},
          "execution_count": 28
        },
        {
          "output_type": "display_data",
          "data": {
            "text/plain": [
              "<Figure size 640x480 with 1 Axes>"
            ],
            "image/png": "[encoded data removed]"
          },
          "metadata": {}
        }
      ],
      "source": [
        "plt.plot(x)"
      ]
    },
    {
      "cell_type": "markdown",
      "metadata": {
        "id": "zrgWb2-Aw_cP"
      },
      "source": [
        "Let's apply some variations as well as the axis legends to our plot:"
      ]
    },
    {
      "cell_type": "code",
      "execution_count": 29,
      "metadata": {
        "scrolled": true,
        "id": "Betc8aVPw_cP",
        "outputId": "34819ab2-b340-4f0f-a273-769f88b0f8a5",
        "colab": {
          "base_uri": "https://localhost:8080/",
          "height": 462
        }
      },
      "outputs": [
        {
          "output_type": "execute_result",
          "data": {
            "text/plain": [
              "Text(0, 0.5, 'value')"
            ]
          },
          "metadata": {},
          "execution_count": 29
        },
        {
          "output_type": "display_data",
          "data": {
            "text/plain": [
              "<Figure size 640x480 with 1 Axes>"
            ],
            "image/png": "[encoded data removed]"
          },
          "metadata": {}
        }
      ],
      "source": [
        "plt.plot(x, linewidth=3, linestyle=\"--\")\n",
        "\n",
        "# set label and title details\n",
        "plt.xlabel('sample', weight='normal', fontsize=8)\n",
        "plt.ylabel('value', weight='normal', fontsize=8)"
      ]
    },
    {
      "cell_type": "markdown",
      "metadata": {
        "id": "mDZHteUew_cP"
      },
      "source": [
        "#### Remove Line Output"
      ]
    },
    {
      "cell_type": "markdown",
      "metadata": {
        "id": "bvUg8Jn5w_cP"
      },
      "source": [
        "You might have noticed a similar annoying line of the form: `[<matplotlib.lines.Line2D at 0x10a4cce90>]` before the created plot. If you wish to get rid of this output, end the plot statement using a semicolon `;`:"
      ]
    },
    {
      "cell_type": "code",
      "execution_count": 30,
      "metadata": {
        "id": "OwZkA7C6w_cQ",
        "outputId": "f7a6ac56-9b3f-476e-9bcc-2a5cbefd23b8",
        "colab": {
          "base_uri": "https://localhost:8080/",
          "height": 430
        }
      },
      "outputs": [
        {
          "output_type": "display_data",
          "data": {
            "text/plain": [
              "<Figure size 640x480 with 1 Axes>"
            ],
            "image/png": "[encoded data removed]"
          },
          "metadata": {}
        }
      ],
      "source": [
        "plt.plot(x);"
      ]
    },
    {
      "cell_type": "markdown",
      "metadata": {
        "id": "pXsoLFJ-w_cQ"
      },
      "source": [
        "#### Adding Axis Labels"
      ]
    },
    {
      "cell_type": "markdown",
      "metadata": {
        "id": "CCOqlAScw_cQ"
      },
      "source": [
        "No self-respecting quantitative analyst leaves a graph without labeled axes. Here are some commands to help with that."
      ]
    },
    {
      "cell_type": "code",
      "execution_count": 31,
      "metadata": {
        "id": "BDGhRdIJw_cQ"
      },
      "outputs": [],
      "source": [
        "# sample 100 points twice with a mean of 0 and an std of 1 from a standard normal distribution.\n",
        "x1 = np.random.normal(0, 1, 100)\n",
        "x2 = np.random.normal(0, 1, 100)"
      ]
    },
    {
      "cell_type": "code",
      "execution_count": 32,
      "metadata": {
        "id": "iBkCFfsaw_cQ",
        "outputId": "4fa1cedc-bc89-48fb-9694-21300f1b8b02",
        "colab": {
          "base_uri": "https://localhost:8080/",
          "height": 472
        }
      },
      "outputs": [
        {
          "output_type": "display_data",
          "data": {
            "text/plain": [
              "<Figure size 640x480 with 1 Axes>"
            ],
            "image/png": "[encoded data removed]"
          },
          "metadata": {}
        }
      ],
      "source": [
        "# plot both sample results\n",
        "plt.plot(x1);\n",
        "plt.plot(x2);\n",
        "\n",
        "# add x-axis and y-axis label\n",
        "plt.xlabel('Time')\n",
        "plt.ylabel('Returns')\n",
        "\n",
        "# add plot legend\n",
        "plt.legend(['X1', 'X2'])\n",
        "\n",
        "# add plot title\n",
        "plt.title('Sample Returns X1 and X2');"
      ]
    },
    {
      "cell_type": "markdown",
      "metadata": {
        "id": "FwVmenjHw_cR"
      },
      "source": [
        "### 5. Generating Statistics"
      ]
    },
    {
      "cell_type": "markdown",
      "metadata": {
        "id": "lg10NlQiw_cR"
      },
      "source": [
        "Let's use `NumPy` to take some simple statistics like the mean of the generated samples:"
      ]
    },
    {
      "cell_type": "code",
      "execution_count": 33,
      "metadata": {
        "id": "K7lh5XXAw_cR",
        "outputId": "6a4072df-7341-455b-c6fb-c25c5bee3070",
        "colab": {
          "base_uri": "https://localhost:8080/"
        }
      },
      "outputs": [
        {
          "output_type": "execute_result",
          "data": {
            "text/plain": [
              "np.float64(0.012608419204768864)"
            ]
          },
          "metadata": {},
          "execution_count": 33
        }
      ],
      "source": [
        "np.mean(x1)"
      ]
    },
    {
      "cell_type": "markdown",
      "metadata": {
        "id": "h2xZv0EFw_cR"
      },
      "source": [
        "As well as the corresponding standard deviation of the generated samples:"
      ]
    },
    {
      "cell_type": "code",
      "execution_count": 34,
      "metadata": {
        "id": "URvbcYgHw_cR",
        "outputId": "221cbe93-5f2c-4ad2-866a-ca28acb723e7",
        "colab": {
          "base_uri": "https://localhost:8080/"
        }
      },
      "outputs": [
        {
          "output_type": "execute_result",
          "data": {
            "text/plain": [
              "np.float64(0.9642640563276719)"
            ]
          },
          "metadata": {},
          "execution_count": 34
        }
      ],
      "source": [
        "np.std(x1)"
      ]
    },
    {
      "cell_type": "markdown",
      "metadata": {
        "id": "PMEHtxuOw_cS"
      },
      "source": [
        "### 6. Collect and Plot Real Pricing Data"
      ]
    },
    {
      "cell_type": "markdown",
      "metadata": {
        "id": "jiVL_0SHw_cS"
      },
      "source": [
        "One of the first steps to any data science project is usually to import your data. Randomly sampled data can be great for testing ideas, but let's now import some real financial market data.\n",
        "\n",
        "As part of the `Labs` section of the **Machine Learning** Git repository, you will find a \"Comma Separated Value (CSV)\" file named `sample_google_data_daily.csv`. The file contains the daily stock market data of the **Alphabet (Google) Inc.** stock within the time frame `31-12-2015` till `31-12-2017`. In a next step, we define a variable that stores the URL under which the file is located:"
      ]
    },
    {
      "cell_type": "code",
      "execution_count": 35,
      "metadata": {
        "id": "1-LyFOLrw_cS"
      },
      "outputs": [],
      "source": [
        "file_url = 'https://raw.githubusercontent.com/HSG-AIML-Teaching/ML2025-Lab/main/lab_101/sample_google_data_daily.csv'"
      ]
    },
    {
      "cell_type": "markdown",
      "metadata": {
        "id": "PnrklzAhw_cS"
      },
      "source": [
        "Once we have specified the file URL we are able to import the file into Python using the `read_csv()` function of the `Pandas` library by running the following statement:"
      ]
    },
    {
      "cell_type": "code",
      "execution_count": 36,
      "metadata": {
        "id": "ajw7HIhmw_cS"
      },
      "outputs": [],
      "source": [
        "alphabet_data = pd.read_csv(file_url, sep=';')"
      ]
    },
    {
      "cell_type": "markdown",
      "metadata": {
        "id": "1akMmHTnw_cS"
      },
      "source": [
        "The retrieved data is a so-called `Pandas` `DataFrame`. You can see the datetime index and the columns with different pricing data. Let's inspect the top 5 rows of the imported data using the `head()` function of the `Pandas` library:"
      ]
    },
    {
      "cell_type": "code",
      "execution_count": 37,
      "metadata": {
        "id": "sYjwrFzRw_cT",
        "outputId": "bbf4e4ec-3826-4c73-d3bb-077ffb7d1203",
        "colab": {
          "base_uri": "https://localhost:8080/",
          "height": 206
        }
      },
      "outputs": [
        {
          "output_type": "execute_result",
          "data": {
            "text/plain": [
              "         Date    Open    High     Low   Close     Volume  Ex-Dividend  \\\n",
              "0  2015-12-31  787.82  788.33  777.32  778.01  1637561.0          0.0   \n",
              "1  2016-01-04  762.20  762.20  747.54  759.44  3369068.0          0.0   \n",
              "2  2016-01-05  764.10  769.20  755.65  761.53  2260795.0          0.0   \n",
              "3  2016-01-06  750.37  765.73  748.00  759.33  2410301.0          0.0   \n",
              "4  2016-01-07  746.49  755.31  735.28  741.00  3156563.0          0.0   \n",
              "\n",
              "   Split Ratio  Adj. Open  Adj. High  Adj. Low  Adj. Close  Adj. Volume  \n",
              "0          1.0     787.82     788.33    777.32      778.01    1637561.0  \n",
              "1          1.0     762.20     762.20    747.54      759.44    3369068.0  \n",
              "2          1.0     764.10     769.20    755.65      761.53    2260795.0  \n",
              "3          1.0     750.37     765.73    748.00      759.33    2410301.0  \n",
              "4          1.0     746.49     755.31    735.28      741.00    3156563.0  "
            ],
            "text/html": [
              "\n",
              "  <div id=\"df-39ea3b49-0c85-4657-8a1c-5e7d4df59aaa\" class=\"colab-df-container\">\n",
              "    <div>\n",
              "<style scoped>\n",
              "    .dataframe tbody tr th:only-of-type {\n",
              "        vertical-align: middle;\n",
              "    }\n",
              "\n",
              "    .dataframe tbody tr th {\n",
              "        vertical-align: top;\n",
              "    }\n",
              "\n",
              "    .dataframe thead th {\n",
              "        text-align: right;\n",
              "    }\n",
              "</style>\n",
              "<table border=\"1\" class=\"dataframe\">\n",
              "  <thead>\n",
              "    <tr style=\"text-align: right;\">\n",
              "      <th></th>\n",
              "      <th>Date</th>\n",
              "      <th>Open</th>\n",
              "      <th>High</th>\n",
              "      <th>Low</th>\n",
              "      <th>Close</th>\n",
              "      <th>Volume</th>\n",
              "      <th>Ex-Dividend</th>\n",
              "      <th>Split Ratio</th>\n",
              "      <th>Adj. Open</th>\n",
              "      <th>Adj. High</th>\n",
              "      <th>Adj. Low</th>\n",
              "      <th>Adj. Close</th>\n",
              "      <th>Adj. Volume</th>\n",
              "    </tr>\n",
              "  </thead>\n",
              "  <tbody>\n",
              "    <tr>\n",
              "      <th>0</th>\n",
              "      <td>2015-12-31</td>\n",
              "      <td>787.82</td>\n",
              "      <td>788.33</td>\n",
              "      <td>777.32</td>\n",
              "      <td>778.01</td>\n",
              "      <td>1637561.0</td>\n",
              "      <td>0.0</td>\n",
              "      <td>1.0</td>\n",
              "      <td>787.82</td>\n",
              "      <td>788.33</td>\n",
              "      <td>777.32</td>\n",
              "      <td>778.01</td>\n",
              "      <td>1637561.0</td>\n",
              "    </tr>\n",
              "    <tr>\n",
              "      <th>1</th>\n",
              "      <td>2016-01-04</td>\n",
              "      <td>762.20</td>\n",
              "      <td>762.20</td>\n",
              "      <td>747.54</td>\n",
              "      <td>759.44</td>\n",
              "      <td>3369068.0</td>\n",
              "      <td>0.0</td>\n",
              "      <td>1.0</td>\n",
              "      <td>762.20</td>\n",
              "      <td>762.20</td>\n",
              "      <td>747.54</td>\n",
              "      <td>759.44</td>\n",
              "      <td>3369068.0</td>\n",
              "    </tr>\n",
              "    <tr>\n",
              "      <th>2</th>\n",
              "      <td>2016-01-05</td>\n",
              "      <td>764.10</td>\n",
              "      <td>769.20</td>\n",
              "      <td>755.65</td>\n",
              "      <td>761.53</td>\n",
              "      <td>2260795.0</td>\n",
              "      <td>0.0</td>\n",
              "      <td>1.0</td>\n",
              "      <td>764.10</td>\n",
              "      <td>769.20</td>\n",
              "      <td>755.65</td>\n",
              "      <td>761.53</td>\n",
              "      <td>2260795.0</td>\n",
              "    </tr>\n",
              "    <tr>\n",
              "      <th>3</th>\n",
              "      <td>2016-01-06</td>\n",
              "      <td>750.37</td>\n",
              "      <td>765.73</td>\n",
              "      <td>748.00</td>\n",
              "      <td>759.33</td>\n",
              "      <td>2410301.0</td>\n",
              "      <td>0.0</td>\n",
              "      <td>1.0</td>\n",
              "      <td>750.37</td>\n",
              "      <td>765.73</td>\n",
              "      <td>748.00</td>\n",
              "      <td>759.33</td>\n",
              "      <td>2410301.0</td>\n",
              "    </tr>\n",
              "    <tr>\n",
              "      <th>4</th>\n",
              "      <td>2016-01-07</td>\n",
              "      <td>746.49</td>\n",
              "      <td>755.31</td>\n",
              "      <td>735.28</td>\n",
              "      <td>741.00</td>\n",
              "      <td>3156563.0</td>\n",
              "      <td>0.0</td>\n",
              "      <td>1.0</td>\n",
              "      <td>746.49</td>\n",
              "      <td>755.31</td>\n",
              "      <td>735.28</td>\n",
              "      <td>741.00</td>\n",
              "      <td>3156563.0</td>\n",
              "    </tr>\n",
              "  </tbody>\n",
              "</table>\n",
              "</div>\n",
              "    <div class=\"colab-df-buttons\">\n",
              "\n",
              "  <div class=\"colab-df-container\">\n",
              "    <button class=\"colab-df-convert\" onclick=\"convertToInteractive('df-39ea3b49-0c85-4657-8a1c-5e7d4df59aaa')\"\n",
              "            title=\"Convert this dataframe to an interactive table.\"\n",
              "            style=\"display:none;\">\n",
              "\n",
              "  <svg xmlns=\"http://www.w3.org/2000/svg\" height=\"24px\" viewBox=\"0 -960 960 960\">\n",
              "    <path d=\"M120-120v-720h720v720H120Zm60-500h600v-160H180v160Zm220 220h160v-160H400v160Zm0 220h160v-160H400v160ZM180-400h160v-160H180v160Zm440 0h160v-160H620v160ZM180-180h160v-160H180v160Zm440 0h160v-160H620v160Z\"/>\n",
              "  </svg>\n",
              "    </button>\n",
              "\n",
              "  <style>\n",
              "    .colab-df-container {\n",
              "      display:flex;\n",
              "      gap: 12px;\n",
              "    }\n",
              "\n",
              "    .colab-df-convert {\n",
              "      background-color: #E8F0FE;\n",
              "      border: none;\n",
              "      border-radius: 50%;\n",
              "      cursor: pointer;\n",
              "      display: none;\n",
              "      fill: #1967D2;\n",
              "      height: 32px;\n",
              "      padding: 0 0 0 0;\n",
              "      width: 32px;\n",
              "    }\n",
              "\n",
              "    .colab-df-convert:hover {\n",
              "      background-color: #E2EBFA;\n",
              "      box-shadow: 0px 1px 2px rgba(60, 64, 67, 0.3), 0px 1px 3px 1px rgba(60, 64, 67, 0.15);\n",
              "      fill: #174EA6;\n",
              "    }\n",
              "\n",
              "    .colab-df-buttons div {\n",
              "      margin-bottom: 4px;\n",
              "    }\n",
              "\n",
              "    [theme=dark] .colab-df-convert {\n",
              "      background-color: #3B4455;\n",
              "      fill: #D2E3FC;\n",
              "    }\n",
              "\n",
              "    [theme=dark] .colab-df-convert:hover {\n",
              "      background-color: #434B5C;\n",
              "      box-shadow: 0px 1px 3px 1px rgba(0, 0, 0, 0.15);\n",
              "      filter: drop-shadow(0px 1px 2px rgba(0, 0, 0, 0.3));\n",
              "      fill: #FFFFFF;\n",
              "    }\n",
              "  </style>\n",
              "\n",
              "    <script>\n",
              "      const buttonEl =\n",
              "        document.querySelector('#df-39ea3b49-0c85-4657-8a1c-5e7d4df59aaa button.colab-df-convert');\n",
              "      buttonEl.style.display =\n",
              "        google.colab.kernel.accessAllowed ? 'block' : 'none';\n",
              "\n",
              "      async function convertToInteractive(key) {\n",
              "        const element = document.querySelector('#df-39ea3b49-0c85-4657-8a1c-5e7d4df59aaa');\n",
              "        const dataTable =\n",
              "          await google.colab.kernel.invokeFunction('convertToInteractive',\n",
              "                                                    [key], {});\n",
              "        if (!dataTable) return;\n",
              "\n",
              "        const docLinkHtml = 'Like what you see? Visit the ' +\n",
              "          '<a target=\"_blank\" href=https://colab.research.google.com/notebooks/data_table.ipynb>data table notebook</a>'\n",
              "          + ' to learn more about interactive tables.';\n",
              "        element.innerHTML = '';\n",
              "        dataTable['output_type'] = 'display_data';\n",
              "        await google.colab.output.renderOutput(dataTable, element);\n",
              "        const docLink = document.createElement('div');\n",
              "        docLink.innerHTML = docLinkHtml;\n",
              "        element.appendChild(docLink);\n",
              "      }\n",
              "    </script>\n",
              "  </div>\n",
              "\n",
              "\n",
              "<div id=\"df-092ace68-dfb1-4cf4-9d65-a94750d1e300\">\n",
              "  <button class=\"colab-df-quickchart\" onclick=\"quickchart('df-092ace68-dfb1-4cf4-9d65-a94750d1e300')\"\n",
              "            title=\"Suggest charts\"\n",
              "            style=\"display:none;\">\n",
              "\n",
              "<svg xmlns=\"http://www.w3.org/2000/svg\" height=\"24px\"viewBox=\"0 0 24 24\"\n",
              "     width=\"24px\">\n",
              "    <g>\n",
              "        <path d=\"M19 3H5c-1.1 0-2 .9-2 2v14c0 1.1.9 2 2 2h14c1.1 0 2-.9 2-2V5c0-1.1-.9-2-2-2zM9 17H7v-7h2v7zm4 0h-2V7h2v10zm4 0h-2v-4h2v4z\"/>\n",
              "    </g>\n",
              "</svg>\n",
              "  </button>\n",
              "\n",
              "<style>\n",
              "  .colab-df-quickchart {\n",
              "      --bg-color: #E8F0FE;\n",
              "      --fill-color: #1967D2;\n",
              "      --hover-bg-color: #E2EBFA;\n",
              "      --hover-fill-color: #174EA6;\n",
              "      --disabled-fill-color: #AAA;\n",
              "      --disabled-bg-color: #DDD;\n",
              "  }\n",
              "\n",
              "  [theme=dark] .colab-df-quickchart {\n",
              "      --bg-color: #3B4455;\n",
              "      --fill-color: #D2E3FC;\n",
              "      --hover-bg-color: #434B5C;\n",
              "      --hover-fill-color: #FFFFFF;\n",
              "      --disabled-bg-color: #3B4455;\n",
              "      --disabled-fill-color: #666;\n",
              "  }\n",
              "\n",
              "  .colab-df-quickchart {\n",
              "    background-color: var(--bg-color);\n",
              "    border: none;\n",
              "    border-radius: 50%;\n",
              "    cursor: pointer;\n",
              "    display: none;\n",
              "    fill: var(--fill-color);\n",
              "    height: 32px;\n",
              "    padding: 0;\n",
              "    width: 32px;\n",
              "  }\n",
              "\n",
              "  .colab-df-quickchart:hover {\n",
              "    background-color: var(--hover-bg-color);\n",
              "    box-shadow: 0 1px 2px rgba(60, 64, 67, 0.3), 0 1px 3px 1px rgba(60, 64, 67, 0.15);\n",
              "    fill: var(--button-hover-fill-color);\n",
              "  }\n",
              "\n",
              "  .colab-df-quickchart-complete:disabled,\n",
              "  .colab-df-quickchart-complete:disabled:hover {\n",
              "    background-color: var(--disabled-bg-color);\n",
              "    fill: var(--disabled-fill-color);\n",
              "    box-shadow: none;\n",
              "  }\n",
              "\n",
              "  .colab-df-spinner {\n",
              "    border: 2px solid var(--fill-color);\n",
              "    border-color: transparent;\n",
              "    border-bottom-color: var(--fill-color);\n",
              "    animation:\n",
              "      spin 1s steps(1) infinite;\n",
              "  }\n",
              "\n",
              "  @keyframes spin {\n",
              "    0% {\n",
              "      border-color: transparent;\n",
              "      border-bottom-color: var(--fill-color);\n",
              "      border-left-color: var(--fill-color);\n",
              "    }\n",
              "    20% {\n",
              "      border-color: transparent;\n",
              "      border-left-color: var(--fill-color);\n",
              "      border-top-color: var(--fill-color);\n",
              "    }\n",
              "    30% {\n",
              "      border-color: transparent;\n",
              "      border-left-color: var(--fill-color);\n",
              "      border-top-color: var(--fill-color);\n",
              "      border-right-color: var(--fill-color);\n",
              "    }\n",
              "    40% {\n",
              "      border-color: transparent;\n",
              "      border-right-color: var(--fill-color);\n",
              "      border-top-color: var(--fill-color);\n",
              "    }\n",
              "    60% {\n",
              "      border-color: transparent;\n",
              "      border-right-color: var(--fill-color);\n",
              "    }\n",
              "    80% {\n",
              "      border-color: transparent;\n",
              "      border-right-color: var(--fill-color);\n",
              "      border-bottom-color: var(--fill-color);\n",
              "    }\n",
              "    90% {\n",
              "      border-color: transparent;\n",
              "      border-bottom-color: var(--fill-color);\n",
              "    }\n",
              "  }\n",
              "</style>\n",
              "\n",
              "  <script>\n",
              "    async function quickchart(key) {\n",
              "      const quickchartButtonEl =\n",
              "        document.querySelector('#' + key + ' button');\n",
              "      quickchartButtonEl.disabled = true;  // To prevent multiple clicks.\n",
              "      quickchartButtonEl.classList.add('colab-df-spinner');\n",
              "      try {\n",
              "        const charts = await google.colab.kernel.invokeFunction(\n",
              "            'suggestCharts', [key], {});\n",
              "      } catch (error) {\n",
              "        console.error('Error during call to suggestCharts:', error);\n",
              "      }\n",
              "      quickchartButtonEl.classList.remove('colab-df-spinner');\n",
              "      quickchartButtonEl.classList.add('colab-df-quickchart-complete');\n",
              "    }\n",
              "    (() => {\n",
              "      let quickchartButtonEl =\n",
              "        document.querySelector('#df-092ace68-dfb1-4cf4-9d65-a94750d1e300 button');\n",
              "      quickchartButtonEl.style.display =\n",
              "        google.colab.kernel.accessAllowed ? 'block' : 'none';\n",
              "    })();\n",
              "  </script>\n",
              "</div>\n",
              "\n",
              "    </div>\n",
              "  </div>\n"
            ],
            "application/vnd.google.colaboratory.intrinsic+json": {
              "type": "dataframe",
              "variable_name": "alphabet_data",
              "summary": "{\n  \"name\": \"alphabet_data\",\n  \"rows\": 503,\n  \"fields\": [\n    {\n      \"column\": \"Date\",\n      \"properties\": {\n        \"dtype\": \"object\",\n        \"num_unique_values\": 503,\n        \"samples\": [\n          \"2017-01-25\",\n          \"2016-04-18\",\n          \"2017-02-24\"\n        ],\n        \"semantic_type\": \"\",\n        \"description\": \"\"\n      }\n    },\n    {\n      \"column\": \"Open\",\n      \"properties\": {\n        \"dtype\": \"number\",\n        \"std\": 105.91539742143597,\n        \"min\": 682.49,\n        \"max\": 1083.02,\n        \"num_unique_values\": 493,\n        \"samples\": [\n          1036.32,\n          780.19,\n          849.5\n        ],\n        \"semantic_type\": \"\",\n        \"description\": \"\"\n      }\n    },\n    {\n      \"column\": \"High\",\n      \"properties\": {\n        \"dtype\": \"number\",\n        \"std\": 106.1029431657724,\n        \"min\": 683.325,\n        \"max\": 1086.49,\n        \"num_unique_values\": 494,\n        \"samples\": [\n          1045.52,\n          788.55,\n          853.0\n        ],\n        \"semantic_type\": \"\",\n        \"description\": \"\"\n      }\n    },\n    {\n      \"column\": \"Low\",\n      \"properties\": {\n        \"dtype\": \"number\",\n        \"std\": 105.91713527742819,\n        \"min\": 672.66,\n        \"max\": 1072.27,\n        \"num_unique_values\": 498,\n        \"samples\": [\n          1053.6,\n          777.61,\n          753.36\n        ],\n        \"semantic_type\": \"\",\n        \"description\": \"\"\n      }\n    },\n    {\n      \"column\": \"Close\",\n      \"properties\": {\n        \"dtype\": \"number\",\n        \"std\": 106.1231663826514,\n        \"min\": 681.14,\n        \"max\": 1085.09,\n        \"num_unique_values\": 499,\n        \"samples\": [\n          1042.97,\n          787.68,\n          764.46\n        ],\n        \"semantic_type\": \"\",\n        \"description\": \"\"\n      }\n    },\n    {\n      \"column\": \"Volume\",\n      \"properties\": {\n        \"dtype\": \"number\",\n        \"std\": 901339.0877033646,\n        \"min\": 613549.0,\n        \"max\": 7039948.0,\n        \"num_unique_values\": 503,\n        \"samples\": [\n          1662148.0,\n          1677015.0,\n          1346189.0\n        ],\n        \"semantic_type\": \"\",\n        \"description\": \"\"\n      }\n    },\n    {\n      \"column\": \"Ex-Dividend\",\n      \"properties\": {\n        \"dtype\": \"number\",\n        \"std\": 0.0,\n        \"min\": 0.0,\n        \"max\": 0.0,\n        \"num_unique_values\": 1,\n        \"samples\": [\n          0.0\n        ],\n        \"semantic_type\": \"\",\n        \"description\": \"\"\n      }\n    },\n    {\n      \"column\": \"Split Ratio\",\n      \"properties\": {\n        \"dtype\": \"number\",\n        \"std\": 0.0,\n        \"min\": 1.0,\n        \"max\": 1.0,\n        \"num_unique_values\": 1,\n        \"samples\": [\n          1.0\n        ],\n        \"semantic_type\": \"\",\n        \"description\": \"\"\n      }\n    },\n    {\n      \"column\": \"Adj. Open\",\n      \"properties\": {\n        \"dtype\": \"number\",\n        \"std\": 105.91539742143597,\n        \"min\": 682.49,\n        \"max\": 1083.02,\n        \"num_unique_values\": 493,\n        \"samples\": [\n          1036.32\n        ],\n        \"semantic_type\": \"\",\n        \"description\": \"\"\n      }\n    },\n    {\n      \"column\": \"Adj. High\",\n      \"properties\": {\n        \"dtype\": \"number\",\n        \"std\": 106.1029431657724,\n        \"min\": 683.325,\n        \"max\": 1086.49,\n        \"num_unique_values\": 494,\n        \"samples\": [\n          1045.52\n        ],\n        \"semantic_type\": \"\",\n        \"description\": \"\"\n      }\n    },\n    {\n      \"column\": \"Adj. Low\",\n      \"properties\": {\n        \"dtype\": \"number\",\n        \"std\": 105.91713527742819,\n        \"min\": 672.66,\n        \"max\": 1072.27,\n        \"num_unique_values\": 498,\n        \"samples\": [\n          1053.6\n        ],\n        \"semantic_type\": \"\",\n        \"description\": \"\"\n      }\n    },\n    {\n      \"column\": \"Adj. Close\",\n      \"properties\": {\n        \"dtype\": \"number\",\n        \"std\": 106.1231663826514,\n        \"min\": 681.14,\n        \"max\": 1085.09,\n        \"num_unique_values\": 499,\n        \"samples\": [\n          1042.97\n        ],\n        \"semantic_type\": \"\",\n        \"description\": \"\"\n      }\n    },\n    {\n      \"column\": \"Adj. Volume\",\n      \"properties\": {\n        \"dtype\": \"number\",\n        \"std\": 901339.0877033646,\n        \"min\": 613549.0,\n        \"max\": 7039948.0,\n        \"num_unique_values\": 503,\n        \"samples\": [\n          1662148.0\n        ],\n        \"semantic_type\": \"\",\n        \"description\": \"\"\n      }\n    }\n  ]\n}"
            }
          },
          "metadata": {},
          "execution_count": 37
        }
      ],
      "source": [
        "alphabet_data.head(5)"
      ]
    },
    {
      "cell_type": "markdown",
      "metadata": {
        "id": "aJi0B6h0w_cT"
      },
      "source": [
        "Looks good, right?"
      ]
    },
    {
      "cell_type": "markdown",
      "metadata": {
        "id": "geN4-8fmw_cT"
      },
      "source": [
        "It's great to import data that was already collected and stored accordingly. Unfortunately, in real data science projects, we are often challenged to retrieve the data from a variety of sources, e.g., the web. But where to get financial data of good quality? A great source for retrieving such data can be found in the `Pandas` `Datareader`package.\n",
        "\n",
        "Although the **Google Colab** environment comes with a lot of pre-installed libraries, sometimes a needed library might not be available. Therefore, you may want to install libraries directly within an individual notebook. Please note, libraries installed from the notebook apply only to the current server session. Library installations aren't persistend once the server is shut down."
      ]
    },
    {
      "cell_type": "markdown",
      "metadata": {
        "id": "0wGHhmwRw_cT"
      },
      "source": [
        "In general, libraries in Python can be installed using the shell **pip** command within code cells. Any command that works at the command-line can be used in Jupyter Notebbos by prefixing it with the `!` character. Let's give it a try and install the `pandas_datareader` python library."
      ]
    },
    {
      "cell_type": "code",
      "execution_count": 2,
      "metadata": {
        "id": "itJdBMtOw_cT",
        "outputId": "0d54f748-09a8-4bc6-f15a-4c57f81645e6",
        "colab": {
          "base_uri": "https://localhost:8080/",
          "height": 1000
        }
      },
      "outputs": [
        {
          "output_type": "stream",
          "name": "stdout",
          "text": [
            "Collecting pandas_datareader\n",
            "  Using cached pandas_datareader-0.10.0-py3-none-any.whl.metadata (2.9 kB)\n",
            "Collecting lxml (from pandas_datareader)\n",
            "  Using cached lxml-5.3.1-cp311-cp311-manylinux_2_28_x86_64.whl.metadata (3.7 kB)\n",
            "Collecting pandas>=0.23 (from pandas_datareader)\n",
            "  Using cached pandas-2.2.3-cp311-cp311-manylinux_2_17_x86_64.manylinux2014_x86_64.whl.metadata (89 kB)\n",
            "Collecting requests>=2.19.0 (from pandas_datareader)\n",
            "  Using cached requests-2.32.3-py3-none-any.whl.metadata (4.6 kB)\n",
            "Collecting numpy>=1.23.2 (from pandas>=0.23->pandas_datareader)\n",
            "  Using cached numpy-2.2.3-cp311-cp311-manylinux_2_17_x86_64.manylinux2014_x86_64.whl.metadata (62 kB)\n",
            "Collecting python-dateutil>=2.8.2 (from pandas>=0.23->pandas_datareader)\n",
            "  Using cached python_dateutil-2.9.0.post0-py2.py3-none-any.whl.metadata (8.4 kB)\n",
            "Collecting pytz>=2020.1 (from pandas>=0.23->pandas_datareader)\n",
            "  Using cached pytz-2025.1-py2.py3-none-any.whl.metadata (22 kB)\n",
            "Collecting tzdata>=2022.7 (from pandas>=0.23->pandas_datareader)\n",
            "  Using cached tzdata-2025.1-py2.py3-none-any.whl.metadata (1.4 kB)\n",
            "Collecting charset-normalizer<4,>=2 (from requests>=2.19.0->pandas_datareader)\n",
            "  Using cached charset_normalizer-3.4.1-cp311-cp311-manylinux_2_17_x86_64.manylinux2014_x86_64.whl.metadata (35 kB)\n",
            "Collecting idna<4,>=2.5 (from requests>=2.19.0->pandas_datareader)\n",
            "  Using cached idna-3.10-py3-none-any.whl.metadata (10 kB)\n",
            "Collecting urllib3<3,>=1.21.1 (from requests>=2.19.0->pandas_datareader)\n",
            "  Using cached urllib3-2.3.0-py3-none-any.whl.metadata (6.5 kB)\n",
            "Collecting certifi>=2017.4.17 (from requests>=2.19.0->pandas_datareader)\n",
            "  Using cached certifi-2025.1.31-py3-none-any.whl.metadata (2.5 kB)\n",
            "Collecting six>=1.5 (from python-dateutil>=2.8.2->pandas>=0.23->pandas_datareader)\n",
            "  Using cached six-1.17.0-py2.py3-none-any.whl.metadata (1.7 kB)\n",
            "Using cached pandas_datareader-0.10.0-py3-none-any.whl (109 kB)\n",
            "Using cached pandas-2.2.3-cp311-cp311-manylinux_2_17_x86_64.manylinux2014_x86_64.whl (13.1 MB)\n",
            "Using cached requests-2.32.3-py3-none-any.whl (64 kB)\n",
            "Using cached lxml-5.3.1-cp311-cp311-manylinux_2_28_x86_64.whl (5.0 MB)\n",
            "Using cached certifi-2025.1.31-py3-none-any.whl (166 kB)\n",
            "Using cached charset_normalizer-3.4.1-cp311-cp311-manylinux_2_17_x86_64.manylinux2014_x86_64.whl (143 kB)\n",
            "Using cached idna-3.10-py3-none-any.whl (70 kB)\n",
            "Using cached numpy-2.2.3-cp311-cp311-manylinux_2_17_x86_64.manylinux2014_x86_64.whl (16.4 MB)\n",
            "Using cached python_dateutil-2.9.0.post0-py2.py3-none-any.whl (229 kB)\n",
            "Using cached pytz-2025.1-py2.py3-none-any.whl (507 kB)\n",
            "Using cached tzdata-2025.1-py2.py3-none-any.whl (346 kB)\n",
            "Using cached urllib3-2.3.0-py3-none-any.whl (128 kB)\n",
            "Using cached six-1.17.0-py2.py3-none-any.whl (11 kB)\n",
            "Installing collected packages: pytz, urllib3, tzdata, six, numpy, lxml, idna, charset-normalizer, certifi, requests, python-dateutil, pandas, pandas_datareader\n",
            "\u001b[31mERROR: pip's dependency resolver does not currently take into account all the packages that are installed. This behaviour is the source of the following dependency conflicts.\n",
            "google-colab 1.0.0 requires pandas==2.2.2, but you have pandas 2.2.3 which is incompatible.\n",
            "numba 0.61.0 requires numpy<2.2,>=1.24, but you have numpy 2.2.3 which is incompatible.\n",
            "gensim 4.3.3 requires numpy<2.0,>=1.18.5, but you have numpy 2.2.3 which is incompatible.\n",
            "tensorflow 2.18.0 requires numpy<2.1.0,>=1.26.0, but you have numpy 2.2.3 which is incompatible.\n",
            "thinc 8.2.5 requires numpy<2.0.0,>=1.19.0; python_version >= \"3.9\", but you have numpy 2.2.3 which is incompatible.\n",
            "langchain 0.3.18 requires numpy<2,>=1.26.4; python_version < \"3.12\", but you have numpy 2.2.3 which is incompatible.\n",
            "pytensor 2.27.1 requires numpy<2,>=1.17.0, but you have numpy 2.2.3 which is incompatible.\u001b[0m\u001b[31m\n",
            "\u001b[0mSuccessfully installed certifi-2025.1.31 charset-normalizer-3.4.1 idna-3.10 lxml-5.3.1 numpy-2.2.3 pandas-2.2.3 pandas_datareader-0.10.0 python-dateutil-2.9.0.post0 pytz-2025.1 requests-2.32.3 six-1.17.0 tzdata-2025.1 urllib3-2.3.0\n"
          ]
        },
        {
          "output_type": "display_data",
          "data": {
            "application/vnd.colab-display-data+json": {
              "pip_warning": {
                "packages": [
                  "certifi",
                  "charset_normalizer",
                  "dateutil",
                  "lxml",
                  "pandas_datareader",
                  "pytz",
                  "requests",
                  "six"
                ]
              },
              "id": "342e70614a9f45b3b520612495e8ccd3"
            }
          },
          "metadata": {}
        },
        {
          "output_type": "stream",
          "name": "stdout",
          "text": [
            "Collecting yfinance\n",
            "  Using cached yfinance-0.2.53-py2.py3-none-any.whl.metadata (5.8 kB)\n",
            "Collecting pandas>=1.3.0 (from yfinance)\n",
            "  Using cached pandas-2.2.3-cp311-cp311-manylinux_2_17_x86_64.manylinux2014_x86_64.whl.metadata (89 kB)\n",
            "Collecting numpy>=1.16.5 (from yfinance)\n",
            "  Using cached numpy-2.2.3-cp311-cp311-manylinux_2_17_x86_64.manylinux2014_x86_64.whl.metadata (62 kB)\n",
            "Collecting requests>=2.31 (from yfinance)\n",
            "  Using cached requests-2.32.3-py3-none-any.whl.metadata (4.6 kB)\n",
            "Collecting multitasking>=0.0.7 (from yfinance)\n",
            "  Using cached multitasking-0.0.11-py3-none-any.whl.metadata (5.5 kB)\n",
            "Collecting platformdirs>=2.0.0 (from yfinance)\n",
            "  Using cached platformdirs-4.3.6-py3-none-any.whl.metadata (11 kB)\n",
            "Collecting pytz>=2022.5 (from yfinance)\n",
            "  Using cached pytz-2025.1-py2.py3-none-any.whl.metadata (22 kB)\n",
            "Collecting frozendict>=2.3.4 (from yfinance)\n",
            "  Using cached frozendict-2.4.6-py311-none-any.whl.metadata (23 kB)\n",
            "Collecting peewee>=3.16.2 (from yfinance)\n",
            "  Using cached peewee-3.17.9-cp311-cp311-linux_x86_64.whl\n",
            "Collecting beautifulsoup4>=4.11.1 (from yfinance)\n",
            "  Using cached beautifulsoup4-4.13.3-py3-none-any.whl.metadata (3.8 kB)\n",
            "Collecting soupsieve>1.2 (from beautifulsoup4>=4.11.1->yfinance)\n",
            "  Using cached soupsieve-2.6-py3-none-any.whl.metadata (4.6 kB)\n",
            "Collecting typing-extensions>=4.0.0 (from beautifulsoup4>=4.11.1->yfinance)\n",
            "  Using cached typing_extensions-4.12.2-py3-none-any.whl.metadata (3.0 kB)\n",
            "Collecting python-dateutil>=2.8.2 (from pandas>=1.3.0->yfinance)\n",
            "  Using cached python_dateutil-2.9.0.post0-py2.py3-none-any.whl.metadata (8.4 kB)\n",
            "Collecting tzdata>=2022.7 (from pandas>=1.3.0->yfinance)\n",
            "  Using cached tzdata-2025.1-py2.py3-none-any.whl.metadata (1.4 kB)\n",
            "Collecting charset-normalizer<4,>=2 (from requests>=2.31->yfinance)\n",
            "  Using cached charset_normalizer-3.4.1-cp311-cp311-manylinux_2_17_x86_64.manylinux2014_x86_64.whl.metadata (35 kB)\n",
            "Collecting idna<4,>=2.5 (from requests>=2.31->yfinance)\n",
            "  Using cached idna-3.10-py3-none-any.whl.metadata (10 kB)\n",
            "Collecting urllib3<3,>=1.21.1 (from requests>=2.31->yfinance)\n",
            "  Using cached urllib3-2.3.0-py3-none-any.whl.metadata (6.5 kB)\n",
            "Collecting certifi>=2017.4.17 (from requests>=2.31->yfinance)\n",
            "  Using cached certifi-2025.1.31-py3-none-any.whl.metadata (2.5 kB)\n",
            "Collecting six>=1.5 (from python-dateutil>=2.8.2->pandas>=1.3.0->yfinance)\n",
            "  Using cached six-1.17.0-py2.py3-none-any.whl.metadata (1.7 kB)\n",
            "Using cached yfinance-0.2.53-py2.py3-none-any.whl (108 kB)\n",
            "Using cached beautifulsoup4-4.13.3-py3-none-any.whl (186 kB)\n",
            "Using cached frozendict-2.4.6-py311-none-any.whl (16 kB)\n",
            "Using cached multitasking-0.0.11-py3-none-any.whl (8.5 kB)\n",
            "Using cached numpy-2.2.3-cp311-cp311-manylinux_2_17_x86_64.manylinux2014_x86_64.whl (16.4 MB)\n",
            "Using cached pandas-2.2.3-cp311-cp311-manylinux_2_17_x86_64.manylinux2014_x86_64.whl (13.1 MB)\n",
            "Using cached platformdirs-4.3.6-py3-none-any.whl (18 kB)\n",
            "Using cached pytz-2025.1-py2.py3-none-any.whl (507 kB)\n",
            "Using cached requests-2.32.3-py3-none-any.whl (64 kB)\n",
            "Using cached certifi-2025.1.31-py3-none-any.whl (166 kB)\n",
            "Using cached charset_normalizer-3.4.1-cp311-cp311-manylinux_2_17_x86_64.manylinux2014_x86_64.whl (143 kB)\n",
            "Using cached idna-3.10-py3-none-any.whl (70 kB)\n",
            "Using cached python_dateutil-2.9.0.post0-py2.py3-none-any.whl (229 kB)\n",
            "Using cached soupsieve-2.6-py3-none-any.whl (36 kB)\n",
            "Using cached typing_extensions-4.12.2-py3-none-any.whl (37 kB)\n",
            "Using cached tzdata-2025.1-py2.py3-none-any.whl (346 kB)\n",
            "Using cached urllib3-2.3.0-py3-none-any.whl (128 kB)\n",
            "Using cached six-1.17.0-py2.py3-none-any.whl (11 kB)\n",
            "Installing collected packages: pytz, peewee, multitasking, urllib3, tzdata, typing-extensions, soupsieve, six, platformdirs, numpy, idna, frozendict, charset-normalizer, certifi, requests, python-dateutil, beautifulsoup4, pandas, yfinance\n",
            "\u001b[31mERROR: pip's dependency resolver does not currently take into account all the packages that are installed. This behaviour is the source of the following dependency conflicts.\n",
            "google-colab 1.0.0 requires pandas==2.2.2, but you have pandas 2.2.3 which is incompatible.\n",
            "numba 0.61.0 requires numpy<2.2,>=1.24, but you have numpy 2.2.3 which is incompatible.\n",
            "gensim 4.3.3 requires numpy<2.0,>=1.18.5, but you have numpy 2.2.3 which is incompatible.\n",
            "tensorflow 2.18.0 requires numpy<2.1.0,>=1.26.0, but you have numpy 2.2.3 which is incompatible.\n",
            "torch 2.5.1+cu124 requires nvidia-cublas-cu12==12.4.5.8; platform_system == \"Linux\" and platform_machine == \"x86_64\", but you have nvidia-cublas-cu12 12.5.3.2 which is incompatible.\n",
            "torch 2.5.1+cu124 requires nvidia-cuda-cupti-cu12==12.4.127; platform_system == \"Linux\" and platform_machine == \"x86_64\", but you have nvidia-cuda-cupti-cu12 12.5.82 which is incompatible.\n",
            "torch 2.5.1+cu124 requires nvidia-cuda-nvrtc-cu12==12.4.127; platform_system == \"Linux\" and platform_machine == \"x86_64\", but you have nvidia-cuda-nvrtc-cu12 12.5.82 which is incompatible.\n",
            "torch 2.5.1+cu124 requires nvidia-cuda-runtime-cu12==12.4.127; platform_system == \"Linux\" and platform_machine == \"x86_64\", but you have nvidia-cuda-runtime-cu12 12.5.82 which is incompatible.\n",
            "torch 2.5.1+cu124 requires nvidia-cudnn-cu12==9.1.0.70; platform_system == \"Linux\" and platform_machine == \"x86_64\", but you have nvidia-cudnn-cu12 9.3.0.75 which is incompatible.\n",
            "torch 2.5.1+cu124 requires nvidia-cufft-cu12==11.2.1.3; platform_system == \"Linux\" and platform_machine == \"x86_64\", but you have nvidia-cufft-cu12 11.2.3.61 which is incompatible.\n",
            "torch 2.5.1+cu124 requires nvidia-curand-cu12==10.3.5.147; platform_system == \"Linux\" and platform_machine == \"x86_64\", but you have nvidia-curand-cu12 10.3.6.82 which is incompatible.\n",
            "torch 2.5.1+cu124 requires nvidia-cusolver-cu12==11.6.1.9; platform_system == \"Linux\" and platform_machine == \"x86_64\", but you have nvidia-cusolver-cu12 11.6.3.83 which is incompatible.\n",
            "torch 2.5.1+cu124 requires nvidia-cusparse-cu12==12.3.1.170; platform_system == \"Linux\" and platform_machine == \"x86_64\", but you have nvidia-cusparse-cu12 12.5.1.3 which is incompatible.\n",
            "torch 2.5.1+cu124 requires nvidia-nvjitlink-cu12==12.4.127; platform_system == \"Linux\" and platform_machine == \"x86_64\", but you have nvidia-nvjitlink-cu12 12.5.82 which is incompatible.\n",
            "thinc 8.2.5 requires numpy<2.0.0,>=1.19.0; python_version >= \"3.9\", but you have numpy 2.2.3 which is incompatible.\n",
            "langchain 0.3.18 requires numpy<2,>=1.26.4; python_version < \"3.12\", but you have numpy 2.2.3 which is incompatible.\n",
            "pytensor 2.27.1 requires numpy<2,>=1.17.0, but you have numpy 2.2.3 which is incompatible.\u001b[0m\u001b[31m\n",
            "\u001b[0mSuccessfully installed beautifulsoup4-4.13.3 certifi-2025.1.31 charset-normalizer-3.4.1 frozendict-2.4.6 idna-3.10 multitasking-0.0.11 numpy-2.2.3 pandas-2.2.3 peewee-3.17.9 platformdirs-4.3.6 python-dateutil-2.9.0.post0 pytz-2025.1 requests-2.32.3 six-1.17.0 soupsieve-2.6 typing-extensions-4.12.2 tzdata-2025.1 urllib3-2.3.0 yfinance-0.2.53\n"
          ]
        },
        {
          "output_type": "display_data",
          "data": {
            "application/vnd.colab-display-data+json": {
              "pip_warning": {
                "packages": [
                  "certifi",
                  "charset_normalizer",
                  "dateutil",
                  "frozendict",
                  "multitasking",
                  "peewee",
                  "pytz",
                  "requests",
                  "six",
                  "yfinance"
                ]
              },
              "id": "8646d7aa87084ed9b801a602ef3ed30e"
            }
          },
          "metadata": {}
        }
      ],
      "source": [
        "!pip3 install pandas_datareader --ignore-installed\n",
        "!pip3 install yfinance --ignore-installed"
      ]
    },
    {
      "cell_type": "markdown",
      "metadata": {
        "id": "xwWuC3HQw_cT"
      },
      "source": [
        "Let's import the `DataReader` as well as the `DateTime`library to retreive some financial data:"
      ]
    },
    {
      "cell_type": "code",
      "execution_count": 38,
      "metadata": {
        "id": "TSTTUAsMw_cU",
        "outputId": "f7235a0b-f27d-4822-beff-ca3d3e1bc47b",
        "colab": {
          "base_uri": "https://localhost:8080/",
          "height": 176
        }
      },
      "outputs": [
        {
          "output_type": "error",
          "ename": "AttributeError",
          "evalue": "module 'yfinance' has no attribute 'pdr_override'",
          "traceback": [
            "\u001b[0;31m---------------------------------------------------------------------------\u001b[0m",
            "\u001b[0;31mAttributeError\u001b[0m                            Traceback (most recent call last)",
            "\u001b[0;32m<ipython-input-38-66595f1573c7>\u001b[0m in \u001b[0;36m<cell line: 0>\u001b[0;34m()\u001b[0m\n\u001b[1;32m      3\u001b[0m \u001b[0;32mimport\u001b[0m \u001b[0myfinance\u001b[0m \u001b[0;32mas\u001b[0m \u001b[0myf\u001b[0m\u001b[0;34m\u001b[0m\u001b[0;34m\u001b[0m\u001b[0m\n\u001b[1;32m      4\u001b[0m \u001b[0;34m\u001b[0m\u001b[0m\n\u001b[0;32m----> 5\u001b[0;31m \u001b[0myf\u001b[0m\u001b[0;34m.\u001b[0m\u001b[0mpdr_override\u001b[0m\u001b[0;34m(\u001b[0m\u001b[0;34m)\u001b[0m\u001b[0;34m\u001b[0m\u001b[0;34m\u001b[0m\u001b[0m\n\u001b[0m",
            "\u001b[0;31mAttributeError\u001b[0m: module 'yfinance' has no attribute 'pdr_override'"
          ]
        }
      ],
      "source": [
        "import datetime as dt\n",
        "import pandas_datareader as dr\n",
        "import yfinance as yf\n",
        "\n",
        "yf.pdr_override()"
      ]
    },
    {
      "cell_type": "markdown",
      "metadata": {
        "id": "g78Gk03Gw_cU"
      },
      "source": [
        "Specify both the `start` and `end` date of the data download:"
      ]
    },
    {
      "cell_type": "code",
      "execution_count": 39,
      "metadata": {
        "id": "DuwpoZGCw_cU"
      },
      "outputs": [],
      "source": [
        "start_date = dt.datetime(2021, 1, 1)\n",
        "end_date = dt.datetime(2021, 12, 31)"
      ]
    },
    {
      "cell_type": "markdown",
      "metadata": {
        "id": "yYHhjS8Hw_cU"
      },
      "source": [
        "Download the daily **Tesla Inc.** (ticker symbol: TSLA) stock data using the `DataReader` object of the `Pandas` data science library:"
      ]
    },
    {
      "cell_type": "code",
      "execution_count": 40,
      "metadata": {
        "id": "pT9TG9XUw_cU",
        "outputId": "c50c488f-c22d-40d1-e58a-e91676ea7613",
        "colab": {
          "base_uri": "https://localhost:8080/",
          "height": 304
        }
      },
      "outputs": [
        {
          "output_type": "error",
          "ename": "AttributeError",
          "evalue": "'NoneType' object has no attribute 'group'",
          "traceback": [
            "\u001b[0;31m---------------------------------------------------------------------------\u001b[0m",
            "\u001b[0;31mAttributeError\u001b[0m                            Traceback (most recent call last)",
            "\u001b[0;32m<ipython-input-40-b13cf73c14d9>\u001b[0m in \u001b[0;36m<cell line: 0>\u001b[0;34m()\u001b[0m\n\u001b[1;32m      1\u001b[0m \u001b[0;31m# download tesla market data\u001b[0m\u001b[0;34m\u001b[0m\u001b[0;34m\u001b[0m\u001b[0m\n\u001b[0;32m----> 2\u001b[0;31m \u001b[0mtesla_data\u001b[0m \u001b[0;34m=\u001b[0m \u001b[0mdr\u001b[0m\u001b[0;34m.\u001b[0m\u001b[0mdata\u001b[0m\u001b[0;34m.\u001b[0m\u001b[0mget_data_yahoo\u001b[0m\u001b[0;34m(\u001b[0m\u001b[0;34m'TSLA'\u001b[0m\u001b[0;34m,\u001b[0m \u001b[0mstart\u001b[0m\u001b[0;34m=\u001b[0m\u001b[0mstart_date\u001b[0m\u001b[0;34m,\u001b[0m \u001b[0mend\u001b[0m\u001b[0;34m=\u001b[0m\u001b[0mend_date\u001b[0m\u001b[0;34m)\u001b[0m\u001b[0;34m\u001b[0m\u001b[0;34m\u001b[0m\u001b[0m\n\u001b[0m",
            "\u001b[0;32m/usr/local/lib/python3.11/dist-packages/pandas_datareader/data.py\u001b[0m in \u001b[0;36mget_data_yahoo\u001b[0;34m(*args, **kwargs)\u001b[0m\n\u001b[1;32m     78\u001b[0m \u001b[0;34m\u001b[0m\u001b[0m\n\u001b[1;32m     79\u001b[0m \u001b[0;32mdef\u001b[0m \u001b[0mget_data_yahoo\u001b[0m\u001b[0;34m(\u001b[0m\u001b[0;34m*\u001b[0m\u001b[0margs\u001b[0m\u001b[0;34m,\u001b[0m \u001b[0;34m**\u001b[0m\u001b[0mkwargs\u001b[0m\u001b[0;34m)\u001b[0m\u001b[0;34m:\u001b[0m\u001b[0;34m\u001b[0m\u001b[0;34m\u001b[0m\u001b[0m\n\u001b[0;32m---> 80\u001b[0;31m     \u001b[0;32mreturn\u001b[0m \u001b[0mYahooDailyReader\u001b[0m\u001b[0;34m(\u001b[0m\u001b[0;34m*\u001b[0m\u001b[0margs\u001b[0m\u001b[0;34m,\u001b[0m \u001b[0;34m**\u001b[0m\u001b[0mkwargs\u001b[0m\u001b[0;34m)\u001b[0m\u001b[0;34m.\u001b[0m\u001b[0mread\u001b[0m\u001b[0;34m(\u001b[0m\u001b[0;34m)\u001b[0m\u001b[0;34m\u001b[0m\u001b[0;34m\u001b[0m\u001b[0m\n\u001b[0m\u001b[1;32m     81\u001b[0m \u001b[0;34m\u001b[0m\u001b[0m\n\u001b[1;32m     82\u001b[0m \u001b[0;34m\u001b[0m\u001b[0m\n",
            "\u001b[0;32m/usr/local/lib/python3.11/dist-packages/pandas_datareader/base.py\u001b[0m in \u001b[0;36mread\u001b[0;34m(self)\u001b[0m\n\u001b[1;32m    251\u001b[0m         \u001b[0;31m# If a single symbol, (e.g., 'GOOG')\u001b[0m\u001b[0;34m\u001b[0m\u001b[0;34m\u001b[0m\u001b[0m\n\u001b[1;32m    252\u001b[0m         \u001b[0;32mif\u001b[0m \u001b[0misinstance\u001b[0m\u001b[0;34m(\u001b[0m\u001b[0mself\u001b[0m\u001b[0;34m.\u001b[0m\u001b[0msymbols\u001b[0m\u001b[0;34m,\u001b[0m \u001b[0;34m(\u001b[0m\u001b[0mstring_types\u001b[0m\u001b[0;34m,\u001b[0m \u001b[0mint\u001b[0m\u001b[0;34m)\u001b[0m\u001b[0;34m)\u001b[0m\u001b[0;34m:\u001b[0m\u001b[0;34m\u001b[0m\u001b[0;34m\u001b[0m\u001b[0m\n\u001b[0;32m--> 253\u001b[0;31m             \u001b[0mdf\u001b[0m \u001b[0;34m=\u001b[0m \u001b[0mself\u001b[0m\u001b[0;34m.\u001b[0m\u001b[0m_read_one_data\u001b[0m\u001b[0;34m(\u001b[0m\u001b[0mself\u001b[0m\u001b[0;34m.\u001b[0m\u001b[0murl\u001b[0m\u001b[0;34m,\u001b[0m \u001b[0mparams\u001b[0m\u001b[0;34m=\u001b[0m\u001b[0mself\u001b[0m\u001b[0;34m.\u001b[0m\u001b[0m_get_params\u001b[0m\u001b[0;34m(\u001b[0m\u001b[0mself\u001b[0m\u001b[0;34m.\u001b[0m\u001b[0msymbols\u001b[0m\u001b[0;34m)\u001b[0m\u001b[0;34m)\u001b[0m\u001b[0;34m\u001b[0m\u001b[0;34m\u001b[0m\u001b[0m\n\u001b[0m\u001b[1;32m    254\u001b[0m         \u001b[0;31m# Or multiple symbols, (e.g., ['GOOG', 'AAPL', 'MSFT'])\u001b[0m\u001b[0;34m\u001b[0m\u001b[0;34m\u001b[0m\u001b[0m\n\u001b[1;32m    255\u001b[0m         \u001b[0;32melif\u001b[0m \u001b[0misinstance\u001b[0m\u001b[0;34m(\u001b[0m\u001b[0mself\u001b[0m\u001b[0;34m.\u001b[0m\u001b[0msymbols\u001b[0m\u001b[0;34m,\u001b[0m \u001b[0mDataFrame\u001b[0m\u001b[0;34m)\u001b[0m\u001b[0;34m:\u001b[0m\u001b[0;34m\u001b[0m\u001b[0;34m\u001b[0m\u001b[0m\n",
            "\u001b[0;32m/usr/local/lib/python3.11/dist-packages/pandas_datareader/yahoo/daily.py\u001b[0m in \u001b[0;36m_read_one_data\u001b[0;34m(self, url, params)\u001b[0m\n\u001b[1;32m    150\u001b[0m         \u001b[0mptrn\u001b[0m \u001b[0;34m=\u001b[0m \u001b[0;34mr\"root\\.App\\.main = (.*?);\\n}\\(this\\)\\);\"\u001b[0m\u001b[0;34m\u001b[0m\u001b[0;34m\u001b[0m\u001b[0m\n\u001b[1;32m    151\u001b[0m         \u001b[0;32mtry\u001b[0m\u001b[0;34m:\u001b[0m\u001b[0;34m\u001b[0m\u001b[0;34m\u001b[0m\u001b[0m\n\u001b[0;32m--> 152\u001b[0;31m             \u001b[0mj\u001b[0m \u001b[0;34m=\u001b[0m \u001b[0mjson\u001b[0m\u001b[0;34m.\u001b[0m\u001b[0mloads\u001b[0m\u001b[0;34m(\u001b[0m\u001b[0mre\u001b[0m\u001b[0;34m.\u001b[0m\u001b[0msearch\u001b[0m\u001b[0;34m(\u001b[0m\u001b[0mptrn\u001b[0m\u001b[0;34m,\u001b[0m \u001b[0mresp\u001b[0m\u001b[0;34m.\u001b[0m\u001b[0mtext\u001b[0m\u001b[0;34m,\u001b[0m \u001b[0mre\u001b[0m\u001b[0;34m.\u001b[0m\u001b[0mDOTALL\u001b[0m\u001b[0;34m)\u001b[0m\u001b[0;34m.\u001b[0m\u001b[0mgroup\u001b[0m\u001b[0;34m(\u001b[0m\u001b[0;36m1\u001b[0m\u001b[0;34m)\u001b[0m\u001b[0;34m)\u001b[0m\u001b[0;34m\u001b[0m\u001b[0;34m\u001b[0m\u001b[0m\n\u001b[0m\u001b[1;32m    153\u001b[0m             \u001b[0mdata\u001b[0m \u001b[0;34m=\u001b[0m \u001b[0mj\u001b[0m\u001b[0;34m[\u001b[0m\u001b[0;34m\"context\"\u001b[0m\u001b[0;34m]\u001b[0m\u001b[0;34m[\u001b[0m\u001b[0;34m\"dispatcher\"\u001b[0m\u001b[0;34m]\u001b[0m\u001b[0;34m[\u001b[0m\u001b[0;34m\"stores\"\u001b[0m\u001b[0;34m]\u001b[0m\u001b[0;34m[\u001b[0m\u001b[0;34m\"HistoricalPriceStore\"\u001b[0m\u001b[0;34m]\u001b[0m\u001b[0;34m\u001b[0m\u001b[0;34m\u001b[0m\u001b[0m\n\u001b[1;32m    154\u001b[0m         \u001b[0;32mexcept\u001b[0m \u001b[0mKeyError\u001b[0m\u001b[0;34m:\u001b[0m\u001b[0;34m\u001b[0m\u001b[0;34m\u001b[0m\u001b[0m\n",
            "\u001b[0;31mAttributeError\u001b[0m: 'NoneType' object has no attribute 'group'"
          ]
        }
      ],
      "source": [
        "# download tesla market data\n",
        "tesla_data = dr.data.get_data_yahoo('TSLA', start=start_date, end=end_date)"
      ]
    },
    {
      "cell_type": "markdown",
      "metadata": {
        "id": "aqf8aLpdw_cV"
      },
      "source": [
        "We again retrieved the data as a `Pandas` `dataframe` but this time using the `DataReader` object that comes with `Pandas`\n",
        ". Let's inspect the top 5 rows of the imported data using the `head()` function of the `Pandas` library:"
      ]
    },
    {
      "cell_type": "code",
      "execution_count": 41,
      "metadata": {
        "id": "7O5ISizrw_cV",
        "outputId": "4b67fcf8-dd91-42c3-c5a3-8bfe71c24021",
        "colab": {
          "base_uri": "https://localhost:8080/",
          "height": 141
        }
      },
      "outputs": [
        {
          "output_type": "error",
          "ename": "NameError",
          "evalue": "name 'tesla_data' is not defined",
          "traceback": [
            "\u001b[0;31m---------------------------------------------------------------------------\u001b[0m",
            "\u001b[0;31mNameError\u001b[0m                                 Traceback (most recent call last)",
            "\u001b[0;32m<ipython-input-41-4cc08522c29a>\u001b[0m in \u001b[0;36m<cell line: 0>\u001b[0;34m()\u001b[0m\n\u001b[0;32m----> 1\u001b[0;31m \u001b[0mtesla_data\u001b[0m\u001b[0;34m.\u001b[0m\u001b[0mhead\u001b[0m\u001b[0;34m(\u001b[0m\u001b[0;36m20\u001b[0m\u001b[0;34m)\u001b[0m\u001b[0;34m\u001b[0m\u001b[0;34m\u001b[0m\u001b[0m\n\u001b[0m",
            "\u001b[0;31mNameError\u001b[0m: name 'tesla_data' is not defined"
          ]
        }
      ],
      "source": [
        "tesla_data.head(20)"
      ]
    },
    {
      "cell_type": "markdown",
      "metadata": {
        "id": "nZKzk9bfw_cV"
      },
      "source": [
        "To obtain an initial understanding of the date retrieved, let us have a look at some basic data statistics:"
      ]
    },
    {
      "cell_type": "code",
      "execution_count": 42,
      "metadata": {
        "id": "JpUfvg36w_cV",
        "outputId": "978c1787-52e2-405e-8e41-64343343f851",
        "colab": {
          "base_uri": "https://localhost:8080/",
          "height": 141
        }
      },
      "outputs": [
        {
          "output_type": "error",
          "ename": "NameError",
          "evalue": "name 'tesla_data' is not defined",
          "traceback": [
            "\u001b[0;31m---------------------------------------------------------------------------\u001b[0m",
            "\u001b[0;31mNameError\u001b[0m                                 Traceback (most recent call last)",
            "\u001b[0;32m<ipython-input-42-f72acab8500f>\u001b[0m in \u001b[0;36m<cell line: 0>\u001b[0;34m()\u001b[0m\n\u001b[0;32m----> 1\u001b[0;31m \u001b[0mtesla_data\u001b[0m\u001b[0;34m.\u001b[0m\u001b[0mdescribe\u001b[0m\u001b[0;34m(\u001b[0m\u001b[0;34m)\u001b[0m\u001b[0;34m\u001b[0m\u001b[0;34m\u001b[0m\u001b[0m\n\u001b[0m",
            "\u001b[0;31mNameError\u001b[0m: name 'tesla_data' is not defined"
          ]
        }
      ],
      "source": [
        "tesla_data.describe()"
      ]
    },
    {
      "cell_type": "markdown",
      "metadata": {
        "id": "wn5dTYXqw_cV"
      },
      "source": [
        "Ok, at first glance, the data looks fine. Let's, therefore, save it to your local directory using the `to_excel()` function of the `Pandas` library:"
      ]
    },
    {
      "cell_type": "code",
      "execution_count": 43,
      "metadata": {
        "id": "3YpoXKyQw_cV",
        "outputId": "5dc66d2d-e909-482a-a006-ca4d9914b262",
        "colab": {
          "base_uri": "https://localhost:8080/",
          "height": 141
        }
      },
      "outputs": [
        {
          "output_type": "error",
          "ename": "NameError",
          "evalue": "name 'tesla_data' is not defined",
          "traceback": [
            "\u001b[0;31m---------------------------------------------------------------------------\u001b[0m",
            "\u001b[0;31mNameError\u001b[0m                                 Traceback (most recent call last)",
            "\u001b[0;32m<ipython-input-43-a97024e09209>\u001b[0m in \u001b[0;36m<cell line: 0>\u001b[0;34m()\u001b[0m\n\u001b[0;32m----> 1\u001b[0;31m \u001b[0mtesla_data\u001b[0m\u001b[0;34m.\u001b[0m\u001b[0mto_excel\u001b[0m\u001b[0;34m(\u001b[0m\u001b[0;34m'sample_tesla_data_daily.xlsx'\u001b[0m\u001b[0;34m,\u001b[0m \u001b[0msheet_name\u001b[0m\u001b[0;34m=\u001b[0m\u001b[0;34m'TSLA_data'\u001b[0m\u001b[0;34m,\u001b[0m \u001b[0mencoding\u001b[0m\u001b[0;34m=\u001b[0m\u001b[0;34m'utf-8'\u001b[0m\u001b[0;34m)\u001b[0m\u001b[0;34m\u001b[0m\u001b[0;34m\u001b[0m\u001b[0m\n\u001b[0m",
            "\u001b[0;31mNameError\u001b[0m: name 'tesla_data' is not defined"
          ]
        }
      ],
      "source": [
        "tesla_data.to_excel('sample_tesla_data_daily.xlsx', sheet_name='TSLA_data', encoding='utf-8')"
      ]
    },
    {
      "cell_type": "markdown",
      "metadata": {
        "id": "uHMryQuvw_cV"
      },
      "source": [
        "To get a specific column of a `Pandas` dataframe, we can column-slice it to get the daily adjusted closing price data like this:"
      ]
    },
    {
      "cell_type": "code",
      "execution_count": 44,
      "metadata": {
        "id": "jMzLfGIow_cW",
        "outputId": "5c5923b6-4d83-478c-d5f8-140f5c1ba237",
        "colab": {
          "base_uri": "https://localhost:8080/",
          "height": 141
        }
      },
      "outputs": [
        {
          "output_type": "error",
          "ename": "NameError",
          "evalue": "name 'tesla_data' is not defined",
          "traceback": [
            "\u001b[0;31m---------------------------------------------------------------------------\u001b[0m",
            "\u001b[0;31mNameError\u001b[0m                                 Traceback (most recent call last)",
            "\u001b[0;32m<ipython-input-44-4fbe3c8e65d3>\u001b[0m in \u001b[0;36m<cell line: 0>\u001b[0;34m()\u001b[0m\n\u001b[0;32m----> 1\u001b[0;31m \u001b[0mtesla_closing\u001b[0m \u001b[0;34m=\u001b[0m \u001b[0mtesla_data\u001b[0m\u001b[0;34m[\u001b[0m\u001b[0;34m'Adj Close'\u001b[0m\u001b[0;34m]\u001b[0m\u001b[0;34m\u001b[0m\u001b[0;34m\u001b[0m\u001b[0m\n\u001b[0m",
            "\u001b[0;31mNameError\u001b[0m: name 'tesla_data' is not defined"
          ]
        }
      ],
      "source": [
        "tesla_closing = tesla_data['Adj Close']"
      ]
    },
    {
      "cell_type": "markdown",
      "metadata": {
        "id": "Hd1GHCK-w_cW"
      },
      "source": [
        "Let's inspect the **top 5** rows of the sliced data:"
      ]
    },
    {
      "cell_type": "code",
      "execution_count": 45,
      "metadata": {
        "id": "DqrfkmD7w_cW",
        "outputId": "b9c6a2b8-7bcd-48a3-94d6-dce4bccfd16f",
        "colab": {
          "base_uri": "https://localhost:8080/",
          "height": 141
        }
      },
      "outputs": [
        {
          "output_type": "error",
          "ename": "NameError",
          "evalue": "name 'tesla_closing' is not defined",
          "traceback": [
            "\u001b[0;31m---------------------------------------------------------------------------\u001b[0m",
            "\u001b[0;31mNameError\u001b[0m                                 Traceback (most recent call last)",
            "\u001b[0;32m<ipython-input-45-1abd88cf4e7e>\u001b[0m in \u001b[0;36m<cell line: 0>\u001b[0;34m()\u001b[0m\n\u001b[0;32m----> 1\u001b[0;31m \u001b[0mtesla_closing\u001b[0m\u001b[0;34m.\u001b[0m\u001b[0mhead\u001b[0m\u001b[0;34m(\u001b[0m\u001b[0;36m5\u001b[0m\u001b[0;34m)\u001b[0m\u001b[0;34m\u001b[0m\u001b[0;34m\u001b[0m\u001b[0m\n\u001b[0m",
            "\u001b[0;31mNameError\u001b[0m: name 'tesla_closing' is not defined"
          ]
        }
      ],
      "source": [
        "tesla_closing.head(5)"
      ]
    },
    {
      "cell_type": "markdown",
      "metadata": {
        "id": "r4XZnv15w_cW"
      },
      "source": [
        "Ok great, we got two columns (1) the index 'Date' of the DataFrame as well as (2) the data column 'Adj. Close' price that we asked for."
      ]
    },
    {
      "cell_type": "markdown",
      "metadata": {
        "id": "7MEDOsWaw_cW"
      },
      "source": [
        "Let's now plot the date vs. the adjusted closing prices. But before doing so, we need to be able to disentangle the index from the data. This can be accomplished by the `.index` function that will return the index of a given DataFrame as well as the `.values` function that will return the actual data (excl. the index) of a given DataFrame. We will use both commands to specify the X and Y coordinates of the plot:"
      ]
    },
    {
      "cell_type": "code",
      "execution_count": 47,
      "metadata": {
        "id": "NoIaeNxxw_cW",
        "outputId": "c07950a5-c054-4eae-cfba-6fabb7a5eb78",
        "colab": {
          "base_uri": "https://localhost:8080/",
          "height": 211
        }
      },
      "outputs": [
        {
          "output_type": "error",
          "ename": "NameError",
          "evalue": "name 'tesla_closing' is not defined",
          "traceback": [
            "\u001b[0;31m---------------------------------------------------------------------------\u001b[0m",
            "\u001b[0;31mNameError\u001b[0m                                 Traceback (most recent call last)",
            "\u001b[0;32m<ipython-input-47-2760d70fa5b3>\u001b[0m in \u001b[0;36m<cell line: 0>\u001b[0;34m()\u001b[0m\n\u001b[1;32m      1\u001b[0m \u001b[0;31m# plot both sample results\u001b[0m\u001b[0;34m\u001b[0m\u001b[0;34m\u001b[0m\u001b[0m\n\u001b[0;32m----> 2\u001b[0;31m \u001b[0mplt\u001b[0m\u001b[0;34m.\u001b[0m\u001b[0mplot\u001b[0m\u001b[0;34m(\u001b[0m\u001b[0mtesla_closing\u001b[0m\u001b[0;34m.\u001b[0m\u001b[0mindex\u001b[0m\u001b[0;34m,\u001b[0m \u001b[0mtesla_closing\u001b[0m\u001b[0;34m.\u001b[0m\u001b[0mvalues\u001b[0m\u001b[0;34m)\u001b[0m\u001b[0;34m\u001b[0m\u001b[0;34m\u001b[0m\u001b[0m\n\u001b[0m\u001b[1;32m      3\u001b[0m \u001b[0;34m\u001b[0m\u001b[0m\n\u001b[1;32m      4\u001b[0m \u001b[0;31m# tesla_closing.plot()\u001b[0m\u001b[0;34m\u001b[0m\u001b[0;34m\u001b[0m\u001b[0m\n\u001b[1;32m      5\u001b[0m \u001b[0;34m\u001b[0m\u001b[0m\n",
            "\u001b[0;31mNameError\u001b[0m: name 'tesla_closing' is not defined"
          ]
        }
      ],
      "source": [
        "# plot both sample results\n",
        "plt.plot(tesla_closing.index, tesla_closing.values)\n",
        "\n",
        "# tesla_closing.plot()\n",
        "\n",
        "# add x-axis and y-axis label\n",
        "plt.xlabel('Time')\n",
        "plt.ylabel('Closing Price')\n",
        "\n",
        "# add plot title\n",
        "plt.title('Tesla Inc. Daily Adjusted Closing Price');"
      ]
    },
    {
      "cell_type": "code",
      "execution_count": 48,
      "metadata": {
        "id": "nZOg96GCw_cX",
        "outputId": "5e948830-d952-429c-9382-084284956f57",
        "colab": {
          "base_uri": "https://localhost:8080/",
          "height": 141
        }
      },
      "outputs": [
        {
          "output_type": "error",
          "ename": "NameError",
          "evalue": "name 'tesla_closing' is not defined",
          "traceback": [
            "\u001b[0;31m---------------------------------------------------------------------------\u001b[0m",
            "\u001b[0;31mNameError\u001b[0m                                 Traceback (most recent call last)",
            "\u001b[0;32m<ipython-input-48-3078708012b3>\u001b[0m in \u001b[0;36m<cell line: 0>\u001b[0;34m()\u001b[0m\n\u001b[0;32m----> 1\u001b[0;31m \u001b[0mnp\u001b[0m\u001b[0;34m.\u001b[0m\u001b[0mmean\u001b[0m\u001b[0;34m(\u001b[0m\u001b[0mtesla_closing\u001b[0m\u001b[0;34m.\u001b[0m\u001b[0mvalues\u001b[0m\u001b[0;34m)\u001b[0m\u001b[0;34m\u001b[0m\u001b[0;34m\u001b[0m\u001b[0m\n\u001b[0m",
            "\u001b[0;31mNameError\u001b[0m: name 'tesla_closing' is not defined"
          ]
        }
      ],
      "source": [
        "np.mean(tesla_closing.values)"
      ]
    },
    {
      "cell_type": "code",
      "execution_count": 49,
      "metadata": {
        "id": "EZ1PvpMcw_cX",
        "outputId": "1fa481e9-2ce1-4403-c893-e4d95b957ffc",
        "colab": {
          "base_uri": "https://localhost:8080/",
          "height": 141
        }
      },
      "outputs": [
        {
          "output_type": "error",
          "ename": "NameError",
          "evalue": "name 'tesla_closing' is not defined",
          "traceback": [
            "\u001b[0;31m---------------------------------------------------------------------------\u001b[0m",
            "\u001b[0;31mNameError\u001b[0m                                 Traceback (most recent call last)",
            "\u001b[0;32m<ipython-input-49-2173e9c7f57d>\u001b[0m in \u001b[0;36m<cell line: 0>\u001b[0;34m()\u001b[0m\n\u001b[0;32m----> 1\u001b[0;31m \u001b[0mnp\u001b[0m\u001b[0;34m.\u001b[0m\u001b[0mstd\u001b[0m\u001b[0;34m(\u001b[0m\u001b[0mtesla_closing\u001b[0m\u001b[0;34m.\u001b[0m\u001b[0mvalues\u001b[0m\u001b[0;34m)\u001b[0m\u001b[0;34m\u001b[0m\u001b[0;34m\u001b[0m\u001b[0m\n\u001b[0m",
            "\u001b[0;31mNameError\u001b[0m: name 'tesla_closing' is not defined"
          ]
        }
      ],
      "source": [
        "np.std(tesla_closing.values)"
      ]
    },
    {
      "cell_type": "markdown",
      "metadata": {
        "id": "Tzayj6Unw_cX"
      },
      "source": [
        "### 7. Obtaining Returns from Prices"
      ]
    },
    {
      "cell_type": "markdown",
      "metadata": {
        "id": "7ed5clmzw_cX"
      },
      "source": [
        "When analyzing stock market data, we are often also interested in the return $R_t$ of a financial instrument over a certain time frame:"
      ]
    },
    {
      "cell_type": "markdown",
      "metadata": {
        "id": "Hg2nHAknw_cX"
      },
      "source": [
        "$$R_t=\\frac{V_{f}-V_{i}}{V_{i}}$$"
      ]
    },
    {
      "cell_type": "markdown",
      "metadata": {
        "id": "Pd7h1pIxw_cY"
      },
      "source": [
        "where:\n",
        "\n",
        "- $V_{f}$ denotes the financial instruments final value, including dividends and interest\n",
        "- $V_{i}$ denotes the financial instruments initial value\n",
        "\n",
        "The `Pandas` data science library provides us with a variety of functions that come quite \"handy\" when analyzing such data. To determine the daily return $r_t$ we may, for example, utilize Pandas `pct_change` function:"
      ]
    },
    {
      "cell_type": "code",
      "execution_count": 50,
      "metadata": {
        "id": "NSD494bBw_cY",
        "outputId": "3c4abd8c-c3ec-47c0-db12-791b842df157",
        "colab": {
          "base_uri": "https://localhost:8080/",
          "height": 141
        }
      },
      "outputs": [
        {
          "output_type": "error",
          "ename": "NameError",
          "evalue": "name 'tesla_closing' is not defined",
          "traceback": [
            "\u001b[0;31m---------------------------------------------------------------------------\u001b[0m",
            "\u001b[0;31mNameError\u001b[0m                                 Traceback (most recent call last)",
            "\u001b[0;32m<ipython-input-50-60eacf7d84fe>\u001b[0m in \u001b[0;36m<cell line: 0>\u001b[0;34m()\u001b[0m\n\u001b[0;32m----> 1\u001b[0;31m \u001b[0mtesla_returns\u001b[0m \u001b[0;34m=\u001b[0m \u001b[0mtesla_closing\u001b[0m\u001b[0;34m.\u001b[0m\u001b[0mpct_change\u001b[0m\u001b[0;34m(\u001b[0m\u001b[0;34m)\u001b[0m\u001b[0;34m\u001b[0m\u001b[0;34m\u001b[0m\u001b[0m\n\u001b[0m",
            "\u001b[0;31mNameError\u001b[0m: name 'tesla_closing' is not defined"
          ]
        }
      ],
      "source": [
        "tesla_returns = tesla_closing.pct_change()"
      ]
    },
    {
      "cell_type": "markdown",
      "metadata": {
        "id": "ZOQtxtYDw_cY"
      },
      "source": [
        "Let's inspect the calculated returns:"
      ]
    },
    {
      "cell_type": "code",
      "execution_count": 51,
      "metadata": {
        "id": "P0eTuXXsw_cY",
        "outputId": "df0c7039-4d55-445c-a918-a878fcc5b892",
        "colab": {
          "base_uri": "https://localhost:8080/",
          "height": 141
        }
      },
      "outputs": [
        {
          "output_type": "error",
          "ename": "NameError",
          "evalue": "name 'tesla_returns' is not defined",
          "traceback": [
            "\u001b[0;31m---------------------------------------------------------------------------\u001b[0m",
            "\u001b[0;31mNameError\u001b[0m                                 Traceback (most recent call last)",
            "\u001b[0;32m<ipython-input-51-36ee5ee0aa7e>\u001b[0m in \u001b[0;36m<cell line: 0>\u001b[0;34m()\u001b[0m\n\u001b[0;32m----> 1\u001b[0;31m \u001b[0mtesla_returns\u001b[0m\u001b[0;34m.\u001b[0m\u001b[0mhead\u001b[0m\u001b[0;34m(\u001b[0m\u001b[0;36m5\u001b[0m\u001b[0;34m)\u001b[0m\u001b[0;34m\u001b[0m\u001b[0;34m\u001b[0m\u001b[0m\n\u001b[0m",
            "\u001b[0;31mNameError\u001b[0m: name 'tesla_returns' is not defined"
          ]
        }
      ],
      "source": [
        "tesla_returns.head(5)"
      ]
    },
    {
      "cell_type": "markdown",
      "metadata": {
        "id": "e9U93FqMw_cY"
      },
      "source": [
        "Notice, how we drop the first element after doing this, as it will be `NaN`."
      ]
    },
    {
      "cell_type": "code",
      "execution_count": 52,
      "metadata": {
        "id": "2Rgl_jLHw_cY",
        "outputId": "8cd0680e-0b6f-4a72-ef1c-02d276a59212",
        "colab": {
          "base_uri": "https://localhost:8080/",
          "height": 141
        }
      },
      "outputs": [
        {
          "output_type": "error",
          "ename": "NameError",
          "evalue": "name 'tesla_returns' is not defined",
          "traceback": [
            "\u001b[0;31m---------------------------------------------------------------------------\u001b[0m",
            "\u001b[0;31mNameError\u001b[0m                                 Traceback (most recent call last)",
            "\u001b[0;32m<ipython-input-52-b7d666dc919c>\u001b[0m in \u001b[0;36m<cell line: 0>\u001b[0;34m()\u001b[0m\n\u001b[0;32m----> 1\u001b[0;31m \u001b[0mtesla_returns\u001b[0m \u001b[0;34m=\u001b[0m \u001b[0mtesla_returns\u001b[0m\u001b[0;34m[\u001b[0m\u001b[0;36m1\u001b[0m\u001b[0;34m:\u001b[0m\u001b[0;34m]\u001b[0m\u001b[0;34m\u001b[0m\u001b[0;34m\u001b[0m\u001b[0m\n\u001b[0m",
            "\u001b[0;31mNameError\u001b[0m: name 'tesla_returns' is not defined"
          ]
        }
      ],
      "source": [
        "tesla_returns = tesla_returns[1:]"
      ]
    },
    {
      "cell_type": "markdown",
      "metadata": {
        "id": "H9T9IVWvw_cZ"
      },
      "source": [
        "And inspect the returns data again:"
      ]
    },
    {
      "cell_type": "code",
      "execution_count": 53,
      "metadata": {
        "id": "O0UwFb8Cw_cZ",
        "outputId": "1aeb5e02-3cc4-4e8a-c14d-0fbf97472f77",
        "colab": {
          "base_uri": "https://localhost:8080/",
          "height": 141
        }
      },
      "outputs": [
        {
          "output_type": "error",
          "ename": "NameError",
          "evalue": "name 'tesla_returns' is not defined",
          "traceback": [
            "\u001b[0;31m---------------------------------------------------------------------------\u001b[0m",
            "\u001b[0;31mNameError\u001b[0m                                 Traceback (most recent call last)",
            "\u001b[0;32m<ipython-input-53-36ee5ee0aa7e>\u001b[0m in \u001b[0;36m<cell line: 0>\u001b[0;34m()\u001b[0m\n\u001b[0;32m----> 1\u001b[0;31m \u001b[0mtesla_returns\u001b[0m\u001b[0;34m.\u001b[0m\u001b[0mhead\u001b[0m\u001b[0;34m(\u001b[0m\u001b[0;36m5\u001b[0m\u001b[0;34m)\u001b[0m\u001b[0;34m\u001b[0m\u001b[0;34m\u001b[0m\u001b[0m\n\u001b[0m",
            "\u001b[0;31mNameError\u001b[0m: name 'tesla_returns' is not defined"
          ]
        }
      ],
      "source": [
        "tesla_returns.head(5)"
      ]
    },
    {
      "cell_type": "markdown",
      "metadata": {
        "id": "maL0MZwow_cZ"
      },
      "source": [
        "Let's now plot the distribution of daily returns as a histogram:"
      ]
    },
    {
      "cell_type": "code",
      "execution_count": 54,
      "metadata": {
        "id": "I5LSWCWCw_cZ",
        "outputId": "25edba6d-fe20-4d10-ffe4-6a0544768436",
        "colab": {
          "base_uri": "https://localhost:8080/",
          "height": 211
        }
      },
      "outputs": [
        {
          "output_type": "error",
          "ename": "NameError",
          "evalue": "name 'tesla_returns' is not defined",
          "traceback": [
            "\u001b[0;31m---------------------------------------------------------------------------\u001b[0m",
            "\u001b[0;31mNameError\u001b[0m                                 Traceback (most recent call last)",
            "\u001b[0;32m<ipython-input-54-9b9a8f6c081f>\u001b[0m in \u001b[0;36m<cell line: 0>\u001b[0;34m()\u001b[0m\n\u001b[1;32m      1\u001b[0m \u001b[0;31m# plot histogram of returns\u001b[0m\u001b[0;34m\u001b[0m\u001b[0;34m\u001b[0m\u001b[0m\n\u001b[0;32m----> 2\u001b[0;31m \u001b[0mplt\u001b[0m\u001b[0;34m.\u001b[0m\u001b[0mhist\u001b[0m\u001b[0;34m(\u001b[0m\u001b[0mtesla_returns\u001b[0m\u001b[0;34m,\u001b[0m \u001b[0mbins\u001b[0m\u001b[0;34m=\u001b[0m\u001b[0;36m20\u001b[0m\u001b[0;34m)\u001b[0m\u001b[0;34m\u001b[0m\u001b[0;34m\u001b[0m\u001b[0m\n\u001b[0m\u001b[1;32m      3\u001b[0m \u001b[0;34m\u001b[0m\u001b[0m\n\u001b[1;32m      4\u001b[0m \u001b[0;31m# add x-axis and y-axis label\u001b[0m\u001b[0;34m\u001b[0m\u001b[0;34m\u001b[0m\u001b[0m\n\u001b[1;32m      5\u001b[0m \u001b[0mplt\u001b[0m\u001b[0;34m.\u001b[0m\u001b[0mxlabel\u001b[0m\u001b[0;34m(\u001b[0m\u001b[0;34m'Return'\u001b[0m\u001b[0;34m)\u001b[0m\u001b[0;34m\u001b[0m\u001b[0;34m\u001b[0m\u001b[0m\n",
            "\u001b[0;31mNameError\u001b[0m: name 'tesla_returns' is not defined"
          ]
        }
      ],
      "source": [
        "# plot histogram of returns\n",
        "plt.hist(tesla_returns, bins=20)\n",
        "\n",
        "# add x-axis and y-axis label\n",
        "plt.xlabel('Return')\n",
        "plt.ylabel('Frequency')\n",
        "\n",
        "# add plot title\n",
        "plt.title('Tesla Inc. Adjusted Daily Returns');"
      ]
    },
    {
      "cell_type": "markdown",
      "metadata": {
        "id": "A4poonzUw_cZ"
      },
      "source": [
        "Let's again get statistics on the real daily return data:"
      ]
    },
    {
      "cell_type": "code",
      "execution_count": 55,
      "metadata": {
        "id": "hAW6_VR9w_ca",
        "outputId": "fb2718bc-1b95-4551-8967-c2aae1acf3d9",
        "colab": {
          "base_uri": "https://localhost:8080/",
          "height": 141
        }
      },
      "outputs": [
        {
          "output_type": "error",
          "ename": "NameError",
          "evalue": "name 'tesla_returns' is not defined",
          "traceback": [
            "\u001b[0;31m---------------------------------------------------------------------------\u001b[0m",
            "\u001b[0;31mNameError\u001b[0m                                 Traceback (most recent call last)",
            "\u001b[0;32m<ipython-input-55-51b9b9ea6d97>\u001b[0m in \u001b[0;36m<cell line: 0>\u001b[0;34m()\u001b[0m\n\u001b[0;32m----> 1\u001b[0;31m \u001b[0mnp\u001b[0m\u001b[0;34m.\u001b[0m\u001b[0mmean\u001b[0m\u001b[0;34m(\u001b[0m\u001b[0mtesla_returns\u001b[0m\u001b[0;34m)\u001b[0m\u001b[0;34m\u001b[0m\u001b[0;34m\u001b[0m\u001b[0m\n\u001b[0m",
            "\u001b[0;31mNameError\u001b[0m: name 'tesla_returns' is not defined"
          ]
        }
      ],
      "source": [
        "np.mean(tesla_returns)"
      ]
    },
    {
      "cell_type": "code",
      "execution_count": 56,
      "metadata": {
        "id": "X_Ema84kw_ca",
        "outputId": "2bd62e77-111b-49db-a412-6c465bd9dd55",
        "colab": {
          "base_uri": "https://localhost:8080/",
          "height": 141
        }
      },
      "outputs": [
        {
          "output_type": "error",
          "ename": "NameError",
          "evalue": "name 'tesla_returns' is not defined",
          "traceback": [
            "\u001b[0;31m---------------------------------------------------------------------------\u001b[0m",
            "\u001b[0;31mNameError\u001b[0m                                 Traceback (most recent call last)",
            "\u001b[0;32m<ipython-input-56-91d02a9eb38a>\u001b[0m in \u001b[0;36m<cell line: 0>\u001b[0;34m()\u001b[0m\n\u001b[0;32m----> 1\u001b[0;31m \u001b[0mnp\u001b[0m\u001b[0;34m.\u001b[0m\u001b[0mstd\u001b[0m\u001b[0;34m(\u001b[0m\u001b[0mtesla_returns\u001b[0m\u001b[0;34m)\u001b[0m\u001b[0;34m\u001b[0m\u001b[0;34m\u001b[0m\u001b[0m\n\u001b[0m",
            "\u001b[0;31mNameError\u001b[0m: name 'tesla_returns' is not defined"
          ]
        }
      ],
      "source": [
        "np.std(tesla_returns)"
      ]
    },
    {
      "cell_type": "markdown",
      "metadata": {
        "id": "Y01WASmqw_ca"
      },
      "source": [
        "Let's generate data out of a normal distribution using the statistics we estimated from the daily returns of the Tesla stock. We'll see that we have good reason to suspect the Tesla returns may not be normally distributed, as the resulting normal distribution looks far different."
      ]
    },
    {
      "cell_type": "code",
      "execution_count": 57,
      "metadata": {
        "id": "EDtlAF3mw_ca",
        "outputId": "95b62808-3ff1-4f92-da74-2fe22a41f836",
        "colab": {
          "base_uri": "https://localhost:8080/",
          "height": 211
        }
      },
      "outputs": [
        {
          "output_type": "error",
          "ename": "NameError",
          "evalue": "name 'tesla_returns' is not defined",
          "traceback": [
            "\u001b[0;31m---------------------------------------------------------------------------\u001b[0m",
            "\u001b[0;31mNameError\u001b[0m                                 Traceback (most recent call last)",
            "\u001b[0;32m<ipython-input-57-d6541f0680b5>\u001b[0m in \u001b[0;36m<cell line: 0>\u001b[0;34m()\u001b[0m\n\u001b[1;32m      1\u001b[0m \u001b[0;31m# plot histogram of randomly sampled returns\u001b[0m\u001b[0;34m\u001b[0m\u001b[0;34m\u001b[0m\u001b[0m\n\u001b[0;32m----> 2\u001b[0;31m \u001b[0mplt\u001b[0m\u001b[0;34m.\u001b[0m\u001b[0mhist\u001b[0m\u001b[0;34m(\u001b[0m\u001b[0mnp\u001b[0m\u001b[0;34m.\u001b[0m\u001b[0mrandom\u001b[0m\u001b[0;34m.\u001b[0m\u001b[0mnormal\u001b[0m\u001b[0;34m(\u001b[0m\u001b[0mnp\u001b[0m\u001b[0;34m.\u001b[0m\u001b[0mmean\u001b[0m\u001b[0;34m(\u001b[0m\u001b[0mtesla_returns\u001b[0m\u001b[0;34m)\u001b[0m\u001b[0;34m,\u001b[0m \u001b[0mnp\u001b[0m\u001b[0;34m.\u001b[0m\u001b[0mstd\u001b[0m\u001b[0;34m(\u001b[0m\u001b[0mtesla_returns\u001b[0m\u001b[0;34m)\u001b[0m\u001b[0;34m,\u001b[0m \u001b[0;36m10000\u001b[0m\u001b[0;34m)\u001b[0m\u001b[0;34m,\u001b[0m \u001b[0mbins\u001b[0m\u001b[0;34m=\u001b[0m\u001b[0;36m20\u001b[0m\u001b[0;34m)\u001b[0m\u001b[0;34m\u001b[0m\u001b[0;34m\u001b[0m\u001b[0m\n\u001b[0m\u001b[1;32m      3\u001b[0m \u001b[0;34m\u001b[0m\u001b[0m\n\u001b[1;32m      4\u001b[0m \u001b[0;31m# add x-axis and y-axis label\u001b[0m\u001b[0;34m\u001b[0m\u001b[0;34m\u001b[0m\u001b[0m\n\u001b[1;32m      5\u001b[0m \u001b[0mplt\u001b[0m\u001b[0;34m.\u001b[0m\u001b[0mxlabel\u001b[0m\u001b[0;34m(\u001b[0m\u001b[0;34m'Return'\u001b[0m\u001b[0;34m)\u001b[0m\u001b[0;34m\u001b[0m\u001b[0;34m\u001b[0m\u001b[0m\n",
            "\u001b[0;31mNameError\u001b[0m: name 'tesla_returns' is not defined"
          ]
        }
      ],
      "source": [
        "# plot histogram of randomly sampled returns\n",
        "plt.hist(np.random.normal(np.mean(tesla_returns), np.std(tesla_returns), 10000), bins=20)\n",
        "\n",
        "# add x-axis and y-axis label\n",
        "plt.xlabel('Return')\n",
        "plt.ylabel('Frequency')\n",
        "\n",
        "# add plot title\n",
        "plt.title('Tesla Inc. Adjusted Daily Returns (Normal)');"
      ]
    },
    {
      "cell_type": "markdown",
      "metadata": {
        "id": "HF-fyhjQw_ca"
      },
      "source": [
        "### 8. Generating a Moving Average"
      ]
    },
    {
      "cell_type": "markdown",
      "metadata": {
        "id": "QG6D4Qolw_ca"
      },
      "source": [
        "When analyzing stock market data, we are often also interested in calculating so-called \"rolling statistics\", e.g., a 90- or 200-day moving average. Again the `Pandas` library is offering some great functions that allow us to generate such rolling statistics. Here's an example. Notice how there's no moving average for the first 30 days, as we don't have 90 days before we can determine the first value:"
      ]
    },
    {
      "cell_type": "code",
      "execution_count": 58,
      "metadata": {
        "id": "TxHXyDGvw_cb",
        "outputId": "ac64c45c-09a9-4072-f8c2-750638d39107",
        "colab": {
          "base_uri": "https://localhost:8080/",
          "height": 159
        }
      },
      "outputs": [
        {
          "output_type": "error",
          "ename": "NameError",
          "evalue": "name 'tesla_closing' is not defined",
          "traceback": [
            "\u001b[0;31m---------------------------------------------------------------------------\u001b[0m",
            "\u001b[0;31mNameError\u001b[0m                                 Traceback (most recent call last)",
            "\u001b[0;32m<ipython-input-58-91546f6dcb4d>\u001b[0m in \u001b[0;36m<cell line: 0>\u001b[0;34m()\u001b[0m\n\u001b[1;32m      1\u001b[0m \u001b[0;31m# determine the rolling average of the last 90 days\u001b[0m\u001b[0;34m\u001b[0m\u001b[0;34m\u001b[0m\u001b[0m\n\u001b[0;32m----> 2\u001b[0;31m \u001b[0mtesla_moving_average\u001b[0m \u001b[0;34m=\u001b[0m \u001b[0mtesla_closing\u001b[0m\u001b[0;34m.\u001b[0m\u001b[0mrolling\u001b[0m\u001b[0;34m(\u001b[0m\u001b[0mwindow\u001b[0m\u001b[0;34m=\u001b[0m\u001b[0;36m90\u001b[0m\u001b[0;34m,\u001b[0m \u001b[0mcenter\u001b[0m\u001b[0;34m=\u001b[0m\u001b[0;32mFalse\u001b[0m\u001b[0;34m)\u001b[0m\u001b[0;34m.\u001b[0m\u001b[0mmean\u001b[0m\u001b[0;34m(\u001b[0m\u001b[0;34m)\u001b[0m\u001b[0;34m\u001b[0m\u001b[0;34m\u001b[0m\u001b[0m\n\u001b[0m",
            "\u001b[0;31mNameError\u001b[0m: name 'tesla_closing' is not defined"
          ]
        }
      ],
      "source": [
        "# determine the rolling average of the last 90 days\n",
        "tesla_moving_average = tesla_closing.rolling(window=90, center=False).mean()"
      ]
    },
    {
      "cell_type": "markdown",
      "metadata": {
        "id": "YrzAoQxZw_cb"
      },
      "source": [
        "Let's plot the obtained moving averages."
      ]
    },
    {
      "cell_type": "code",
      "execution_count": 59,
      "metadata": {
        "id": "ZF1twLoiw_cb",
        "outputId": "5a09e3e2-4672-4bef-b3ff-f3a9ad891e60",
        "colab": {
          "base_uri": "https://localhost:8080/",
          "height": 211
        }
      },
      "outputs": [
        {
          "output_type": "error",
          "ename": "NameError",
          "evalue": "name 'tesla_closing' is not defined",
          "traceback": [
            "\u001b[0;31m---------------------------------------------------------------------------\u001b[0m",
            "\u001b[0;31mNameError\u001b[0m                                 Traceback (most recent call last)",
            "\u001b[0;32m<ipython-input-59-d63bc6a7608d>\u001b[0m in \u001b[0;36m<cell line: 0>\u001b[0;34m()\u001b[0m\n\u001b[1;32m      1\u001b[0m \u001b[0;31m# plot quarterly returns\u001b[0m\u001b[0;34m\u001b[0m\u001b[0;34m\u001b[0m\u001b[0m\n\u001b[0;32m----> 2\u001b[0;31m \u001b[0mplt\u001b[0m\u001b[0;34m.\u001b[0m\u001b[0mplot\u001b[0m\u001b[0;34m(\u001b[0m\u001b[0mtesla_closing\u001b[0m\u001b[0;34m.\u001b[0m\u001b[0mindex\u001b[0m\u001b[0;34m,\u001b[0m \u001b[0mtesla_closing\u001b[0m\u001b[0;34m.\u001b[0m\u001b[0mvalues\u001b[0m\u001b[0;34m)\u001b[0m\u001b[0;34m\u001b[0m\u001b[0;34m\u001b[0m\u001b[0m\n\u001b[0m\u001b[1;32m      3\u001b[0m \u001b[0;34m\u001b[0m\u001b[0m\n\u001b[1;32m      4\u001b[0m \u001b[0;31m# plot moving averages quarterly returns\u001b[0m\u001b[0;34m\u001b[0m\u001b[0;34m\u001b[0m\u001b[0m\n\u001b[1;32m      5\u001b[0m \u001b[0mplt\u001b[0m\u001b[0;34m.\u001b[0m\u001b[0mplot\u001b[0m\u001b[0;34m(\u001b[0m\u001b[0mtesla_moving_average\u001b[0m\u001b[0;34m.\u001b[0m\u001b[0mindex\u001b[0m\u001b[0;34m,\u001b[0m \u001b[0mtesla_moving_average\u001b[0m\u001b[0;34m.\u001b[0m\u001b[0mvalues\u001b[0m\u001b[0;34m)\u001b[0m\u001b[0;34m\u001b[0m\u001b[0;34m\u001b[0m\u001b[0m\n",
            "\u001b[0;31mNameError\u001b[0m: name 'tesla_closing' is not defined"
          ]
        }
      ],
      "source": [
        "# plot quarterly returns\n",
        "plt.plot(tesla_closing.index, tesla_closing.values)\n",
        "\n",
        "# plot moving averages quarterly returns\n",
        "plt.plot(tesla_moving_average.index, tesla_moving_average.values)\n",
        "\n",
        "# add x-axis and y-axis label\n",
        "plt.xlabel('Return')\n",
        "plt.ylabel('Price')\n",
        "\n",
        "# add plot legend\n",
        "plt.legend(['Return', '90-day MAVG']);\n",
        "\n",
        "# add plot title\n",
        "plt.title('Tesla Inc. Returns vs. Moving Average Returns');"
      ]
    },
    {
      "cell_type": "markdown",
      "metadata": {
        "id": "_2OMXJtWw_cb"
      },
      "source": [
        "### Lab Assignments:"
      ]
    },
    {
      "cell_type": "markdown",
      "metadata": {
        "id": "1bFt_oXsw_cb"
      },
      "source": [
        "You may want to try the following exercises after the lab:"
      ]
    },
    {
      "cell_type": "markdown",
      "metadata": {
        "id": "OocmfZKww_cb"
      },
      "source": [
        "**1. Download data using the `Pandas` `DataReader` API, `dr.data.get_data_yahoo('TSLA', ...)`.**\n",
        "\n",
        "> Research the `Pandas` `DataReader` API and download the daily closing prices (instead of the quarterly) of the three following stocks: Netflix, Facebook, and Microsoft. Download the daily stock closing prices starting from 2014-01-01 until today as a `Pandas` DataFrame."
      ]
    },
    {
      "cell_type": "code",
      "execution_count": null,
      "metadata": {
        "id": "d8qGmfAcw_cb",
        "outputId": "fbffbb65-e470-451b-939c-9b8b145bfccc",
        "colab": {
          "base_uri": "https://localhost:8080/",
          "height": 1000
        }
      },
      "outputs": [
        {
          "output_type": "stream",
          "name": "stdout",
          "text": [
            "Collecting pandas_datareader\n",
            "  Using cached pandas_datareader-0.10.0-py3-none-any.whl.metadata (2.9 kB)\n",
            "Collecting lxml (from pandas_datareader)\n",
            "  Using cached lxml-5.3.1-cp311-cp311-manylinux_2_28_x86_64.whl.metadata (3.7 kB)\n",
            "Collecting pandas>=0.23 (from pandas_datareader)\n",
            "  Using cached pandas-2.2.3-cp311-cp311-manylinux_2_17_x86_64.manylinux2014_x86_64.whl.metadata (89 kB)\n",
            "Collecting requests>=2.19.0 (from pandas_datareader)\n",
            "  Using cached requests-2.32.3-py3-none-any.whl.metadata (4.6 kB)\n",
            "Collecting numpy>=1.23.2 (from pandas>=0.23->pandas_datareader)\n",
            "  Using cached numpy-2.2.3-cp311-cp311-manylinux_2_17_x86_64.manylinux2014_x86_64.whl.metadata (62 kB)\n",
            "Collecting python-dateutil>=2.8.2 (from pandas>=0.23->pandas_datareader)\n",
            "  Using cached python_dateutil-2.9.0.post0-py2.py3-none-any.whl.metadata (8.4 kB)\n",
            "Collecting pytz>=2020.1 (from pandas>=0.23->pandas_datareader)\n",
            "  Using cached pytz-2025.1-py2.py3-none-any.whl.metadata (22 kB)\n",
            "Collecting tzdata>=2022.7 (from pandas>=0.23->pandas_datareader)\n",
            "  Using cached tzdata-2025.1-py2.py3-none-any.whl.metadata (1.4 kB)\n",
            "Collecting charset-normalizer<4,>=2 (from requests>=2.19.0->pandas_datareader)\n",
            "  Using cached charset_normalizer-3.4.1-cp311-cp311-manylinux_2_17_x86_64.manylinux2014_x86_64.whl.metadata (35 kB)\n",
            "Collecting idna<4,>=2.5 (from requests>=2.19.0->pandas_datareader)\n",
            "  Using cached idna-3.10-py3-none-any.whl.metadata (10 kB)\n",
            "Collecting urllib3<3,>=1.21.1 (from requests>=2.19.0->pandas_datareader)\n",
            "  Using cached urllib3-2.3.0-py3-none-any.whl.metadata (6.5 kB)\n",
            "Collecting certifi>=2017.4.17 (from requests>=2.19.0->pandas_datareader)\n",
            "  Using cached certifi-2025.1.31-py3-none-any.whl.metadata (2.5 kB)\n",
            "Collecting six>=1.5 (from python-dateutil>=2.8.2->pandas>=0.23->pandas_datareader)\n",
            "  Using cached six-1.17.0-py2.py3-none-any.whl.metadata (1.7 kB)\n",
            "Using cached pandas_datareader-0.10.0-py3-none-any.whl (109 kB)\n",
            "Using cached pandas-2.2.3-cp311-cp311-manylinux_2_17_x86_64.manylinux2014_x86_64.whl (13.1 MB)\n",
            "Using cached requests-2.32.3-py3-none-any.whl (64 kB)\n",
            "Using cached lxml-5.3.1-cp311-cp311-manylinux_2_28_x86_64.whl (5.0 MB)\n",
            "Using cached certifi-2025.1.31-py3-none-any.whl (166 kB)\n",
            "Using cached charset_normalizer-3.4.1-cp311-cp311-manylinux_2_17_x86_64.manylinux2014_x86_64.whl (143 kB)\n",
            "Using cached idna-3.10-py3-none-any.whl (70 kB)\n",
            "Using cached numpy-2.2.3-cp311-cp311-manylinux_2_17_x86_64.manylinux2014_x86_64.whl (16.4 MB)\n",
            "Using cached python_dateutil-2.9.0.post0-py2.py3-none-any.whl (229 kB)\n",
            "Using cached pytz-2025.1-py2.py3-none-any.whl (507 kB)\n",
            "Using cached tzdata-2025.1-py2.py3-none-any.whl (346 kB)\n",
            "Using cached urllib3-2.3.0-py3-none-any.whl (128 kB)\n",
            "Using cached six-1.17.0-py2.py3-none-any.whl (11 kB)\n",
            "Installing collected packages: pytz, urllib3, tzdata, six, numpy, lxml, idna, charset-normalizer, certifi, requests, python-dateutil, pandas, pandas_datareader\n",
            "\u001b[31mERROR: pip's dependency resolver does not currently take into account all the packages that are installed. This behaviour is the source of the following dependency conflicts.\n",
            "google-colab 1.0.0 requires pandas==2.2.2, but you have pandas 2.2.3 which is incompatible.\n",
            "numba 0.61.0 requires numpy<2.2,>=1.24, but you have numpy 2.2.3 which is incompatible.\n",
            "gensim 4.3.3 requires numpy<2.0,>=1.18.5, but you have numpy 2.2.3 which is incompatible.\n",
            "tensorflow 2.18.0 requires numpy<2.1.0,>=1.26.0, but you have numpy 2.2.3 which is incompatible.\n",
            "thinc 8.2.5 requires numpy<2.0.0,>=1.19.0; python_version >= \"3.9\", but you have numpy 2.2.3 which is incompatible.\n",
            "langchain 0.3.18 requires numpy<2,>=1.26.4; python_version < \"3.12\", but you have numpy 2.2.3 which is incompatible.\n",
            "pytensor 2.27.1 requires numpy<2,>=1.17.0, but you have numpy 2.2.3 which is incompatible.\u001b[0m\u001b[31m\n",
            "\u001b[0mSuccessfully installed certifi-2025.1.31 charset-normalizer-3.4.1 idna-3.10 lxml-5.3.1 numpy-2.2.3 pandas-2.2.3 pandas_datareader-0.10.0 python-dateutil-2.9.0.post0 pytz-2025.1 requests-2.32.3 six-1.17.0 tzdata-2025.1 urllib3-2.3.0\n"
          ]
        },
        {
          "output_type": "display_data",
          "data": {
            "application/vnd.colab-display-data+json": {
              "pip_warning": {
                "packages": [
                  "certifi",
                  "charset_normalizer",
                  "dateutil",
                  "lxml",
                  "pandas_datareader",
                  "pytz",
                  "requests",
                  "six"
                ]
              },
              "id": "4888bc9ee00148979bed5afcb5c045b6"
            }
          },
          "metadata": {}
        },
        {
          "output_type": "stream",
          "name": "stdout",
          "text": [
            "Collecting yfinance\n",
            "  Using cached yfinance-0.2.53-py2.py3-none-any.whl.metadata (5.8 kB)\n",
            "Collecting pandas>=1.3.0 (from yfinance)\n",
            "  Using cached pandas-2.2.3-cp311-cp311-manylinux_2_17_x86_64.manylinux2014_x86_64.whl.metadata (89 kB)\n",
            "Collecting numpy>=1.16.5 (from yfinance)\n",
            "  Using cached numpy-2.2.3-cp311-cp311-manylinux_2_17_x86_64.manylinux2014_x86_64.whl.metadata (62 kB)\n",
            "Collecting requests>=2.31 (from yfinance)\n",
            "  Using cached requests-2.32.3-py3-none-any.whl.metadata (4.6 kB)\n",
            "Collecting multitasking>=0.0.7 (from yfinance)\n",
            "  Using cached multitasking-0.0.11-py3-none-any.whl.metadata (5.5 kB)\n",
            "Collecting platformdirs>=2.0.0 (from yfinance)\n",
            "  Using cached platformdirs-4.3.6-py3-none-any.whl.metadata (11 kB)\n",
            "Collecting pytz>=2022.5 (from yfinance)\n",
            "  Using cached pytz-2025.1-py2.py3-none-any.whl.metadata (22 kB)\n",
            "Collecting frozendict>=2.3.4 (from yfinance)\n",
            "  Using cached frozendict-2.4.6-py311-none-any.whl.metadata (23 kB)\n",
            "Collecting peewee>=3.16.2 (from yfinance)\n",
            "  Using cached peewee-3.17.9-cp311-cp311-linux_x86_64.whl\n",
            "Collecting beautifulsoup4>=4.11.1 (from yfinance)\n",
            "  Using cached beautifulsoup4-4.13.3-py3-none-any.whl.metadata (3.8 kB)\n",
            "Collecting soupsieve>1.2 (from beautifulsoup4>=4.11.1->yfinance)\n",
            "  Using cached soupsieve-2.6-py3-none-any.whl.metadata (4.6 kB)\n",
            "Collecting typing-extensions>=4.0.0 (from beautifulsoup4>=4.11.1->yfinance)\n",
            "  Using cached typing_extensions-4.12.2-py3-none-any.whl.metadata (3.0 kB)\n",
            "Collecting python-dateutil>=2.8.2 (from pandas>=1.3.0->yfinance)\n",
            "  Using cached python_dateutil-2.9.0.post0-py2.py3-none-any.whl.metadata (8.4 kB)\n",
            "Collecting tzdata>=2022.7 (from pandas>=1.3.0->yfinance)\n",
            "  Using cached tzdata-2025.1-py2.py3-none-any.whl.metadata (1.4 kB)\n",
            "Collecting charset-normalizer<4,>=2 (from requests>=2.31->yfinance)\n",
            "  Using cached charset_normalizer-3.4.1-cp311-cp311-manylinux_2_17_x86_64.manylinux2014_x86_64.whl.metadata (35 kB)\n",
            "Collecting idna<4,>=2.5 (from requests>=2.31->yfinance)\n",
            "  Using cached idna-3.10-py3-none-any.whl.metadata (10 kB)\n",
            "Collecting urllib3<3,>=1.21.1 (from requests>=2.31->yfinance)\n",
            "  Using cached urllib3-2.3.0-py3-none-any.whl.metadata (6.5 kB)\n",
            "Collecting certifi>=2017.4.17 (from requests>=2.31->yfinance)\n",
            "  Using cached certifi-2025.1.31-py3-none-any.whl.metadata (2.5 kB)\n",
            "Collecting six>=1.5 (from python-dateutil>=2.8.2->pandas>=1.3.0->yfinance)\n",
            "  Using cached six-1.17.0-py2.py3-none-any.whl.metadata (1.7 kB)\n",
            "Using cached yfinance-0.2.53-py2.py3-none-any.whl (108 kB)\n",
            "Using cached beautifulsoup4-4.13.3-py3-none-any.whl (186 kB)\n",
            "Using cached frozendict-2.4.6-py311-none-any.whl (16 kB)\n",
            "Using cached multitasking-0.0.11-py3-none-any.whl (8.5 kB)\n",
            "Using cached numpy-2.2.3-cp311-cp311-manylinux_2_17_x86_64.manylinux2014_x86_64.whl (16.4 MB)\n",
            "Using cached pandas-2.2.3-cp311-cp311-manylinux_2_17_x86_64.manylinux2014_x86_64.whl (13.1 MB)\n",
            "Using cached platformdirs-4.3.6-py3-none-any.whl (18 kB)\n",
            "Using cached pytz-2025.1-py2.py3-none-any.whl (507 kB)\n",
            "Using cached requests-2.32.3-py3-none-any.whl (64 kB)\n",
            "Using cached certifi-2025.1.31-py3-none-any.whl (166 kB)\n",
            "Using cached charset_normalizer-3.4.1-cp311-cp311-manylinux_2_17_x86_64.manylinux2014_x86_64.whl (143 kB)\n",
            "Using cached idna-3.10-py3-none-any.whl (70 kB)\n",
            "Using cached python_dateutil-2.9.0.post0-py2.py3-none-any.whl (229 kB)\n",
            "Using cached soupsieve-2.6-py3-none-any.whl (36 kB)\n",
            "Using cached typing_extensions-4.12.2-py3-none-any.whl (37 kB)\n",
            "Using cached tzdata-2025.1-py2.py3-none-any.whl (346 kB)\n",
            "Using cached urllib3-2.3.0-py3-none-any.whl (128 kB)\n",
            "Using cached six-1.17.0-py2.py3-none-any.whl (11 kB)\n",
            "Installing collected packages: pytz, peewee, multitasking, urllib3, tzdata, typing-extensions, soupsieve, six, platformdirs, numpy, idna, frozendict, charset-normalizer, certifi, requests, python-dateutil, beautifulsoup4, pandas, yfinance\n"
          ]
        }
      ],
      "source": [
        "# ***************************************************\n",
        "# INSERT YOUR CODE HERE\n",
        "# ***************************************************\n",
        "!pip3 install pandas_datareader --ignore-installed\n",
        "!pip3 install yfinance --ignore-installed\n",
        "\n",
        "import datetime as dt\n",
        "import pandas_datareader as dr\n",
        "import yfinance as yf\n",
        "\n",
        "yf.pdr_override()\n",
        "\n",
        "start_date = dt.datetime(2014, 1, 1)\n",
        "end_date = dt.datetime.now()\n",
        "\n",
        "# Download Netflix data\n",
        "netflix_data = dr.data.get_data_yahoo('NFLX', start=start_date, end=end_date)\n",
        "\n",
        "# Download Facebook (Meta) data\n",
        "facebook_data = dr.data.get_data_yahoo('META', start=start_date, end=end_date)\n",
        "\n",
        "# Download Microsoft data\n",
        "microsoft_data = dr.data.get_data_yahoo('MSFT', start=start_date, end=end_date)\n",
        "\n",
        "netflix_closing_prices = netflix_data['Adj Close']"
      ]
    },
    {
      "cell_type": "markdown",
      "metadata": {
        "id": "iXfm04sbw_cc"
      },
      "source": [
        "Throughout the course, we will visualize and analyze plenty of data. The following exercises should provide you a first intuition on how this can be achieved using Python's `Pandas` and `Matplotlib` library:\n",
        "\n",
        "**2. Visualise data using the `Matplotlib` library, `plt.plot(...)` and `plt.hist(...)`.**\n",
        "\n",
        "> Visualize the downloaded data by plotting the daily adjusted closing prices of the three stocks over time (1) into a single plot for each stock as well as (2) into a single plot containing the closing prices of all three stocks combined."
      ]
    },
    {
      "cell_type": "code",
      "execution_count": null,
      "metadata": {
        "id": "dZtMoe_5w_cc"
      },
      "outputs": [],
      "source": [
        "# ***************************************************\n",
        "# INSERT YOUR CODE HERE\n",
        "# ***************************************************"
      ]
    },
    {
      "cell_type": "markdown",
      "metadata": {
        "id": "sqaJXGOOw_cc"
      },
      "source": [
        "**3. Save data using the `Pandas` library.**\n",
        "\n",
        "> Research the `Panda's` data science library on how to save a `Pandas` `DataFrame` to a local directory. Save the raw daily closing prices and corresponding date of all three stocks in a comma-separated value (CSV) format to your local directory. Save the CSV file using the semicolon `';'` separator and encode it as `'utf-8'`."
      ]
    },
    {
      "cell_type": "code",
      "execution_count": null,
      "metadata": {
        "id": "zdun9-Pgw_cc"
      },
      "outputs": [],
      "source": [
        "# ***************************************************\n",
        "# INSERT YOUR CODE HERE\n",
        "# ***************************************************"
      ]
    },
    {
      "cell_type": "markdown",
      "metadata": {
        "id": "fC2IFYiKw_cc"
      },
      "source": [
        "**4. Analyze data using the `Pandas` library, `data.rolling(..., window=...)`.**\n",
        "\n",
        "> For each stock, calculate the rolling moving averages of the daily closing prices using a time window of 30 and 90 days. For each stock, plot the daily closing price as well as the 30 and 90 days moving average into a single plot."
      ]
    },
    {
      "cell_type": "code",
      "execution_count": null,
      "metadata": {
        "id": "a7sS8uWjw_cc"
      },
      "outputs": [],
      "source": [
        "# ***************************************************\n",
        "# INSERT YOUR CODE HERE\n",
        "# ***************************************************"
      ]
    },
    {
      "cell_type": "markdown",
      "metadata": {
        "id": "XLflV8Nbw_cc"
      },
      "source": [
        "### Lab Summary:"
      ]
    },
    {
      "cell_type": "markdown",
      "metadata": {
        "id": "HSuF4wdsw_cc"
      },
      "source": [
        "In this initial lab, a step by step introduction into some basic concepts of analyzing financial data using Jupyter notebooks are presented. The code and exercises presented in this lab may serve you as a starting point for more complex and tailored analytics."
      ]
    },
    {
      "cell_type": "markdown",
      "metadata": {
        "id": "LyI4s7Nbw_cc"
      },
      "source": [
        "You may want to execute the content of your lab outside of the Jupyter notebook environment, e.g., on a compute node or a server. The cell below converts the lab notebook into a standalone and executable python script."
      ]
    },
    {
      "cell_type": "code",
      "execution_count": null,
      "metadata": {
        "id": "1DcA3nymw_cd"
      },
      "outputs": [],
      "source": [
        "!jupyter nbconvert --to script lab_101_notebook.ipynb"
      ]
    }
  ],
  "metadata": {
    "kernelspec": {
      "display_name": "Python 3",
      "language": "python",
      "name": "python3"
    },
    "language_info": {
      "codemirror_mode": {
        "name": "ipython",
        "version": 3
      },
      "file_extension": ".py",
      "mimetype": "text/x-python",
      "name": "python",
      "nbconvert_exporter": "python",
      "pygments_lexer": "ipython3",
      "version": "3.8.5"
    },
    "toc": {
      "base_numbering": 1,
      "nav_menu": {},
      "number_sections": false,
      "sideBar": true,
      "skip_h1_title": false,
      "title_cell": "Table of Contents",
      "title_sidebar": "Contents",
      "toc_cell": false,
      "toc_position": {},
      "toc_section_display": true,
      "toc_window_display": false
    },
    "colab": {
      "provenance": [],
      "include_colab_link": true
    }
  },
  "nbformat": 4,
  "nbformat_minor": 0
}