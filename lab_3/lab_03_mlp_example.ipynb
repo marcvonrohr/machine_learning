{
  "cells": [
    {
      "cell_type": "markdown",
      "metadata": {
        "id": "view-in-github",
        "colab_type": "text"
      },
      "source": [
        "<a href=\"https://colab.research.google.com/github/marcvonrohr/machine_learning/blob/main/lab_3/lab_03_mlp_example.ipynb\" target=\"_parent\"><img src=\"https://colab.research.google.com/assets/colab-badge.svg\" alt=\"Open In Colab\"/></a>"
      ]
    },
    {
      "cell_type": "markdown",
      "metadata": {
        "id": "9yaWalgW_d7j"
      },
      "source": [
        "<img align=\"center\" style=\"max-width: 1000px\" src=\"https://github.com/HSG-AIML-Teaching/ML2025-Lab/blob/main/lab_3/figures/banner.png?raw=1\">"
      ]
    },
    {
      "cell_type": "markdown",
      "metadata": {
        "id": "dojtwAh1Ww1B"
      },
      "source": [
        "<img align=\"right\" style=\"max-width: 200px; height: auto\" src=\"https://github.com/HSG-AIML-Teaching/ML2025-Lab/blob/main/lab_3/figures/hsg_logo.png?raw=1\">\n",
        "\n",
        "##  Lab 03 - \"Multi-Layer Perceptrons\"\n",
        "\n",
        "Machine Learning, University of St. Gallen, Spring Term 2025"
      ]
    },
    {
      "cell_type": "markdown",
      "metadata": {
        "id": "aR4Ywe2HWw1M"
      },
      "source": [
        "In this lab, we will learn how to implement, train, and evaluate a Multi-Layer Perceptron (MLP) using `PyTorch`. We will use the implemented neural network to learn to again classify images of fashion articles from the **Fashion-MNIST** dataset."
      ]
    },
    {
      "cell_type": "markdown",
      "metadata": {
        "id": "7tb0svb4Ww1O"
      },
      "source": [
        "Objectives:\n",
        "\n",
        "1. Implement and train an MLP to **classify images**.\n",
        "2. **Evaluate and interpret results** of the network."
      ]
    },
    {
      "cell_type": "markdown",
      "metadata": {
        "id": "aut1dJXmWw1O"
      },
      "source": [
        "# 1. Problem Definition"
      ]
    },
    {
      "cell_type": "markdown",
      "metadata": {
        "id": "vyqnqndjWw1S"
      },
      "source": [
        "#### 1.1 Dataset"
      ]
    },
    {
      "cell_type": "markdown",
      "metadata": {
        "id": "wgyKo34eWw1T"
      },
      "source": [
        "The **Fashion-MNIST database** is a large database of Zalando articles that is commonly used for training various image processing systems. The database is widely used for training and testing in the field of machine learning. Let's have a brief look into a couple of sample images contained in the dataset:"
      ]
    },
    {
      "cell_type": "markdown",
      "metadata": {
        "id": "_B6cw9iEWw1T"
      },
      "source": [
        "The dataset consists of 70,000 images. It is divided into a set of **60,000 training examples** and a set of **10,000 evaluation examples**. Each example is a **28x28 grayscale image**, associated with a **label from 10 classes**. Zalando created this dataset with the intention of providing a replacement for the popular **MNIST** handwritten digits dataset. It is a useful addition as it is a bit more complex, but still very easy to use. It shares the same image size and train/test split structure as MNIST, and can therefore be used as a drop-in replacement. It requires minimal efforts on preprocessing and formatting the distinct images."
      ]
    },
    {
      "cell_type": "markdown",
      "metadata": {
        "id": "-q9TexBXWw1T"
      },
      "source": [
        "<img align=\"center\" style=\"max-width: 700px; height: 300px\" src=\"https://github.com/HSG-AIML-Teaching/ML2025-Lab/blob/main/lab_3/figures/FashionMNIST.png?raw=1\">\n",
        "\n",
        "Source: https://www.kaggle.com/c/insar-fashion-mnist-challenge"
      ]
    },
    {
      "cell_type": "markdown",
      "metadata": {
        "id": "jo8uatsXvIBE"
      },
      "source": [
        "#### 1.2 Model"
      ]
    },
    {
      "cell_type": "markdown",
      "metadata": {
        "id": "sdOtJf38vIBE"
      },
      "source": [
        "The figure below illustrates a high-level view of the machine learning process we aim to establish in this lab:"
      ]
    },
    {
      "cell_type": "markdown",
      "metadata": {
        "id": "wgQ_ksmaWw1N"
      },
      "source": [
        "<img align=\"center\" style=\"max-width: 700px\" src=\"https://github.com/HSG-AIML-Teaching/ML2025-Lab/blob/main/lab_3/figures/classification.png?raw=1\">"
      ]
    },
    {
      "cell_type": "markdown",
      "metadata": {
        "id": "loUEinm1Ww1e"
      },
      "source": [
        "The neural network, which we name **'FashionMNISTNet'** consists of three **fully-connected layers** (including an “input layer” and two hidden layers). Furthermore, the **FashionMNISTNet** should encompass the following number of neurons per layer: 100 (layer 1), 50 (layer 2) and 10 (layer 3). Meaning the first layer consists of 100 neurons, the second layer of 50 neurons and third layer of 10 neurons (the number of digit classes we aim to classify)."
      ]
    },
    {
      "cell_type": "markdown",
      "metadata": {
        "id": "4YEOHPO5Ww1T"
      },
      "source": [
        "Further details on the dataset can be obtained via Zalando research's [github page](https://github.com/zalandoresearch/fashion-mnist)."
      ]
    },
    {
      "cell_type": "markdown",
      "metadata": {
        "id": "NPpkEsJ9vIBF"
      },
      "source": [
        "# 2. Implementation"
      ]
    },
    {
      "cell_type": "markdown",
      "metadata": {
        "id": "kzejrXfGvIBF"
      },
      "source": [
        "#### 2.1 Download and Prepare dataset"
      ]
    },
    {
      "cell_type": "code",
      "execution_count": 1,
      "metadata": {
        "id": "9nbR3s9qvIBF"
      },
      "outputs": [],
      "source": [
        "import torchvision"
      ]
    },
    {
      "cell_type": "code",
      "execution_count": 2,
      "metadata": {
        "id": "X-GZL31YWw1W",
        "outputId": "fbe190b5-65e5-4165-a3a7-b1772e1b423f",
        "colab": {
          "base_uri": "https://localhost:8080/"
        }
      },
      "outputs": [
        {
          "output_type": "stream",
          "name": "stderr",
          "text": [
            "100%|██████████| 26.4M/26.4M [00:02<00:00, 13.2MB/s]\n",
            "100%|██████████| 29.5k/29.5k [00:00<00:00, 209kB/s]\n",
            "100%|██████████| 4.42M/4.42M [00:01<00:00, 3.89MB/s]\n",
            "100%|██████████| 5.15k/5.15k [00:00<00:00, 13.0MB/s]\n"
          ]
        }
      ],
      "source": [
        "# Define pytorch transformation to convert dataset samples to PyTorch tensors\n",
        "transf = torchvision.transforms.Compose([torchvision.transforms.ToTensor()])\n",
        "\n",
        "# Download and initialize train set\n",
        "train_set = torchvision.datasets.FashionMNIST(root=\"./data\", train=True, transform=transf, download=True)\n",
        "test_set = torchvision.datasets.FashionMNIST(root=\"./data\", train=False, transform=transf, download=True)"
      ]
    },
    {
      "cell_type": "markdown",
      "metadata": {
        "id": "ucTxc7GGWw1c"
      },
      "source": [
        "#### 2.2 Neural Network Implementation"
      ]
    },
    {
      "cell_type": "markdown",
      "metadata": {
        "id": "xTQ_VZWaWw1d"
      },
      "source": [
        "In this section, we will implement the architecture of the **MLP** we aim to utilize for the classification of FashionMNIST images. However, before we start the implementation let's briefly revisit the process to be established. The following figure provides a birds-eye view:"
      ]
    },
    {
      "cell_type": "markdown",
      "metadata": {
        "id": "9i5LlBmiWw1d"
      },
      "source": [
        "<img align=\"center\" style=\"max-width: 1000px\" src=\"https://github.com/HSG-AIML/LabGSERM/blob/main/lab_04/process.png?raw=1\">"
      ]
    },
    {
      "cell_type": "markdown",
      "metadata": {
        "id": "FGxSr-77Ww1e"
      },
      "source": [
        "We will now start implementing the network architecture as a separate Python class. Implementing the network architectures as a **separate class** in Python is good practice in deep learning projects. It will allow us to create and train several instances of the same neural network architecture. This provides us, for example, the opportunity to evaluate different initializations of the network parameters or train models using distinct datasets."
      ]
    },
    {
      "cell_type": "code",
      "execution_count": 3,
      "metadata": {
        "id": "Je_vJy-IvIBH"
      },
      "outputs": [],
      "source": [
        "import torch\n",
        "import torch.nn as nn"
      ]
    },
    {
      "cell_type": "code",
      "execution_count": 4,
      "metadata": {
        "id": "VLrELu2EWw1f"
      },
      "outputs": [],
      "source": [
        "class FashionMNISTNet(nn.Module):\n",
        "    # Define the class constructor\n",
        "    def __init__(self):\n",
        "        # Call super class constructor\n",
        "        super(FashionMNISTNet, self).__init__()\n",
        "\n",
        "        # Fully-Connected (fc) layer 1 - in 28*28, out 100\n",
        "        self.linear1 = nn.Linear(28*28, 100, bias=True) # the linearity W*x+b\n",
        "        self.relu1 = nn.ReLU(inplace=True) # the non-linearity\n",
        "\n",
        "        # FC layer 2 - in 100, out 50\n",
        "        self.linear2 = nn.Linear(100, 50, bias=True) # the linearity W*x+b\n",
        "        self.relu2 = nn.ReLU(inplace=True) # the non-linarity\n",
        "\n",
        "        # FC layer 3 - in 50, out 10\n",
        "        self.linear3 = nn.Linear(50, 10) # the linearity W*x+b\n",
        "\n",
        "    # Define network forward pass\n",
        "    def forward(self, images):\n",
        "\n",
        "        # Reshape image pixels\n",
        "        x = images.view(-1, 784)\n",
        "\n",
        "        # FC layer 1 forward pass\n",
        "        x = self.relu1(self.linear1(x))\n",
        "\n",
        "        # FC layer 2 forward pass\n",
        "        x = self.relu2(self.linear2(x))\n",
        "\n",
        "        # FC layer 3 forward pass\n",
        "        x = self.linear3(x)\n",
        "\n",
        "        return x"
      ]
    },
    {
      "cell_type": "markdown",
      "metadata": {
        "id": "zcrCZgZqWw1g",
        "tags": []
      },
      "source": [
        "The output of the softmax describes the probability (or if you may, the confidence) of the neural network that a particular sample belongs to a certain class. Thus, for the first example above, the neural network assigns a confidence of 0.49 that it is a 'three', 0.49 that it is a 'four', and 0.03 that it is an 'eight'. The same goes for each of the samples above."
      ]
    },
    {
      "cell_type": "markdown",
      "metadata": {
        "id": "1ULWQ3RmWw1f"
      },
      "source": [
        "<img align=\"center\" style=\"max-width: 800px\" src=\"https://github.com/HSG-AIML-Teaching/ML2025-Lab/blob/main/lab_3/figures/softmax.png?raw=1\">"
      ]
    },
    {
      "cell_type": "markdown",
      "metadata": {
        "id": "n_26k9mFvIBH"
      },
      "source": [
        "Now, that we have implemented our first neural network we are ready to instantiate a network model to be trained:"
      ]
    },
    {
      "cell_type": "code",
      "execution_count": 5,
      "metadata": {
        "id": "zfvFFCCHWw1g"
      },
      "outputs": [],
      "source": [
        "model = FashionMNISTNet()"
      ]
    },
    {
      "cell_type": "markdown",
      "metadata": {
        "id": "efX9IOPSw8DZ"
      },
      "source": [
        "Let's push the initialized `FashionMNISTNet` model to the computing `device` that is enabled:"
      ]
    },
    {
      "cell_type": "code",
      "execution_count": 6,
      "metadata": {
        "id": "mdt0vmIJvIBI",
        "outputId": "af94987c-3efc-415d-9daf-d2e07fa5454b",
        "colab": {
          "base_uri": "https://localhost:8080/"
        }
      },
      "outputs": [
        {
          "output_type": "execute_result",
          "data": {
            "text/plain": [
              "FashionMNISTNet(\n",
              "  (linear1): Linear(in_features=784, out_features=100, bias=True)\n",
              "  (relu1): ReLU(inplace=True)\n",
              "  (linear2): Linear(in_features=100, out_features=50, bias=True)\n",
              "  (relu2): ReLU(inplace=True)\n",
              "  (linear3): Linear(in_features=50, out_features=10, bias=True)\n",
              ")"
            ]
          },
          "metadata": {},
          "execution_count": 6
        }
      ],
      "source": [
        "device = torch.device(\"cuda\" if torch.cuda.is_available() else \"cpu\")\n",
        "\n",
        "# Send model to compute device\n",
        "model.to(device)"
      ]
    },
    {
      "cell_type": "markdown",
      "metadata": {
        "id": "yLepbxvWvIBI"
      },
      "source": [
        "# 3. Training"
      ]
    },
    {
      "cell_type": "markdown",
      "metadata": {
        "id": "BdBZDOpbvIBI"
      },
      "source": [
        "#### 3.1 Model Training"
      ]
    },
    {
      "cell_type": "code",
      "execution_count": 7,
      "metadata": {
        "id": "7j_xDX1SvIBI"
      },
      "outputs": [],
      "source": [
        "import numpy as np\n",
        "import matplotlib.pyplot as plt\n",
        "from torch.utils.data import DataLoader"
      ]
    },
    {
      "cell_type": "markdown",
      "metadata": {
        "id": "XO1P2wb3Ww1k"
      },
      "source": [
        "Furthermore, lets specify and instantiate a corresponding PyTorch data loader that feeds the image tensors to our neural network:"
      ]
    },
    {
      "cell_type": "code",
      "execution_count": 8,
      "metadata": {
        "id": "vyLwFEMXWw1l"
      },
      "outputs": [],
      "source": [
        "batch_size = 128 # Size of the mini-batches\n",
        "\n",
        "train_loader = torch.utils.data.DataLoader(train_set, batch_size=batch_size, shuffle=True)"
      ]
    },
    {
      "cell_type": "markdown",
      "metadata": {
        "id": "jX99_DY7Ww1j"
      },
      "source": [
        "Based on the loss magnitude of a certain mini-batch PyTorch automatically computes the gradients. But even better, based on the gradient, the library also helps us in the optimization and update of the network parameters $\\theta$.\n",
        "\n",
        "We will use the **Stochastic Gradient Descent (SGD)** algorithm for the optimization with learning-rate $l = 0.001$. Each mini-batch step the optimizer will update the model parameters $\\theta$ values according to the degree of classification error."
      ]
    },
    {
      "cell_type": "code",
      "execution_count": 9,
      "metadata": {
        "id": "84Oq2woEWw1j"
      },
      "outputs": [],
      "source": [
        "# Define learning rate and the optimization algorithm\n",
        "learning_rate = 0.01\n",
        "optimizer = torch.optim.SGD(params=model.parameters(), lr=learning_rate)"
      ]
    },
    {
      "cell_type": "markdown",
      "metadata": {
        "id": "MJYifwTKvIBJ"
      },
      "source": [
        "Define Optimization criterion: Cross-Entropy loss function"
      ]
    },
    {
      "cell_type": "code",
      "execution_count": 10,
      "metadata": {
        "id": "qbgFFIDjWw1i"
      },
      "outputs": [],
      "source": [
        "# Define the optimization criterion / loss function\n",
        "cross_entropy = nn.CrossEntropyLoss()"
      ]
    },
    {
      "cell_type": "markdown",
      "metadata": {
        "id": "OflEHigAvIBS"
      },
      "source": [
        "And finally the model for multiple epochs:"
      ]
    },
    {
      "cell_type": "markdown",
      "metadata": {
        "id": "yuq9BhecvIBT"
      },
      "source": [
        "<img align=\"center\" style=\"max-width: 350px\" src=\"https://github.com/HSG-AIML-Teaching/ML2025-Lab/blob/main/lab_3/figures/sgd_alg.png?raw=1\">"
      ]
    },
    {
      "cell_type": "code",
      "execution_count": 11,
      "metadata": {
        "id": "70W8AZWlWw1m",
        "outputId": "ecf1069b-2a1f-4c24-b9dd-d66365c2db99",
        "colab": {
          "base_uri": "https://localhost:8080/"
        }
      },
      "outputs": [
        {
          "output_type": "stream",
          "name": "stdout",
          "text": [
            "Epoch 0: 1.9552096580899854\n",
            "Epoch 1: 1.0250498444032567\n",
            "Epoch 2: 0.7810358394946116\n",
            "Epoch 3: 0.6920224993722017\n",
            "Epoch 4: 0.6317658824071701\n",
            "Epoch 5: 0.5886500691300007\n",
            "Epoch 6: 0.5574507985923336\n",
            "Epoch 7: 0.5331815723925512\n",
            "Epoch 8: 0.5149578433682416\n",
            "Epoch 9: 0.5006321467824583\n",
            "Epoch 10: 0.48889168124717436\n",
            "Epoch 11: 0.4788929158563553\n",
            "Epoch 12: 0.47029679975529975\n",
            "Epoch 13: 0.46303090726388796\n",
            "Epoch 14: 0.4570827051393513\n",
            "Epoch 15: 0.44980045581168965\n",
            "Epoch 16: 0.4450287405234664\n",
            "Epoch 17: 0.44082240010502494\n",
            "Epoch 18: 0.43559847934159646\n",
            "Epoch 19: 0.4313992912898948\n"
          ]
        }
      ],
      "source": [
        "# A list to keep epoch losses (for visualization)\n",
        "train_epoch_losses = []\n",
        "\n",
        "# Set the model in training mode\n",
        "model.train()\n",
        "\n",
        "# Specify the training parameters\n",
        "num_epochs = 20 # Number of training epochs\n",
        "\n",
        "# For each epoch in the training\n",
        "for epoch in range(num_epochs):\n",
        "\n",
        "    # Temp list to keep batch losses\n",
        "    train_mini_batch_losses = []\n",
        "\n",
        "    # For each batch in the dataloader\n",
        "    for i, (x, y) in enumerate(train_loader):\n",
        "\n",
        "        # Push mini-batch data to compute device\n",
        "        x, y = x.to(device), y.to(device)\n",
        "\n",
        "        # Model forward\n",
        "        pred = model(x)\n",
        "\n",
        "        # Reset model's gradients\n",
        "        model.zero_grad()\n",
        "\n",
        "        # Calculate loss for the current batch\n",
        "        loss = cross_entropy(pred, y)\n",
        "\n",
        "        # Backprop\n",
        "        loss.backward()\n",
        "\n",
        "        # Update network paramaters\n",
        "        optimizer.step()\n",
        "\n",
        "        # Collect mini-batch losses\n",
        "        train_mini_batch_losses.append(loss.data.item())\n",
        "\n",
        "    # Calculate epoch loss\n",
        "    avg_epoch_loss = np.mean(train_mini_batch_losses)\n",
        "\n",
        "    # Store A mean min-batch  loss of epoch\n",
        "    train_epoch_losses.append(avg_epoch_loss)\n",
        "\n",
        "    print(f\"Epoch {epoch}: {avg_epoch_loss}\")\n",
        "\n",
        "# Save the checkpoint of the model after the final epoch\n",
        "torch.save(model.state_dict(), \"./checkpoint.pt\")\n",
        ""
      ]
    },
    {
      "cell_type": "markdown",
      "metadata": {
        "id": "ufYy0TI4vIBT"
      },
      "source": [
        "#### 3.2 Visualization of Training Loss"
      ]
    },
    {
      "cell_type": "markdown",
      "metadata": {
        "id": "8dqoGo_7Ww1m"
      },
      "source": [
        "Upon successfull training let's visualize and inspect the training loss per epoch:"
      ]
    },
    {
      "cell_type": "code",
      "execution_count": 12,
      "metadata": {
        "id": "lLI0Y53VWw1m",
        "outputId": "9e88da04-d894-476a-b808-c7021438734d",
        "colab": {
          "base_uri": "https://localhost:8080/",
          "height": 477
        }
      },
      "outputs": [
        {
          "output_type": "display_data",
          "data": {
            "text/plain": [
              "<Figure size 640x480 with 1 Axes>"
            ],
            "image/png": "[encoded data removed]"
          },
          "metadata": {}
        }
      ],
      "source": [
        "# Prepare plot\n",
        "fig = plt.figure()\n",
        "ax = fig.add_subplot(111)\n",
        "\n",
        "# Add grid\n",
        "ax.grid(linestyle='dotted')\n",
        "\n",
        "# Plot the training epochs vs. the epochs' classification error\n",
        "ax.plot(np.array(range(1, len(train_epoch_losses)+1)), train_epoch_losses, label='epoch loss (blue)')\n",
        "\n",
        "# Add axis legends\n",
        "ax.set_xlabel(\"[training epoch $e_i$]\", fontsize=10)\n",
        "ax.set_ylabel(\"[Classification Error $\\mathcal{L}^{CE}$]\", fontsize=10)\n",
        "\n",
        "# Set plot legend\n",
        "plt.legend(loc=\"upper right\", numpoints=1, fancybox=True)\n",
        "\n",
        "# Add plot title\n",
        "plt.title('Training Epochs $e_i$ vs. Classification Error $L^{NLL}$', fontsize=10);"
      ]
    },
    {
      "cell_type": "markdown",
      "metadata": {
        "id": "QmkQMB6YWw1n"
      },
      "source": [
        "Ok, fantastic. The training error is nicely going down. We could train the network a couple more epochs until the error converges. But let's stay with the 20 training epochs for now and continue with evaluating our trained model."
      ]
    },
    {
      "cell_type": "markdown",
      "metadata": {
        "id": "GLRATh-GvIBU"
      },
      "source": [
        "# 4. Evaluation"
      ]
    },
    {
      "cell_type": "code",
      "execution_count": 13,
      "metadata": {
        "id": "WADyi5DwvIBU"
      },
      "outputs": [],
      "source": [
        "import seaborn as sns\n",
        "\n",
        "# import sklearn classification evaluation library\n",
        "from sklearn import metrics\n",
        "from sklearn.metrics import classification_report, confusion_matrix"
      ]
    },
    {
      "cell_type": "markdown",
      "metadata": {
        "id": "NwcBePt-vIBV"
      },
      "source": [
        "Load the checkpoint from trained model:"
      ]
    },
    {
      "cell_type": "code",
      "execution_count": 14,
      "metadata": {
        "id": "Ki8gJ-wNvIBV",
        "outputId": "1a0a3bcc-8124-4986-e9ef-1b8e398f9e1c",
        "colab": {
          "base_uri": "https://localhost:8080/"
        }
      },
      "outputs": [
        {
          "output_type": "execute_result",
          "data": {
            "text/plain": [
              "<All keys matched successfully>"
            ]
          },
          "metadata": {},
          "execution_count": 14
        }
      ],
      "source": [
        "# Load state_dict from path\n",
        "state_dict = torch.load(\"checkpoint.pt\")\n",
        "\n",
        "# Init pre-trained model class\n",
        "best_model = FashionMNISTNet()\n",
        "\n",
        "# Load pre-trained state_dict to the model\n",
        "best_model.load_state_dict(state_dict)"
      ]
    },
    {
      "cell_type": "markdown",
      "metadata": {
        "id": "7oqOeiajWw1n"
      },
      "source": [
        "Enable evaluation mode in the model. It is necessary to enable evaluation mode since some models have modules that can bahave differently in the train and evaluation mode. Example: batch-normalization layers."
      ]
    },
    {
      "cell_type": "code",
      "execution_count": 15,
      "metadata": {
        "id": "KarjZ3ldWw1n",
        "outputId": "11a07e27-db39-491d-be08-c3384ca20953",
        "colab": {
          "base_uri": "https://localhost:8080/"
        }
      },
      "outputs": [
        {
          "output_type": "execute_result",
          "data": {
            "text/plain": [
              "FashionMNISTNet(\n",
              "  (linear1): Linear(in_features=784, out_features=100, bias=True)\n",
              "  (relu1): ReLU(inplace=True)\n",
              "  (linear2): Linear(in_features=100, out_features=50, bias=True)\n",
              "  (relu2): ReLU(inplace=True)\n",
              "  (linear3): Linear(in_features=50, out_features=10, bias=True)\n",
              ")"
            ]
          },
          "metadata": {},
          "execution_count": 15
        }
      ],
      "source": [
        "# Set model in evaluation mode\n",
        "best_model.eval()"
      ]
    },
    {
      "cell_type": "markdown",
      "metadata": {
        "id": "DTzDgIp2vIBV"
      },
      "source": [
        "#### 4.1 Evaluation Loss"
      ]
    },
    {
      "cell_type": "markdown",
      "metadata": {
        "id": "GaFA9LyRWw1o"
      },
      "source": [
        "To evaluate our trained model, we need to feed the FashionMNIST images reserved for evaluation (the images that we didn't use as part of the training process) through the model. Therefore, let's again define a corresponding PyTorch data loader that feeds the image tensors to our neural network:"
      ]
    },
    {
      "cell_type": "code",
      "execution_count": 16,
      "metadata": {
        "id": "pQB-RFR8Ww1o"
      },
      "outputs": [],
      "source": [
        "# Test loader\n",
        "test_loader = DataLoader(test_set, batch_size=64)"
      ]
    },
    {
      "cell_type": "markdown",
      "metadata": {
        "id": "OPP7OowBWw1o"
      },
      "source": [
        "We will now evaluate the trained model using the same mini-batch approach as we did throughout the network training and derive the mean negative log-likelihood loss of the mini-batches:"
      ]
    },
    {
      "cell_type": "code",
      "execution_count": 17,
      "metadata": {
        "id": "xpttWy_AWw1o"
      },
      "outputs": [],
      "source": [
        "# Init collection of mini-batch losses\n",
        "eval_mini_batch_losses = []\n",
        "\n",
        "# Iterate over all-mini batches\n",
        "for i, (images, labels) in enumerate(test_loader):\n",
        "\n",
        "    # Run forward pass through the network\n",
        "    output = best_model(images)\n",
        "\n",
        "    # Determine classification loss\n",
        "    loss = cross_entropy(output, labels)\n",
        "\n",
        "    # Collect mini-batch reconstruction loss\n",
        "    eval_mini_batch_losses.append(loss.data.item())\n",
        "\n",
        "# Determine mean min-batch loss of epoch\n",
        "eval_loss = np.mean(eval_mini_batch_losses)\n"
      ]
    },
    {
      "cell_type": "code",
      "execution_count": 18,
      "metadata": {
        "id": "GU8wiG_-vIBW",
        "outputId": "4cb5f869-a0c0-4bcc-a266-036bcfb640c5",
        "colab": {
          "base_uri": "https://localhost:8080/"
        }
      },
      "outputs": [
        {
          "output_type": "execute_result",
          "data": {
            "text/plain": [
              "np.float64(0.47143168092533283)"
            ]
          },
          "metadata": {},
          "execution_count": 18
        }
      ],
      "source": [
        "eval_loss"
      ]
    },
    {
      "cell_type": "markdown",
      "metadata": {
        "id": "CU-859qsvIBX"
      },
      "source": [
        "#### 4.2 Random Sample Inspection"
      ]
    },
    {
      "cell_type": "markdown",
      "metadata": {
        "id": "oNwLBDGPWw1p"
      },
      "source": [
        "Ok, great. The evaluation loss looks in-line with our training loss. Let's now inspect a few sample predictions to get an impression of the model quality. Therefore, we will again pick a random image of our evaluation dataset and retrieve its PyTorch tensor as well as the corresponding label:"
      ]
    },
    {
      "cell_type": "code",
      "execution_count": 19,
      "metadata": {
        "id": "JTM5mTHaWw1p"
      },
      "outputs": [],
      "source": [
        "# Set (random) image id\n",
        "image_id = 2000\n",
        "\n",
        "# Retrieve image exhibiting the image id\n",
        "rnd_test_sample, rnd_test_label = test_set[image_id]"
      ]
    },
    {
      "cell_type": "markdown",
      "metadata": {
        "id": "wkZowxdUWw1p"
      },
      "source": [
        "Let's now inspect the true class of the image we selected:"
      ]
    },
    {
      "cell_type": "code",
      "execution_count": 20,
      "metadata": {
        "id": "FmzSMz1FASrm"
      },
      "outputs": [],
      "source": [
        "fashion_classes = {0: 'T-shirt/top',\n",
        "                    1: 'Trouser',\n",
        "                    2: 'Pullover',\n",
        "                    3: 'Dress',\n",
        "                    4: 'Coat',\n",
        "                    5: 'Sandal',\n",
        "                    6: 'Shirt',\n",
        "                    7: 'Sneaker',\n",
        "                    8: 'Bag',\n",
        "                    9: 'Ankle boot'}"
      ]
    },
    {
      "cell_type": "code",
      "execution_count": 21,
      "metadata": {
        "id": "IIq9uSnfWw1q",
        "outputId": "cf643bac-7b1e-43b5-8d32-5b86698ea678",
        "colab": {
          "base_uri": "https://localhost:8080/",
          "height": 35
        }
      },
      "outputs": [
        {
          "output_type": "execute_result",
          "data": {
            "text/plain": [
              "'Bag'"
            ],
            "application/vnd.google.colaboratory.intrinsic+json": {
              "type": "string"
            }
          },
          "metadata": {},
          "execution_count": 21
        }
      ],
      "source": [
        "fashion_classes[rnd_test_label]"
      ]
    },
    {
      "cell_type": "markdown",
      "metadata": {
        "id": "Hjz4GOpyWw1q"
      },
      "source": [
        "Ok, the randomly selected image should contain a bag. Let's inspect the image accordingly:"
      ]
    },
    {
      "cell_type": "code",
      "execution_count": 22,
      "metadata": {
        "id": "m1hZMQ6oWw1r",
        "outputId": "039a9638-0685-44a3-e888-b804497e29c0",
        "colab": {
          "base_uri": "https://localhost:8080/",
          "height": 469
        }
      },
      "outputs": [
        {
          "output_type": "execute_result",
          "data": {
            "text/plain": [
              "<matplotlib.image.AxesImage at 0x78034df34b50>"
            ]
          },
          "metadata": {},
          "execution_count": 22
        },
        {
          "output_type": "display_data",
          "data": {
            "text/plain": [
              "<Figure size 640x480 with 1 Axes>"
            ],
            "image/png": "[encoded data removed]"
          },
          "metadata": {}
        }
      ],
      "source": [
        "# define tensor to image transformation\n",
        "trans = torchvision.transforms.ToPILImage()\n",
        "\n",
        "# set image plot title\n",
        "plt.title('Example: {}, Label: {}'.format(str(image_id), fashion_classes[rnd_test_label]))\n",
        "\n",
        "# plot mnist handwritten digit sample\n",
        "plt.imshow(trans(rnd_test_sample), cmap='gray')"
      ]
    },
    {
      "cell_type": "markdown",
      "metadata": {
        "id": "yFW-PYEnWw1r"
      },
      "source": [
        "Let's compare the true label with the prediction of our model:"
      ]
    },
    {
      "cell_type": "markdown",
      "metadata": {
        "id": "mNFAM_deWw1s"
      },
      "source": [
        "We can even determine the likelihood of the most probable class:"
      ]
    },
    {
      "cell_type": "code",
      "execution_count": 23,
      "metadata": {
        "id": "A2knLiUqWw1t",
        "outputId": "17cd2cda-9c44-41d3-958e-a3e7f4f2d48a",
        "colab": {
          "base_uri": "https://localhost:8080/"
        }
      },
      "outputs": [
        {
          "output_type": "stream",
          "name": "stdout",
          "text": [
            "Most probable class: 8\n",
            "This class represents the following fashion article: Bag\n"
          ]
        }
      ],
      "source": [
        "most_probable = torch.argmax(best_model(rnd_test_sample), dim=1).item()\n",
        "print('Most probable class: {}'.format(most_probable))\n",
        "print('This class represents the following fashion article: {}'.format(fashion_classes[most_probable]))"
      ]
    },
    {
      "cell_type": "markdown",
      "metadata": {
        "id": "0vaXvA-WvIBZ"
      },
      "source": [
        "#### 4.3 Prediction Accuracy for All Classes"
      ]
    },
    {
      "cell_type": "markdown",
      "metadata": {
        "id": "jwOIf2adWw1t"
      },
      "source": [
        "Let's now obtain the predictions for all the fashion item images of the evaluation data:"
      ]
    },
    {
      "cell_type": "code",
      "execution_count": 24,
      "metadata": {
        "id": "YRmjfYDZWw1t"
      },
      "outputs": [],
      "source": [
        "predictions = torch.argmax(best_model(test_set.data.float()), dim=1)"
      ]
    },
    {
      "cell_type": "markdown",
      "metadata": {
        "id": "eFKiMKw-Ww1t"
      },
      "source": [
        "Furthermore, let's obtain the overall classifcation accuracy:"
      ]
    },
    {
      "cell_type": "code",
      "execution_count": 25,
      "metadata": {
        "id": "BvV-HLcsWw1t",
        "outputId": "3bde1d79-2251-474f-a0e8-a15f928adac8",
        "colab": {
          "base_uri": "https://localhost:8080/"
        }
      },
      "outputs": [
        {
          "output_type": "execute_result",
          "data": {
            "text/plain": [
              "0.7842"
            ]
          },
          "metadata": {},
          "execution_count": 25
        }
      ],
      "source": [
        "metrics.accuracy_score(test_set.targets, predictions.detach())"
      ]
    },
    {
      "cell_type": "markdown",
      "metadata": {
        "id": "6B-KdgKNWw1u"
      },
      "source": [
        "Let's also inspect the confusion matrix to determine major sources of misclassification:"
      ]
    },
    {
      "cell_type": "code",
      "execution_count": 26,
      "metadata": {
        "id": "w5LkSBwpWw1u",
        "outputId": "533bec7e-952b-45da-8df3-d49a92f4b01f",
        "colab": {
          "base_uri": "https://localhost:8080/",
          "height": 714
        }
      },
      "outputs": [
        {
          "output_type": "display_data",
          "data": {
            "text/plain": [
              "<Figure size 800x800 with 1 Axes>"
            ],
            "image/png": "[encoded data removed]"
          },
          "metadata": {}
        }
      ],
      "source": [
        "# determine classification matrix of the predicted and target classes\n",
        "mat = confusion_matrix(test_set.targets, predictions.detach())\n",
        "\n",
        "# initialize the plot and define size\n",
        "plt.figure(figsize=(8, 8))\n",
        "\n",
        "# plot corresponding confusion matrix\n",
        "sns.heatmap(mat.T, square=True, annot=True, fmt='d', cbar=False, cmap='YlOrRd_r', xticklabels=fashion_classes.values(), yticklabels=fashion_classes.values())\n",
        "plt.tick_params(axis='both', which='major', labelsize=8, labelbottom = False, bottom=False, top = False, left = False, labeltop=True)\n",
        "\n",
        "# set plot title\n",
        "plt.title('Fashion MNIST classification matrix')\n",
        "\n",
        "# set axis labels\n",
        "plt.xlabel('[true label]')\n",
        "plt.ylabel('[predicted label]');"
      ]
    },
    {
      "cell_type": "markdown",
      "metadata": {
        "id": "Ob6vR-e3Ww1u"
      },
      "source": [
        "Ok, we can easily see that our current model confuses sandals with either sneakers or ankle boots. However, the inverse does not really hold. The model sometimes confuses sneakers with ankle boots, and only very rarely with sandals. The same holds ankle boots. Our model also has issues distinguishing shirts from coats (and, to a lesser degree, from T-shirts and pullovers).\n",
        "\n",
        "These mistakes are not very surprising, as these items exhibit a high similarity."
      ]
    },
    {
      "cell_type": "code",
      "execution_count": 26,
      "metadata": {
        "id": "KZVowaGkvIBa"
      },
      "outputs": [],
      "source": []
    }
  ],
  "metadata": {
    "accelerator": "GPU",
    "colab": {
      "collapsed_sections": [
        "aut1dJXmWw1O",
        "Ks081EJEWw1P",
        "vyqnqndjWw1S",
        "ucTxc7GGWw1c",
        "hJhKTaHnWw1i",
        "8nyWq1X-Ww1n",
        "e1l8HbUzWw1v"
      ],
      "name": "lab_04.ipynb",
      "provenance": [],
      "gpuType": "T4",
      "include_colab_link": true
    },
    "kernelspec": {
      "display_name": "Python 3",
      "name": "python3"
    },
    "language_info": {
      "codemirror_mode": {
        "name": "ipython",
        "version": 3
      },
      "file_extension": ".py",
      "mimetype": "text/x-python",
      "name": "python",
      "nbconvert_exporter": "python",
      "pygments_lexer": "ipython3",
      "version": "3.10.16"
    },
    "toc": {
      "base_numbering": 1,
      "nav_menu": {},
      "number_sections": false,
      "sideBar": true,
      "skip_h1_title": false,
      "title_cell": "Table of Contents",
      "title_sidebar": "Contents",
      "toc_cell": false,
      "toc_position": {
        "height": "calc(100% - 180px)",
        "left": "10px",
        "top": "150px",
        "width": "225px"
      },
      "toc_section_display": true,
      "toc_window_display": false
    }
  },
  "nbformat": 4,
  "nbformat_minor": 0
}