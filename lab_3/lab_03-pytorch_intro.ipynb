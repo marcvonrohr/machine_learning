{
  "cells": [
    {
      "cell_type": "markdown",
      "metadata": {
        "id": "view-in-github",
        "colab_type": "text"
      },
      "source": [
        "<a href=\"https://colab.research.google.com/github/marcvonrohr/machine_learning/blob/main/lab_3/lab_03-pytorch_intro.ipynb\" target=\"_parent\"><img src=\"https://colab.research.google.com/assets/colab-badge.svg\" alt=\"Open In Colab\"/></a>"
      ]
    },
    {
      "cell_type": "markdown",
      "metadata": {
        "id": "9yaWalgW_d7j"
      },
      "source": [
        "<img align=\"center\" style=\"max-width: 1000px\" src=\"https://github.com/HSG-AIML-Teaching/ML2025-Lab/blob/main/lab_3/figures/banner.png?raw=1\">"
      ]
    },
    {
      "cell_type": "markdown",
      "metadata": {
        "id": "dojtwAh1Ww1B"
      },
      "source": [
        "<img align=\"right\" style=\"max-width: 200px; height: auto\" src=\"https://github.com/HSG-AIML-Teaching/ML2025-Lab/blob/main/lab_3/figures/hsg_logo.png?raw=1\">\n",
        "\n",
        "##  Lab 03 - \"Introduction to Pytorch\"\n",
        "\n",
        "Machine Learning, University of St. Gallen, Spring Term 2025"
      ]
    },
    {
      "cell_type": "markdown",
      "metadata": {
        "id": "WsGAwNAhpTxx"
      },
      "source": [
        "Objectives:\n",
        "\n",
        " - Become familiar with PyTorch\n",
        " - Understand the basics of automatic differentiation\n",
        " - Implement a simple linear model with `torch.nn`"
      ]
    },
    {
      "cell_type": "markdown",
      "metadata": {
        "id": "Yz6O5EtIpTxx"
      },
      "source": [
        "## 1. Why Use Deep Learning Libraries?"
      ]
    },
    {
      "cell_type": "markdown",
      "metadata": {
        "id": "hlv8UCNVpTxx"
      },
      "source": [
        "Numpy is a powerful library for numerical computing and can be used to build and train neural networks from scratch. However, there are two significant limitations to using pure Numpy for deep learning:\n",
        "\n",
        "1. Numpy does not provide built-in support for GPU acceleration.\n",
        "2. Numpy does not offer automatic differentiation out of the box.\n",
        "\n",
        "As a result, using Numpy for deep learning is not always the most efficient or practical option. Instead, frameworks like PyTorch have been designed to address these limitations and provide developers with powerful tools for building, training, and deploying deep neural networks."
      ]
    },
    {
      "cell_type": "markdown",
      "metadata": {
        "id": "iQAn7xeCpTxy"
      },
      "source": [
        "##  2. Which Library to Use?"
      ]
    },
    {
      "cell_type": "markdown",
      "metadata": {
        "id": "KcvNHMZFpTxy"
      },
      "source": [
        "Some of the major libraries that we can use for deep learning are: PyTorch, Jax, TensorFlow and Chainer."
      ]
    },
    {
      "cell_type": "markdown",
      "metadata": {
        "id": "AtKGzUPvpTxy"
      },
      "source": [
        "<img align=\"center\" style=\"max-width: 800px\" src=\"https://github.com/HSG-AIML-Teaching/ML2025-Lab/blob/main/lab_3/figures/dl_libraries.png?raw=1\">"
      ]
    },
    {
      "cell_type": "markdown",
      "metadata": {
        "id": "VfPIjhIupTxy"
      },
      "source": [
        "Below we compare several features in these libraries:"
      ]
    },
    {
      "cell_type": "markdown",
      "metadata": {
        "id": "e4hv8YyDpTxz"
      },
      "source": [
        "| Feature        | PyTorch           | JAX               | TensorFlow 2.0    | Chainer           |\n",
        "|----------------|-------------------|-------------------|-------------------|-------------------|\n",
        "| Main Focus     | Deep Learning     | Numerical Computing| Deep Learning     | Deep Learning     |\n",
        "| Backends | PyTorch | XLA, NumPy | TensorFlow | NumPy |\n",
        "| Programming Language Support | Python | Python, Julia | Python | Python |\n",
        "| GPU Support | Yes         | Yes         | Yes         | Yes         |\n",
        "| Computation Graph | Dynamic           | Dynamic            | Dynamic (since version 2.0)            | Dynamic            |\n",
        "| Auto Differentiation | Yes             | Yes               | Yes              | Yes               |\n",
        "| APIs for Model Building | Torch.nn | Flax, Haiku | Keras, Estimators, Layers | Chainer.links, Chainer.functions |\n",
        "| Distributed Training | Yes             | Yes                | Yes              | Yes                |\n",
        "| Visualization   | TensorBoard       | No                | TensorBoard       | No                |\n",
        "| Community       | Large, Active  | Small, Active   | Large, Active  | Small, Active   |\n",
        "| Platform Support | Windows, Linux, macOS | Linux, macOS | Windows, Linux, macOS | Windows, Linux, macOS |\n",
        "| Ease of Debugging | Good | Good | Okay | Okay |\n",
        "| Mobile Deployment | PyTorch Mobile | No | TensorFlow Lite | ChainerX |\n",
        "| Primary Developer| Meta AI (Gov. by Linux Foundations) |Google | Google |  Preferred Networks|\n"
      ]
    },
    {
      "cell_type": "markdown",
      "metadata": {
        "id": "UrbjPx6zpTxz"
      },
      "source": [
        "We will use PyTorch for our tutorials."
      ]
    },
    {
      "cell_type": "markdown",
      "metadata": {
        "id": "-wWacFXipTxz"
      },
      "source": [
        "## 3. An Overview of the PyTorch Library"
      ]
    },
    {
      "cell_type": "markdown",
      "metadata": {
        "id": "_6RlazSOpTxz"
      },
      "source": [
        "<img align=\"center\" style=\"max-width: 600px\" src=\"https://github.com/HSG-AIML-Teaching/ML2025-Lab/blob/main/lab_3/figures/pytorch_packages.jpeg?raw=1\">\n"
      ]
    },
    {
      "cell_type": "markdown",
      "metadata": {
        "id": "LUlIyY9EpTxz"
      },
      "source": [
        "+ `autograd`: This package is used for automatic differentiation. The autograd package is essential for training neural networks using backpropagation, as it allows users to easily compute gradients of the loss function with respect to the model parameters.\n",
        "\n",
        "+ `nn`: This package provides a high-level API for building neural networks in PyTorch. It includes the most common types of layers such as convolutional layers, pooling layers, and linear layers, as well as activation functions and loss functions. The `nn` module also provides tools for building custom layers and models using PyTorch tensors.\n",
        "\n",
        "+ `optim`: This package provides various optimization algorithms for training neural networks in PyTorch. It includes popular optimization methods such as Stochastic Gradient Descent (SGD), Adam, and Adagrad. The optim module also provides tools for customizing the learning rate and weight decay, as well as implementing learning rate schedulers.\n",
        "\n",
        "+ `utils`: This package provides a variety of utility functions such as data loading and and visualization. For example, the `torch.utils.data` module contains classes and functions for loading and preprocessing data, and the `torch.utils.tensorboard` module provides support for visualizing training and validation metrics in via `TensorBoard`.\n",
        "\n",
        "\n"
      ]
    },
    {
      "cell_type": "markdown",
      "metadata": {
        "id": "eS7JkWnnpTxz"
      },
      "source": [
        "## 4. Computational Graphs and Automatic Differentiation"
      ]
    },
    {
      "cell_type": "code",
      "execution_count": 1,
      "metadata": {
        "id": "eM9d3202pTx0"
      },
      "outputs": [],
      "source": [
        "import torch"
      ]
    },
    {
      "cell_type": "markdown",
      "metadata": {
        "id": "80Wc_-34pTx0"
      },
      "source": [
        "#### 4.1 What are computational graphs and why do we need them?"
      ]
    },
    {
      "cell_type": "markdown",
      "metadata": {
        "id": "hW53oHc6pTx0"
      },
      "source": [
        "A computational graph in a directed acyclic graph (DAG) that represents the flow of information through the network. It consists of nodes that represent mathematical operations and edges that represent the flow of data between the nodes.\n"
      ]
    },
    {
      "cell_type": "markdown",
      "metadata": {
        "id": "OGwRh9_NpTx0"
      },
      "source": [
        "Let's assume we have a very simple function:\n",
        "\n",
        "$$f(x) = w \\times x + b$$\n",
        "\n",
        "Here $x$ is the input and $w$ and $b$ are (learnable) parameters. We want to change $w$ and $b$ such that the output of the function gets as close as possible to a target output (ground-truth). We (randomly) initialize $w=0.2$ and $b=0.0$.\n",
        "\n",
        "Now let's calculate $f(0.4)$ in PyTorch:"
      ]
    },
    {
      "cell_type": "code",
      "execution_count": 2,
      "metadata": {
        "colab": {
          "base_uri": "https://localhost:8080/"
        },
        "id": "lrEFt1VxpTx1",
        "outputId": "0d90b670-ceac-43a0-bf42-c12b54b7a385"
      },
      "outputs": [
        {
          "output_type": "stream",
          "name": "stdout",
          "text": [
            "tensor(0.0800, grad_fn=<AddBackward0>)\n"
          ]
        }
      ],
      "source": [
        "# Example input and output\n",
        "x = torch.tensor(0.4)  # input tensor\n",
        "y = torch.tensor(1.0)  # expected output\n",
        "\n",
        "# Initialize w and b with random value (here we set them to 0.2 and 0.0)\n",
        "w = torch.tensor(0.2, requires_grad=True) # requires_grad=True -> learnable parameter\n",
        "b = torch.tensor(0.0, requires_grad=True) # requires_grad=True -> learnable parameter\n",
        "\n",
        "# Calculate f(x)\n",
        "z = w * x + b\n",
        "\n",
        "print(z)"
      ]
    },
    {
      "cell_type": "markdown",
      "metadata": {
        "id": "Y1XS0uNYpTx1"
      },
      "source": [
        "Let's assume we want $f(0.4)=1.0$, but currently  $f(0.4)=0.08$:\n",
        "\n",
        "$$f(0.4) = 0.7 \\rightarrow f(0.4) = 1.0$$\n",
        "\n",
        "To do so, we first mesaure the difference between the desired output and the actual output of the function and we call it the loss ($l$):\n",
        "\n",
        "$$l = ||f(0.4) - 1.0||_{2}^{2}$$\n",
        "\n",
        "Then, to estimate the amount of required change in $w$ and $b$ to get closer to the desired value, we need to compute the gradients of the loss w.r.t. the functions parameters:\n",
        "\n",
        "$$\\frac{\\partial l}{\\partial w}, \\frac{\\partial l}{\\partial b}$$\n",
        "\n",
        "And finally update $w$ an $b$ using gradient descent:\n",
        "$$w_{new} \\leftarrow w - \\alpha  \\frac{\\partial l}{\\partial w}$$\n",
        "$$b_{new} \\leftarrow b - \\alpha \\frac{\\partial l}{\\partial b}$$"
      ]
    },
    {
      "cell_type": "code",
      "execution_count": 3,
      "metadata": {
        "id": "Ol5SwTvIpTx1"
      },
      "outputs": [],
      "source": [
        "loss = torch.norm(z - y, p=2)"
      ]
    },
    {
      "cell_type": "markdown",
      "metadata": {
        "id": "PIgJ4wjSpTx1"
      },
      "source": [
        "Running the tensor operations above creates the following computational graphs that enables automatic differentiation."
      ]
    },
    {
      "cell_type": "markdown",
      "metadata": {
        "id": "82fSTiHZpTx1"
      },
      "source": [
        "<img align=\"center\" style=\"max-width: 500px\" src=\"https://github.com/HSG-AIML-Teaching/ML2025-Lab/blob/main/lab_3/figures/comp-graph.png?raw=1\">\n",
        "<sup> Image adapted from: <a href=\"https://pytorch.org/tutorials/beginner/basics/autogradqs_tutorial.html\">https://pytorch.org/tutorials/beginner/basics/autogradqs_tutorial.html</a> <sup>"
      ]
    },
    {
      "cell_type": "markdown",
      "metadata": {
        "id": "St1GHaLOpTx1"
      },
      "source": [
        "Technically, the computational graph of the function above is created dynamically or on-the-fly."
      ]
    },
    {
      "cell_type": "markdown",
      "metadata": {
        "id": "I26dgfg5pTx1"
      },
      "source": [
        "#### 4.2 Computing Gradients"
      ]
    },
    {
      "cell_type": "markdown",
      "metadata": {
        "id": "X8dwR269pTx1"
      },
      "source": [
        "Once the loss is computed and the computational graphs is formed (in the background), we can compute the gradients for the learnable parmeters. But first let's check what are the gradient values for the (learnable) parameters $w$ and $b$ before computing the gradients:"
      ]
    },
    {
      "cell_type": "code",
      "execution_count": 4,
      "metadata": {
        "colab": {
          "base_uri": "https://localhost:8080/"
        },
        "id": "JCXSFBjnpTx2",
        "outputId": "09930803-49c4-4950-9755-ab10fa561135"
      },
      "outputs": [
        {
          "output_type": "stream",
          "name": "stdout",
          "text": [
            "None\n",
            "None\n"
          ]
        }
      ],
      "source": [
        "print(w.grad)\n",
        "print(b.grad)"
      ]
    },
    {
      "cell_type": "markdown",
      "metadata": {
        "id": "z6pfRF4BpTx2"
      },
      "source": [
        "The easiest way to compute all gradients in a computational graphs is to call `.backward()` on the loss terms:"
      ]
    },
    {
      "cell_type": "code",
      "execution_count": 5,
      "metadata": {
        "id": "Z9ushsp-pTx2"
      },
      "outputs": [],
      "source": [
        "loss.backward()"
      ]
    },
    {
      "cell_type": "markdown",
      "metadata": {
        "id": "Qjz6HqUSpTx2"
      },
      "source": [
        "Now, let's check the gradients again."
      ]
    },
    {
      "cell_type": "code",
      "execution_count": 6,
      "metadata": {
        "colab": {
          "base_uri": "https://localhost:8080/"
        },
        "id": "33hz0180pTx2",
        "outputId": "4fbcd4d5-3631-43e2-ee8f-3230cfce1bc5"
      },
      "outputs": [
        {
          "output_type": "stream",
          "name": "stdout",
          "text": [
            "tensor(-0.4000)\n",
            "tensor(-1.)\n"
          ]
        }
      ],
      "source": [
        "print(w.grad)\n",
        "print(b.grad)"
      ]
    },
    {
      "cell_type": "markdown",
      "metadata": {
        "id": "CELwNsIWpTx2"
      },
      "source": [
        "voila! the gradients are there. Remember that after calling `.backward()` the computational graph is removed for computational reasons. For most application you don't need to keep the computational graph, but there are ways to keep it which is outside the scope of this tutorial."
      ]
    },
    {
      "cell_type": "markdown",
      "metadata": {
        "id": "e22tYLpYpTx2"
      },
      "source": [
        "#### 4.3 Another way to compute gradients"
      ]
    },
    {
      "cell_type": "markdown",
      "metadata": {
        "id": "hu3lqva7pTx2"
      },
      "source": [
        "We can compute partial derrivatives w.r.t. particular parameters in the model directly"
      ]
    },
    {
      "cell_type": "code",
      "execution_count": 7,
      "metadata": {
        "id": "3uULjCRlpTx2"
      },
      "outputs": [],
      "source": [
        "x = torch.tensor(0.4)  # input tensor\n",
        "y = torch.tensor(1.0)  # expected output\n",
        "w = torch.tensor(0.2, requires_grad=True) # requires_grad=True -> learnable parameter\n",
        "b = torch.tensor(0.0, requires_grad=True) # requires_grad=True -> learnable parameter\n",
        "z = x * w + b\n",
        "loss = torch.norm(z - y, p=2)\n"
      ]
    },
    {
      "cell_type": "code",
      "execution_count": 8,
      "metadata": {
        "colab": {
          "base_uri": "https://localhost:8080/"
        },
        "id": "G_vLHi9rpTx3",
        "outputId": "68724c94-a1f1-48a6-8591-db1f73743ecc"
      },
      "outputs": [
        {
          "output_type": "execute_result",
          "data": {
            "text/plain": [
              "(tensor(-0.4000), tensor(-1.))"
            ]
          },
          "metadata": {},
          "execution_count": 8
        }
      ],
      "source": [
        "torch.autograd.grad(loss, [w, b])"
      ]
    },
    {
      "cell_type": "markdown",
      "metadata": {
        "id": "QbMu1gD_pTx3"
      },
      "source": [
        "## 5. Building a Neural Network with `torch.nn`"
      ]
    },
    {
      "cell_type": "markdown",
      "metadata": {
        "id": "z69PH2COpTx3"
      },
      "source": [
        "To implement more advanced or complex neural networks, we need to use the `nn` package. Let's start with a simple example, a linear (or affine) mapping:\n",
        "\n",
        "A linear mapping, takes a vector of size $n$ as input and outputs a vector of size $m$.\n",
        "\n",
        "$$v = A*x + b$$\n",
        "\n",
        "Here $A$ is a matrix of shape $m \\times n$, $x$ has shape $1 \\times n$, and $v$ has shape $1 \\times m$."
      ]
    },
    {
      "cell_type": "code",
      "execution_count": 9,
      "metadata": {
        "id": "AWLn1r-BpTyA"
      },
      "outputs": [],
      "source": [
        "import torch.nn as nn"
      ]
    },
    {
      "cell_type": "markdown",
      "metadata": {
        "id": "mkRaLG86pTyB"
      },
      "source": [
        "We use `Linear` modules from `torch.nn`:"
      ]
    },
    {
      "cell_type": "code",
      "execution_count": 10,
      "metadata": {
        "id": "yy1sUx1upTyB"
      },
      "outputs": [],
      "source": [
        "linear = nn.Linear(in_features=5, out_features=3, bias=True)"
      ]
    },
    {
      "cell_type": "markdown",
      "metadata": {
        "id": "vNun5uWHpTyB"
      },
      "source": [
        "Now let's feed it a random tensor."
      ]
    },
    {
      "cell_type": "code",
      "execution_count": 11,
      "metadata": {
        "colab": {
          "base_uri": "https://localhost:8080/"
        },
        "id": "GlujpvtJpTyB",
        "outputId": "cfe03ba4-d17d-4ded-fe77-ff51f442cb4a"
      },
      "outputs": [
        {
          "output_type": "stream",
          "name": "stdout",
          "text": [
            "tensor([[0.8848, 0.2597, 0.0451, 0.0776, 0.9286]])\n"
          ]
        }
      ],
      "source": [
        "x = torch.rand(1, 5)\n",
        "print(x)"
      ]
    },
    {
      "cell_type": "markdown",
      "metadata": {
        "id": "vW2b0Q2dpTyB"
      },
      "source": [
        "To apply linear operator to the input $x$, we use the \"call\" operator."
      ]
    },
    {
      "cell_type": "code",
      "execution_count": 12,
      "metadata": {
        "colab": {
          "base_uri": "https://localhost:8080/"
        },
        "id": "c-kaMBalpTyB",
        "outputId": "6fcdc196-8fa9-429c-e3ae-583f60e4b158"
      },
      "outputs": [
        {
          "output_type": "stream",
          "name": "stdout",
          "text": [
            "tensor([[-0.5284,  0.0690,  0.6218]], grad_fn=<AddmmBackward0>)\n"
          ]
        }
      ],
      "source": [
        "v = linear(x)\n",
        "print(v)"
      ]
    },
    {
      "cell_type": "markdown",
      "metadata": {
        "id": "9A1_QpS8pTyB"
      },
      "source": [
        "The class `Linear`, takes care of all learnable parameters ($A$ and $b$). But where are the parameters in `linear`?"
      ]
    },
    {
      "cell_type": "code",
      "execution_count": 13,
      "metadata": {
        "colab": {
          "base_uri": "https://localhost:8080/"
        },
        "id": "NmThD-cTpTyC",
        "outputId": "92342cb6-8ada-48a4-c78a-150be770e65a"
      },
      "outputs": [
        {
          "output_type": "stream",
          "name": "stdout",
          "text": [
            "weight : Parameter containing:\n",
            "tensor([[-0.2722,  0.3532, -0.0102,  0.1116, -0.4265],\n",
            "        [ 0.0384, -0.0299,  0.2098, -0.2127,  0.2812],\n",
            "        [ 0.3186,  0.1984, -0.2138, -0.0307, -0.0790]], requires_grad=True)\n",
            "bias : Parameter containing:\n",
            "tensor([ 0.0086, -0.2113,  0.3737], requires_grad=True)\n"
          ]
        }
      ],
      "source": [
        "for n, p in linear.named_parameters():\n",
        "    print(n, \":\", p)"
      ]
    },
    {
      "cell_type": "markdown",
      "metadata": {
        "id": "sDG2nSxPpTyC"
      },
      "source": [
        "#### 5.1 Implementing Custom Models"
      ]
    },
    {
      "cell_type": "markdown",
      "metadata": {
        "id": "a3qy1FjepTyC"
      },
      "source": [
        "We can implement each layer/transformation separately, but for more complex models we need a better way. Let's assume we want to design a model with three consecutive linear transformations for given input $x$:\n",
        "\n",
        "$v = A_3 (A_2 (A_1 x + b_1) + b_2) + b_3$\n",
        "\n",
        "$v_1 = A_1 x + b_1, \\rightarrow v_2 = A_2 v_1 + b_2, \\rightarrow v_3 = A_3 v_2 + b_3$\n"
      ]
    },
    {
      "cell_type": "markdown",
      "metadata": {
        "id": "p_NEZLFFpTyC"
      },
      "source": [
        "We can implement our own neural network as a sequence of operations applied to an input tensor. Therefore, we need to define a class that inherits from `nn.Module`."
      ]
    },
    {
      "cell_type": "code",
      "execution_count": 14,
      "metadata": {
        "id": "cbfdBIlBpTyC"
      },
      "outputs": [],
      "source": [
        "class MyLinearModel(nn.Module):\n",
        "\n",
        "    # Class constructor: called when we create an instance of the model\n",
        "    def __init__(self):\n",
        "        # Call super class constructor: to initialize default configs in PyTorch `nn` modules\n",
        "        super(MyLinearModel, self).__init__()\n",
        "\n",
        "        # First linear layer (transformation)\n",
        "        self.linear_1 = nn.Linear(10, 20, bias=True)\n",
        "\n",
        "        # Second linear layer\n",
        "        self.linear_2 = nn.Linear(20, 5, bias=True)\n",
        "\n",
        "        # Third linear layer\n",
        "        self.linear_3 = nn.Linear(5, 2, bias=True)\n",
        "\n",
        "\n",
        "    def forward(self, x):\n",
        "        # Apply the first linear transformation\n",
        "        x = self.linear_1(x)\n",
        "\n",
        "        # Apply the second linear transformation\n",
        "        x = self.linear_2(x)\n",
        "\n",
        "        # Apply the third linear transformation\n",
        "        x = self.linear_3(x)\n",
        "\n",
        "        # Return the final tensor\n",
        "        return x"
      ]
    },
    {
      "cell_type": "code",
      "execution_count": 15,
      "metadata": {
        "id": "aKBtJUvnpTyC"
      },
      "outputs": [],
      "source": [
        "my_model = MyLinearModel()"
      ]
    },
    {
      "cell_type": "code",
      "execution_count": 16,
      "metadata": {
        "colab": {
          "base_uri": "https://localhost:8080/"
        },
        "id": "Qm40m_J0pTyD",
        "outputId": "4bf47a0f-db58-447c-bd52-068f0523e2ca"
      },
      "outputs": [
        {
          "output_type": "stream",
          "name": "stdout",
          "text": [
            "torch.Size([1, 2])\n"
          ]
        }
      ],
      "source": [
        "x = torch.randn(1, 10)\n",
        "v = my_model.forward(x) # or just my_model(x)\n",
        "print(v.shape)"
      ]
    },
    {
      "cell_type": "markdown",
      "metadata": {
        "id": "kiM8QyQtpTyD"
      },
      "source": [
        "## 6. Optimizing a Neural Network"
      ]
    },
    {
      "cell_type": "markdown",
      "metadata": {
        "id": "ZqRRA0HopTyD"
      },
      "source": [
        "The `torch.optim` package provides a collection of optimization algorithms and tools that can be used to train neural networks. We don't have to use these algorithms and instead directly update the models, but using optimizers can speed-up implementation and avoid potential errors in the code. Some of the most popular optimizers are:\n",
        "\n",
        "- Stochastic Gradient Descent: `SGD`\n",
        "- Adam: `Adam`\n",
        "- RMSProp: `RMSProp`\n",
        "- AdaGrad: `AdaGrad`"
      ]
    },
    {
      "cell_type": "markdown",
      "metadata": {
        "id": "M7SkPnQmpTyD"
      },
      "source": [
        "#### 6.1 Without `torch.optim`"
      ]
    },
    {
      "cell_type": "markdown",
      "metadata": {
        "id": "J8eT27ZapTyD"
      },
      "source": [
        "First, forwrad the input to the neural network and compute the loss"
      ]
    },
    {
      "cell_type": "code",
      "execution_count": 17,
      "metadata": {
        "colab": {
          "base_uri": "https://localhost:8080/"
        },
        "id": "15BdWcatpTyD",
        "outputId": "f1e750b0-5768-4eb1-9994-bc7632ad494b"
      },
      "outputs": [
        {
          "output_type": "stream",
          "name": "stdout",
          "text": [
            "tensor([[-0.2418,  0.2249]], grad_fn=<AddmmBackward0>)\n",
            "tensor([[1., 1.]])\n"
          ]
        }
      ],
      "source": [
        "my_model = MyLinearModel()\n",
        "\n",
        "# Learning rate\n",
        "alpha = 0.1\n",
        "\n",
        "# Inputs and targets\n",
        "x = torch.randn(1, 10)\n",
        "target = torch.ones(1, 2)\n",
        "\n",
        "print(my_model(x))\n",
        "print(target)"
      ]
    },
    {
      "cell_type": "markdown",
      "metadata": {
        "id": "6G_RdZCZpTyE"
      },
      "source": [
        "Backpropagate and compute gradients:"
      ]
    },
    {
      "cell_type": "code",
      "execution_count": 18,
      "metadata": {
        "id": "GG6nQg72pTyE"
      },
      "outputs": [],
      "source": [
        "# Model's prediction\n",
        "pred = my_model(x)\n",
        "\n",
        "# Loss\n",
        "loss = torch.mean(pred - target)\n",
        "\n",
        "# Backpropagate\n",
        "loss.backward()"
      ]
    },
    {
      "cell_type": "markdown",
      "metadata": {
        "id": "tSmRFXyDpTyE"
      },
      "source": [
        "Now we need to manually use the gradients to update model's parameters. Before that, let's check the gradients:"
      ]
    },
    {
      "cell_type": "code",
      "execution_count": 20,
      "metadata": {
        "colab": {
          "base_uri": "https://localhost:8080/"
        },
        "id": "uCaPG6RSpTyE",
        "outputId": "a56bf409-18ff-4017-a4b3-2a9424763533"
      },
      "outputs": [
        {
          "output_type": "stream",
          "name": "stdout",
          "text": [
            "tensor([[-0.2539,  0.1037, -0.0462, -0.0185, -0.0550, -0.1551,  0.1213, -0.1857,\n",
            "          0.2026,  0.0680],\n",
            "        [-0.2811, -0.1909,  0.2945, -0.0303,  0.1673, -0.0721, -0.0609,  0.2305,\n",
            "          0.2891, -0.1854],\n",
            "        [-0.0507,  0.1085, -0.2991,  0.2764, -0.2296, -0.1266,  0.2564,  0.2085,\n",
            "         -0.1235,  0.1634],\n",
            "        [-0.1262,  0.2266, -0.1725,  0.0267, -0.0034, -0.0482,  0.2675,  0.1718,\n",
            "          0.1103, -0.2720],\n",
            "        [ 0.2173,  0.2182,  0.2021, -0.1309, -0.0824, -0.1579, -0.1915,  0.2722,\n",
            "         -0.2982,  0.0740],\n",
            "        [-0.0169,  0.1772, -0.1417,  0.2062,  0.0046, -0.2173, -0.1725, -0.1316,\n",
            "         -0.2135,  0.1540],\n",
            "        [-0.1026, -0.3019,  0.2024, -0.1883,  0.2446, -0.2968,  0.0565, -0.0992,\n",
            "         -0.1166,  0.2307],\n",
            "        [ 0.1139, -0.1767, -0.2025, -0.0819, -0.0780,  0.0562, -0.2833,  0.2893,\n",
            "         -0.1073, -0.1934],\n",
            "        [-0.0022,  0.1547, -0.0744, -0.2148,  0.1197, -0.0304,  0.1445, -0.0061,\n",
            "          0.1617, -0.1827],\n",
            "        [-0.2131,  0.1529, -0.1879, -0.3082,  0.1621, -0.0221, -0.2367, -0.2897,\n",
            "          0.2249, -0.2251],\n",
            "        [ 0.1633,  0.1015,  0.2291, -0.1581, -0.0458,  0.1524, -0.1942,  0.1636,\n",
            "          0.0696,  0.0628],\n",
            "        [ 0.0051,  0.0988,  0.1809, -0.0200, -0.2188, -0.1088, -0.0582, -0.2145,\n",
            "         -0.1383,  0.2343],\n",
            "        [ 0.0507, -0.2673, -0.0214, -0.1630,  0.1182, -0.2405,  0.1020, -0.1957,\n",
            "          0.1335,  0.3047],\n",
            "        [ 0.2644,  0.2598,  0.2690,  0.0618, -0.2495,  0.2434,  0.2028, -0.0382,\n",
            "          0.2145, -0.0761],\n",
            "        [-0.0764, -0.2573, -0.0967,  0.1773, -0.1864,  0.3028, -0.2123,  0.1277,\n",
            "          0.2030, -0.0416],\n",
            "        [ 0.1696, -0.3134,  0.0752, -0.2566, -0.1711, -0.1199,  0.2276, -0.0825,\n",
            "         -0.2539, -0.2014],\n",
            "        [-0.1309, -0.1417,  0.1034, -0.3093,  0.2003, -0.1417,  0.0027, -0.1544,\n",
            "         -0.0479, -0.2781],\n",
            "        [ 0.1367,  0.0781,  0.1645,  0.0505,  0.0038, -0.3016,  0.2815,  0.2929,\n",
            "         -0.2226, -0.0858],\n",
            "        [ 0.2008,  0.0941, -0.3130,  0.2973, -0.1838,  0.2399, -0.1989, -0.0737,\n",
            "          0.0915,  0.1868],\n",
            "        [ 0.2283, -0.1236,  0.1715, -0.1143,  0.2972,  0.1537, -0.1547, -0.2084,\n",
            "          0.0467,  0.1935]])\n",
            "tensor([-0.1286,  0.1280,  0.2216, -0.2431,  0.2156, -0.0365,  0.3053, -0.3091,\n",
            "        -0.0643,  0.2020, -0.1288,  0.2452,  0.2062,  0.1655,  0.2524, -0.1357,\n",
            "        -0.0506, -0.2935, -0.0788,  0.1835])\n",
            "tensor([[ 0.0660,  0.2051,  0.1162,  0.2018, -0.1649, -0.1106,  0.1870, -0.1070,\n",
            "         -0.0056,  0.2224, -0.0520,  0.1262,  0.0220, -0.1058,  0.0574,  0.1905,\n",
            "         -0.1793, -0.1341,  0.1206, -0.0350],\n",
            "        [-0.0217,  0.1785, -0.0445, -0.2099, -0.1251, -0.0432,  0.1448,  0.0559,\n",
            "          0.1530,  0.1959, -0.2018, -0.1639,  0.1146, -0.0732,  0.0861,  0.0193,\n",
            "         -0.0320,  0.1047,  0.1966,  0.1193],\n",
            "        [ 0.1051, -0.1139, -0.0985, -0.0315, -0.2183, -0.0531,  0.1597,  0.2106,\n",
            "          0.0232,  0.1608, -0.0780, -0.0925,  0.1211, -0.2047,  0.0407, -0.1648,\n",
            "          0.1625, -0.1200, -0.1350,  0.1928],\n",
            "        [-0.0229, -0.1472, -0.1331, -0.1915, -0.0960,  0.2138,  0.2168,  0.1342,\n",
            "         -0.1002,  0.1295,  0.1360,  0.0952, -0.1965, -0.0076,  0.1388,  0.0909,\n",
            "          0.2013, -0.0944,  0.1085, -0.1398],\n",
            "        [-0.0522, -0.0127,  0.0218, -0.0227, -0.0024, -0.0041, -0.1196,  0.0728,\n",
            "          0.1525, -0.1201,  0.0844, -0.0030, -0.1232,  0.1302, -0.1693,  0.1520,\n",
            "          0.1460, -0.1605,  0.0536, -0.0107]])\n",
            "tensor([-0.0626, -0.1362, -0.0892, -0.1558, -0.1613])\n",
            "tensor([[-0.3317,  0.1688,  0.1265, -0.2131, -0.2789],\n",
            "        [-0.2898, -0.2647,  0.1833,  0.3735,  0.4059]])\n",
            "tensor([-0.2460,  0.2897])\n"
          ]
        }
      ],
      "source": [
        "for p in my_model.parameters():\n",
        "    print(p.data)"
      ]
    },
    {
      "cell_type": "markdown",
      "metadata": {
        "id": "VdL7p6WOpTyF"
      },
      "source": [
        "Update weights in each parameter as: $w^{(new)} = w - \\alpha \\frac{\\partial L}{w}$"
      ]
    },
    {
      "cell_type": "code",
      "execution_count": 21,
      "metadata": {
        "id": "Aie1dWikpTyF"
      },
      "outputs": [],
      "source": [
        "for p in my_model.parameters():\n",
        "    p.data = p.data - alpha * p.grad"
      ]
    },
    {
      "cell_type": "markdown",
      "metadata": {
        "id": "QlrcrgfCpTyF"
      },
      "source": [
        "#### 6.2 With `torch.optim`"
      ]
    },
    {
      "cell_type": "markdown",
      "metadata": {
        "id": "T7Zlqk_gpTyF"
      },
      "source": [
        "Pytorch optimizers are algorithms that update the parameters of a model in every update step. To use them, we only need to assign the parameters that we want to be update when creating an instance of the optimizer:"
      ]
    },
    {
      "cell_type": "code",
      "execution_count": 22,
      "metadata": {
        "id": "eCOV5BPbpTyG"
      },
      "outputs": [],
      "source": [
        "my_model = MyLinearModel()\n",
        "\n",
        "# Learning rate\n",
        "alpha = 0.1\n",
        "\n",
        "# Define optimizer over model's paramters\n",
        "optimizer = torch.optim.SGD(my_model.parameters(), lr=alpha)\n",
        "\n",
        "# Inputs and targets\n",
        "x = torch.randn(1, 10)\n",
        "target = torch.ones(1, 2)\n"
      ]
    },
    {
      "cell_type": "markdown",
      "metadata": {
        "id": "OESp7N7epTyG"
      },
      "source": [
        "Again, similar prediction, loss computation and backpropagation steps as before:"
      ]
    },
    {
      "cell_type": "code",
      "execution_count": 23,
      "metadata": {
        "id": "FMa8h5wZpTyG"
      },
      "outputs": [],
      "source": [
        "# Model's prediction\n",
        "pred = my_model.forward(x)\n",
        "\n",
        "# Loss\n",
        "loss = torch.mean(pred - target)\n",
        "\n",
        "# Backpropagate\n",
        "loss.backward()"
      ]
    },
    {
      "cell_type": "markdown",
      "metadata": {
        "id": "NJj2zhQkpTyG"
      },
      "source": [
        "Perform optimizer update. The optimizer takes care of updating the parameters in the background."
      ]
    },
    {
      "cell_type": "code",
      "execution_count": 24,
      "metadata": {
        "id": "lyiRm6GxpTyH"
      },
      "outputs": [],
      "source": [
        "optimizer.step()"
      ]
    },
    {
      "cell_type": "markdown",
      "metadata": {
        "id": "jer_B62XpTyH"
      },
      "source": [
        "## 7. Data Handling"
      ]
    },
    {
      "cell_type": "markdown",
      "metadata": {
        "id": "tRzYk4VzpTyH"
      },
      "source": [
        "Two major parts of data loading are:\n",
        "\n",
        "- Dataset handling\n",
        "- Data loading"
      ]
    },
    {
      "cell_type": "markdown",
      "metadata": {
        "id": "Se4boLDXpTyH"
      },
      "source": [
        "#### 7.1 Dataset"
      ]
    },
    {
      "cell_type": "markdown",
      "metadata": {
        "id": "G_xifttKpTyH"
      },
      "source": [
        "The package `torchvision` contains many useful computer vision utilities and datasets. We can easily download the datasets and directly use them. For example the dataset MNIST can be dataloaded via `torchvision.datasets`:"
      ]
    },
    {
      "cell_type": "code",
      "execution_count": 25,
      "metadata": {
        "id": "TnY3C37epTyH"
      },
      "outputs": [],
      "source": [
        "from torchvision.datasets import MNIST\n",
        "\n",
        "import matplotlib.pyplot as plt"
      ]
    },
    {
      "cell_type": "code",
      "execution_count": 26,
      "metadata": {
        "colab": {
          "base_uri": "https://localhost:8080/"
        },
        "id": "GRYBVRd9pTyI",
        "outputId": "011b9906-a1c1-454d-a0af-2c14787f187e"
      },
      "outputs": [
        {
          "output_type": "stream",
          "name": "stdout",
          "text": [
            "Downloading http://yann.lecun.com/exdb/mnist/train-images-idx3-ubyte.gz\n",
            "Failed to download (trying next):\n",
            "HTTP Error 404: Not Found\n",
            "\n",
            "Downloading https://ossci-datasets.s3.amazonaws.com/mnist/train-images-idx3-ubyte.gz\n",
            "Downloading https://ossci-datasets.s3.amazonaws.com/mnist/train-images-idx3-ubyte.gz to ./data/MNIST/raw/train-images-idx3-ubyte.gz\n"
          ]
        },
        {
          "output_type": "stream",
          "name": "stderr",
          "text": [
            "100%|██████████| 9.91M/9.91M [00:01<00:00, 5.05MB/s]\n"
          ]
        },
        {
          "output_type": "stream",
          "name": "stdout",
          "text": [
            "Extracting ./data/MNIST/raw/train-images-idx3-ubyte.gz to ./data/MNIST/raw\n",
            "\n",
            "Downloading http://yann.lecun.com/exdb/mnist/train-labels-idx1-ubyte.gz\n",
            "Failed to download (trying next):\n",
            "HTTP Error 404: Not Found\n",
            "\n",
            "Downloading https://ossci-datasets.s3.amazonaws.com/mnist/train-labels-idx1-ubyte.gz\n",
            "Downloading https://ossci-datasets.s3.amazonaws.com/mnist/train-labels-idx1-ubyte.gz to ./data/MNIST/raw/train-labels-idx1-ubyte.gz\n"
          ]
        },
        {
          "output_type": "stream",
          "name": "stderr",
          "text": [
            "100%|██████████| 28.9k/28.9k [00:00<00:00, 132kB/s]\n"
          ]
        },
        {
          "output_type": "stream",
          "name": "stdout",
          "text": [
            "Extracting ./data/MNIST/raw/train-labels-idx1-ubyte.gz to ./data/MNIST/raw\n",
            "\n",
            "Downloading http://yann.lecun.com/exdb/mnist/t10k-images-idx3-ubyte.gz\n",
            "Failed to download (trying next):\n",
            "HTTP Error 404: Not Found\n",
            "\n",
            "Downloading https://ossci-datasets.s3.amazonaws.com/mnist/t10k-images-idx3-ubyte.gz\n",
            "Downloading https://ossci-datasets.s3.amazonaws.com/mnist/t10k-images-idx3-ubyte.gz to ./data/MNIST/raw/t10k-images-idx3-ubyte.gz\n"
          ]
        },
        {
          "output_type": "stream",
          "name": "stderr",
          "text": [
            "100%|██████████| 1.65M/1.65M [00:01<00:00, 1.26MB/s]\n"
          ]
        },
        {
          "output_type": "stream",
          "name": "stdout",
          "text": [
            "Extracting ./data/MNIST/raw/t10k-images-idx3-ubyte.gz to ./data/MNIST/raw\n",
            "\n",
            "Downloading http://yann.lecun.com/exdb/mnist/t10k-labels-idx1-ubyte.gz\n",
            "Failed to download (trying next):\n",
            "HTTP Error 404: Not Found\n",
            "\n",
            "Downloading https://ossci-datasets.s3.amazonaws.com/mnist/t10k-labels-idx1-ubyte.gz\n",
            "Downloading https://ossci-datasets.s3.amazonaws.com/mnist/t10k-labels-idx1-ubyte.gz to ./data/MNIST/raw/t10k-labels-idx1-ubyte.gz\n"
          ]
        },
        {
          "output_type": "stream",
          "name": "stderr",
          "text": [
            "100%|██████████| 4.54k/4.54k [00:00<00:00, 8.04MB/s]"
          ]
        },
        {
          "output_type": "stream",
          "name": "stdout",
          "text": [
            "Extracting ./data/MNIST/raw/t10k-labels-idx1-ubyte.gz to ./data/MNIST/raw\n",
            "\n"
          ]
        },
        {
          "output_type": "stream",
          "name": "stderr",
          "text": [
            "\n"
          ]
        }
      ],
      "source": [
        "dataset = MNIST(root=\"./data\", download=True, train=True)"
      ]
    },
    {
      "cell_type": "code",
      "execution_count": 27,
      "metadata": {
        "colab": {
          "base_uri": "https://localhost:8080/"
        },
        "id": "Nmu8WslepTyI",
        "outputId": "95b10f44-acdd-4b48-c582-d38dcede87f7"
      },
      "outputs": [
        {
          "output_type": "stream",
          "name": "stdout",
          "text": [
            "60000\n"
          ]
        }
      ],
      "source": [
        "print(len(dataset))"
      ]
    },
    {
      "cell_type": "markdown",
      "metadata": {
        "id": "L8vPIgcJpTyI"
      },
      "source": [
        "All `torchvision` classes inherit from class `Dataset`. This means that you can directly access individual samples in data dataset via an index:"
      ]
    },
    {
      "cell_type": "code",
      "execution_count": 28,
      "metadata": {
        "colab": {
          "base_uri": "https://localhost:8080/"
        },
        "id": "X1XWB0VzpTyI",
        "outputId": "6b6e610b-6ed0-45e1-f43a-67766809ed83"
      },
      "outputs": [
        {
          "output_type": "stream",
          "name": "stdout",
          "text": [
            "(<PIL.Image.Image image mode=L size=28x28 at 0x7AD1E7EF5E90>, 5)\n"
          ]
        }
      ],
      "source": [
        "print(dataset[0])"
      ]
    },
    {
      "cell_type": "markdown",
      "metadata": {
        "id": "9O1OIJIlpTyI"
      },
      "source": [
        "For classification dataset, each index returns a tuple, and image and a label.\n",
        "\n",
        "In the `MNIST` dataset, it returns the PIL image directly, let's visualize it:"
      ]
    },
    {
      "cell_type": "code",
      "execution_count": 29,
      "metadata": {
        "colab": {
          "base_uri": "https://localhost:8080/",
          "height": 447
        },
        "id": "34zlqAHRpTyJ",
        "outputId": "a8d6cd2c-c8d4-4d8a-a504-0273efdf0e41"
      },
      "outputs": [
        {
          "output_type": "stream",
          "name": "stdout",
          "text": [
            "label:  9\n"
          ]
        },
        {
          "output_type": "display_data",
          "data": {
            "text/plain": [
              "<Figure size 640x480 with 1 Axes>"
            ],
            "image/png": "[encoded data removed]"
          },
          "metadata": {}
        }
      ],
      "source": [
        "plt.imshow(dataset[520][0])\n",
        "print(\"label: \", dataset[520][1])"
      ]
    },
    {
      "cell_type": "markdown",
      "metadata": {
        "id": "qXIFn2GgpTyJ"
      },
      "source": [
        "That's cool. But we can't feed raw images directly to a neural network!\n",
        "\n",
        "We need to use `transformations` to transform every samples of dataset when we try to access them. Let's create the same MNIST dataset, now with transformation:"
      ]
    },
    {
      "cell_type": "code",
      "execution_count": 30,
      "metadata": {
        "id": "aWh8zw4gpTyJ"
      },
      "outputs": [],
      "source": [
        "import torchvision.transforms as transforms"
      ]
    },
    {
      "cell_type": "code",
      "execution_count": 31,
      "metadata": {
        "id": "iJO73SKBpTyK"
      },
      "outputs": [],
      "source": [
        "dataset = MNIST(root=\"./data\", download=True, train=True, transform=transforms.ToTensor())"
      ]
    },
    {
      "cell_type": "code",
      "execution_count": 32,
      "metadata": {
        "colab": {
          "base_uri": "https://localhost:8080/"
        },
        "id": "zGBhxZTMpTyK",
        "outputId": "25d2920f-4c1b-407d-ea82-484fd2e56cda"
      },
      "outputs": [
        {
          "output_type": "stream",
          "name": "stdout",
          "text": [
            "(tensor([[[0.0000, 0.0000, 0.0000, 0.0000, 0.0000, 0.0000, 0.0000, 0.0000,\n",
            "          0.0000, 0.0000, 0.0000, 0.0000, 0.0000, 0.0000, 0.0000, 0.0000,\n",
            "          0.0000, 0.0000, 0.0000, 0.0000, 0.0000, 0.0000, 0.0000, 0.0000,\n",
            "          0.0000, 0.0000, 0.0000, 0.0000],\n",
            "         [0.0000, 0.0000, 0.0000, 0.0000, 0.0000, 0.0000, 0.0000, 0.0000,\n",
            "          0.0000, 0.0000, 0.0000, 0.0000, 0.0000, 0.0000, 0.0000, 0.0000,\n",
            "          0.0000, 0.0000, 0.0000, 0.0000, 0.0000, 0.0000, 0.0000, 0.0000,\n",
            "          0.0000, 0.0000, 0.0000, 0.0000],\n",
            "         [0.0000, 0.0000, 0.0000, 0.0000, 0.0000, 0.0000, 0.0000, 0.0000,\n",
            "          0.0000, 0.0000, 0.0000, 0.0000, 0.0000, 0.0000, 0.0000, 0.0000,\n",
            "          0.0000, 0.0000, 0.0000, 0.0000, 0.0000, 0.0000, 0.0000, 0.0000,\n",
            "          0.0000, 0.0000, 0.0000, 0.0000],\n",
            "         [0.0000, 0.0000, 0.0000, 0.0000, 0.0000, 0.0000, 0.0000, 0.0000,\n",
            "          0.0000, 0.0000, 0.0000, 0.0000, 0.0000, 0.0000, 0.0000, 0.0000,\n",
            "          0.0000, 0.0000, 0.0000, 0.0000, 0.0000, 0.0000, 0.0000, 0.0000,\n",
            "          0.0000, 0.0000, 0.0000, 0.0000],\n",
            "         [0.0000, 0.0000, 0.0000, 0.0000, 0.0000, 0.0000, 0.0000, 0.0000,\n",
            "          0.0000, 0.0000, 0.0000, 0.0000, 0.0000, 0.0000, 0.0000, 0.0000,\n",
            "          0.0000, 0.0000, 0.0000, 0.0000, 0.0000, 0.0000, 0.0000, 0.0000,\n",
            "          0.0000, 0.0000, 0.0000, 0.0000],\n",
            "         [0.0000, 0.0000, 0.0000, 0.0000, 0.0000, 0.0000, 0.0000, 0.0000,\n",
            "          0.0000, 0.0000, 0.0000, 0.0000, 0.0118, 0.0706, 0.0706, 0.0706,\n",
            "          0.4941, 0.5333, 0.6863, 0.1020, 0.6510, 1.0000, 0.9686, 0.4980,\n",
            "          0.0000, 0.0000, 0.0000, 0.0000],\n",
            "         [0.0000, 0.0000, 0.0000, 0.0000, 0.0000, 0.0000, 0.0000, 0.0000,\n",
            "          0.1176, 0.1412, 0.3686, 0.6039, 0.6667, 0.9922, 0.9922, 0.9922,\n",
            "          0.9922, 0.9922, 0.8824, 0.6745, 0.9922, 0.9490, 0.7647, 0.2510,\n",
            "          0.0000, 0.0000, 0.0000, 0.0000],\n",
            "         [0.0000, 0.0000, 0.0000, 0.0000, 0.0000, 0.0000, 0.0000, 0.1922,\n",
            "          0.9333, 0.9922, 0.9922, 0.9922, 0.9922, 0.9922, 0.9922, 0.9922,\n",
            "          0.9922, 0.9843, 0.3647, 0.3216, 0.3216, 0.2196, 0.1529, 0.0000,\n",
            "          0.0000, 0.0000, 0.0000, 0.0000],\n",
            "         [0.0000, 0.0000, 0.0000, 0.0000, 0.0000, 0.0000, 0.0000, 0.0706,\n",
            "          0.8588, 0.9922, 0.9922, 0.9922, 0.9922, 0.9922, 0.7765, 0.7137,\n",
            "          0.9686, 0.9451, 0.0000, 0.0000, 0.0000, 0.0000, 0.0000, 0.0000,\n",
            "          0.0000, 0.0000, 0.0000, 0.0000],\n",
            "         [0.0000, 0.0000, 0.0000, 0.0000, 0.0000, 0.0000, 0.0000, 0.0000,\n",
            "          0.3137, 0.6118, 0.4196, 0.9922, 0.9922, 0.8039, 0.0431, 0.0000,\n",
            "          0.1686, 0.6039, 0.0000, 0.0000, 0.0000, 0.0000, 0.0000, 0.0000,\n",
            "          0.0000, 0.0000, 0.0000, 0.0000],\n",
            "         [0.0000, 0.0000, 0.0000, 0.0000, 0.0000, 0.0000, 0.0000, 0.0000,\n",
            "          0.0000, 0.0549, 0.0039, 0.6039, 0.9922, 0.3529, 0.0000, 0.0000,\n",
            "          0.0000, 0.0000, 0.0000, 0.0000, 0.0000, 0.0000, 0.0000, 0.0000,\n",
            "          0.0000, 0.0000, 0.0000, 0.0000],\n",
            "         [0.0000, 0.0000, 0.0000, 0.0000, 0.0000, 0.0000, 0.0000, 0.0000,\n",
            "          0.0000, 0.0000, 0.0000, 0.5451, 0.9922, 0.7451, 0.0078, 0.0000,\n",
            "          0.0000, 0.0000, 0.0000, 0.0000, 0.0000, 0.0000, 0.0000, 0.0000,\n",
            "          0.0000, 0.0000, 0.0000, 0.0000],\n",
            "         [0.0000, 0.0000, 0.0000, 0.0000, 0.0000, 0.0000, 0.0000, 0.0000,\n",
            "          0.0000, 0.0000, 0.0000, 0.0431, 0.7451, 0.9922, 0.2745, 0.0000,\n",
            "          0.0000, 0.0000, 0.0000, 0.0000, 0.0000, 0.0000, 0.0000, 0.0000,\n",
            "          0.0000, 0.0000, 0.0000, 0.0000],\n",
            "         [0.0000, 0.0000, 0.0000, 0.0000, 0.0000, 0.0000, 0.0000, 0.0000,\n",
            "          0.0000, 0.0000, 0.0000, 0.0000, 0.1373, 0.9451, 0.8824, 0.6275,\n",
            "          0.4235, 0.0039, 0.0000, 0.0000, 0.0000, 0.0000, 0.0000, 0.0000,\n",
            "          0.0000, 0.0000, 0.0000, 0.0000],\n",
            "         [0.0000, 0.0000, 0.0000, 0.0000, 0.0000, 0.0000, 0.0000, 0.0000,\n",
            "          0.0000, 0.0000, 0.0000, 0.0000, 0.0000, 0.3176, 0.9412, 0.9922,\n",
            "          0.9922, 0.4667, 0.0980, 0.0000, 0.0000, 0.0000, 0.0000, 0.0000,\n",
            "          0.0000, 0.0000, 0.0000, 0.0000],\n",
            "         [0.0000, 0.0000, 0.0000, 0.0000, 0.0000, 0.0000, 0.0000, 0.0000,\n",
            "          0.0000, 0.0000, 0.0000, 0.0000, 0.0000, 0.0000, 0.1765, 0.7294,\n",
            "          0.9922, 0.9922, 0.5882, 0.1059, 0.0000, 0.0000, 0.0000, 0.0000,\n",
            "          0.0000, 0.0000, 0.0000, 0.0000],\n",
            "         [0.0000, 0.0000, 0.0000, 0.0000, 0.0000, 0.0000, 0.0000, 0.0000,\n",
            "          0.0000, 0.0000, 0.0000, 0.0000, 0.0000, 0.0000, 0.0000, 0.0627,\n",
            "          0.3647, 0.9882, 0.9922, 0.7333, 0.0000, 0.0000, 0.0000, 0.0000,\n",
            "          0.0000, 0.0000, 0.0000, 0.0000],\n",
            "         [0.0000, 0.0000, 0.0000, 0.0000, 0.0000, 0.0000, 0.0000, 0.0000,\n",
            "          0.0000, 0.0000, 0.0000, 0.0000, 0.0000, 0.0000, 0.0000, 0.0000,\n",
            "          0.0000, 0.9765, 0.9922, 0.9765, 0.2510, 0.0000, 0.0000, 0.0000,\n",
            "          0.0000, 0.0000, 0.0000, 0.0000],\n",
            "         [0.0000, 0.0000, 0.0000, 0.0000, 0.0000, 0.0000, 0.0000, 0.0000,\n",
            "          0.0000, 0.0000, 0.0000, 0.0000, 0.0000, 0.0000, 0.1804, 0.5098,\n",
            "          0.7176, 0.9922, 0.9922, 0.8118, 0.0078, 0.0000, 0.0000, 0.0000,\n",
            "          0.0000, 0.0000, 0.0000, 0.0000],\n",
            "         [0.0000, 0.0000, 0.0000, 0.0000, 0.0000, 0.0000, 0.0000, 0.0000,\n",
            "          0.0000, 0.0000, 0.0000, 0.0000, 0.1529, 0.5804, 0.8980, 0.9922,\n",
            "          0.9922, 0.9922, 0.9804, 0.7137, 0.0000, 0.0000, 0.0000, 0.0000,\n",
            "          0.0000, 0.0000, 0.0000, 0.0000],\n",
            "         [0.0000, 0.0000, 0.0000, 0.0000, 0.0000, 0.0000, 0.0000, 0.0000,\n",
            "          0.0000, 0.0000, 0.0941, 0.4471, 0.8667, 0.9922, 0.9922, 0.9922,\n",
            "          0.9922, 0.7882, 0.3059, 0.0000, 0.0000, 0.0000, 0.0000, 0.0000,\n",
            "          0.0000, 0.0000, 0.0000, 0.0000],\n",
            "         [0.0000, 0.0000, 0.0000, 0.0000, 0.0000, 0.0000, 0.0000, 0.0000,\n",
            "          0.0902, 0.2588, 0.8353, 0.9922, 0.9922, 0.9922, 0.9922, 0.7765,\n",
            "          0.3176, 0.0078, 0.0000, 0.0000, 0.0000, 0.0000, 0.0000, 0.0000,\n",
            "          0.0000, 0.0000, 0.0000, 0.0000],\n",
            "         [0.0000, 0.0000, 0.0000, 0.0000, 0.0000, 0.0000, 0.0706, 0.6706,\n",
            "          0.8588, 0.9922, 0.9922, 0.9922, 0.9922, 0.7647, 0.3137, 0.0353,\n",
            "          0.0000, 0.0000, 0.0000, 0.0000, 0.0000, 0.0000, 0.0000, 0.0000,\n",
            "          0.0000, 0.0000, 0.0000, 0.0000],\n",
            "         [0.0000, 0.0000, 0.0000, 0.0000, 0.2157, 0.6745, 0.8863, 0.9922,\n",
            "          0.9922, 0.9922, 0.9922, 0.9569, 0.5216, 0.0431, 0.0000, 0.0000,\n",
            "          0.0000, 0.0000, 0.0000, 0.0000, 0.0000, 0.0000, 0.0000, 0.0000,\n",
            "          0.0000, 0.0000, 0.0000, 0.0000],\n",
            "         [0.0000, 0.0000, 0.0000, 0.0000, 0.5333, 0.9922, 0.9922, 0.9922,\n",
            "          0.8314, 0.5294, 0.5176, 0.0627, 0.0000, 0.0000, 0.0000, 0.0000,\n",
            "          0.0000, 0.0000, 0.0000, 0.0000, 0.0000, 0.0000, 0.0000, 0.0000,\n",
            "          0.0000, 0.0000, 0.0000, 0.0000],\n",
            "         [0.0000, 0.0000, 0.0000, 0.0000, 0.0000, 0.0000, 0.0000, 0.0000,\n",
            "          0.0000, 0.0000, 0.0000, 0.0000, 0.0000, 0.0000, 0.0000, 0.0000,\n",
            "          0.0000, 0.0000, 0.0000, 0.0000, 0.0000, 0.0000, 0.0000, 0.0000,\n",
            "          0.0000, 0.0000, 0.0000, 0.0000],\n",
            "         [0.0000, 0.0000, 0.0000, 0.0000, 0.0000, 0.0000, 0.0000, 0.0000,\n",
            "          0.0000, 0.0000, 0.0000, 0.0000, 0.0000, 0.0000, 0.0000, 0.0000,\n",
            "          0.0000, 0.0000, 0.0000, 0.0000, 0.0000, 0.0000, 0.0000, 0.0000,\n",
            "          0.0000, 0.0000, 0.0000, 0.0000],\n",
            "         [0.0000, 0.0000, 0.0000, 0.0000, 0.0000, 0.0000, 0.0000, 0.0000,\n",
            "          0.0000, 0.0000, 0.0000, 0.0000, 0.0000, 0.0000, 0.0000, 0.0000,\n",
            "          0.0000, 0.0000, 0.0000, 0.0000, 0.0000, 0.0000, 0.0000, 0.0000,\n",
            "          0.0000, 0.0000, 0.0000, 0.0000]]]), 5)\n"
          ]
        }
      ],
      "source": [
        "print(dataset[0])"
      ]
    },
    {
      "cell_type": "markdown",
      "metadata": {
        "id": "z9cX-a8bpTyK"
      },
      "source": [
        "What if we want to use a dataset that doesn't exist in `tochvision.datasets`?"
      ]
    },
    {
      "cell_type": "markdown",
      "metadata": {
        "id": "X6Q43QRlpTyK"
      },
      "source": [
        "#### 7.2 Dataloader"
      ]
    },
    {
      "cell_type": "markdown",
      "metadata": {
        "id": "UpaWxl0VpTyL"
      },
      "source": [
        "And finally, if we have a datasaet with many samples, we need to find a way to load the data in batches. One easy way is to use `torch.data.utils.DataLoader`. Let's assume we have a dataset, we can create a dataloader to randomly load data for us and return it as batches of arbitrary size:"
      ]
    },
    {
      "cell_type": "code",
      "execution_count": 33,
      "metadata": {
        "id": "fQDO53NBpTyL"
      },
      "outputs": [],
      "source": [
        "from torch.utils.data import DataLoader"
      ]
    },
    {
      "cell_type": "code",
      "execution_count": 34,
      "metadata": {
        "id": "92vjwe0tpTyL"
      },
      "outputs": [],
      "source": [
        "dataloader = DataLoader(dataset, batch_size=32, shuffle=True)"
      ]
    },
    {
      "cell_type": "code",
      "execution_count": 35,
      "metadata": {
        "colab": {
          "base_uri": "https://localhost:8080/"
        },
        "id": "gfxlPfB5pTyL",
        "outputId": "6c58389d-13c5-407e-ee92-1d349794b7f2"
      },
      "outputs": [
        {
          "output_type": "stream",
          "name": "stdout",
          "text": [
            "torch.Size([32, 1, 28, 28])\n",
            "tensor([7, 4, 2, 0, 8, 6, 6, 1, 2, 6, 0, 1, 6, 6, 7, 8, 5, 7, 5, 8, 8, 8, 6, 3,\n",
            "        4, 9, 0, 5, 4, 1, 4, 7])\n"
          ]
        }
      ],
      "source": [
        "for batch in dataloader:\n",
        "    print(batch[0].shape)\n",
        "    print(batch[1])\n",
        "    break"
      ]
    },
    {
      "cell_type": "code",
      "execution_count": null,
      "metadata": {
        "id": "Se5-eVt7pTyL"
      },
      "outputs": [],
      "source": []
    }
  ],
  "metadata": {
    "accelerator": "GPU",
    "colab": {
      "collapsed_sections": [
        "aut1dJXmWw1O",
        "Ks081EJEWw1P",
        "vyqnqndjWw1S",
        "ucTxc7GGWw1c",
        "hJhKTaHnWw1i",
        "8nyWq1X-Ww1n",
        "e1l8HbUzWw1v"
      ],
      "name": "lab_04.ipynb",
      "provenance": [],
      "include_colab_link": true
    },
    "kernelspec": {
      "display_name": "Python 3 (ipykernel)",
      "language": "python",
      "name": "python3"
    },
    "language_info": {
      "codemirror_mode": {
        "name": "ipython",
        "version": 3
      },
      "file_extension": ".py",
      "mimetype": "text/x-python",
      "name": "python",
      "nbconvert_exporter": "python",
      "pygments_lexer": "ipython3",
      "version": "3.10.16"
    },
    "toc": {
      "base_numbering": 1,
      "nav_menu": {},
      "number_sections": false,
      "sideBar": true,
      "skip_h1_title": false,
      "title_cell": "Table of Contents",
      "title_sidebar": "Contents",
      "toc_cell": false,
      "toc_position": {
        "height": "calc(100% - 180px)",
        "left": "10px",
        "top": "150px",
        "width": "225px"
      },
      "toc_section_display": true,
      "toc_window_display": false
    }
  },
  "nbformat": 4,
  "nbformat_minor": 0
}