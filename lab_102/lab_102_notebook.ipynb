{
  "cells": [
    {
      "cell_type": "markdown",
      "metadata": {
        "id": "view-in-github",
        "colab_type": "text"
      },
      "source": [
        "<a href=\"https://colab.research.google.com/github/marcvonrohr/machine_learning/blob/main/lab_102/lab_102_notebook.ipynb\" target=\"_parent\"><img src=\"https://colab.research.google.com/assets/colab-badge.svg\" alt=\"Open In Colab\"/></a>"
      ]
    },
    {
      "cell_type": "markdown",
      "metadata": {
        "id": "RWDS2Xoj2sZV"
      },
      "source": [
        "<img align=\"center\" style=\"max-width: 900px; height: auto\" src=\"https://github.com/HSG-AIML-Teaching/ML2025-Lab/blob/main/lab_102/banner.png?raw=1\">"
      ]
    },
    {
      "cell_type": "markdown",
      "metadata": {
        "id": "dYv_Tg_U2sZY"
      },
      "source": [
        "<img align=\"right\" style=\"max-width: 200px; height: auto\" src=\"https://github.com/HSG-AIML-Teaching/ML2025-Lab/blob/main/lab_102/hsg_logo.png?raw=1\">\n",
        "\n",
        "###  Lab 102 - Python Data Types and Containers\n",
        "\n",
        "8,860,1.00 Machine Learning, Spring Term 2025, University of St.Gallen (HSG)"
      ]
    },
    {
      "cell_type": "markdown",
      "metadata": {
        "id": "heQMAE0U2sZa"
      },
      "source": [
        "The lab environment of the **8,860,1.00 Machine Learning** course builds on Jupyter Notebooks (https://jupyter.org), which provide a full-fledged Python environment for writing Python code.\n",
        "In this first lab, we will touch on the basic concepts and techniques of such Notebooks and the Python programming language in general."
      ]
    },
    {
      "cell_type": "markdown",
      "metadata": {
        "id": "xrGAbr_32sZa"
      },
      "source": [
        "### Lab Objectives:"
      ]
    },
    {
      "cell_type": "markdown",
      "metadata": {
        "id": "dmVp7XqG2sZb"
      },
      "source": [
        "After today's lab, you should be able to:\n",
        "    \n",
        "> 1. Understand the very basics of **Python code, variables and functions**.\n",
        "> 2. Know the distinct **Python data types**, such as integers, floats, booleans, strings.\n",
        "> 3. Implement fundamental **Python programming structures**, such as loops and decision structures.\n",
        "> 4. Code own **Python functions** to compute single, related actions.\n",
        "> 5. Know how to import and use **external Python modules** to enhance a notebook."
      ]
    },
    {
      "cell_type": "markdown",
      "metadata": {
        "id": "dMl-2IIx2sZb"
      },
      "source": [
        "## 1. The very Basics of Python Programming\n",
        "\n",
        "Writing Python **code** is as simple as writing text.\n",
        "\n",
        "Let's start with the typical Hello-World example:"
      ]
    },
    {
      "cell_type": "code",
      "execution_count": 1,
      "metadata": {
        "colab": {
          "base_uri": "https://localhost:8080/"
        },
        "id": "_uG-8Lqv2sZd",
        "outputId": "be8758f8-187f-4939-89cb-bef1a1f61d18"
      },
      "outputs": [
        {
          "output_type": "stream",
          "name": "stdout",
          "text": [
            "hello world!\n"
          ]
        }
      ],
      "source": [
        "print('hello world!')"
      ]
    },
    {
      "cell_type": "markdown",
      "metadata": {
        "id": "oogsCAQN2sZf"
      },
      "source": [
        "This code cell consists of a **function** call to the `print` function, which contains one **argument** (`'hello world!'`). The purpose of the `print` function is to print the argument on the screen.\n",
        "\n",
        "In order to support more or less complex calculations, Python supports **variables** to which values can be assigned:"
      ]
    },
    {
      "cell_type": "code",
      "execution_count": 3,
      "metadata": {
        "id": "_slhhIl82sZg"
      },
      "outputs": [],
      "source": [
        "a = 3"
      ]
    },
    {
      "cell_type": "markdown",
      "metadata": {
        "id": "tQtGSi7D2sZj"
      },
      "source": [
        "The value of **object** `b` is now 3; whenever the variable is evaluated, it is replaced by this value:"
      ]
    },
    {
      "cell_type": "code",
      "execution_count": 4,
      "metadata": {
        "colab": {
          "base_uri": "https://localhost:8080/"
        },
        "id": "4jkvhpZy2sZk",
        "outputId": "630a125e-70f6-400f-b8fe-6c5e41bde05e"
      },
      "outputs": [
        {
          "output_type": "execute_result",
          "data": {
            "text/plain": [
              "3"
            ]
          },
          "metadata": {},
          "execution_count": 4
        }
      ],
      "source": [
        "a"
      ]
    },
    {
      "cell_type": "markdown",
      "metadata": {
        "id": "5ZF27uU32sZk"
      },
      "source": [
        "This can be exploited for mathematical expressions:"
      ]
    },
    {
      "cell_type": "code",
      "execution_count": 5,
      "metadata": {
        "colab": {
          "base_uri": "https://localhost:8080/"
        },
        "id": "AxIFEOhu2sZl",
        "outputId": "330643e5-8b95-4675-e69a-82b9b73a7b4f"
      },
      "outputs": [
        {
          "output_type": "execute_result",
          "data": {
            "text/plain": [
              "4"
            ]
          },
          "metadata": {},
          "execution_count": 5
        }
      ],
      "source": [
        "a + 1"
      ]
    },
    {
      "cell_type": "markdown",
      "metadata": {
        "id": "FRFAHfAx2sZl"
      },
      "source": [
        "But note that the value of `a` does not change:"
      ]
    },
    {
      "cell_type": "code",
      "execution_count": 6,
      "metadata": {
        "colab": {
          "base_uri": "https://localhost:8080/"
        },
        "id": "4leBrZSG2sZn",
        "outputId": "dd5f7afc-0b95-4c1c-f096-ee9e19d1f747"
      },
      "outputs": [
        {
          "output_type": "execute_result",
          "data": {
            "text/plain": [
              "3"
            ]
          },
          "metadata": {},
          "execution_count": 6
        }
      ],
      "source": [
        "a"
      ]
    },
    {
      "cell_type": "markdown",
      "metadata": {
        "id": "_pBB96TO2sZn"
      },
      "source": [
        "The value of `a` only changes when `=` is involved"
      ]
    },
    {
      "cell_type": "code",
      "execution_count": 7,
      "metadata": {
        "id": "EOv_n-We2sZn"
      },
      "outputs": [],
      "source": [
        "a = a + 1"
      ]
    },
    {
      "cell_type": "code",
      "execution_count": 8,
      "metadata": {
        "colab": {
          "base_uri": "https://localhost:8080/"
        },
        "id": "j7YaR7Pp2sZo",
        "outputId": "a97c5a3a-2112-4169-e9e0-17c402ab8f9f"
      },
      "outputs": [
        {
          "output_type": "execute_result",
          "data": {
            "text/plain": [
              "4"
            ]
          },
          "metadata": {},
          "execution_count": 8
        }
      ],
      "source": [
        "a"
      ]
    },
    {
      "cell_type": "markdown",
      "metadata": {
        "id": "uSuJ6HLV2sZo"
      },
      "source": [
        "#### Comments\n",
        "\n",
        "The `#` character has a special meaning in Python. Whenever it appears, all following characters on the same line are considered a comment and are ignored. You can use comments to explain what certain parts of your code do."
      ]
    },
    {
      "cell_type": "code",
      "execution_count": 9,
      "metadata": {
        "id": "zHBTeaGe2sZp"
      },
      "outputs": [],
      "source": [
        "# this is a comment"
      ]
    },
    {
      "cell_type": "code",
      "execution_count": 10,
      "metadata": {
        "colab": {
          "base_uri": "https://localhost:8080/"
        },
        "id": "NFibeqKa2sZp",
        "outputId": "7eb0e922-ca8e-4bb6-9f54-6d2e22df5f49"
      },
      "outputs": [
        {
          "output_type": "stream",
          "name": "stdout",
          "text": [
            "1\n"
          ]
        }
      ],
      "source": [
        "print(1) # comments can be on the same line as code, too"
      ]
    },
    {
      "cell_type": "markdown",
      "metadata": {
        "id": "4hlk6IuZAhr9"
      },
      "source": [
        "## 2. Fundamental Python Data Types"
      ]
    },
    {
      "cell_type": "markdown",
      "metadata": {
        "id": "kGC27WsnAhr9"
      },
      "source": [
        "In general, a data type defines the format, sets the upper and lower bounds of the data so that a program could use it appropriately. However, **Python data types** are just more than that. In Python, we don’t need to declare a variable with explicitly mentioning the data type. This feature is famously known as **dynamic typing**."
      ]
    },
    {
      "cell_type": "markdown",
      "metadata": {
        "id": "I_Sdc2hCAhr9"
      },
      "source": [
        "Python determines the type of a literal (an element of code that has a fixed value) directly from the syntax at **runtime**. For example, the quotes mark the declaration of a string value, square brackets represent a list and curly brackets for a dictionary. Also, the non-decimal numbers will get assigned to Integer type whereas the ones with a decimal point will be a float."
      ]
    },
    {
      "cell_type": "markdown",
      "metadata": {
        "id": "3etc1a-UAhr9"
      },
      "source": [
        "There are four basic data types in the Python programming language:\n",
        "\n",
        "> * **Integer's** - represent positive or negative whole numbers with no decimal point.\n",
        "> * **Float's** - represent positive or negative real numbers and are written with a decimal point.\n",
        "> * **String's** - represent sequences of Unicode characters.\n",
        "> * **Boolean's** - represent constant objects that are either 'False' and 'True'."
      ]
    },
    {
      "cell_type": "markdown",
      "metadata": {
        "id": "pm4m8RuEAhr9"
      },
      "source": [
        "<img align=\"center\" style=\"max-width: 800px; height: auto\" src=\"https://github.com/HSG-AIML/LabMLDL/blob/main/lab_01/python_data_types.png?raw=1\">"
      ]
    },
    {
      "cell_type": "markdown",
      "metadata": {
        "id": "872PrAW0Ahr9"
      },
      "source": [
        "(Source: https://www.tes.com/teaching-resource/python-version-3-data-types-11949410.)"
      ]
    },
    {
      "cell_type": "markdown",
      "metadata": {
        "id": "xUWah-KXAhr9"
      },
      "source": [
        "#### 2.1 Numerical Data Type \"Integer\""
      ]
    },
    {
      "cell_type": "markdown",
      "metadata": {
        "id": "gpsXfiWeAhr9"
      },
      "source": [
        "Whole numbers are one of the most prominent Python data types. Whole numbers in Python are often called just **'integers'** or **'ints'** and are positive or negative whole numbers with no decimal point. In Python 3, there is effectively no limit to how big an integer value can be.\n",
        "\n",
        "Of course, it is constrained by the **amount of memory** your system has, as are all things. But beyond that, an integer can be as long as you need it to be:"
      ]
    },
    {
      "cell_type": "code",
      "execution_count": 11,
      "metadata": {
        "id": "2KWVklmeAhr9",
        "colab": {
          "base_uri": "https://localhost:8080/"
        },
        "outputId": "44905a0d-a4d6-4da6-b87a-f8861ac71351"
      },
      "outputs": [
        {
          "output_type": "execute_result",
          "data": {
            "text/plain": [
              "3"
            ]
          },
          "metadata": {},
          "execution_count": 11
        }
      ],
      "source": [
        "x = 3\n",
        "x"
      ]
    },
    {
      "cell_type": "markdown",
      "metadata": {
        "id": "TpBAAs5DAhr-"
      },
      "source": [
        "Print the variable type:"
      ]
    },
    {
      "cell_type": "code",
      "execution_count": 12,
      "metadata": {
        "id": "_FPHU3tUAhr-",
        "colab": {
          "base_uri": "https://localhost:8080/"
        },
        "outputId": "765431c4-0044-4ddd-9629-e593d158abb2"
      },
      "outputs": [
        {
          "output_type": "execute_result",
          "data": {
            "text/plain": [
              "int"
            ]
          },
          "metadata": {},
          "execution_count": 12
        }
      ],
      "source": [
        "type(x)"
      ]
    },
    {
      "cell_type": "markdown",
      "metadata": {
        "id": "KaCCn1B_Ahr-"
      },
      "source": [
        "Basic mathematical operations:"
      ]
    },
    {
      "cell_type": "code",
      "execution_count": 13,
      "metadata": {
        "id": "darB8tgDAhr-",
        "colab": {
          "base_uri": "https://localhost:8080/"
        },
        "outputId": "4df9cbc6-92e4-4542-e811-62478ba28527"
      },
      "outputs": [
        {
          "output_type": "stream",
          "name": "stdout",
          "text": [
            "4\n",
            "2\n",
            "6\n",
            "9\n"
          ]
        }
      ],
      "source": [
        "print(x + 1)   # addition\n",
        "print(x - 1)   # subtraction\n",
        "print(x * 2)   # multiplication\n",
        "print(x ** 2)  # exponentiation"
      ]
    },
    {
      "cell_type": "markdown",
      "metadata": {
        "id": "fdbS7tnRAhr-"
      },
      "source": [
        "Note that `x` still has the same value after these operations. This is due to the fact that we did not assign a new value to this variable. We can change its value by combining the two notations that we used above:"
      ]
    },
    {
      "cell_type": "code",
      "execution_count": 14,
      "metadata": {
        "id": "WByN-ov2Ahr-",
        "colab": {
          "base_uri": "https://localhost:8080/"
        },
        "outputId": "c0405d6d-a867-4d28-e2b4-b6d795676941"
      },
      "outputs": [
        {
          "output_type": "stream",
          "name": "stdout",
          "text": [
            "3 original value\n",
            "4 after adding 1\n",
            "8 after multiplying with 2\n",
            "3 after subtracting 5\n"
          ]
        }
      ],
      "source": [
        "print(x, 'original value')\n",
        "x = x + 1\n",
        "print(x, 'after adding 1')\n",
        "x = x * 2\n",
        "print(x, 'after multiplying with 2')\n",
        "x = x - 5\n",
        "print(x, 'after subtracting 5')"
      ]
    },
    {
      "cell_type": "markdown",
      "metadata": {
        "id": "m3yXtk1zAhr-"
      },
      "source": [
        "Here are some shortcuts for basic operations combined with value assignment:"
      ]
    },
    {
      "cell_type": "code",
      "execution_count": 15,
      "metadata": {
        "id": "xnbVyfnjAhr-",
        "colab": {
          "base_uri": "https://localhost:8080/"
        },
        "outputId": "fae3fa9c-de03-433b-d30b-43591f09c655"
      },
      "outputs": [
        {
          "output_type": "stream",
          "name": "stdout",
          "text": [
            "4\n",
            "8\n"
          ]
        }
      ],
      "source": [
        "x += 1\n",
        "print(x)  # prints \"4\"\n",
        "x *= 2\n",
        "print(x)  # prints \"8\""
      ]
    },
    {
      "cell_type": "markdown",
      "metadata": {
        "id": "NaxUKPB5Ahr-"
      },
      "source": [
        "#### 2.2 Numerical Data Type \"Float\""
      ]
    },
    {
      "cell_type": "markdown",
      "metadata": {
        "id": "RvEFVczLAhr-"
      },
      "source": [
        "The **float** type in Python represents real numbers and are written with a decimal point dividing the integer and fractional parts. As a result, float values are specified with a decimal point and are often called just **'floats'**.\n",
        "\n",
        "A float type number can have precision up to **15 decimal places**:"
      ]
    },
    {
      "cell_type": "code",
      "execution_count": 16,
      "metadata": {
        "id": "XtIeuLuCAhr-",
        "colab": {
          "base_uri": "https://localhost:8080/"
        },
        "outputId": "c8b454f6-86b9-4f08-b1b7-882fa1407f8f"
      },
      "outputs": [
        {
          "output_type": "stream",
          "name": "stdout",
          "text": [
            "3.0\n"
          ]
        }
      ],
      "source": [
        "y = 3.0\n",
        "print(y)"
      ]
    },
    {
      "cell_type": "markdown",
      "metadata": {
        "id": "bvB3W2DuAhr-"
      },
      "source": [
        "Print the variable type:"
      ]
    },
    {
      "cell_type": "code",
      "execution_count": 17,
      "metadata": {
        "id": "UAf9ZSBdAhr-",
        "colab": {
          "base_uri": "https://localhost:8080/"
        },
        "outputId": "784acf26-9836-42fe-a0d9-aca8471cf6bc"
      },
      "outputs": [
        {
          "output_type": "execute_result",
          "data": {
            "text/plain": [
              "float"
            ]
          },
          "metadata": {},
          "execution_count": 17
        }
      ],
      "source": [
        "type(y)"
      ]
    },
    {
      "cell_type": "markdown",
      "metadata": {
        "id": "f7roGf_TAhr-"
      },
      "source": [
        "Basic mathematical operations:"
      ]
    },
    {
      "cell_type": "code",
      "execution_count": 18,
      "metadata": {
        "id": "qWek_fb6Ahr-",
        "colab": {
          "base_uri": "https://localhost:8080/"
        },
        "outputId": "5c158a2f-3549-4882-ca0e-74e427f812d0"
      },
      "outputs": [
        {
          "output_type": "stream",
          "name": "stdout",
          "text": [
            "4.0\n",
            "2.0\n",
            "6.0\n",
            "9.0\n"
          ]
        }
      ],
      "source": [
        "print(y + 1)   # addition\n",
        "print(y - 1)   # subtraction\n",
        "print(y * 2)   # multiplication\n",
        "print(y ** 2)  # exponentation"
      ]
    },
    {
      "cell_type": "markdown",
      "metadata": {
        "id": "PyN8jd-EAhr-"
      },
      "source": [
        "Optionally, the character e or E followed by a positive or negative integer may be appended to specify scientific notation:"
      ]
    },
    {
      "cell_type": "code",
      "execution_count": 19,
      "metadata": {
        "id": "SAOdwPMkAhr-",
        "colab": {
          "base_uri": "https://localhost:8080/"
        },
        "outputId": "aae5d945-221f-4cc3-d7cb-473aa7189c80"
      },
      "outputs": [
        {
          "output_type": "stream",
          "name": "stdout",
          "text": [
            "1e-07\n",
            "1.0000001\n",
            "2e-07\n",
            "9.999999999999998e-15\n"
          ]
        }
      ],
      "source": [
        "z = 1e-7      # equals 0.0000001\n",
        "print(z)\n",
        "print(z + 1)\n",
        "print(z * 2)\n",
        "print(z ** 2)"
      ]
    },
    {
      "cell_type": "markdown",
      "metadata": {
        "id": "h8i6xfnaAhr-"
      },
      "source": [
        "#### 2.3 Non-Numerical Data Type \"String\""
      ]
    },
    {
      "cell_type": "markdown",
      "metadata": {
        "id": "iz5xnvarAhr-"
      },
      "source": [
        "A sequence of one or more characters enclosed within either single quotes `'` or double quotes `\"` is considered as a **string** in Python. Any letter, a number or a symbol could be a part of the string. All the characters between the opening delimiter and matching closing delimiter are part of the string:"
      ]
    },
    {
      "cell_type": "code",
      "execution_count": 20,
      "metadata": {
        "id": "s6DTT6qNAhr-",
        "colab": {
          "base_uri": "https://localhost:8080/"
        },
        "outputId": "82c67df1-8a36-4e86-a0d4-81b11d1055c9"
      },
      "outputs": [
        {
          "output_type": "stream",
          "name": "stdout",
          "text": [
            "hello\n"
          ]
        }
      ],
      "source": [
        "hello = 'hello'    # string literals can use single quotes\n",
        "hello2 = \"gruezi\"  # or double quotes; it does not matter.\n",
        "print(hello)"
      ]
    },
    {
      "cell_type": "markdown",
      "metadata": {
        "id": "umpjULcKAhr-"
      },
      "source": [
        "Print the variable type:"
      ]
    },
    {
      "cell_type": "code",
      "execution_count": 21,
      "metadata": {
        "id": "F6yrWc1hAhr-",
        "colab": {
          "base_uri": "https://localhost:8080/"
        },
        "outputId": "c6f4d750-f6f1-4e18-d9cc-0744d938c498"
      },
      "outputs": [
        {
          "output_type": "execute_result",
          "data": {
            "text/plain": [
              "str"
            ]
          },
          "metadata": {},
          "execution_count": 21
        }
      ],
      "source": [
        "type(hello)"
      ]
    },
    {
      "cell_type": "markdown",
      "metadata": {
        "id": "sAEpANuFAhr-"
      },
      "source": [
        "Print the length of each string in terms of a number of characters:"
      ]
    },
    {
      "cell_type": "code",
      "execution_count": 22,
      "metadata": {
        "id": "xle40UhVAhr-",
        "colab": {
          "base_uri": "https://localhost:8080/"
        },
        "outputId": "fba057a6-3cdc-4b05-8ae9-fe546e3b9dde"
      },
      "outputs": [
        {
          "output_type": "stream",
          "name": "stdout",
          "text": [
            "5\n",
            "6\n"
          ]
        }
      ],
      "source": [
        "print(len(hello))\n",
        "print(len(hello2))"
      ]
    },
    {
      "cell_type": "markdown",
      "metadata": {
        "id": "TjT5t9KuAhr_"
      },
      "source": [
        "Like most programming languages, Python allows accessing individual characters of a string based on their \"index\", which indicates the position in the string.\n",
        "\n",
        "**Important Python Rule No. 1: Python starts counting indices at 0.**\n",
        "\n",
        "The index of the first character is 0, the index of the second character is 1, and so on. Reaching the end of a string seems tedious? Not really, since Python also supports negative indexes. Index -1 represents the last character of the String. Similarly using -2, we can access the penultimate character of the string and so on:"
      ]
    },
    {
      "cell_type": "code",
      "execution_count": 23,
      "metadata": {
        "id": "Qrbxn0zUAhr_",
        "colab": {
          "base_uri": "https://localhost:8080/"
        },
        "outputId": "9dc7deb5-7f8a-499e-ffe5-842aeebd6479"
      },
      "outputs": [
        {
          "output_type": "stream",
          "name": "stdout",
          "text": [
            "first character: h\n",
            "third character: l\n",
            "last character: o\n",
            "penulminate character: l\n"
          ]
        }
      ],
      "source": [
        "print('first character:', hello[0])\n",
        "print('third character:', hello[2])\n",
        "print('last character:', hello[-1])\n",
        "print('penulminate character:', hello[-2])"
      ]
    },
    {
      "cell_type": "markdown",
      "metadata": {
        "id": "-4CtNNh3Ahr_"
      },
      "source": [
        "Concatenate two strings, e.g., to form a sentence:"
      ]
    },
    {
      "cell_type": "code",
      "execution_count": 24,
      "metadata": {
        "id": "37TZkrLHAhr_",
        "colab": {
          "base_uri": "https://localhost:8080/"
        },
        "outputId": "9c8912a8-e77f-46f8-b548-614221b86893"
      },
      "outputs": [
        {
          "output_type": "stream",
          "name": "stdout",
          "text": [
            "hello_gruezi and guten tag\n"
          ]
        }
      ],
      "source": [
        "hw = hello + '_' + hello2 + ' and guten tag' # string concatenation\n",
        "print(hw)  # prints \"hello world, my name is peterli 12\""
      ]
    },
    {
      "cell_type": "markdown",
      "metadata": {
        "id": "fhTpE7vWAhr_"
      },
      "source": [
        "String objects have a bunch of useful methods; for example:"
      ]
    },
    {
      "cell_type": "code",
      "execution_count": 25,
      "metadata": {
        "id": "Y-CMRkieAhr_",
        "colab": {
          "base_uri": "https://localhost:8080/"
        },
        "outputId": "b63b9bf0-dfb7-42c9-9460-42bc2f5f9f68"
      },
      "outputs": [
        {
          "output_type": "stream",
          "name": "stdout",
          "text": [
            "Hello\n",
            "HELLO\n",
            "  hello\n",
            " hello \n",
            "he(ell)(ell)o\n"
          ]
        }
      ],
      "source": [
        "s = \"hello\"                     # init string variable\n",
        "print(s.capitalize())           # capitalize a string; prints \"Hello\"\n",
        "print(s.upper())                # convert a string to uppercase; prints \"HELLO\"\n",
        "print(s.rjust(7))               # right-justify a string, padding with spaces; prints \"  hello\"\n",
        "print(s.center(7))              # center a string, padding with spaces; prints \" hello \"\n",
        "print(s.replace('l', '(ell)'))  # replace all instances of one substring with another;"
      ]
    },
    {
      "cell_type": "markdown",
      "metadata": {
        "id": "C_D2kf3R2saC"
      },
      "source": [
        "Strings can be formatted automatically, e.g., consider the following example of printing the temperature:"
      ]
    },
    {
      "cell_type": "code",
      "execution_count": 26,
      "metadata": {
        "colab": {
          "base_uri": "https://localhost:8080/"
        },
        "id": "JAfR8w7M2saC",
        "outputId": "a49820af-9536-4521-f2bb-d22f7ab26e7f"
      },
      "outputs": [
        {
          "output_type": "stream",
          "name": "stdout",
          "text": [
            "The current temperature is 12.1.\n"
          ]
        }
      ],
      "source": [
        "temp = 12.1\n",
        "\n",
        "print(\"The current temperature is {}.\".format(temp))"
      ]
    },
    {
      "cell_type": "markdown",
      "metadata": {
        "id": "mLTPXEkRAhr_"
      },
      "source": [
        "#### 2.4 Non-Numerical Data Type \"boolean\""
      ]
    },
    {
      "cell_type": "markdown",
      "metadata": {
        "id": "9rBSDo72Ahr_"
      },
      "source": [
        "Python provides a Boolean data type. Objects of type boolean type may have one of two values, \"True\" or \"False\":"
      ]
    },
    {
      "cell_type": "code",
      "execution_count": 27,
      "metadata": {
        "id": "pnGl-y-YAhr_",
        "colab": {
          "base_uri": "https://localhost:8080/"
        },
        "outputId": "63c5c3aa-873b-4ee0-ca69-2cfb342e92ee"
      },
      "outputs": [
        {
          "output_type": "stream",
          "name": "stdout",
          "text": [
            "True\n",
            "False\n"
          ]
        }
      ],
      "source": [
        "a = True\n",
        "b = False\n",
        "print(a)\n",
        "print(b)"
      ]
    },
    {
      "cell_type": "markdown",
      "metadata": {
        "id": "qDwZYNYFAhr_"
      },
      "source": [
        "Print the variable type:"
      ]
    },
    {
      "cell_type": "code",
      "execution_count": 28,
      "metadata": {
        "id": "AgcibAXUAhsA",
        "colab": {
          "base_uri": "https://localhost:8080/"
        },
        "outputId": "e3aa7a2a-1519-418a-c2e5-597a41312bd4"
      },
      "outputs": [
        {
          "output_type": "execute_result",
          "data": {
            "text/plain": [
              "bool"
            ]
          },
          "metadata": {},
          "execution_count": 28
        }
      ],
      "source": [
        "type(a)"
      ]
    },
    {
      "cell_type": "markdown",
      "metadata": {
        "id": "e5-q0QRpAhsA"
      },
      "source": [
        "Booleans are often used in Python to test conditions or constraints. For example, a string in Python can be tested for truth value. The return type will be then a Boolean value (True or False). Let’s have a look at a few examples:"
      ]
    },
    {
      "cell_type": "code",
      "execution_count": 29,
      "metadata": {
        "colab": {
          "base_uri": "https://localhost:8080/"
        },
        "id": "2oCSY1542saG",
        "outputId": "c5526df6-673b-4c15-95ae-5e0e75eb511c"
      },
      "outputs": [
        {
          "output_type": "execute_result",
          "data": {
            "text/plain": [
              "True"
            ]
          },
          "metadata": {},
          "execution_count": 29
        }
      ],
      "source": [
        "2 > 1  # read: is 2 greater than 1?"
      ]
    },
    {
      "cell_type": "code",
      "execution_count": 30,
      "metadata": {
        "colab": {
          "base_uri": "https://localhost:8080/"
        },
        "id": "IkZziBii2saG",
        "outputId": "2f780ca8-cfc3-43a9-f968-cf5283836851"
      },
      "outputs": [
        {
          "output_type": "execute_result",
          "data": {
            "text/plain": [
              "False"
            ]
          },
          "metadata": {},
          "execution_count": 30
        }
      ],
      "source": [
        "1 > 2  # read: is 1 greater than 2?"
      ]
    },
    {
      "cell_type": "code",
      "execution_count": 31,
      "metadata": {
        "colab": {
          "base_uri": "https://localhost:8080/"
        },
        "id": "nWpvqkoT2saG",
        "outputId": "f2064b50-b5f2-4a5d-c227-e07f59c2a512"
      },
      "outputs": [
        {
          "output_type": "execute_result",
          "data": {
            "text/plain": [
              "False"
            ]
          },
          "metadata": {},
          "execution_count": 31
        }
      ],
      "source": [
        "1 == 2  # read: is 1 equal to 2?"
      ]
    },
    {
      "cell_type": "markdown",
      "metadata": {
        "id": "lkjXcQ_92saH"
      },
      "source": [
        "Methods can return booleans, too:"
      ]
    },
    {
      "cell_type": "code",
      "execution_count": 32,
      "metadata": {
        "id": "4P7rzjbhAhsA",
        "colab": {
          "base_uri": "https://localhost:8080/"
        },
        "outputId": "1599144d-d26c-43f8-b845-bfb7be117ff8"
      },
      "outputs": [
        {
          "output_type": "stream",
          "name": "stdout",
          "text": [
            "False\n"
          ]
        }
      ],
      "source": [
        "s1 = 'This is a test string.'\n",
        "result_upper = s1.isupper()        # test if string contains only upper case characters\n",
        "print(result_upper)"
      ]
    },
    {
      "cell_type": "markdown",
      "metadata": {
        "id": "NCt2v7X7AhsA"
      },
      "source": [
        "We can even logically combine the tested conditions above:"
      ]
    },
    {
      "cell_type": "code",
      "execution_count": 33,
      "metadata": {
        "id": "kuZZwqeSAhsA",
        "colab": {
          "base_uri": "https://localhost:8080/"
        },
        "outputId": "0e980012-c6d3-4fc8-aa4c-9b638bc27ac4"
      },
      "outputs": [
        {
          "output_type": "stream",
          "name": "stdout",
          "text": [
            "False\n",
            "True\n",
            "False\n",
            "False\n",
            "True\n"
          ]
        }
      ],
      "source": [
        "print(a and b)               # Logical AND; prints \"False\"\n",
        "print(a or b)                # Logical OR; prints \"True\"\n",
        "print(a and result_upper)    # Logical AND; prints \"True\"\n",
        "print(not a)                 # Logical NOT; prints \"False\"\n",
        "print(a != b)                # Logical XOR; prints \"True\""
      ]
    },
    {
      "cell_type": "markdown",
      "metadata": {
        "id": "om8yoCtlAhsA"
      },
      "source": [
        "As you will see in upcoming labs, expressions in Python are often evaluated in a boolean context, meaning they are interpreted to represent truth or falsehood. A value that is true in Boolean context is sometimes said to be “truthy,” and one that is false in Boolean context is said to be “falsy”."
      ]
    },
    {
      "cell_type": "markdown",
      "metadata": {
        "id": "gAktEvEHAhsB"
      },
      "source": [
        "## 3. Fundamental Python Data Containers"
      ]
    },
    {
      "cell_type": "markdown",
      "metadata": {
        "id": "oXL3MIogAhsB"
      },
      "source": [
        "There are four collection data types in the Python programming language:\n",
        "\n",
        "> * **List** - is a collection which is ordered and changeable. Allows duplicate members.\n",
        "> * **Tuple** - is a collection which is ordered and unchangeable. Allows duplicate members.\n",
        "> * **Set** - is a collection which is unordered and unindexed. No duplicate members.\n",
        "> * **Dictionary** - is a collection which is unordered, changeable and indexed. No duplicate members.\n",
        "\n",
        "When choosing a collection type, it is useful to understand the properties of that type. Choosing the right type for a particular data set could mean retention of meaning, and, it could mean an increase in efficiency or security.\n",
        "\n",
        "During this lab, we will have a closer look into **lists** and **dictionaries**."
      ]
    },
    {
      "cell_type": "markdown",
      "metadata": {
        "id": "HeqWM-1DAhsB"
      },
      "source": [
        "<img align=\"center\" style=\"max-width: 800px; height: auto\" src=\"https://github.com/HSG-AIML/LabMLDL/blob/main/lab_01/python_data_containers.png?raw=1\">"
      ]
    },
    {
      "cell_type": "markdown",
      "metadata": {
        "id": "oLu2XES9AhsB"
      },
      "source": [
        "(Source: https://www.tes.com/teaching-resource/python-version-3-data-types-11949410.)"
      ]
    },
    {
      "cell_type": "markdown",
      "metadata": {
        "id": "_pdB4n_0AhsB"
      },
      "source": [
        "#### 3.1. Data Container \"List\""
      ]
    },
    {
      "cell_type": "markdown",
      "metadata": {
        "id": "roWncLMJAhsB"
      },
      "source": [
        "A list is a collection of basic Python data types in which \"elements\" are ordered in a mutable (elements can be changed) sequence.\n",
        "\n",
        "In Python, lists are written with square brackets. Python lists allow duplicate elements, are resizeable and can contain elements of different data types. Lists can be initialized like this:"
      ]
    },
    {
      "cell_type": "code",
      "execution_count": 34,
      "metadata": {
        "colab": {
          "base_uri": "https://localhost:8080/"
        },
        "id": "icLBazp62saL",
        "outputId": "a7e52281-444f-4eff-b913-054a10e19a2a"
      },
      "outputs": [
        {
          "output_type": "execute_result",
          "data": {
            "text/plain": [
              "[42, 5, 128, 5, 97, 208]"
            ]
          },
          "metadata": {},
          "execution_count": 34
        }
      ],
      "source": [
        "l = [42, 5, 128, 5, 97, 208]\n",
        "l"
      ]
    },
    {
      "cell_type": "markdown",
      "metadata": {
        "id": "Gsv-WSEe2saM"
      },
      "source": [
        "Similarly to strings, list elements can accessed using the same square-bracket formalism (keep in mind our Import Python Rule No. 1):"
      ]
    },
    {
      "cell_type": "code",
      "execution_count": 35,
      "metadata": {
        "colab": {
          "base_uri": "https://localhost:8080/"
        },
        "id": "YDfKE-xw2saM",
        "outputId": "f22b652e-aca4-467f-dfc6-721d9409f646"
      },
      "outputs": [
        {
          "output_type": "stream",
          "name": "stdout",
          "text": [
            "first element: 42\n",
            "third element: 128\n",
            "last element: 208\n",
            "penultimate element: 97\n"
          ]
        }
      ],
      "source": [
        "print('first element:', l[0])\n",
        "print('third element:', l[2])\n",
        "print('last element:', l[-1])\n",
        "print('penultimate element:', l[-2])"
      ]
    },
    {
      "cell_type": "markdown",
      "metadata": {
        "id": "EyJOQCk_AhsB"
      },
      "source": [
        "(This parallelism to strings is not by accident: strings are simply implemented as lists of characters in Python.)"
      ]
    },
    {
      "cell_type": "markdown",
      "metadata": {
        "id": "YwuSfBVAAhsB"
      },
      "source": [
        "Lists are their own variable type:"
      ]
    },
    {
      "cell_type": "code",
      "execution_count": 36,
      "metadata": {
        "id": "6tYjOue2AhsB",
        "colab": {
          "base_uri": "https://localhost:8080/"
        },
        "outputId": "8c525d6d-9196-4635-bf2d-5d07118274c0"
      },
      "outputs": [
        {
          "output_type": "execute_result",
          "data": {
            "text/plain": [
              "list"
            ]
          },
          "metadata": {},
          "execution_count": 36
        }
      ],
      "source": [
        "type(l)"
      ]
    },
    {
      "cell_type": "markdown",
      "metadata": {
        "id": "dTF6z3PPAhsC"
      },
      "source": [
        "Determine the total number of list elements:"
      ]
    },
    {
      "cell_type": "code",
      "execution_count": 37,
      "metadata": {
        "id": "Jabb09G9AhsC",
        "colab": {
          "base_uri": "https://localhost:8080/"
        },
        "outputId": "6434b0e9-e3a8-4dff-fcc1-95ff410005ac"
      },
      "outputs": [
        {
          "output_type": "stream",
          "name": "stdout",
          "text": [
            "6\n"
          ]
        }
      ],
      "source": [
        "print(len(l))         # print the number of elements contained in the list"
      ]
    },
    {
      "cell_type": "markdown",
      "metadata": {
        "id": "umyLNivhAhsC"
      },
      "source": [
        "Replace a list element by assigning a new value at a specific index:"
      ]
    },
    {
      "cell_type": "code",
      "execution_count": 38,
      "metadata": {
        "id": "w-QLB8TEAhsC",
        "colab": {
          "base_uri": "https://localhost:8080/"
        },
        "outputId": "ca0596b6-d0dc-4809-a2b5-f0575f2fc7db"
      },
      "outputs": [
        {
          "output_type": "stream",
          "name": "stdout",
          "text": [
            "[42, 5, 'happy', 5, 97, 208]\n"
          ]
        }
      ],
      "source": [
        "l[2] = 'happy'        # lists can contain elements of different types\n",
        "print(l)"
      ]
    },
    {
      "cell_type": "markdown",
      "metadata": {
        "id": "pvjIVfOEAhsC"
      },
      "source": [
        "Append an element to the end of a list:"
      ]
    },
    {
      "cell_type": "code",
      "execution_count": 39,
      "metadata": {
        "id": "oohToEtaAhsC",
        "colab": {
          "base_uri": "https://localhost:8080/"
        },
        "outputId": "02271130-5275-4745-bd18-effba51b3028"
      },
      "outputs": [
        {
          "output_type": "stream",
          "name": "stdout",
          "text": [
            "[42, 5, 'happy', 5, 97, 208, 'coding']\n"
          ]
        }
      ],
      "source": [
        "l.append('coding')    # add a new element to the end of the list\n",
        "print(l)"
      ]
    },
    {
      "cell_type": "markdown",
      "metadata": {
        "id": "j0lF8PxpAhsC"
      },
      "source": [
        "Create a list of numbers:"
      ]
    },
    {
      "cell_type": "code",
      "execution_count": 40,
      "metadata": {
        "id": "gogk0tbAAhsC",
        "colab": {
          "base_uri": "https://localhost:8080/"
        },
        "outputId": "6af9983e-98ff-4d7a-f81a-7889fe6dedeb"
      },
      "outputs": [
        {
          "output_type": "stream",
          "name": "stdout",
          "text": [
            "[0, 1, 2, 3, 4]\n"
          ]
        }
      ],
      "source": [
        "l = list(range(5))     # range is a built-in function that creates a list of integers\n",
        "print(l)               # prints \"[0, 1, 2, 3, 4]\""
      ]
    },
    {
      "cell_type": "markdown",
      "metadata": {
        "id": "U8zlgAe7AhsC"
      },
      "source": [
        "Slice list using distinct indexing techniques:"
      ]
    },
    {
      "cell_type": "code",
      "execution_count": 41,
      "metadata": {
        "id": "tHMaNkVjAhsC",
        "colab": {
          "base_uri": "https://localhost:8080/"
        },
        "outputId": "1e9b78de-3d63-4513-86aa-ea41d0296895"
      },
      "outputs": [
        {
          "output_type": "stream",
          "name": "stdout",
          "text": [
            "[2, 3]\n",
            "[2, 3, 4]\n",
            "[0, 1]\n",
            "[0, 1, 2, 3, 4]\n",
            "[0, 1, 2, 3]\n",
            "[4, 3, 2, 1, 0]\n"
          ]
        }
      ],
      "source": [
        "print(l[2:4])    # get a slice from index 2 to 4 (exclusive); prints \"[2, 3]\"\n",
        "print(l[2:])     # get a slice from index 2 to the end; prints \"[2, 3, 4]\"\n",
        "print(l[:2])     # get a slice from the start to index 2 (exclusive); prints \"[0, 1]\"\n",
        "print(l[:])      # get a slice of the whole list; prints [\"0, 1, 2, 3, 4]\"\n",
        "print(l[:-1])    # slice indices can be negative; prints [\"0, 1, 2, 3]\"\n",
        "print(l[::-1])   # you can also modify the step size and reverse the list"
      ]
    },
    {
      "cell_type": "markdown",
      "metadata": {
        "id": "AGOhPrZqAhsC"
      },
      "source": [
        "Replace range of list elements:"
      ]
    },
    {
      "cell_type": "code",
      "execution_count": 42,
      "metadata": {
        "id": "FyLbZ9ZJAhsC",
        "colab": {
          "base_uri": "https://localhost:8080/"
        },
        "outputId": "bea14487-ecd2-4ccb-fb99-ee878fcfd89f"
      },
      "outputs": [
        {
          "output_type": "stream",
          "name": "stdout",
          "text": [
            "[0, 1, 8, 9, 4]\n"
          ]
        }
      ],
      "source": [
        "l[2:4] = [8, 9]  # assign a new sublist to a slice\n",
        "print(l)         # prints \"[0, 1, 8, 9, 4]\""
      ]
    },
    {
      "cell_type": "markdown",
      "metadata": {
        "id": "7ZNse0V22saf"
      },
      "source": [
        "#### 3.2 Intermezzo: Tuples\n",
        "\n",
        "Tuples are basically immutable lists. They utilize parentheses instead of square brackets:"
      ]
    },
    {
      "cell_type": "code",
      "execution_count": 43,
      "metadata": {
        "colab": {
          "base_uri": "https://localhost:8080/"
        },
        "id": "CY4ePl5S2sag",
        "outputId": "4e224216-aadb-4c5e-cd03-967957726117"
      },
      "outputs": [
        {
          "output_type": "execute_result",
          "data": {
            "text/plain": [
              "(1, 'test', 56)"
            ]
          },
          "metadata": {},
          "execution_count": 43
        }
      ],
      "source": [
        "t = (1, \"test\", 56)\n",
        "t"
      ]
    },
    {
      "cell_type": "markdown",
      "metadata": {
        "id": "8DxukCpr2sag"
      },
      "source": [
        "Most list functions also work on tuples:"
      ]
    },
    {
      "cell_type": "code",
      "execution_count": 44,
      "metadata": {
        "colab": {
          "base_uri": "https://localhost:8080/"
        },
        "id": "22KfK61U2sag",
        "outputId": "82406c85-cefe-4be9-f105-202bb0afbd13"
      },
      "outputs": [
        {
          "output_type": "execute_result",
          "data": {
            "text/plain": [
              "3"
            ]
          },
          "metadata": {},
          "execution_count": 44
        }
      ],
      "source": [
        "len(t)"
      ]
    },
    {
      "cell_type": "markdown",
      "metadata": {
        "id": "SdNoJkio2sah"
      },
      "source": [
        "But keep in mind that tuples cannot be modified:"
      ]
    },
    {
      "cell_type": "code",
      "execution_count": 45,
      "metadata": {
        "id": "Rp6ZHxLs2sah"
      },
      "outputs": [],
      "source": [
        "#t[0] = 5"
      ]
    },
    {
      "cell_type": "markdown",
      "metadata": {
        "id": "K6iNqlsmAhsC"
      },
      "source": [
        "#### 3.3 Data Container \"Dictionary\""
      ]
    },
    {
      "cell_type": "markdown",
      "metadata": {
        "id": "ZnJh3nevAhsD"
      },
      "source": [
        "In Python, dictionaries are used to store associations similar to actual dictionaries that, e.g., translate between two different languages.\n",
        "\n",
        "A dictionary is a collection of basic Python data types in which \"elements\" consist of (key, value) pairs that are unordered, mutable and indexed. Every key is only allowed once in the dictionary (since it is indexed), but the same value can occur many times. Dictionaries are written with curly brackets and  can be initialized like this:"
      ]
    },
    {
      "cell_type": "code",
      "execution_count": 46,
      "metadata": {
        "id": "JhAXqzKDAhsD",
        "colab": {
          "base_uri": "https://localhost:8080/"
        },
        "outputId": "9353f9cb-8976-4f25-b905-5f268ab54211"
      },
      "outputs": [
        {
          "output_type": "execute_result",
          "data": {
            "text/plain": [
              "{'cat': 'Katze', 'flower': 'Blume', 'house': 'Haus', 'owl': 'Eule'}"
            ]
          },
          "metadata": {},
          "execution_count": 46
        }
      ],
      "source": [
        "d = {'cat': 'Katze', 'flower': 'Blume', 'house': 'Haus', 'owl': 'Eule'}\n",
        "d"
      ]
    },
    {
      "cell_type": "markdown",
      "metadata": {
        "id": "iqSkgP0lAhsD"
      },
      "source": [
        "Retrieve and print the value corresponding to the key \"cat\":"
      ]
    },
    {
      "cell_type": "code",
      "execution_count": 47,
      "metadata": {
        "id": "JN8QQJPmAhsD",
        "colab": {
          "base_uri": "https://localhost:8080/"
        },
        "outputId": "44aed8cc-ddc6-4e5a-9d00-ced3d681dc4e"
      },
      "outputs": [
        {
          "output_type": "stream",
          "name": "stdout",
          "text": [
            "Katze\n"
          ]
        }
      ],
      "source": [
        "print(d['cat'])"
      ]
    },
    {
      "cell_type": "markdown",
      "metadata": {
        "id": "Hh6TbSHLAhsD"
      },
      "source": [
        "We can add new dictionary elements:"
      ]
    },
    {
      "cell_type": "code",
      "execution_count": 48,
      "metadata": {
        "id": "hKa7SyfuAhsD",
        "colab": {
          "base_uri": "https://localhost:8080/"
        },
        "outputId": "b2575312-2b84-4584-a342-30090f51f244"
      },
      "outputs": [
        {
          "output_type": "execute_result",
          "data": {
            "text/plain": [
              "{'cat': 'Katze',\n",
              " 'flower': 'Blume',\n",
              " 'house': 'Haus',\n",
              " 'owl': 'Eule',\n",
              " 'pumpkin': 'Kürbis'}"
            ]
          },
          "metadata": {},
          "execution_count": 48
        }
      ],
      "source": [
        "d['pumpkin'] = 'Kürbis'\n",
        "d"
      ]
    },
    {
      "cell_type": "markdown",
      "metadata": {
        "id": "dSgqORXu2sai"
      },
      "source": [
        "And we can modify existing dictionary element by overwriting them (since every key is only allowed once):"
      ]
    },
    {
      "cell_type": "code",
      "execution_count": 49,
      "metadata": {
        "colab": {
          "base_uri": "https://localhost:8080/"
        },
        "id": "-pHZJ-Sg2sai",
        "outputId": "0ae945a4-1cc0-44d2-a9bc-b6e4c250dbae"
      },
      "outputs": [
        {
          "output_type": "execute_result",
          "data": {
            "text/plain": [
              "{'cat': 'Katze',\n",
              " 'flower': 'Blume',\n",
              " 'house': 'Haus',\n",
              " 'owl': 'Kauz',\n",
              " 'pumpkin': 'Kürbis'}"
            ]
          },
          "metadata": {},
          "execution_count": 49
        }
      ],
      "source": [
        "d['owl'] = 'Kauz'\n",
        "d"
      ]
    },
    {
      "cell_type": "markdown",
      "metadata": {
        "id": "883vtdk9AhsF"
      },
      "source": [
        "Retrieve and print all dictionary keys:"
      ]
    },
    {
      "cell_type": "code",
      "execution_count": 50,
      "metadata": {
        "id": "uyKhmfZzAhsF",
        "colab": {
          "base_uri": "https://localhost:8080/"
        },
        "outputId": "92e35031-13e3-48a8-9f64-4989d8f69638"
      },
      "outputs": [
        {
          "output_type": "execute_result",
          "data": {
            "text/plain": [
              "dict_keys(['cat', 'flower', 'house', 'owl', 'pumpkin'])"
            ]
          },
          "metadata": {},
          "execution_count": 50
        }
      ],
      "source": [
        "d.keys()"
      ]
    },
    {
      "cell_type": "markdown",
      "metadata": {
        "id": "5RbM8OWkAhsF"
      },
      "source": [
        "Retrieve and print all dictionary values:"
      ]
    },
    {
      "cell_type": "code",
      "execution_count": 51,
      "metadata": {
        "id": "1sKK_VQ-AhsF",
        "colab": {
          "base_uri": "https://localhost:8080/"
        },
        "outputId": "0990a12b-257b-4187-db4d-f991be17ff5f"
      },
      "outputs": [
        {
          "output_type": "execute_result",
          "data": {
            "text/plain": [
              "dict_values(['Katze', 'Blume', 'Haus', 'Kauz', 'Kürbis'])"
            ]
          },
          "metadata": {},
          "execution_count": 51
        }
      ],
      "source": [
        "d.values()"
      ]
    },
    {
      "cell_type": "markdown",
      "metadata": {
        "id": "6RQpTG4B2saj"
      },
      "source": [
        "You can also retrieve a list of key-value pairs in the form of tuples:"
      ]
    },
    {
      "cell_type": "code",
      "execution_count": 52,
      "metadata": {
        "colab": {
          "base_uri": "https://localhost:8080/"
        },
        "id": "Ip0ZVwLL2saj",
        "outputId": "2040f3b0-20de-4c67-8887-4bac46a851ec"
      },
      "outputs": [
        {
          "output_type": "execute_result",
          "data": {
            "text/plain": [
              "dict_items([('cat', 'Katze'), ('flower', 'Blume'), ('house', 'Haus'), ('owl', 'Kauz'), ('pumpkin', 'Kürbis')])"
            ]
          },
          "metadata": {},
          "execution_count": 52
        }
      ],
      "source": [
        "d.items()"
      ]
    },
    {
      "cell_type": "markdown",
      "metadata": {
        "id": "TspmIAVwAhsG"
      },
      "source": [
        "Try to retrieve a dictionary value that is not contained in the dictionary (this will result in an error):"
      ]
    },
    {
      "cell_type": "code",
      "execution_count": 53,
      "metadata": {
        "id": "dBTFvm1lAhsG"
      },
      "outputs": [],
      "source": [
        "#print(d['ghost'])                  # KeyError: 'ghost' not a key of the dictionary"
      ]
    },
    {
      "cell_type": "markdown",
      "metadata": {
        "id": "G9Io8fUf2sak"
      },
      "source": [
        "#### 3.4 Intermezzo: Sets\n",
        "\n",
        "Sets are basically dictionaries that only consist of keys without values. Like sets in the mathematical meaning, only unique elements are considered. Consider the following example:"
      ]
    },
    {
      "cell_type": "code",
      "execution_count": 54,
      "metadata": {
        "colab": {
          "base_uri": "https://localhost:8080/"
        },
        "id": "swL238et2sak",
        "outputId": "84d8c8f0-4dde-403d-e863-78c5abdbf498"
      },
      "outputs": [
        {
          "output_type": "execute_result",
          "data": {
            "text/plain": [
              "{1, 3, 6, 33}"
            ]
          },
          "metadata": {},
          "execution_count": 54
        }
      ],
      "source": [
        "s1 = {1, 2, 5, 9, 34}\n",
        "s2 = {1, 1, 3, 6, 33}\n",
        "s2"
      ]
    },
    {
      "cell_type": "markdown",
      "metadata": {
        "id": "raZyqgIX2sak"
      },
      "source": [
        "Set `s2` only has a single element `1`, since only unique elements are considered.\n",
        "\n",
        "Sets are useful for comparisons. For instance, you can derive the intersection of two sets"
      ]
    },
    {
      "cell_type": "code",
      "execution_count": 55,
      "metadata": {
        "colab": {
          "base_uri": "https://localhost:8080/"
        },
        "id": "Qq2vWKc92sal",
        "outputId": "73e9156a-c4c6-4d00-caa8-d7d9ee6ce4ea"
      },
      "outputs": [
        {
          "output_type": "execute_result",
          "data": {
            "text/plain": [
              "{1}"
            ]
          },
          "metadata": {},
          "execution_count": 55
        }
      ],
      "source": [
        "s1.intersection(s2)"
      ]
    },
    {
      "cell_type": "markdown",
      "metadata": {
        "id": "6QfbrKC22sal"
      },
      "source": [
        "and the union of two sets:"
      ]
    },
    {
      "cell_type": "code",
      "execution_count": 56,
      "metadata": {
        "colab": {
          "base_uri": "https://localhost:8080/"
        },
        "id": "mMrJIVHs2sal",
        "outputId": "ec8bdef8-6bec-4a4e-c292-f5d8cdc8f759"
      },
      "outputs": [
        {
          "output_type": "execute_result",
          "data": {
            "text/plain": [
              "{1, 2, 3, 5, 6, 9, 33, 34}"
            ]
          },
          "metadata": {},
          "execution_count": 56
        }
      ],
      "source": [
        "s1.union(s2)"
      ]
    },
    {
      "cell_type": "markdown",
      "metadata": {
        "id": "m5QNnbHKAhsJ"
      },
      "source": [
        "## 4. Fundamental Programming Structures"
      ]
    },
    {
      "cell_type": "markdown",
      "metadata": {
        "id": "flEH90sOAhsJ"
      },
      "source": [
        "As part of this lab, we want to have a closer look at three basic programming structures of Python:\n",
        "\n",
        "> * **For-Loops** - used to iterate over a sequence of program statements.\n",
        "> * **Decision Structures** - used to anticipate conditions occurring while the execution of a program."
      ]
    },
    {
      "cell_type": "markdown",
      "metadata": {
        "id": "gUyNrvBFAhsJ"
      },
      "source": [
        "#### 4.1 Python Loop Structures"
      ]
    },
    {
      "cell_type": "markdown",
      "metadata": {
        "id": "3WOZuHVTAhsJ"
      },
      "source": [
        "To keep a program doing some useful work we need some kind of repetition, looping back over the same block of code again and again. Below we will describe the different kinds of loops available in Python."
      ]
    },
    {
      "cell_type": "markdown",
      "metadata": {
        "id": "V10EPxYzAhsJ"
      },
      "source": [
        "The for loop that is used to iterate over elements of a sequence, it is often used when you have a piece of code which you want to repeat a specifc \"n\" number of times. The nature of a for-loop in Python is very straightforward  **\"for all elements in a list, do this\".**\n",
        "\n",
        "Let's say that you have a list; you can then loop over the list elements using the `for` keyword like this:\n"
      ]
    },
    {
      "cell_type": "code",
      "execution_count": 57,
      "metadata": {
        "id": "v_qHreC8AhsK",
        "colab": {
          "base_uri": "https://localhost:8080/"
        },
        "outputId": "bc7bb0f2-d404-4c78-aaa4-bb5cab540f32"
      },
      "outputs": [
        {
          "output_type": "stream",
          "name": "stdout",
          "text": [
            "cat\n",
            "night\n",
            "pumpkin\n"
          ]
        }
      ],
      "source": [
        "# list initialization\n",
        "l = ['cat', 'night', 'pumpkin']\n",
        "\n",
        "# loop initialization and run\n",
        "for s in l:\n",
        "    print(s)"
      ]
    },
    {
      "cell_type": "markdown",
      "metadata": {
        "id": "PPWf9Ah_AhsK"
      },
      "source": [
        "**Important Python Rule No. 2: Python relies on the concept of indentation, using whitespace (or tabs), to define the scope in the code.** This means that all code lines that use the same level of indentation belong to the same for-loop, function, etc.\n",
        "\n",
        "Other programming languages such as Java or C# often use brackets or curly-brackets for this purpose. Consider the following examples:"
      ]
    },
    {
      "cell_type": "code",
      "execution_count": 58,
      "metadata": {
        "colab": {
          "base_uri": "https://localhost:8080/"
        },
        "id": "YMBIsgEX2san",
        "outputId": "018b6263-f123-426c-c018-7df40fe57bed"
      },
      "outputs": [
        {
          "output_type": "stream",
          "name": "stdout",
          "text": [
            "cat\n",
            "I'm here\n",
            "night\n",
            "I'm here\n",
            "pumpkin\n",
            "I'm here\n"
          ]
        }
      ],
      "source": [
        "for s in l:\n",
        "    print(s)\n",
        "    print(\"I'm here\")"
      ]
    },
    {
      "cell_type": "code",
      "execution_count": 59,
      "metadata": {
        "colab": {
          "base_uri": "https://localhost:8080/"
        },
        "id": "zGDKFWXn2san",
        "outputId": "0fd620c4-750a-4048-b303-436fdc3b91cb"
      },
      "outputs": [
        {
          "output_type": "stream",
          "name": "stdout",
          "text": [
            "cat\n",
            "night\n",
            "pumpkin\n",
            "I'm here\n"
          ]
        }
      ],
      "source": [
        "for s in l:\n",
        "    print(s)\n",
        "print(\"I'm here\")"
      ]
    },
    {
      "cell_type": "markdown",
      "metadata": {
        "id": "npElQuIH2san"
      },
      "source": [
        "Only in the former example `I'm here` is printed in every iteration since its level of indentation indicates that it is part of the for-loop. In the latter case, the second print function does not use indentation, so it is not considered part of the for-loop and only printed after the loop has finished."
      ]
    },
    {
      "cell_type": "markdown",
      "metadata": {
        "id": "ytPqDh05AhsK"
      },
      "source": [
        "Let's have a look at another example of a for-loop:"
      ]
    },
    {
      "cell_type": "code",
      "execution_count": 60,
      "metadata": {
        "id": "s1o5bqddAhsK",
        "colab": {
          "base_uri": "https://localhost:8080/"
        },
        "outputId": "f11741a5-abc1-4a2a-ec47-871014b09baf"
      },
      "outputs": [
        {
          "output_type": "stream",
          "name": "stdout",
          "text": [
            "151\n"
          ]
        }
      ],
      "source": [
        "# init a list of numbers\n",
        "numbers = [1, 10, 20, 30, 40, 50]\n",
        "\n",
        "# init the result\n",
        "result = 0\n",
        "\n",
        "# loop initialization and run\n",
        "for number in numbers:\n",
        "    result = result + number\n",
        "    # result += number\n",
        "\n",
        "# print the result\n",
        "print(result)"
      ]
    },
    {
      "cell_type": "markdown",
      "metadata": {
        "id": "5_GiXfL4AhsK"
      },
      "source": [
        "To loop over a list of numbers, we can use Python's `range` function. The `range(lower_bound, upper_bound, step_size)` function generates a sequence of numbers, starting from the `lower_bound` to the `upper_bound`. The `lower_bound` and `step_size` parameters are optional. By default the lower bound is set to zero, the incremental step is set to one."
      ]
    },
    {
      "cell_type": "code",
      "execution_count": 61,
      "metadata": {
        "id": "e22EoVZVAhsK",
        "colab": {
          "base_uri": "https://localhost:8080/"
        },
        "outputId": "da794085-f661-4af6-a6d5-4bf2d0f8eb76"
      },
      "outputs": [
        {
          "output_type": "stream",
          "name": "stdout",
          "text": [
            "1\n",
            "2\n",
            "3\n",
            "4\n",
            "5\n",
            "6\n",
            "7\n",
            "8\n",
            "9\n"
          ]
        }
      ],
      "source": [
        "# loop over range elements\n",
        "for i in range(1, 10):\n",
        "\n",
        "    # print current value of i\n",
        "    print(i)"
      ]
    },
    {
      "cell_type": "markdown",
      "metadata": {
        "id": "dzjP1eNhAhsK"
      },
      "source": [
        "To break out from a loop, you can use the keyword `break`. Let's have a look at the following example:"
      ]
    },
    {
      "cell_type": "code",
      "execution_count": 62,
      "metadata": {
        "id": "osyVk7JdAhsK",
        "colab": {
          "base_uri": "https://localhost:8080/"
        },
        "outputId": "b9ee84d8-2be8-4240-b1ec-3b90d944c571"
      },
      "outputs": [
        {
          "output_type": "stream",
          "name": "stdout",
          "text": [
            "1\n",
            "2\n"
          ]
        }
      ],
      "source": [
        "# loop over range elements\n",
        "for i in range(1, 10000000000):\n",
        "\n",
        "    # case: current value of i equals 3?\n",
        "    if i == 3:\n",
        "\n",
        "        # break: stop the loop\n",
        "        break\n",
        "\n",
        "    # print current value of i\n",
        "    print(i)"
      ]
    },
    {
      "cell_type": "markdown",
      "metadata": {
        "id": "fZK4kLcOAhsK"
      },
      "source": [
        "In contrast, the `continue` keyword is used to tell Python to skip the rest of the statements in the current loop block and to continue to the next iteration of the loop."
      ]
    },
    {
      "cell_type": "code",
      "execution_count": 63,
      "metadata": {
        "id": "_0DwsWTpAhsK",
        "colab": {
          "base_uri": "https://localhost:8080/"
        },
        "outputId": "a43e5500-fdf7-4ad1-f09f-24f7deab0428"
      },
      "outputs": [
        {
          "output_type": "stream",
          "name": "stdout",
          "text": [
            "1\n",
            "2\n",
            "4\n",
            "5\n",
            "6\n",
            "7\n",
            "8\n",
            "9\n"
          ]
        }
      ],
      "source": [
        "# loop over range elements\n",
        "for i in range(1, 10):\n",
        "\n",
        "    # case: current value of i equals 3?\n",
        "    if i == 3:\n",
        "\n",
        "        # continue: jump to next loop iteration\n",
        "        continue\n",
        "\n",
        "    # print current value if i\n",
        "    print(i)"
      ]
    },
    {
      "cell_type": "markdown",
      "metadata": {
        "id": "5h6XTPwBAhsK"
      },
      "source": [
        "If you want access to the index of each element within the body of a loop, use the built-in enumerate function:"
      ]
    },
    {
      "cell_type": "code",
      "execution_count": 64,
      "metadata": {
        "id": "tSdtPBzvAhsK",
        "colab": {
          "base_uri": "https://localhost:8080/"
        },
        "outputId": "bed8d21f-aa95-46c8-92d1-055ef9ed7dc0"
      },
      "outputs": [
        {
          "output_type": "stream",
          "name": "stdout",
          "text": [
            "index 0: cat\n",
            "index 1: night\n",
            "index 2: pumpkin\n"
          ]
        }
      ],
      "source": [
        "l = ['cat', 'night', 'pumpkin']\n",
        "for idx, element in enumerate(l):\n",
        "    print('index {}: {}'.format(idx, element))"
      ]
    },
    {
      "cell_type": "markdown",
      "metadata": {
        "id": "nvq_-_r_AhsK"
      },
      "source": [
        "When programming frequently, we want to transform one type of data into another. As a simple example, consider the following code that computes square numbers:"
      ]
    },
    {
      "cell_type": "code",
      "execution_count": 65,
      "metadata": {
        "id": "txIvusQJAhsK",
        "colab": {
          "base_uri": "https://localhost:8080/"
        },
        "outputId": "e1f96568-98a2-42c6-d3a8-dc5ca0e49f9d"
      },
      "outputs": [
        {
          "output_type": "stream",
          "name": "stdout",
          "text": [
            "[0, 1, 4, 9, 16]\n"
          ]
        }
      ],
      "source": [
        "nums = [0, 1, 2, 3, 4]\n",
        "squares = []\n",
        "for x in nums:\n",
        "    squares.append(x ** 2)\n",
        "print(squares)"
      ]
    },
    {
      "cell_type": "markdown",
      "metadata": {
        "id": "LqpwiQDTAhsK"
      },
      "source": [
        "You can make this code simpler using a list comprehension:"
      ]
    },
    {
      "cell_type": "code",
      "execution_count": 66,
      "metadata": {
        "id": "EE2ROHIwAhsK",
        "colab": {
          "base_uri": "https://localhost:8080/"
        },
        "outputId": "75e50d68-92fb-4eaa-f842-b1a9c8533862"
      },
      "outputs": [
        {
          "output_type": "stream",
          "name": "stdout",
          "text": [
            "[0, 1, 4, 9, 16]\n"
          ]
        }
      ],
      "source": [
        "nums = [0, 1, 2, 3, 4]\n",
        "squares = [x ** 2 for x in nums]\n",
        "print(squares)"
      ]
    },
    {
      "cell_type": "markdown",
      "metadata": {
        "id": "l2-GJp80AhsK"
      },
      "source": [
        "List comprehensions can also contain conditions:"
      ]
    },
    {
      "cell_type": "code",
      "execution_count": 67,
      "metadata": {
        "id": "iJhzvL-pAhsK",
        "colab": {
          "base_uri": "https://localhost:8080/"
        },
        "outputId": "b434e33c-f146-4aa2-80b0-fddcaa033bb3"
      },
      "outputs": [
        {
          "output_type": "stream",
          "name": "stdout",
          "text": [
            "[0, 4, 16]\n"
          ]
        }
      ],
      "source": [
        "nums = [0, 1, 2, 3, 4]\n",
        "even_squares = [x ** 2 for x in nums if x % 2 == 0]\n",
        "print(even_squares)"
      ]
    },
    {
      "cell_type": "markdown",
      "metadata": {
        "id": "W-vVWgnqAhsK"
      },
      "source": [
        "Similarly, it is easy to iterate over the keys in a dictionary:"
      ]
    },
    {
      "cell_type": "code",
      "execution_count": 68,
      "metadata": {
        "id": "HQiccTt-AhsK",
        "colab": {
          "base_uri": "https://localhost:8080/"
        },
        "outputId": "d7908f86-19c9-4289-b5de-20c7bd5a6ecc"
      },
      "outputs": [
        {
          "output_type": "stream",
          "name": "stdout",
          "text": [
            "A pumpkin has 0 legs\n",
            "A cat has 4 legs\n",
            "A spider has 8 legs\n"
          ]
        }
      ],
      "source": [
        "d = {'pumpkin': 0, 'cat': 4, 'spider': 8}\n",
        "for animal in d:\n",
        "    legs = d[animal]\n",
        "    print('A {} has {} legs'.format(animal, legs))"
      ]
    },
    {
      "cell_type": "markdown",
      "metadata": {
        "id": "vHyUC72lAhsL"
      },
      "source": [
        "If you want access to keys and their corresponding values, use the items method:"
      ]
    },
    {
      "cell_type": "code",
      "execution_count": 69,
      "metadata": {
        "id": "CEtg1tYiAhsL",
        "colab": {
          "base_uri": "https://localhost:8080/"
        },
        "outputId": "01cb8e70-af86-4ff9-a396-b1495afbf69b"
      },
      "outputs": [
        {
          "output_type": "stream",
          "name": "stdout",
          "text": [
            "A pumpkin has 2 legs\n",
            "A cat has 4 legs\n",
            "A spider has 8 legs\n"
          ]
        }
      ],
      "source": [
        "d = {'pumpkin': 2, 'cat': 4, 'spider': 8}\n",
        "for animal, legs in d.items():\n",
        "    print('A {} has {} legs'.format(animal, legs))"
      ]
    },
    {
      "cell_type": "markdown",
      "metadata": {
        "id": "DF2HSMQMAhsL"
      },
      "source": [
        "#### 4.2 Python Decision Structures"
      ]
    },
    {
      "cell_type": "markdown",
      "metadata": {
        "id": "vVBu5oEmAhsL"
      },
      "source": [
        "Decision structures evaluate multiple expressions which produce **True** or **False** as an outcome. When solving a data science task, you often need to determine which action to take and which statements to execute if an outcome is **True** or **False** otherwise."
      ]
    },
    {
      "cell_type": "markdown",
      "metadata": {
        "id": "r4BKUz_FAhsL"
      },
      "source": [
        "Let's briefly recap Python's use of logical or mathematical conditions:"
      ]
    },
    {
      "cell_type": "code",
      "execution_count": 70,
      "metadata": {
        "id": "yQQ4qrWQAhsL"
      },
      "outputs": [],
      "source": [
        "# init sample variables\n",
        "a = 4\n",
        "b = 7"
      ]
    },
    {
      "cell_type": "code",
      "execution_count": 71,
      "metadata": {
        "id": "yyPYegw3AhsL",
        "colab": {
          "base_uri": "https://localhost:8080/"
        },
        "outputId": "94c5652c-1b8f-4bf5-f3bb-ceb98c994b79"
      },
      "outputs": [
        {
          "output_type": "stream",
          "name": "stdout",
          "text": [
            "False\n",
            "True\n",
            "True\n",
            "True\n",
            "False\n",
            "False\n"
          ]
        }
      ],
      "source": [
        "print(a == b)  # equals\n",
        "print(a != b)  # not equals\n",
        "print(a < b)   # less than\n",
        "print(a <= b)  # less than or equal to\n",
        "print(a > b)   # greater than\n",
        "print(a >= b)  # greater than or equal to"
      ]
    },
    {
      "cell_type": "markdown",
      "metadata": {
        "id": "RNVaRHFoAhsL"
      },
      "source": [
        "The mathematical conditions outlined above can be used in several ways, most commonly in if-statements. An if-statement is written by using the `if` keyword. Let's have a look at an example:"
      ]
    },
    {
      "cell_type": "code",
      "execution_count": 72,
      "metadata": {
        "id": "-7fawuboAhsL",
        "colab": {
          "base_uri": "https://localhost:8080/"
        },
        "outputId": "7158c338-44e4-4b70-b996-f7fb4aae0a23"
      },
      "outputs": [
        {
          "output_type": "stream",
          "name": "stdout",
          "text": [
            "b is greater than a\n"
          ]
        }
      ],
      "source": [
        "# init sample variables\n",
        "a = 4\n",
        "b = 7\n",
        "\n",
        "# test condition\n",
        "if b > a:\n",
        "    print(\"b is greater than a\")"
      ]
    },
    {
      "cell_type": "markdown",
      "metadata": {
        "id": "L8lfHpzqAhsL"
      },
      "source": [
        "In the example above we used two variables, `a` and `b`, which are used as part of the if-statement to test whether `b` is greater than `a`. As `a` is 4, and `b` is 7, we know that 7 is greater than 4, and so we print that `\"b is greater than a\"`. Note how indentation is used here to indicate which code lines have to be run if the condition is True."
      ]
    },
    {
      "cell_type": "markdown",
      "metadata": {
        "id": "vf_1M6FsAhsL"
      },
      "source": [
        "We can easily enhance the if-statement above by adding additional conditions using the `elif` keyword. The `elif` keyword is pythons way of saying \"if the previous conditions were not true, then try this condition\":"
      ]
    },
    {
      "cell_type": "code",
      "execution_count": 73,
      "metadata": {
        "id": "kM2KSPiiAhsL",
        "colab": {
          "base_uri": "https://localhost:8080/"
        },
        "outputId": "d6a2d41a-32cd-48a8-e6b2-82d9af28464e"
      },
      "outputs": [
        {
          "output_type": "stream",
          "name": "stdout",
          "text": [
            "a and b are equal\n"
          ]
        }
      ],
      "source": [
        "a = 4\n",
        "b = 4\n",
        "\n",
        "# test condition 1\n",
        "if b > a:\n",
        "  print(\"b is greater than a\")\n",
        "\n",
        "# test condition 2\n",
        "elif a == b:\n",
        "  print(\"a and b are equal\")\n",
        "\n",
        "elif a != b:\n",
        "    print(\"test check and so on... \")"
      ]
    },
    {
      "cell_type": "markdown",
      "metadata": {
        "id": "Iu4p06BPAhsL"
      },
      "source": [
        "Finally, we can use the `else` keyword to catch any case which isn't found by the preceding conditions:"
      ]
    },
    {
      "cell_type": "code",
      "execution_count": 74,
      "metadata": {
        "id": "0ZidOfM8AhsL",
        "colab": {
          "base_uri": "https://localhost:8080/"
        },
        "outputId": "8681058d-4ada-44e1-e5b7-c41f542ef931"
      },
      "outputs": [
        {
          "output_type": "stream",
          "name": "stdout",
          "text": [
            "a is greater than b\n"
          ]
        }
      ],
      "source": [
        "a = 8\n",
        "b = 4\n",
        "\n",
        "# test condition 1\n",
        "if b > a:\n",
        "  print(\"b is greater than a\")\n",
        "\n",
        "# test condition 2\n",
        "elif a == b:\n",
        "  print(\"a and b are equal\")\n",
        "\n",
        "# all other cases\n",
        "else:\n",
        "  print(\"a is greater than b\")"
      ]
    },
    {
      "cell_type": "markdown",
      "metadata": {
        "id": "7llay0hQAhsM"
      },
      "source": [
        "In the example above the value assigned to a variable `a` is greater than the value assigned to `b`, so the first `if` condition is not true. Also, the `elif` condition is not true, so we ultimately go to the `else` condition and print that \"a is greater than b\"."
      ]
    },
    {
      "cell_type": "markdown",
      "metadata": {
        "id": "IwVBCT7TAhsM"
      },
      "source": [
        "## 5. Python Functions"
      ]
    },
    {
      "cell_type": "markdown",
      "metadata": {
        "id": "5USltVEXAhsM"
      },
      "source": [
        "A function is a block of organized, reusable code that is used to perform a single, related action. Functions provide better modularity for your application and allow for a high degree of reusable code. As you already saw, Python provides you with many built-in functions such as `print()`, etc. but you can also create your functions. These functions are called **user-defined functions**.\n",
        "\n",
        "A function is a block of code which only runs when it is called. You can pass data, known as arguments or parameters, into a function. A function can return data as a result. Python functions are defined using the `def` keyword.\n",
        "\n",
        "Let's recycle the code comparing two numbers from the previous section and put it into a function:"
      ]
    },
    {
      "cell_type": "code",
      "execution_count": 75,
      "metadata": {
        "id": "Yc_J5cAi2sa0"
      },
      "outputs": [],
      "source": [
        "def compare(a, b):\n",
        "    if b > a:\n",
        "        print(\"b is greater than a\")\n",
        "    elif a == b:\n",
        "        print(\"a and b are equal\")\n",
        "    else:\n",
        "        print(\"a is greater than b\")"
      ]
    },
    {
      "cell_type": "markdown",
      "metadata": {
        "id": "JGv2oBN02sa0"
      },
      "source": [
        "First, notice the use of indentation here: all code lines use indentation since they are part of the function definition. Those lines that are part of the if-structure use additional indentation.\n",
        "\n",
        "Let's evaluate this function:"
      ]
    },
    {
      "cell_type": "code",
      "execution_count": 76,
      "metadata": {
        "colab": {
          "base_uri": "https://localhost:8080/"
        },
        "id": "uCgsjLN22sa0",
        "outputId": "5d6f1cb3-47ca-47fd-d4c5-b59fde6d51e4"
      },
      "outputs": [
        {
          "output_type": "stream",
          "name": "stdout",
          "text": [
            "b is greater than a\n"
          ]
        }
      ],
      "source": [
        "compare(1, 2)"
      ]
    },
    {
      "cell_type": "code",
      "execution_count": 77,
      "metadata": {
        "colab": {
          "base_uri": "https://localhost:8080/"
        },
        "id": "s8n73zii2sa1",
        "outputId": "930b5c81-b758-4ffd-8cb5-b78299db4cea"
      },
      "outputs": [
        {
          "output_type": "stream",
          "name": "stdout",
          "text": [
            "a is greater than b\n"
          ]
        }
      ],
      "source": [
        "compare(100, 2)"
      ]
    },
    {
      "cell_type": "markdown",
      "metadata": {
        "id": "Xngvy6C32sa1"
      },
      "source": [
        "This does the trick, but the more \"pythonic\" way would be not to print the result on the screen, but to return it to the user:"
      ]
    },
    {
      "cell_type": "code",
      "execution_count": 78,
      "metadata": {
        "id": "V9yQs5V52sa1"
      },
      "outputs": [],
      "source": [
        "def which_number_is_greater(a, b):\n",
        "    if a > b:\n",
        "        return a\n",
        "    elif b > a:\n",
        "        return b\n",
        "    else:\n",
        "        return None"
      ]
    },
    {
      "cell_type": "code",
      "execution_count": 79,
      "metadata": {
        "colab": {
          "base_uri": "https://localhost:8080/"
        },
        "id": "JOCvcrcO2sa1",
        "outputId": "41746b40-5a9a-4ebd-ee41-ab4c112b00ee"
      },
      "outputs": [
        {
          "output_type": "execute_result",
          "data": {
            "text/plain": [
              "100"
            ]
          },
          "metadata": {},
          "execution_count": 79
        }
      ],
      "source": [
        "which_number_is_greater(100, 99)"
      ]
    },
    {
      "cell_type": "markdown",
      "metadata": {
        "id": "EnlW1d2w2sa1"
      },
      "source": [
        "Note that the function call gets replaced with the result, which can be used right away in mathematical expressions:"
      ]
    },
    {
      "cell_type": "code",
      "execution_count": 80,
      "metadata": {
        "colab": {
          "base_uri": "https://localhost:8080/"
        },
        "id": "y_iqKiFK2sa1",
        "outputId": "ed9ef9be-d6fc-4286-8f24-b444d4991c47"
      },
      "outputs": [
        {
          "output_type": "execute_result",
          "data": {
            "text/plain": [
              "101"
            ]
          },
          "metadata": {},
          "execution_count": 80
        }
      ],
      "source": [
        "which_number_is_greater(100, 99) + 1"
      ]
    },
    {
      "cell_type": "markdown",
      "metadata": {
        "id": "Yn4m4bIj2sa2"
      },
      "source": [
        "Finally, there are two types of arguments: positional arguments that are identfied as per their position in the function call and keyword arguments that have to be addressed specifically and typically have default values:"
      ]
    },
    {
      "cell_type": "code",
      "execution_count": 81,
      "metadata": {
        "id": "TBuvBnOZ2sa2"
      },
      "outputs": [],
      "source": [
        "def some_math(a, b, c=0, d=1):\n",
        "    return (a + 2*b + c) * d"
      ]
    },
    {
      "cell_type": "code",
      "execution_count": 82,
      "metadata": {
        "colab": {
          "base_uri": "https://localhost:8080/"
        },
        "id": "a7ZTH74E2sa2",
        "outputId": "7d99bb57-0eef-4538-91b0-360a30daa54d"
      },
      "outputs": [
        {
          "output_type": "execute_result",
          "data": {
            "text/plain": [
              "5"
            ]
          },
          "metadata": {},
          "execution_count": 82
        }
      ],
      "source": [
        "some_math(1, 2)"
      ]
    },
    {
      "cell_type": "code",
      "execution_count": 83,
      "metadata": {
        "colab": {
          "base_uri": "https://localhost:8080/"
        },
        "id": "dUQ2qspb2sa2",
        "outputId": "a0a97039-1f51-430e-ad59-46773ed7f954"
      },
      "outputs": [
        {
          "output_type": "execute_result",
          "data": {
            "text/plain": [
              "28"
            ]
          },
          "metadata": {},
          "execution_count": 83
        }
      ],
      "source": [
        "some_math(1, 2, d=4, c=2)"
      ]
    },
    {
      "cell_type": "markdown",
      "metadata": {
        "id": "7boMfnFC2sa2"
      },
      "source": [
        "## 6. Importing Python Modules\n",
        "\n",
        "Python provides a huge list of \"built-in\" functionality, things that it can do out-of-the-box. However, for specific use cases - like training deep neural networks - it requires functionality from external modules that can be readily \"imported\" into your Python runtime environment.\n",
        "\n",
        "In our next lab we will learn about the Numpy module and its support for arrays and higher math. For now let's focus on how to import this module:"
      ]
    },
    {
      "cell_type": "code",
      "execution_count": 84,
      "metadata": {
        "id": "z1aqU_zh2sa3"
      },
      "outputs": [],
      "source": [
        "import numpy"
      ]
    },
    {
      "cell_type": "markdown",
      "metadata": {
        "id": "mVKh8DBC2sa3"
      },
      "source": [
        "That's it. Now presume that we would like to use its `sqrt` function to calculate the square-root of 9:"
      ]
    },
    {
      "cell_type": "code",
      "execution_count": 85,
      "metadata": {
        "colab": {
          "base_uri": "https://localhost:8080/"
        },
        "id": "ofjlJe2y2sa4",
        "outputId": "a2bff68e-5900-4b97-975f-fa5f248a7092"
      },
      "outputs": [
        {
          "output_type": "execute_result",
          "data": {
            "text/plain": [
              "3.0"
            ]
          },
          "metadata": {},
          "execution_count": 85
        }
      ],
      "source": [
        "numpy.sqrt(9)"
      ]
    },
    {
      "cell_type": "markdown",
      "metadata": {
        "id": "K3OqaIHJ2sa4"
      },
      "source": [
        "So, in order to use a function from Numpy, we have to specify that we would like to use the `sqrt` from Numpy by typing `numpy.sqrt`. This is necessary to resolve possible confusion with other functions that might carry the same name.\n",
        "\n",
        "Since typing `numpy.` everytime we want to use a Numpy function quickly becomes tedious, you can give the Numpy module a different name (`np` is the usual choice) so you have to type less:"
      ]
    },
    {
      "cell_type": "code",
      "execution_count": 86,
      "metadata": {
        "colab": {
          "base_uri": "https://localhost:8080/"
        },
        "id": "P2kJon_z2sa4",
        "outputId": "75b71a93-1a61-434a-9459-43f600a5ffcc"
      },
      "outputs": [
        {
          "output_type": "execute_result",
          "data": {
            "text/plain": [
              "3.0"
            ]
          },
          "metadata": {},
          "execution_count": 86
        }
      ],
      "source": [
        "import numpy as np\n",
        "\n",
        "np.sqrt(9)"
      ]
    },
    {
      "cell_type": "markdown",
      "metadata": {
        "id": "CtbNvM9a2sa4"
      },
      "source": [
        "### Lab Summary:"
      ]
    },
    {
      "cell_type": "markdown",
      "metadata": {
        "id": "VaSbxEMG2sa4"
      },
      "source": [
        "In this initial lab, a step by step introduction into some basic concepts of Python programming incl. data types, containers, functions, and modules are presented. The code and exercises presented in this lab may serve you as a starting point for more complex and tailored analytics."
      ]
    },
    {
      "cell_type": "markdown",
      "metadata": {
        "id": "t78lxDHP2sa_"
      },
      "source": [
        "You may want to execute the content of your lab outside of the Jupyter notebook environment, e.g., on a compute node or a server. The cell below converts the lab notebook into a standalone and executable python script."
      ]
    },
    {
      "cell_type": "code",
      "execution_count": 87,
      "metadata": {
        "colab": {
          "base_uri": "https://localhost:8080/"
        },
        "id": "SgMbfj812sbA",
        "outputId": "27d20a7d-6927-4e75-820e-20e45bae3175"
      },
      "outputs": [
        {
          "output_type": "stream",
          "name": "stdout",
          "text": [
            "[NbConvertApp] WARNING | pattern 'lab_102_notebook.ipynb' matched no files\n",
            "This application is used to convert notebook files (*.ipynb)\n",
            "        to various other formats.\n",
            "\n",
            "        WARNING: THE COMMANDLINE INTERFACE MAY CHANGE IN FUTURE RELEASES.\n",
            "\n",
            "Options\n",
            "=======\n",
            "The options below are convenience aliases to configurable class-options,\n",
            "as listed in the \"Equivalent to\" description-line of the aliases.\n",
            "To see all configurable class-options for some <cmd>, use:\n",
            "    <cmd> --help-all\n",
            "\n",
            "--debug\n",
            "    set log level to logging.DEBUG (maximize logging output)\n",
            "    Equivalent to: [--Application.log_level=10]\n",
            "--show-config\n",
            "    Show the application's configuration (human-readable format)\n",
            "    Equivalent to: [--Application.show_config=True]\n",
            "--show-config-json\n",
            "    Show the application's configuration (json format)\n",
            "    Equivalent to: [--Application.show_config_json=True]\n",
            "--generate-config\n",
            "    generate default config file\n",
            "    Equivalent to: [--JupyterApp.generate_config=True]\n",
            "-y\n",
            "    Answer yes to any questions instead of prompting.\n",
            "    Equivalent to: [--JupyterApp.answer_yes=True]\n",
            "--execute\n",
            "    Execute the notebook prior to export.\n",
            "    Equivalent to: [--ExecutePreprocessor.enabled=True]\n",
            "--allow-errors\n",
            "    Continue notebook execution even if one of the cells throws an error and include the error message in the cell output (the default behaviour is to abort conversion). This flag is only relevant if '--execute' was specified, too.\n",
            "    Equivalent to: [--ExecutePreprocessor.allow_errors=True]\n",
            "--stdin\n",
            "    read a single notebook file from stdin. Write the resulting notebook with default basename 'notebook.*'\n",
            "    Equivalent to: [--NbConvertApp.from_stdin=True]\n",
            "--stdout\n",
            "    Write notebook output to stdout instead of files.\n",
            "    Equivalent to: [--NbConvertApp.writer_class=StdoutWriter]\n",
            "--inplace\n",
            "    Run nbconvert in place, overwriting the existing notebook (only\n",
            "            relevant when converting to notebook format)\n",
            "    Equivalent to: [--NbConvertApp.use_output_suffix=False --NbConvertApp.export_format=notebook --FilesWriter.build_directory=]\n",
            "--clear-output\n",
            "    Clear output of current file and save in place,\n",
            "            overwriting the existing notebook.\n",
            "    Equivalent to: [--NbConvertApp.use_output_suffix=False --NbConvertApp.export_format=notebook --FilesWriter.build_directory= --ClearOutputPreprocessor.enabled=True]\n",
            "--coalesce-streams\n",
            "    Coalesce consecutive stdout and stderr outputs into one stream (within each cell).\n",
            "    Equivalent to: [--NbConvertApp.use_output_suffix=False --NbConvertApp.export_format=notebook --FilesWriter.build_directory= --CoalesceStreamsPreprocessor.enabled=True]\n",
            "--no-prompt\n",
            "    Exclude input and output prompts from converted document.\n",
            "    Equivalent to: [--TemplateExporter.exclude_input_prompt=True --TemplateExporter.exclude_output_prompt=True]\n",
            "--no-input\n",
            "    Exclude input cells and output prompts from converted document.\n",
            "            This mode is ideal for generating code-free reports.\n",
            "    Equivalent to: [--TemplateExporter.exclude_output_prompt=True --TemplateExporter.exclude_input=True --TemplateExporter.exclude_input_prompt=True]\n",
            "--allow-chromium-download\n",
            "    Whether to allow downloading chromium if no suitable version is found on the system.\n",
            "    Equivalent to: [--WebPDFExporter.allow_chromium_download=True]\n",
            "--disable-chromium-sandbox\n",
            "    Disable chromium security sandbox when converting to PDF..\n",
            "    Equivalent to: [--WebPDFExporter.disable_sandbox=True]\n",
            "--show-input\n",
            "    Shows code input. This flag is only useful for dejavu users.\n",
            "    Equivalent to: [--TemplateExporter.exclude_input=False]\n",
            "--embed-images\n",
            "    Embed the images as base64 dataurls in the output. This flag is only useful for the HTML/WebPDF/Slides exports.\n",
            "    Equivalent to: [--HTMLExporter.embed_images=True]\n",
            "--sanitize-html\n",
            "    Whether the HTML in Markdown cells and cell outputs should be sanitized..\n",
            "    Equivalent to: [--HTMLExporter.sanitize_html=True]\n",
            "--log-level=<Enum>\n",
            "    Set the log level by value or name.\n",
            "    Choices: any of [0, 10, 20, 30, 40, 50, 'DEBUG', 'INFO', 'WARN', 'ERROR', 'CRITICAL']\n",
            "    Default: 30\n",
            "    Equivalent to: [--Application.log_level]\n",
            "--config=<Unicode>\n",
            "    Full path of a config file.\n",
            "    Default: ''\n",
            "    Equivalent to: [--JupyterApp.config_file]\n",
            "--to=<Unicode>\n",
            "    The export format to be used, either one of the built-in formats\n",
            "            ['asciidoc', 'custom', 'html', 'latex', 'markdown', 'notebook', 'pdf', 'python', 'qtpdf', 'qtpng', 'rst', 'script', 'slides', 'webpdf']\n",
            "            or a dotted object name that represents the import path for an\n",
            "            ``Exporter`` class\n",
            "    Default: ''\n",
            "    Equivalent to: [--NbConvertApp.export_format]\n",
            "--template=<Unicode>\n",
            "    Name of the template to use\n",
            "    Default: ''\n",
            "    Equivalent to: [--TemplateExporter.template_name]\n",
            "--template-file=<Unicode>\n",
            "    Name of the template file to use\n",
            "    Default: None\n",
            "    Equivalent to: [--TemplateExporter.template_file]\n",
            "--theme=<Unicode>\n",
            "    Template specific theme(e.g. the name of a JupyterLab CSS theme distributed\n",
            "    as prebuilt extension for the lab template)\n",
            "    Default: 'light'\n",
            "    Equivalent to: [--HTMLExporter.theme]\n",
            "--sanitize_html=<Bool>\n",
            "    Whether the HTML in Markdown cells and cell outputs should be sanitized.This\n",
            "    should be set to True by nbviewer or similar tools.\n",
            "    Default: False\n",
            "    Equivalent to: [--HTMLExporter.sanitize_html]\n",
            "--writer=<DottedObjectName>\n",
            "    Writer class used to write the\n",
            "                                        results of the conversion\n",
            "    Default: 'FilesWriter'\n",
            "    Equivalent to: [--NbConvertApp.writer_class]\n",
            "--post=<DottedOrNone>\n",
            "    PostProcessor class used to write the\n",
            "                                        results of the conversion\n",
            "    Default: ''\n",
            "    Equivalent to: [--NbConvertApp.postprocessor_class]\n",
            "--output=<Unicode>\n",
            "    Overwrite base name use for output files.\n",
            "                Supports pattern replacements '{notebook_name}'.\n",
            "    Default: '{notebook_name}'\n",
            "    Equivalent to: [--NbConvertApp.output_base]\n",
            "--output-dir=<Unicode>\n",
            "    Directory to write output(s) to. Defaults\n",
            "                                  to output to the directory of each notebook. To recover\n",
            "                                  previous default behaviour (outputting to the current\n",
            "                                  working directory) use . as the flag value.\n",
            "    Default: ''\n",
            "    Equivalent to: [--FilesWriter.build_directory]\n",
            "--reveal-prefix=<Unicode>\n",
            "    The URL prefix for reveal.js (version 3.x).\n",
            "            This defaults to the reveal CDN, but can be any url pointing to a copy\n",
            "            of reveal.js.\n",
            "            For speaker notes to work, this must be a relative path to a local\n",
            "            copy of reveal.js: e.g., \"reveal.js\".\n",
            "            If a relative path is given, it must be a subdirectory of the\n",
            "            current directory (from which the server is run).\n",
            "            See the usage documentation\n",
            "            (https://nbconvert.readthedocs.io/en/latest/usage.html#reveal-js-html-slideshow)\n",
            "            for more details.\n",
            "    Default: ''\n",
            "    Equivalent to: [--SlidesExporter.reveal_url_prefix]\n",
            "--nbformat=<Enum>\n",
            "    The nbformat version to write.\n",
            "            Use this to downgrade notebooks.\n",
            "    Choices: any of [1, 2, 3, 4]\n",
            "    Default: 4\n",
            "    Equivalent to: [--NotebookExporter.nbformat_version]\n",
            "\n",
            "Examples\n",
            "--------\n",
            "\n",
            "    The simplest way to use nbconvert is\n",
            "\n",
            "            > jupyter nbconvert mynotebook.ipynb --to html\n",
            "\n",
            "            Options include ['asciidoc', 'custom', 'html', 'latex', 'markdown', 'notebook', 'pdf', 'python', 'qtpdf', 'qtpng', 'rst', 'script', 'slides', 'webpdf'].\n",
            "\n",
            "            > jupyter nbconvert --to latex mynotebook.ipynb\n",
            "\n",
            "            Both HTML and LaTeX support multiple output templates. LaTeX includes\n",
            "            'base', 'article' and 'report'.  HTML includes 'basic', 'lab' and\n",
            "            'classic'. You can specify the flavor of the format used.\n",
            "\n",
            "            > jupyter nbconvert --to html --template lab mynotebook.ipynb\n",
            "\n",
            "            You can also pipe the output to stdout, rather than a file\n",
            "\n",
            "            > jupyter nbconvert mynotebook.ipynb --stdout\n",
            "\n",
            "            PDF is generated via latex\n",
            "\n",
            "            > jupyter nbconvert mynotebook.ipynb --to pdf\n",
            "\n",
            "            You can get (and serve) a Reveal.js-powered slideshow\n",
            "\n",
            "            > jupyter nbconvert myslides.ipynb --to slides --post serve\n",
            "\n",
            "            Multiple notebooks can be given at the command line in a couple of\n",
            "            different ways:\n",
            "\n",
            "            > jupyter nbconvert notebook*.ipynb\n",
            "            > jupyter nbconvert notebook1.ipynb notebook2.ipynb\n",
            "\n",
            "            or you can specify the notebooks list in a config file, containing::\n",
            "\n",
            "                c.NbConvertApp.notebooks = [\"my_notebook.ipynb\"]\n",
            "\n",
            "            > jupyter nbconvert --config mycfg.py\n",
            "\n",
            "To see all available configurables, use `--help-all`.\n",
            "\n"
          ]
        }
      ],
      "source": [
        "!jupyter nbconvert --to script lab_102_notebook.ipynb"
      ]
    }
  ],
  "metadata": {
    "kernelspec": {
      "display_name": "Python 3",
      "language": "python",
      "name": "python3"
    },
    "language_info": {
      "codemirror_mode": {
        "name": "ipython",
        "version": 3
      },
      "file_extension": ".py",
      "mimetype": "text/x-python",
      "name": "python",
      "nbconvert_exporter": "python",
      "pygments_lexer": "ipython3",
      "version": "3.8.5"
    },
    "toc": {
      "base_numbering": 1,
      "nav_menu": {},
      "number_sections": false,
      "sideBar": true,
      "skip_h1_title": false,
      "title_cell": "Table of Contents",
      "title_sidebar": "Contents",
      "toc_cell": false,
      "toc_position": {},
      "toc_section_display": true,
      "toc_window_display": false
    },
    "colab": {
      "provenance": [],
      "include_colab_link": true
    }
  },
  "nbformat": 4,
  "nbformat_minor": 0
}